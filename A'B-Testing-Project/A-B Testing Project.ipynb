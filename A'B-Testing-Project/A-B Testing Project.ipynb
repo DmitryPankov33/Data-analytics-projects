{
 "cells": [
  {
   "cell_type": "markdown",
   "metadata": {},
   "source": [
    "# Contents <a id='back'></a>\n",
    "\n",
    "* [Introduction](#intro)\n",
    "* [Stage 1. Data overview](#data_review)\n",
    "* [Stage 2. Data preprocessing](#data_preprocessing)\n",
    "* [Stage 3. Prioritizing hypotheses](#hypotheses)\n",
    "* [Stage 4. A/B Test Analysis](#analysis)\n",
    "* [Conclusion](#end)"
   ]
  },
  {
   "cell_type": "markdown",
   "metadata": {},
   "source": [
    "## Introduction <a id='intro'></a>\n",
    "In this project, we will prioritizing several hypotheses aimed at increasing the revenue of a big online store and then conducting an A/B test to evaluate the effectiveness of these hypotheses. We will analyze real data from the store to draw conclusions and provide recommendations.\n",
    "\n",
    "### Goal: \n",
    "The project consists of two main goals:\n",
    "1. Prioritizing hypotheses.\n",
    "2. Analyzing the A/B test and providing reccomendations.\n",
    "\n",
    "### Stages\n",
    "The data used in this project includes:\n",
    "- **Hypotheses**: Descriptions and metrics for prioritizing hypotheses.\n",
    "- **Orders**: Details of orders placed during the A/B test.\n",
    "- **Visits**: Daily visit data for each test group.\n",
    "\n",
    "Our project will consist of the following stages:\n",
    "1. Data Overview and Preprocessing.\n",
    "2. Prioritizing Hypotheses.\n",
    "3. A/B Test Analysis."
   ]
  },
  {
   "cell_type": "markdown",
   "metadata": {},
   "source": [
    "## Stage 1. Data overview <a id='data_review'></a>"
   ]
  },
  {
   "cell_type": "code",
   "execution_count": 1,
   "metadata": {},
   "outputs": [],
   "source": [
    "#importing pandas library\n",
    "#importing mattplot library\n",
    "#importing numpy library\n",
    "#importing scipy stats library\n",
    "\n",
    "import pandas as pd\n",
    "import matplotlib.pyplot as plt\n",
    "import numpy as np\n",
    "import scipy.stats as stats"
   ]
  },
  {
   "cell_type": "code",
   "execution_count": 2,
   "metadata": {},
   "outputs": [],
   "source": [
    "#reading the files and storing it in df\n",
    "hypotheses = pd.read_csv('/datasets/hypotheses_us.csv',sep=';')\n",
    "orders = pd.read_csv('/datasets/orders_us.csv')\n",
    "visits = pd.read_csv('/datasets/visits_us.csv')"
   ]
  },
  {
   "cell_type": "code",
   "execution_count": 3,
   "metadata": {
    "scrolled": false
   },
   "outputs": [
    {
     "data": {
      "text/html": [
       "<div>\n",
       "<style scoped>\n",
       "    .dataframe tbody tr th:only-of-type {\n",
       "        vertical-align: middle;\n",
       "    }\n",
       "\n",
       "    .dataframe tbody tr th {\n",
       "        vertical-align: top;\n",
       "    }\n",
       "\n",
       "    .dataframe thead th {\n",
       "        text-align: right;\n",
       "    }\n",
       "</style>\n",
       "<table border=\"1\" class=\"dataframe\">\n",
       "  <thead>\n",
       "    <tr style=\"text-align: right;\">\n",
       "      <th></th>\n",
       "      <th>Hypothesis</th>\n",
       "      <th>Reach</th>\n",
       "      <th>Impact</th>\n",
       "      <th>Confidence</th>\n",
       "      <th>Effort</th>\n",
       "    </tr>\n",
       "  </thead>\n",
       "  <tbody>\n",
       "    <tr>\n",
       "      <th>0</th>\n",
       "      <td>Add two new channels for attracting traffic. T...</td>\n",
       "      <td>3</td>\n",
       "      <td>10</td>\n",
       "      <td>8</td>\n",
       "      <td>6</td>\n",
       "    </tr>\n",
       "    <tr>\n",
       "      <th>1</th>\n",
       "      <td>Launch your own delivery service. This will sh...</td>\n",
       "      <td>2</td>\n",
       "      <td>5</td>\n",
       "      <td>4</td>\n",
       "      <td>10</td>\n",
       "    </tr>\n",
       "    <tr>\n",
       "      <th>2</th>\n",
       "      <td>Add product recommendation blocks to the store...</td>\n",
       "      <td>8</td>\n",
       "      <td>3</td>\n",
       "      <td>7</td>\n",
       "      <td>3</td>\n",
       "    </tr>\n",
       "    <tr>\n",
       "      <th>3</th>\n",
       "      <td>Change the category structure. This will incre...</td>\n",
       "      <td>8</td>\n",
       "      <td>3</td>\n",
       "      <td>3</td>\n",
       "      <td>8</td>\n",
       "    </tr>\n",
       "    <tr>\n",
       "      <th>4</th>\n",
       "      <td>Change the background color on the main page. ...</td>\n",
       "      <td>3</td>\n",
       "      <td>1</td>\n",
       "      <td>1</td>\n",
       "      <td>1</td>\n",
       "    </tr>\n",
       "    <tr>\n",
       "      <th>5</th>\n",
       "      <td>Add a customer review page. This will increase...</td>\n",
       "      <td>3</td>\n",
       "      <td>2</td>\n",
       "      <td>2</td>\n",
       "      <td>3</td>\n",
       "    </tr>\n",
       "    <tr>\n",
       "      <th>6</th>\n",
       "      <td>Show banners with current offers and sales on ...</td>\n",
       "      <td>5</td>\n",
       "      <td>3</td>\n",
       "      <td>8</td>\n",
       "      <td>3</td>\n",
       "    </tr>\n",
       "    <tr>\n",
       "      <th>7</th>\n",
       "      <td>Add a subscription form to all the main pages....</td>\n",
       "      <td>10</td>\n",
       "      <td>7</td>\n",
       "      <td>8</td>\n",
       "      <td>5</td>\n",
       "    </tr>\n",
       "    <tr>\n",
       "      <th>8</th>\n",
       "      <td>Launch a promotion that gives users discounts ...</td>\n",
       "      <td>1</td>\n",
       "      <td>9</td>\n",
       "      <td>9</td>\n",
       "      <td>5</td>\n",
       "    </tr>\n",
       "  </tbody>\n",
       "</table>\n",
       "</div>"
      ],
      "text/plain": [
       "                                          Hypothesis  Reach  Impact  \\\n",
       "0  Add two new channels for attracting traffic. T...      3      10   \n",
       "1  Launch your own delivery service. This will sh...      2       5   \n",
       "2  Add product recommendation blocks to the store...      8       3   \n",
       "3  Change the category structure. This will incre...      8       3   \n",
       "4  Change the background color on the main page. ...      3       1   \n",
       "5  Add a customer review page. This will increase...      3       2   \n",
       "6  Show banners with current offers and sales on ...      5       3   \n",
       "7  Add a subscription form to all the main pages....     10       7   \n",
       "8  Launch a promotion that gives users discounts ...      1       9   \n",
       "\n",
       "   Confidence  Effort  \n",
       "0           8       6  \n",
       "1           4      10  \n",
       "2           7       3  \n",
       "3           3       8  \n",
       "4           1       1  \n",
       "5           2       3  \n",
       "6           8       3  \n",
       "7           8       5  \n",
       "8           9       5  "
      ]
     },
     "execution_count": 3,
     "metadata": {},
     "output_type": "execute_result"
    }
   ],
   "source": [
    "#obtaining the first rows from the table\n",
    "hypotheses"
   ]
  },
  {
   "cell_type": "code",
   "execution_count": 4,
   "metadata": {},
   "outputs": [
    {
     "name": "stdout",
     "output_type": "stream",
     "text": [
      "<class 'pandas.core.frame.DataFrame'>\n",
      "RangeIndex: 9 entries, 0 to 8\n",
      "Data columns (total 5 columns):\n",
      " #   Column      Non-Null Count  Dtype \n",
      "---  ------      --------------  ----- \n",
      " 0   Hypothesis  9 non-null      object\n",
      " 1   Reach       9 non-null      int64 \n",
      " 2   Impact      9 non-null      int64 \n",
      " 3   Confidence  9 non-null      int64 \n",
      " 4   Effort      9 non-null      int64 \n",
      "dtypes: int64(4), object(1)\n",
      "memory usage: 488.0+ bytes\n"
     ]
    }
   ],
   "source": [
    "#obtaining general information about the data\n",
    "hypotheses.info()"
   ]
  },
  {
   "cell_type": "code",
   "execution_count": 5,
   "metadata": {},
   "outputs": [
    {
     "data": {
      "text/html": [
       "<div>\n",
       "<style scoped>\n",
       "    .dataframe tbody tr th:only-of-type {\n",
       "        vertical-align: middle;\n",
       "    }\n",
       "\n",
       "    .dataframe tbody tr th {\n",
       "        vertical-align: top;\n",
       "    }\n",
       "\n",
       "    .dataframe thead th {\n",
       "        text-align: right;\n",
       "    }\n",
       "</style>\n",
       "<table border=\"1\" class=\"dataframe\">\n",
       "  <thead>\n",
       "    <tr style=\"text-align: right;\">\n",
       "      <th></th>\n",
       "      <th>transactionId</th>\n",
       "      <th>visitorId</th>\n",
       "      <th>date</th>\n",
       "      <th>revenue</th>\n",
       "      <th>group</th>\n",
       "    </tr>\n",
       "  </thead>\n",
       "  <tbody>\n",
       "    <tr>\n",
       "      <th>0</th>\n",
       "      <td>3667963787</td>\n",
       "      <td>3312258926</td>\n",
       "      <td>2019-08-15</td>\n",
       "      <td>30.4</td>\n",
       "      <td>B</td>\n",
       "    </tr>\n",
       "    <tr>\n",
       "      <th>1</th>\n",
       "      <td>2804400009</td>\n",
       "      <td>3642806036</td>\n",
       "      <td>2019-08-15</td>\n",
       "      <td>15.2</td>\n",
       "      <td>B</td>\n",
       "    </tr>\n",
       "    <tr>\n",
       "      <th>2</th>\n",
       "      <td>2961555356</td>\n",
       "      <td>4069496402</td>\n",
       "      <td>2019-08-15</td>\n",
       "      <td>10.2</td>\n",
       "      <td>A</td>\n",
       "    </tr>\n",
       "    <tr>\n",
       "      <th>3</th>\n",
       "      <td>3797467345</td>\n",
       "      <td>1196621759</td>\n",
       "      <td>2019-08-15</td>\n",
       "      <td>155.1</td>\n",
       "      <td>B</td>\n",
       "    </tr>\n",
       "    <tr>\n",
       "      <th>4</th>\n",
       "      <td>2282983706</td>\n",
       "      <td>2322279887</td>\n",
       "      <td>2019-08-15</td>\n",
       "      <td>40.5</td>\n",
       "      <td>B</td>\n",
       "    </tr>\n",
       "    <tr>\n",
       "      <th>5</th>\n",
       "      <td>182168103</td>\n",
       "      <td>935554773</td>\n",
       "      <td>2019-08-15</td>\n",
       "      <td>35.0</td>\n",
       "      <td>B</td>\n",
       "    </tr>\n",
       "    <tr>\n",
       "      <th>6</th>\n",
       "      <td>398296753</td>\n",
       "      <td>2900797465</td>\n",
       "      <td>2019-08-15</td>\n",
       "      <td>30.6</td>\n",
       "      <td>B</td>\n",
       "    </tr>\n",
       "    <tr>\n",
       "      <th>7</th>\n",
       "      <td>2626614568</td>\n",
       "      <td>78758296</td>\n",
       "      <td>2019-08-15</td>\n",
       "      <td>20.1</td>\n",
       "      <td>A</td>\n",
       "    </tr>\n",
       "    <tr>\n",
       "      <th>8</th>\n",
       "      <td>1576988021</td>\n",
       "      <td>295230930</td>\n",
       "      <td>2019-08-15</td>\n",
       "      <td>215.9</td>\n",
       "      <td>A</td>\n",
       "    </tr>\n",
       "    <tr>\n",
       "      <th>9</th>\n",
       "      <td>1506739906</td>\n",
       "      <td>1882260405</td>\n",
       "      <td>2019-08-15</td>\n",
       "      <td>30.5</td>\n",
       "      <td>B</td>\n",
       "    </tr>\n",
       "  </tbody>\n",
       "</table>\n",
       "</div>"
      ],
      "text/plain": [
       "   transactionId   visitorId        date  revenue group\n",
       "0     3667963787  3312258926  2019-08-15     30.4     B\n",
       "1     2804400009  3642806036  2019-08-15     15.2     B\n",
       "2     2961555356  4069496402  2019-08-15     10.2     A\n",
       "3     3797467345  1196621759  2019-08-15    155.1     B\n",
       "4     2282983706  2322279887  2019-08-15     40.5     B\n",
       "5      182168103   935554773  2019-08-15     35.0     B\n",
       "6      398296753  2900797465  2019-08-15     30.6     B\n",
       "7     2626614568    78758296  2019-08-15     20.1     A\n",
       "8     1576988021   295230930  2019-08-15    215.9     A\n",
       "9     1506739906  1882260405  2019-08-15     30.5     B"
      ]
     },
     "execution_count": 5,
     "metadata": {},
     "output_type": "execute_result"
    }
   ],
   "source": [
    "#obtaining the first 10 rows from the table\n",
    "orders.head(10)"
   ]
  },
  {
   "cell_type": "code",
   "execution_count": 6,
   "metadata": {},
   "outputs": [
    {
     "name": "stdout",
     "output_type": "stream",
     "text": [
      "<class 'pandas.core.frame.DataFrame'>\n",
      "RangeIndex: 1197 entries, 0 to 1196\n",
      "Data columns (total 5 columns):\n",
      " #   Column         Non-Null Count  Dtype  \n",
      "---  ------         --------------  -----  \n",
      " 0   transactionId  1197 non-null   int64  \n",
      " 1   visitorId      1197 non-null   int64  \n",
      " 2   date           1197 non-null   object \n",
      " 3   revenue        1197 non-null   float64\n",
      " 4   group          1197 non-null   object \n",
      "dtypes: float64(1), int64(2), object(2)\n",
      "memory usage: 46.9+ KB\n"
     ]
    }
   ],
   "source": [
    "#obtaining general information about the data\n",
    "orders.info()"
   ]
  },
  {
   "cell_type": "markdown",
   "metadata": {},
   "source": [
    "We will change the data type of the 'date' column in the Data preprocessing stage."
   ]
  },
  {
   "cell_type": "code",
   "execution_count": 7,
   "metadata": {},
   "outputs": [
    {
     "data": {
      "text/html": [
       "<div>\n",
       "<style scoped>\n",
       "    .dataframe tbody tr th:only-of-type {\n",
       "        vertical-align: middle;\n",
       "    }\n",
       "\n",
       "    .dataframe tbody tr th {\n",
       "        vertical-align: top;\n",
       "    }\n",
       "\n",
       "    .dataframe thead th {\n",
       "        text-align: right;\n",
       "    }\n",
       "</style>\n",
       "<table border=\"1\" class=\"dataframe\">\n",
       "  <thead>\n",
       "    <tr style=\"text-align: right;\">\n",
       "      <th></th>\n",
       "      <th>date</th>\n",
       "      <th>group</th>\n",
       "      <th>visits</th>\n",
       "    </tr>\n",
       "  </thead>\n",
       "  <tbody>\n",
       "    <tr>\n",
       "      <th>0</th>\n",
       "      <td>2019-08-01</td>\n",
       "      <td>A</td>\n",
       "      <td>719</td>\n",
       "    </tr>\n",
       "    <tr>\n",
       "      <th>1</th>\n",
       "      <td>2019-08-02</td>\n",
       "      <td>A</td>\n",
       "      <td>619</td>\n",
       "    </tr>\n",
       "    <tr>\n",
       "      <th>2</th>\n",
       "      <td>2019-08-03</td>\n",
       "      <td>A</td>\n",
       "      <td>507</td>\n",
       "    </tr>\n",
       "    <tr>\n",
       "      <th>3</th>\n",
       "      <td>2019-08-04</td>\n",
       "      <td>A</td>\n",
       "      <td>717</td>\n",
       "    </tr>\n",
       "    <tr>\n",
       "      <th>4</th>\n",
       "      <td>2019-08-05</td>\n",
       "      <td>A</td>\n",
       "      <td>756</td>\n",
       "    </tr>\n",
       "    <tr>\n",
       "      <th>5</th>\n",
       "      <td>2019-08-06</td>\n",
       "      <td>A</td>\n",
       "      <td>667</td>\n",
       "    </tr>\n",
       "    <tr>\n",
       "      <th>6</th>\n",
       "      <td>2019-08-07</td>\n",
       "      <td>A</td>\n",
       "      <td>644</td>\n",
       "    </tr>\n",
       "    <tr>\n",
       "      <th>7</th>\n",
       "      <td>2019-08-08</td>\n",
       "      <td>A</td>\n",
       "      <td>610</td>\n",
       "    </tr>\n",
       "    <tr>\n",
       "      <th>8</th>\n",
       "      <td>2019-08-09</td>\n",
       "      <td>A</td>\n",
       "      <td>617</td>\n",
       "    </tr>\n",
       "    <tr>\n",
       "      <th>9</th>\n",
       "      <td>2019-08-10</td>\n",
       "      <td>A</td>\n",
       "      <td>406</td>\n",
       "    </tr>\n",
       "  </tbody>\n",
       "</table>\n",
       "</div>"
      ],
      "text/plain": [
       "         date group  visits\n",
       "0  2019-08-01     A     719\n",
       "1  2019-08-02     A     619\n",
       "2  2019-08-03     A     507\n",
       "3  2019-08-04     A     717\n",
       "4  2019-08-05     A     756\n",
       "5  2019-08-06     A     667\n",
       "6  2019-08-07     A     644\n",
       "7  2019-08-08     A     610\n",
       "8  2019-08-09     A     617\n",
       "9  2019-08-10     A     406"
      ]
     },
     "execution_count": 7,
     "metadata": {},
     "output_type": "execute_result"
    }
   ],
   "source": [
    "#obtaining the first 10 rows from the table\n",
    "visits.head(10)"
   ]
  },
  {
   "cell_type": "code",
   "execution_count": 8,
   "metadata": {},
   "outputs": [
    {
     "name": "stdout",
     "output_type": "stream",
     "text": [
      "<class 'pandas.core.frame.DataFrame'>\n",
      "RangeIndex: 62 entries, 0 to 61\n",
      "Data columns (total 3 columns):\n",
      " #   Column  Non-Null Count  Dtype \n",
      "---  ------  --------------  ----- \n",
      " 0   date    62 non-null     object\n",
      " 1   group   62 non-null     object\n",
      " 2   visits  62 non-null     int64 \n",
      "dtypes: int64(1), object(2)\n",
      "memory usage: 1.6+ KB\n"
     ]
    }
   ],
   "source": [
    "#obtaining general information about the data\n",
    "visits.info()"
   ]
  },
  {
   "cell_type": "markdown",
   "metadata": {},
   "source": [
    "We will change the data type of the 'date' column in the Data preprocessing stage."
   ]
  },
  {
   "cell_type": "markdown",
   "metadata": {},
   "source": [
    "#### Conclusion\n",
    "\n",
    "During the Data Exploration stage, we opened the data files, examined the contents of each table, and noted any nonstandard formatting. We also set appropriate arguments in pd.read_csv() to read the data correctly, ensuring we could proceed with further analysis."
   ]
  },
  {
   "cell_type": "markdown",
   "metadata": {},
   "source": [
    "## Stage 2. Data preprocessing <a id='data_preprocessing'></a>"
   ]
  },
  {
   "cell_type": "code",
   "execution_count": 9,
   "metadata": {},
   "outputs": [],
   "source": [
    "#changing data types from object to datetime\n",
    "orders['date'] = pd.to_datetime(orders['date'])\n",
    "visits['date'] = pd.to_datetime(visits['date'])"
   ]
  },
  {
   "cell_type": "code",
   "execution_count": 10,
   "metadata": {},
   "outputs": [
    {
     "data": {
      "text/plain": [
       "0"
      ]
     },
     "execution_count": 10,
     "metadata": {},
     "output_type": "execute_result"
    }
   ],
   "source": [
    "#checking for duplicate rows in the DataFrame orders_clean\n",
    "orders.duplicated().sum()"
   ]
  },
  {
   "cell_type": "code",
   "execution_count": 11,
   "metadata": {},
   "outputs": [
    {
     "data": {
      "text/plain": [
       "0"
      ]
     },
     "execution_count": 11,
     "metadata": {},
     "output_type": "execute_result"
    }
   ],
   "source": [
    "#checking for duplicate rows in the DataFrame visits\n",
    "visits.duplicated().sum()"
   ]
  },
  {
   "cell_type": "code",
   "execution_count": 12,
   "metadata": {},
   "outputs": [
    {
     "data": {
      "text/html": [
       "<div>\n",
       "<style scoped>\n",
       "    .dataframe tbody tr th:only-of-type {\n",
       "        vertical-align: middle;\n",
       "    }\n",
       "\n",
       "    .dataframe tbody tr th {\n",
       "        vertical-align: top;\n",
       "    }\n",
       "\n",
       "    .dataframe thead th {\n",
       "        text-align: right;\n",
       "    }\n",
       "</style>\n",
       "<table border=\"1\" class=\"dataframe\">\n",
       "  <thead>\n",
       "    <tr style=\"text-align: right;\">\n",
       "      <th></th>\n",
       "      <th>visitorId</th>\n",
       "      <th>group</th>\n",
       "    </tr>\n",
       "  </thead>\n",
       "  <tbody>\n",
       "    <tr>\n",
       "      <th>0</th>\n",
       "      <td>5114589</td>\n",
       "      <td>1</td>\n",
       "    </tr>\n",
       "    <tr>\n",
       "      <th>1</th>\n",
       "      <td>6958315</td>\n",
       "      <td>1</td>\n",
       "    </tr>\n",
       "    <tr>\n",
       "      <th>2</th>\n",
       "      <td>8300375</td>\n",
       "      <td>2</td>\n",
       "    </tr>\n",
       "    <tr>\n",
       "      <th>3</th>\n",
       "      <td>11685486</td>\n",
       "      <td>1</td>\n",
       "    </tr>\n",
       "    <tr>\n",
       "      <th>4</th>\n",
       "      <td>39475350</td>\n",
       "      <td>1</td>\n",
       "    </tr>\n",
       "    <tr>\n",
       "      <th>...</th>\n",
       "      <td>...</td>\n",
       "      <td>...</td>\n",
       "    </tr>\n",
       "    <tr>\n",
       "      <th>1026</th>\n",
       "      <td>4266935830</td>\n",
       "      <td>2</td>\n",
       "    </tr>\n",
       "    <tr>\n",
       "      <th>1027</th>\n",
       "      <td>4278982564</td>\n",
       "      <td>1</td>\n",
       "    </tr>\n",
       "    <tr>\n",
       "      <th>1028</th>\n",
       "      <td>4279090005</td>\n",
       "      <td>1</td>\n",
       "    </tr>\n",
       "    <tr>\n",
       "      <th>1029</th>\n",
       "      <td>4281247801</td>\n",
       "      <td>1</td>\n",
       "    </tr>\n",
       "    <tr>\n",
       "      <th>1030</th>\n",
       "      <td>4283872382</td>\n",
       "      <td>1</td>\n",
       "    </tr>\n",
       "  </tbody>\n",
       "</table>\n",
       "<p>1031 rows × 2 columns</p>\n",
       "</div>"
      ],
      "text/plain": [
       "       visitorId  group\n",
       "0        5114589      1\n",
       "1        6958315      1\n",
       "2        8300375      2\n",
       "3       11685486      1\n",
       "4       39475350      1\n",
       "...          ...    ...\n",
       "1026  4266935830      2\n",
       "1027  4278982564      1\n",
       "1028  4279090005      1\n",
       "1029  4281247801      1\n",
       "1030  4283872382      1\n",
       "\n",
       "[1031 rows x 2 columns]"
      ]
     },
     "execution_count": 12,
     "metadata": {},
     "output_type": "execute_result"
    }
   ],
   "source": [
    "#finding visitors in both groups\n",
    "orders_grouped = orders.groupby('visitorId')['group'].nunique().reset_index()\n",
    "orders_grouped"
   ]
  },
  {
   "cell_type": "code",
   "execution_count": 13,
   "metadata": {},
   "outputs": [
    {
     "data": {
      "text/plain": [
       "2          8300375\n",
       "44       199603092\n",
       "51       232979603\n",
       "55       237748145\n",
       "66       276558944\n",
       "84       351125977\n",
       "97       393266494\n",
       "114      457167155\n",
       "119      471551937\n",
       "122      477780734\n",
       "192      818047933\n",
       "236      963407295\n",
       "299     1230306981\n",
       "311     1294878855\n",
       "316     1316129916\n",
       "318     1333886533\n",
       "340     1404934699\n",
       "386     1602967004\n",
       "393     1614305549\n",
       "402     1648269707\n",
       "406     1668030113\n",
       "422     1738359350\n",
       "436     1801183820\n",
       "469     1959144690\n",
       "487     2038680547\n",
       "491     2044997962\n",
       "569     2378935119\n",
       "591     2458001652\n",
       "614     2579882178\n",
       "619     2587333274\n",
       "622     2600415354\n",
       "639     2654030115\n",
       "648     2686716486\n",
       "661     2712142231\n",
       "662     2716752286\n",
       "677     2780786433\n",
       "710     2927087541\n",
       "715     2949041841\n",
       "718     2954449915\n",
       "744     3062433592\n",
       "784     3202540741\n",
       "792     3234906277\n",
       "884     3656415546\n",
       "897     3717692402\n",
       "909     3766097110\n",
       "917     3803269165\n",
       "932     3891541246\n",
       "950     3941795274\n",
       "954     3951559397\n",
       "957     3957174400\n",
       "958     3963646447\n",
       "960     3972127743\n",
       "963     3984495233\n",
       "984     4069496402\n",
       "992     4120364173\n",
       "1009    4186807279\n",
       "1023    4256040402\n",
       "1026    4266935830\n",
       "Name: visitorId, dtype: int64"
      ]
     },
     "execution_count": 13,
     "metadata": {},
     "output_type": "execute_result"
    }
   ],
   "source": [
    "#creating a list with visitors that are in both groups\n",
    "visitors_duplicate = orders_grouped[orders_grouped['group'] > 1]['visitorId']\n",
    "visitors_duplicate"
   ]
  },
  {
   "cell_type": "code",
   "execution_count": 14,
   "metadata": {},
   "outputs": [
    {
     "name": "stdout",
     "output_type": "stream",
     "text": [
      "Number of duplicate visitors: 58\n"
     ]
    }
   ],
   "source": [
    "print(f\"Number of duplicate visitors: {visitors_duplicate.count()}\")"
   ]
  },
  {
   "cell_type": "code",
   "execution_count": 15,
   "metadata": {},
   "outputs": [
    {
     "data": {
      "text/html": [
       "<div>\n",
       "<style scoped>\n",
       "    .dataframe tbody tr th:only-of-type {\n",
       "        vertical-align: middle;\n",
       "    }\n",
       "\n",
       "    .dataframe tbody tr th {\n",
       "        vertical-align: top;\n",
       "    }\n",
       "\n",
       "    .dataframe thead th {\n",
       "        text-align: right;\n",
       "    }\n",
       "</style>\n",
       "<table border=\"1\" class=\"dataframe\">\n",
       "  <thead>\n",
       "    <tr style=\"text-align: right;\">\n",
       "      <th></th>\n",
       "      <th>transactionId</th>\n",
       "      <th>visitorId</th>\n",
       "      <th>date</th>\n",
       "      <th>revenue</th>\n",
       "      <th>group</th>\n",
       "    </tr>\n",
       "  </thead>\n",
       "  <tbody>\n",
       "    <tr>\n",
       "      <th>0</th>\n",
       "      <td>3667963787</td>\n",
       "      <td>3312258926</td>\n",
       "      <td>2019-08-15</td>\n",
       "      <td>30.4</td>\n",
       "      <td>B</td>\n",
       "    </tr>\n",
       "    <tr>\n",
       "      <th>1</th>\n",
       "      <td>2804400009</td>\n",
       "      <td>3642806036</td>\n",
       "      <td>2019-08-15</td>\n",
       "      <td>15.2</td>\n",
       "      <td>B</td>\n",
       "    </tr>\n",
       "    <tr>\n",
       "      <th>2</th>\n",
       "      <td>3797467345</td>\n",
       "      <td>1196621759</td>\n",
       "      <td>2019-08-15</td>\n",
       "      <td>155.1</td>\n",
       "      <td>B</td>\n",
       "    </tr>\n",
       "    <tr>\n",
       "      <th>3</th>\n",
       "      <td>2282983706</td>\n",
       "      <td>2322279887</td>\n",
       "      <td>2019-08-15</td>\n",
       "      <td>40.5</td>\n",
       "      <td>B</td>\n",
       "    </tr>\n",
       "    <tr>\n",
       "      <th>4</th>\n",
       "      <td>182168103</td>\n",
       "      <td>935554773</td>\n",
       "      <td>2019-08-15</td>\n",
       "      <td>35.0</td>\n",
       "      <td>B</td>\n",
       "    </tr>\n",
       "    <tr>\n",
       "      <th>...</th>\n",
       "      <td>...</td>\n",
       "      <td>...</td>\n",
       "      <td>...</td>\n",
       "      <td>...</td>\n",
       "      <td>...</td>\n",
       "    </tr>\n",
       "    <tr>\n",
       "      <th>1011</th>\n",
       "      <td>3592955527</td>\n",
       "      <td>608641596</td>\n",
       "      <td>2019-08-14</td>\n",
       "      <td>255.7</td>\n",
       "      <td>B</td>\n",
       "    </tr>\n",
       "    <tr>\n",
       "      <th>1012</th>\n",
       "      <td>2662137336</td>\n",
       "      <td>3733762160</td>\n",
       "      <td>2019-08-14</td>\n",
       "      <td>100.8</td>\n",
       "      <td>B</td>\n",
       "    </tr>\n",
       "    <tr>\n",
       "      <th>1013</th>\n",
       "      <td>2203539145</td>\n",
       "      <td>370388673</td>\n",
       "      <td>2019-08-14</td>\n",
       "      <td>50.1</td>\n",
       "      <td>A</td>\n",
       "    </tr>\n",
       "    <tr>\n",
       "      <th>1014</th>\n",
       "      <td>1807773912</td>\n",
       "      <td>573423106</td>\n",
       "      <td>2019-08-14</td>\n",
       "      <td>165.3</td>\n",
       "      <td>A</td>\n",
       "    </tr>\n",
       "    <tr>\n",
       "      <th>1015</th>\n",
       "      <td>3936777065</td>\n",
       "      <td>2108080724</td>\n",
       "      <td>2019-08-15</td>\n",
       "      <td>3120.1</td>\n",
       "      <td>B</td>\n",
       "    </tr>\n",
       "  </tbody>\n",
       "</table>\n",
       "<p>1016 rows × 5 columns</p>\n",
       "</div>"
      ],
      "text/plain": [
       "      transactionId   visitorId       date  revenue group\n",
       "0        3667963787  3312258926 2019-08-15     30.4     B\n",
       "1        2804400009  3642806036 2019-08-15     15.2     B\n",
       "2        3797467345  1196621759 2019-08-15    155.1     B\n",
       "3        2282983706  2322279887 2019-08-15     40.5     B\n",
       "4         182168103   935554773 2019-08-15     35.0     B\n",
       "...             ...         ...        ...      ...   ...\n",
       "1011     3592955527   608641596 2019-08-14    255.7     B\n",
       "1012     2662137336  3733762160 2019-08-14    100.8     B\n",
       "1013     2203539145   370388673 2019-08-14     50.1     A\n",
       "1014     1807773912   573423106 2019-08-14    165.3     A\n",
       "1015     3936777065  2108080724 2019-08-15   3120.1     B\n",
       "\n",
       "[1016 rows x 5 columns]"
      ]
     },
     "execution_count": 15,
     "metadata": {},
     "output_type": "execute_result"
    }
   ],
   "source": [
    "#dropping out the visitors who were in 2 groups\n",
    "orders_clean = orders[~orders['visitorId'].isin(visitors_duplicate)]\n",
    "orders_clean = orders_clean.reset_index(drop=True)\n",
    "orders_clean"
   ]
  },
  {
   "cell_type": "markdown",
   "metadata": {},
   "source": [
    "#### Conclusion\n",
    "\n",
    "In the Data Preprocessing stage, we verified and fixed the data types and also removed the duplicates: visitors who have gotten into both group A and group B. There were no missing values. As a result, we proceeded with confidence to the analysis phase, knowing that our dataset is well-prepared and ready for analysis."
   ]
  },
  {
   "cell_type": "markdown",
   "metadata": {},
   "source": [
    "## Stage 3. Prioritizing Hypotheses <a id='hypotheses'></a>"
   ]
  },
  {
   "cell_type": "code",
   "execution_count": 16,
   "metadata": {},
   "outputs": [
    {
     "data": {
      "text/html": [
       "<div>\n",
       "<style scoped>\n",
       "    .dataframe tbody tr th:only-of-type {\n",
       "        vertical-align: middle;\n",
       "    }\n",
       "\n",
       "    .dataframe tbody tr th {\n",
       "        vertical-align: top;\n",
       "    }\n",
       "\n",
       "    .dataframe thead th {\n",
       "        text-align: right;\n",
       "    }\n",
       "</style>\n",
       "<table border=\"1\" class=\"dataframe\">\n",
       "  <thead>\n",
       "    <tr style=\"text-align: right;\">\n",
       "      <th></th>\n",
       "      <th>Hypothesis</th>\n",
       "      <th>Reach</th>\n",
       "      <th>Impact</th>\n",
       "      <th>Confidence</th>\n",
       "      <th>Effort</th>\n",
       "    </tr>\n",
       "  </thead>\n",
       "  <tbody>\n",
       "    <tr>\n",
       "      <th>0</th>\n",
       "      <td>Add two new channels for attracting traffic. This will bring 30% more users</td>\n",
       "      <td>3</td>\n",
       "      <td>10</td>\n",
       "      <td>8</td>\n",
       "      <td>6</td>\n",
       "    </tr>\n",
       "    <tr>\n",
       "      <th>1</th>\n",
       "      <td>Launch your own delivery service. This will shorten delivery time</td>\n",
       "      <td>2</td>\n",
       "      <td>5</td>\n",
       "      <td>4</td>\n",
       "      <td>10</td>\n",
       "    </tr>\n",
       "    <tr>\n",
       "      <th>2</th>\n",
       "      <td>Add product recommendation blocks to the store's site. This will increase conversion and average purchase size</td>\n",
       "      <td>8</td>\n",
       "      <td>3</td>\n",
       "      <td>7</td>\n",
       "      <td>3</td>\n",
       "    </tr>\n",
       "    <tr>\n",
       "      <th>3</th>\n",
       "      <td>Change the category structure. This will increase conversion since users will find the products they want more quickly</td>\n",
       "      <td>8</td>\n",
       "      <td>3</td>\n",
       "      <td>3</td>\n",
       "      <td>8</td>\n",
       "    </tr>\n",
       "    <tr>\n",
       "      <th>4</th>\n",
       "      <td>Change the background color on the main page. This will increase user engagement</td>\n",
       "      <td>3</td>\n",
       "      <td>1</td>\n",
       "      <td>1</td>\n",
       "      <td>1</td>\n",
       "    </tr>\n",
       "    <tr>\n",
       "      <th>5</th>\n",
       "      <td>Add a customer review page. This will increase the number of orders</td>\n",
       "      <td>3</td>\n",
       "      <td>2</td>\n",
       "      <td>2</td>\n",
       "      <td>3</td>\n",
       "    </tr>\n",
       "    <tr>\n",
       "      <th>6</th>\n",
       "      <td>Show banners with current offers and sales on the main page. This will boost conversion</td>\n",
       "      <td>5</td>\n",
       "      <td>3</td>\n",
       "      <td>8</td>\n",
       "      <td>3</td>\n",
       "    </tr>\n",
       "    <tr>\n",
       "      <th>7</th>\n",
       "      <td>Add a subscription form to all the main pages. This will help you compile a mailing list</td>\n",
       "      <td>10</td>\n",
       "      <td>7</td>\n",
       "      <td>8</td>\n",
       "      <td>5</td>\n",
       "    </tr>\n",
       "    <tr>\n",
       "      <th>8</th>\n",
       "      <td>Launch a promotion that gives users discounts on their birthdays</td>\n",
       "      <td>1</td>\n",
       "      <td>9</td>\n",
       "      <td>9</td>\n",
       "      <td>5</td>\n",
       "    </tr>\n",
       "  </tbody>\n",
       "</table>\n",
       "</div>"
      ],
      "text/plain": [
       "                                                                                                               Hypothesis  \\\n",
       "0                                             Add two new channels for attracting traffic. This will bring 30% more users   \n",
       "1                                                       Launch your own delivery service. This will shorten delivery time   \n",
       "2          Add product recommendation blocks to the store's site. This will increase conversion and average purchase size   \n",
       "3  Change the category structure. This will increase conversion since users will find the products they want more quickly   \n",
       "4                                        Change the background color on the main page. This will increase user engagement   \n",
       "5                                                     Add a customer review page. This will increase the number of orders   \n",
       "6                                 Show banners with current offers and sales on the main page. This will boost conversion   \n",
       "7                                Add a subscription form to all the main pages. This will help you compile a mailing list   \n",
       "8                                                        Launch a promotion that gives users discounts on their birthdays   \n",
       "\n",
       "   Reach  Impact  Confidence  Effort  \n",
       "0      3      10           8       6  \n",
       "1      2       5           4      10  \n",
       "2      8       3           7       3  \n",
       "3      8       3           3       8  \n",
       "4      3       1           1       1  \n",
       "5      3       2           2       3  \n",
       "6      5       3           8       3  \n",
       "7     10       7           8       5  \n",
       "8      1       9           9       5  "
      ]
     },
     "execution_count": 16,
     "metadata": {},
     "output_type": "execute_result"
    }
   ],
   "source": [
    "#setting the option to display the full content of each column\n",
    "pd.set_option('display.max_colwidth', None)\n",
    "#obtaining the first rows from the hypotheses df\n",
    "hypotheses"
   ]
  },
  {
   "cell_type": "code",
   "execution_count": 17,
   "metadata": {},
   "outputs": [
    {
     "data": {
      "text/html": [
       "<div>\n",
       "<style scoped>\n",
       "    .dataframe tbody tr th:only-of-type {\n",
       "        vertical-align: middle;\n",
       "    }\n",
       "\n",
       "    .dataframe tbody tr th {\n",
       "        vertical-align: top;\n",
       "    }\n",
       "\n",
       "    .dataframe thead th {\n",
       "        text-align: right;\n",
       "    }\n",
       "</style>\n",
       "<table border=\"1\" class=\"dataframe\">\n",
       "  <thead>\n",
       "    <tr style=\"text-align: right;\">\n",
       "      <th></th>\n",
       "      <th>Hypothesis</th>\n",
       "      <th>Reach</th>\n",
       "      <th>Impact</th>\n",
       "      <th>Confidence</th>\n",
       "      <th>Effort</th>\n",
       "      <th>ICE</th>\n",
       "      <th>RICE</th>\n",
       "    </tr>\n",
       "  </thead>\n",
       "  <tbody>\n",
       "    <tr>\n",
       "      <th>0</th>\n",
       "      <td>Add two new channels for attracting traffic. This will bring 30% more users</td>\n",
       "      <td>3</td>\n",
       "      <td>10</td>\n",
       "      <td>8</td>\n",
       "      <td>6</td>\n",
       "      <td>13.333333</td>\n",
       "      <td>40.0</td>\n",
       "    </tr>\n",
       "    <tr>\n",
       "      <th>1</th>\n",
       "      <td>Launch your own delivery service. This will shorten delivery time</td>\n",
       "      <td>2</td>\n",
       "      <td>5</td>\n",
       "      <td>4</td>\n",
       "      <td>10</td>\n",
       "      <td>2.000000</td>\n",
       "      <td>4.0</td>\n",
       "    </tr>\n",
       "    <tr>\n",
       "      <th>2</th>\n",
       "      <td>Add product recommendation blocks to the store's site. This will increase conversion and average purchase size</td>\n",
       "      <td>8</td>\n",
       "      <td>3</td>\n",
       "      <td>7</td>\n",
       "      <td>3</td>\n",
       "      <td>7.000000</td>\n",
       "      <td>56.0</td>\n",
       "    </tr>\n",
       "    <tr>\n",
       "      <th>3</th>\n",
       "      <td>Change the category structure. This will increase conversion since users will find the products they want more quickly</td>\n",
       "      <td>8</td>\n",
       "      <td>3</td>\n",
       "      <td>3</td>\n",
       "      <td>8</td>\n",
       "      <td>1.125000</td>\n",
       "      <td>9.0</td>\n",
       "    </tr>\n",
       "    <tr>\n",
       "      <th>4</th>\n",
       "      <td>Change the background color on the main page. This will increase user engagement</td>\n",
       "      <td>3</td>\n",
       "      <td>1</td>\n",
       "      <td>1</td>\n",
       "      <td>1</td>\n",
       "      <td>1.000000</td>\n",
       "      <td>3.0</td>\n",
       "    </tr>\n",
       "    <tr>\n",
       "      <th>5</th>\n",
       "      <td>Add a customer review page. This will increase the number of orders</td>\n",
       "      <td>3</td>\n",
       "      <td>2</td>\n",
       "      <td>2</td>\n",
       "      <td>3</td>\n",
       "      <td>1.333333</td>\n",
       "      <td>4.0</td>\n",
       "    </tr>\n",
       "    <tr>\n",
       "      <th>6</th>\n",
       "      <td>Show banners with current offers and sales on the main page. This will boost conversion</td>\n",
       "      <td>5</td>\n",
       "      <td>3</td>\n",
       "      <td>8</td>\n",
       "      <td>3</td>\n",
       "      <td>8.000000</td>\n",
       "      <td>40.0</td>\n",
       "    </tr>\n",
       "    <tr>\n",
       "      <th>7</th>\n",
       "      <td>Add a subscription form to all the main pages. This will help you compile a mailing list</td>\n",
       "      <td>10</td>\n",
       "      <td>7</td>\n",
       "      <td>8</td>\n",
       "      <td>5</td>\n",
       "      <td>11.200000</td>\n",
       "      <td>112.0</td>\n",
       "    </tr>\n",
       "    <tr>\n",
       "      <th>8</th>\n",
       "      <td>Launch a promotion that gives users discounts on their birthdays</td>\n",
       "      <td>1</td>\n",
       "      <td>9</td>\n",
       "      <td>9</td>\n",
       "      <td>5</td>\n",
       "      <td>16.200000</td>\n",
       "      <td>16.2</td>\n",
       "    </tr>\n",
       "  </tbody>\n",
       "</table>\n",
       "</div>"
      ],
      "text/plain": [
       "                                                                                                               Hypothesis  \\\n",
       "0                                             Add two new channels for attracting traffic. This will bring 30% more users   \n",
       "1                                                       Launch your own delivery service. This will shorten delivery time   \n",
       "2          Add product recommendation blocks to the store's site. This will increase conversion and average purchase size   \n",
       "3  Change the category structure. This will increase conversion since users will find the products they want more quickly   \n",
       "4                                        Change the background color on the main page. This will increase user engagement   \n",
       "5                                                     Add a customer review page. This will increase the number of orders   \n",
       "6                                 Show banners with current offers and sales on the main page. This will boost conversion   \n",
       "7                                Add a subscription form to all the main pages. This will help you compile a mailing list   \n",
       "8                                                        Launch a promotion that gives users discounts on their birthdays   \n",
       "\n",
       "   Reach  Impact  Confidence  Effort        ICE   RICE  \n",
       "0      3      10           8       6  13.333333   40.0  \n",
       "1      2       5           4      10   2.000000    4.0  \n",
       "2      8       3           7       3   7.000000   56.0  \n",
       "3      8       3           3       8   1.125000    9.0  \n",
       "4      3       1           1       1   1.000000    3.0  \n",
       "5      3       2           2       3   1.333333    4.0  \n",
       "6      5       3           8       3   8.000000   40.0  \n",
       "7     10       7           8       5  11.200000  112.0  \n",
       "8      1       9           9       5  16.200000   16.2  "
      ]
     },
     "execution_count": 17,
     "metadata": {},
     "output_type": "execute_result"
    }
   ],
   "source": [
    "#calculating ICE and RICE metrics for the df\n",
    "hypotheses['ICE'] = hypotheses['Impact']*hypotheses['Confidence']/hypotheses['Effort']\n",
    "hypotheses['RICE'] = hypotheses['Reach']*hypotheses['Impact']*hypotheses['Confidence']/hypotheses['Effort']\n",
    "hypotheses"
   ]
  },
  {
   "cell_type": "code",
   "execution_count": 18,
   "metadata": {},
   "outputs": [
    {
     "data": {
      "text/html": [
       "<div>\n",
       "<style scoped>\n",
       "    .dataframe tbody tr th:only-of-type {\n",
       "        vertical-align: middle;\n",
       "    }\n",
       "\n",
       "    .dataframe tbody tr th {\n",
       "        vertical-align: top;\n",
       "    }\n",
       "\n",
       "    .dataframe thead th {\n",
       "        text-align: right;\n",
       "    }\n",
       "</style>\n",
       "<table border=\"1\" class=\"dataframe\">\n",
       "  <thead>\n",
       "    <tr style=\"text-align: right;\">\n",
       "      <th></th>\n",
       "      <th>Hypothesis</th>\n",
       "      <th>ICE</th>\n",
       "    </tr>\n",
       "  </thead>\n",
       "  <tbody>\n",
       "    <tr>\n",
       "      <th>8</th>\n",
       "      <td>Launch a promotion that gives users discounts on their birthdays</td>\n",
       "      <td>16.200000</td>\n",
       "    </tr>\n",
       "    <tr>\n",
       "      <th>0</th>\n",
       "      <td>Add two new channels for attracting traffic. This will bring 30% more users</td>\n",
       "      <td>13.333333</td>\n",
       "    </tr>\n",
       "    <tr>\n",
       "      <th>7</th>\n",
       "      <td>Add a subscription form to all the main pages. This will help you compile a mailing list</td>\n",
       "      <td>11.200000</td>\n",
       "    </tr>\n",
       "    <tr>\n",
       "      <th>6</th>\n",
       "      <td>Show banners with current offers and sales on the main page. This will boost conversion</td>\n",
       "      <td>8.000000</td>\n",
       "    </tr>\n",
       "    <tr>\n",
       "      <th>2</th>\n",
       "      <td>Add product recommendation blocks to the store's site. This will increase conversion and average purchase size</td>\n",
       "      <td>7.000000</td>\n",
       "    </tr>\n",
       "    <tr>\n",
       "      <th>1</th>\n",
       "      <td>Launch your own delivery service. This will shorten delivery time</td>\n",
       "      <td>2.000000</td>\n",
       "    </tr>\n",
       "    <tr>\n",
       "      <th>5</th>\n",
       "      <td>Add a customer review page. This will increase the number of orders</td>\n",
       "      <td>1.333333</td>\n",
       "    </tr>\n",
       "    <tr>\n",
       "      <th>3</th>\n",
       "      <td>Change the category structure. This will increase conversion since users will find the products they want more quickly</td>\n",
       "      <td>1.125000</td>\n",
       "    </tr>\n",
       "    <tr>\n",
       "      <th>4</th>\n",
       "      <td>Change the background color on the main page. This will increase user engagement</td>\n",
       "      <td>1.000000</td>\n",
       "    </tr>\n",
       "  </tbody>\n",
       "</table>\n",
       "</div>"
      ],
      "text/plain": [
       "                                                                                                               Hypothesis  \\\n",
       "8                                                        Launch a promotion that gives users discounts on their birthdays   \n",
       "0                                             Add two new channels for attracting traffic. This will bring 30% more users   \n",
       "7                                Add a subscription form to all the main pages. This will help you compile a mailing list   \n",
       "6                                 Show banners with current offers and sales on the main page. This will boost conversion   \n",
       "2          Add product recommendation blocks to the store's site. This will increase conversion and average purchase size   \n",
       "1                                                       Launch your own delivery service. This will shorten delivery time   \n",
       "5                                                     Add a customer review page. This will increase the number of orders   \n",
       "3  Change the category structure. This will increase conversion since users will find the products they want more quickly   \n",
       "4                                        Change the background color on the main page. This will increase user engagement   \n",
       "\n",
       "         ICE  \n",
       "8  16.200000  \n",
       "0  13.333333  \n",
       "7  11.200000  \n",
       "6   8.000000  \n",
       "2   7.000000  \n",
       "1   2.000000  \n",
       "5   1.333333  \n",
       "3   1.125000  \n",
       "4   1.000000  "
      ]
     },
     "execution_count": 18,
     "metadata": {},
     "output_type": "execute_result"
    }
   ],
   "source": [
    "#displaying the ICE sorted data\n",
    "hypotheses[['Hypothesis','ICE']].sort_values(by='ICE',ascending=False)"
   ]
  },
  {
   "cell_type": "code",
   "execution_count": 19,
   "metadata": {},
   "outputs": [
    {
     "data": {
      "text/html": [
       "<div>\n",
       "<style scoped>\n",
       "    .dataframe tbody tr th:only-of-type {\n",
       "        vertical-align: middle;\n",
       "    }\n",
       "\n",
       "    .dataframe tbody tr th {\n",
       "        vertical-align: top;\n",
       "    }\n",
       "\n",
       "    .dataframe thead th {\n",
       "        text-align: right;\n",
       "    }\n",
       "</style>\n",
       "<table border=\"1\" class=\"dataframe\">\n",
       "  <thead>\n",
       "    <tr style=\"text-align: right;\">\n",
       "      <th></th>\n",
       "      <th>Hypothesis</th>\n",
       "      <th>RICE</th>\n",
       "    </tr>\n",
       "  </thead>\n",
       "  <tbody>\n",
       "    <tr>\n",
       "      <th>7</th>\n",
       "      <td>Add a subscription form to all the main pages. This will help you compile a mailing list</td>\n",
       "      <td>112.0</td>\n",
       "    </tr>\n",
       "    <tr>\n",
       "      <th>2</th>\n",
       "      <td>Add product recommendation blocks to the store's site. This will increase conversion and average purchase size</td>\n",
       "      <td>56.0</td>\n",
       "    </tr>\n",
       "    <tr>\n",
       "      <th>0</th>\n",
       "      <td>Add two new channels for attracting traffic. This will bring 30% more users</td>\n",
       "      <td>40.0</td>\n",
       "    </tr>\n",
       "    <tr>\n",
       "      <th>6</th>\n",
       "      <td>Show banners with current offers and sales on the main page. This will boost conversion</td>\n",
       "      <td>40.0</td>\n",
       "    </tr>\n",
       "    <tr>\n",
       "      <th>8</th>\n",
       "      <td>Launch a promotion that gives users discounts on their birthdays</td>\n",
       "      <td>16.2</td>\n",
       "    </tr>\n",
       "    <tr>\n",
       "      <th>3</th>\n",
       "      <td>Change the category structure. This will increase conversion since users will find the products they want more quickly</td>\n",
       "      <td>9.0</td>\n",
       "    </tr>\n",
       "    <tr>\n",
       "      <th>1</th>\n",
       "      <td>Launch your own delivery service. This will shorten delivery time</td>\n",
       "      <td>4.0</td>\n",
       "    </tr>\n",
       "    <tr>\n",
       "      <th>5</th>\n",
       "      <td>Add a customer review page. This will increase the number of orders</td>\n",
       "      <td>4.0</td>\n",
       "    </tr>\n",
       "    <tr>\n",
       "      <th>4</th>\n",
       "      <td>Change the background color on the main page. This will increase user engagement</td>\n",
       "      <td>3.0</td>\n",
       "    </tr>\n",
       "  </tbody>\n",
       "</table>\n",
       "</div>"
      ],
      "text/plain": [
       "                                                                                                               Hypothesis  \\\n",
       "7                                Add a subscription form to all the main pages. This will help you compile a mailing list   \n",
       "2          Add product recommendation blocks to the store's site. This will increase conversion and average purchase size   \n",
       "0                                             Add two new channels for attracting traffic. This will bring 30% more users   \n",
       "6                                 Show banners with current offers and sales on the main page. This will boost conversion   \n",
       "8                                                        Launch a promotion that gives users discounts on their birthdays   \n",
       "3  Change the category structure. This will increase conversion since users will find the products they want more quickly   \n",
       "1                                                       Launch your own delivery service. This will shorten delivery time   \n",
       "5                                                     Add a customer review page. This will increase the number of orders   \n",
       "4                                        Change the background color on the main page. This will increase user engagement   \n",
       "\n",
       "    RICE  \n",
       "7  112.0  \n",
       "2   56.0  \n",
       "0   40.0  \n",
       "6   40.0  \n",
       "8   16.2  \n",
       "3    9.0  \n",
       "1    4.0  \n",
       "5    4.0  \n",
       "4    3.0  "
      ]
     },
     "execution_count": 19,
     "metadata": {},
     "output_type": "execute_result"
    }
   ],
   "source": [
    "#displaying the RICE sorted data\n",
    "hypotheses[['Hypothesis','RICE']].sort_values(by='RICE',ascending=False)"
   ]
  },
  {
   "cell_type": "code",
   "execution_count": 20,
   "metadata": {},
   "outputs": [
    {
     "data": {
      "text/html": [
       "<div>\n",
       "<style scoped>\n",
       "    .dataframe tbody tr th:only-of-type {\n",
       "        vertical-align: middle;\n",
       "    }\n",
       "\n",
       "    .dataframe tbody tr th {\n",
       "        vertical-align: top;\n",
       "    }\n",
       "\n",
       "    .dataframe thead th {\n",
       "        text-align: right;\n",
       "    }\n",
       "</style>\n",
       "<table border=\"1\" class=\"dataframe\">\n",
       "  <thead>\n",
       "    <tr style=\"text-align: right;\">\n",
       "      <th></th>\n",
       "      <th>Hypothesis</th>\n",
       "      <th>ICE</th>\n",
       "      <th>RICE</th>\n",
       "      <th>ICE_rank</th>\n",
       "      <th>RICE_rank</th>\n",
       "    </tr>\n",
       "  </thead>\n",
       "  <tbody>\n",
       "    <tr>\n",
       "      <th>8</th>\n",
       "      <td>Launch a promotion that gives users discounts on their birthdays</td>\n",
       "      <td>16.200000</td>\n",
       "      <td>16.2</td>\n",
       "      <td>1</td>\n",
       "      <td>5</td>\n",
       "    </tr>\n",
       "    <tr>\n",
       "      <th>0</th>\n",
       "      <td>Add two new channels for attracting traffic. This will bring 30% more users</td>\n",
       "      <td>13.333333</td>\n",
       "      <td>40.0</td>\n",
       "      <td>2</td>\n",
       "      <td>3</td>\n",
       "    </tr>\n",
       "    <tr>\n",
       "      <th>7</th>\n",
       "      <td>Add a subscription form to all the main pages. This will help you compile a mailing list</td>\n",
       "      <td>11.200000</td>\n",
       "      <td>112.0</td>\n",
       "      <td>3</td>\n",
       "      <td>1</td>\n",
       "    </tr>\n",
       "    <tr>\n",
       "      <th>6</th>\n",
       "      <td>Show banners with current offers and sales on the main page. This will boost conversion</td>\n",
       "      <td>8.000000</td>\n",
       "      <td>40.0</td>\n",
       "      <td>4</td>\n",
       "      <td>3</td>\n",
       "    </tr>\n",
       "    <tr>\n",
       "      <th>2</th>\n",
       "      <td>Add product recommendation blocks to the store's site. This will increase conversion and average purchase size</td>\n",
       "      <td>7.000000</td>\n",
       "      <td>56.0</td>\n",
       "      <td>5</td>\n",
       "      <td>2</td>\n",
       "    </tr>\n",
       "    <tr>\n",
       "      <th>1</th>\n",
       "      <td>Launch your own delivery service. This will shorten delivery time</td>\n",
       "      <td>2.000000</td>\n",
       "      <td>4.0</td>\n",
       "      <td>6</td>\n",
       "      <td>7</td>\n",
       "    </tr>\n",
       "    <tr>\n",
       "      <th>5</th>\n",
       "      <td>Add a customer review page. This will increase the number of orders</td>\n",
       "      <td>1.333333</td>\n",
       "      <td>4.0</td>\n",
       "      <td>7</td>\n",
       "      <td>7</td>\n",
       "    </tr>\n",
       "    <tr>\n",
       "      <th>3</th>\n",
       "      <td>Change the category structure. This will increase conversion since users will find the products they want more quickly</td>\n",
       "      <td>1.125000</td>\n",
       "      <td>9.0</td>\n",
       "      <td>8</td>\n",
       "      <td>6</td>\n",
       "    </tr>\n",
       "    <tr>\n",
       "      <th>4</th>\n",
       "      <td>Change the background color on the main page. This will increase user engagement</td>\n",
       "      <td>1.000000</td>\n",
       "      <td>3.0</td>\n",
       "      <td>9</td>\n",
       "      <td>9</td>\n",
       "    </tr>\n",
       "  </tbody>\n",
       "</table>\n",
       "</div>"
      ],
      "text/plain": [
       "                                                                                                               Hypothesis  \\\n",
       "8                                                        Launch a promotion that gives users discounts on their birthdays   \n",
       "0                                             Add two new channels for attracting traffic. This will bring 30% more users   \n",
       "7                                Add a subscription form to all the main pages. This will help you compile a mailing list   \n",
       "6                                 Show banners with current offers and sales on the main page. This will boost conversion   \n",
       "2          Add product recommendation blocks to the store's site. This will increase conversion and average purchase size   \n",
       "1                                                       Launch your own delivery service. This will shorten delivery time   \n",
       "5                                                     Add a customer review page. This will increase the number of orders   \n",
       "3  Change the category structure. This will increase conversion since users will find the products they want more quickly   \n",
       "4                                        Change the background color on the main page. This will increase user engagement   \n",
       "\n",
       "         ICE   RICE  ICE_rank  RICE_rank  \n",
       "8  16.200000   16.2         1          5  \n",
       "0  13.333333   40.0         2          3  \n",
       "7  11.200000  112.0         3          1  \n",
       "6   8.000000   40.0         4          3  \n",
       "2   7.000000   56.0         5          2  \n",
       "1   2.000000    4.0         6          7  \n",
       "5   1.333333    4.0         7          7  \n",
       "3   1.125000    9.0         8          6  \n",
       "4   1.000000    3.0         9          9  "
      ]
     },
     "execution_count": 20,
     "metadata": {},
     "output_type": "execute_result"
    }
   ],
   "source": [
    "#creating a new df to compare ICE and RICE metrics\n",
    "hypotheses_comparison = hypotheses[['Hypothesis','ICE','RICE']].copy()\n",
    "#rank the hypotheses based on ICE and RICE\n",
    "hypotheses_comparison['ICE_rank']= hypotheses_comparison['ICE'].rank(ascending=False).astype(int)\n",
    "hypotheses_comparison['RICE_rank']= hypotheses_comparison['RICE'].rank(ascending=False).astype(int)\n",
    "#sorting the dataframe by ICE rank\n",
    "hypotheses_comparison=hypotheses_comparison.sort_values(by='ICE_rank')\n",
    "hypotheses_comparison"
   ]
  },
  {
   "cell_type": "markdown",
   "metadata": {},
   "source": [
    "The ninth hypothesis initially appears to be the most promising based on its ICE score. However, after calculating the RICE score, its ranking drops to fifth place. This decrease is primarily due to its low 'Reach' parameter, which is rated at 1/10, indicating it won't impact a significant number of users. Conversely, the fifth hypothesis consistently ranks last in both ICE and RICE scores, indicating it's not worth pursuing further."
   ]
  },
  {
   "cell_type": "markdown",
   "metadata": {},
   "source": [
    "## Stage 4. A/B Test Analysis <a id='analysis'></a>"
   ]
  },
  {
   "cell_type": "markdown",
   "metadata": {},
   "source": [
    "#### 1. Graph cumulative revenue by group. Make conclusions and conjectures."
   ]
  },
  {
   "cell_type": "code",
   "execution_count": 21,
   "metadata": {},
   "outputs": [
    {
     "data": {
      "text/html": [
       "<div>\n",
       "<style scoped>\n",
       "    .dataframe tbody tr th:only-of-type {\n",
       "        vertical-align: middle;\n",
       "    }\n",
       "\n",
       "    .dataframe tbody tr th {\n",
       "        vertical-align: top;\n",
       "    }\n",
       "\n",
       "    .dataframe thead th {\n",
       "        text-align: right;\n",
       "    }\n",
       "</style>\n",
       "<table border=\"1\" class=\"dataframe\">\n",
       "  <thead>\n",
       "    <tr style=\"text-align: right;\">\n",
       "      <th></th>\n",
       "      <th>transactionId</th>\n",
       "      <th>visitorId</th>\n",
       "      <th>date</th>\n",
       "      <th>revenue</th>\n",
       "      <th>group</th>\n",
       "    </tr>\n",
       "  </thead>\n",
       "  <tbody>\n",
       "    <tr>\n",
       "      <th>0</th>\n",
       "      <td>3667963787</td>\n",
       "      <td>3312258926</td>\n",
       "      <td>2019-08-15</td>\n",
       "      <td>30.4</td>\n",
       "      <td>B</td>\n",
       "    </tr>\n",
       "    <tr>\n",
       "      <th>1</th>\n",
       "      <td>2804400009</td>\n",
       "      <td>3642806036</td>\n",
       "      <td>2019-08-15</td>\n",
       "      <td>15.2</td>\n",
       "      <td>B</td>\n",
       "    </tr>\n",
       "    <tr>\n",
       "      <th>2</th>\n",
       "      <td>3797467345</td>\n",
       "      <td>1196621759</td>\n",
       "      <td>2019-08-15</td>\n",
       "      <td>155.1</td>\n",
       "      <td>B</td>\n",
       "    </tr>\n",
       "    <tr>\n",
       "      <th>3</th>\n",
       "      <td>2282983706</td>\n",
       "      <td>2322279887</td>\n",
       "      <td>2019-08-15</td>\n",
       "      <td>40.5</td>\n",
       "      <td>B</td>\n",
       "    </tr>\n",
       "    <tr>\n",
       "      <th>4</th>\n",
       "      <td>182168103</td>\n",
       "      <td>935554773</td>\n",
       "      <td>2019-08-15</td>\n",
       "      <td>35.0</td>\n",
       "      <td>B</td>\n",
       "    </tr>\n",
       "    <tr>\n",
       "      <th>...</th>\n",
       "      <td>...</td>\n",
       "      <td>...</td>\n",
       "      <td>...</td>\n",
       "      <td>...</td>\n",
       "      <td>...</td>\n",
       "    </tr>\n",
       "    <tr>\n",
       "      <th>1011</th>\n",
       "      <td>3592955527</td>\n",
       "      <td>608641596</td>\n",
       "      <td>2019-08-14</td>\n",
       "      <td>255.7</td>\n",
       "      <td>B</td>\n",
       "    </tr>\n",
       "    <tr>\n",
       "      <th>1012</th>\n",
       "      <td>2662137336</td>\n",
       "      <td>3733762160</td>\n",
       "      <td>2019-08-14</td>\n",
       "      <td>100.8</td>\n",
       "      <td>B</td>\n",
       "    </tr>\n",
       "    <tr>\n",
       "      <th>1013</th>\n",
       "      <td>2203539145</td>\n",
       "      <td>370388673</td>\n",
       "      <td>2019-08-14</td>\n",
       "      <td>50.1</td>\n",
       "      <td>A</td>\n",
       "    </tr>\n",
       "    <tr>\n",
       "      <th>1014</th>\n",
       "      <td>1807773912</td>\n",
       "      <td>573423106</td>\n",
       "      <td>2019-08-14</td>\n",
       "      <td>165.3</td>\n",
       "      <td>A</td>\n",
       "    </tr>\n",
       "    <tr>\n",
       "      <th>1015</th>\n",
       "      <td>3936777065</td>\n",
       "      <td>2108080724</td>\n",
       "      <td>2019-08-15</td>\n",
       "      <td>3120.1</td>\n",
       "      <td>B</td>\n",
       "    </tr>\n",
       "  </tbody>\n",
       "</table>\n",
       "<p>1016 rows × 5 columns</p>\n",
       "</div>"
      ],
      "text/plain": [
       "      transactionId   visitorId       date  revenue group\n",
       "0        3667963787  3312258926 2019-08-15     30.4     B\n",
       "1        2804400009  3642806036 2019-08-15     15.2     B\n",
       "2        3797467345  1196621759 2019-08-15    155.1     B\n",
       "3        2282983706  2322279887 2019-08-15     40.5     B\n",
       "4         182168103   935554773 2019-08-15     35.0     B\n",
       "...             ...         ...        ...      ...   ...\n",
       "1011     3592955527   608641596 2019-08-14    255.7     B\n",
       "1012     2662137336  3733762160 2019-08-14    100.8     B\n",
       "1013     2203539145   370388673 2019-08-14     50.1     A\n",
       "1014     1807773912   573423106 2019-08-14    165.3     A\n",
       "1015     3936777065  2108080724 2019-08-15   3120.1     B\n",
       "\n",
       "[1016 rows x 5 columns]"
      ]
     },
     "execution_count": 21,
     "metadata": {},
     "output_type": "execute_result"
    }
   ],
   "source": [
    "# Will need the orders_clean df for this task\n",
    "orders_clean"
   ]
  },
  {
   "cell_type": "code",
   "execution_count": 22,
   "metadata": {},
   "outputs": [
    {
     "data": {
      "text/html": [
       "<div>\n",
       "<style scoped>\n",
       "    .dataframe tbody tr th:only-of-type {\n",
       "        vertical-align: middle;\n",
       "    }\n",
       "\n",
       "    .dataframe tbody tr th {\n",
       "        vertical-align: top;\n",
       "    }\n",
       "\n",
       "    .dataframe thead th {\n",
       "        text-align: right;\n",
       "    }\n",
       "</style>\n",
       "<table border=\"1\" class=\"dataframe\">\n",
       "  <thead>\n",
       "    <tr style=\"text-align: right;\">\n",
       "      <th></th>\n",
       "      <th>date</th>\n",
       "      <th>group</th>\n",
       "      <th>revenue</th>\n",
       "    </tr>\n",
       "  </thead>\n",
       "  <tbody>\n",
       "    <tr>\n",
       "      <th>0</th>\n",
       "      <td>2019-08-01</td>\n",
       "      <td>A</td>\n",
       "      <td>2266.6</td>\n",
       "    </tr>\n",
       "    <tr>\n",
       "      <th>1</th>\n",
       "      <td>2019-08-01</td>\n",
       "      <td>B</td>\n",
       "      <td>967.2</td>\n",
       "    </tr>\n",
       "    <tr>\n",
       "      <th>2</th>\n",
       "      <td>2019-08-02</td>\n",
       "      <td>A</td>\n",
       "      <td>3734.9</td>\n",
       "    </tr>\n",
       "    <tr>\n",
       "      <th>3</th>\n",
       "      <td>2019-08-02</td>\n",
       "      <td>B</td>\n",
       "      <td>3535.3</td>\n",
       "    </tr>\n",
       "    <tr>\n",
       "      <th>4</th>\n",
       "      <td>2019-08-03</td>\n",
       "      <td>A</td>\n",
       "      <td>5550.1</td>\n",
       "    </tr>\n",
       "    <tr>\n",
       "      <th>...</th>\n",
       "      <td>...</td>\n",
       "      <td>...</td>\n",
       "      <td>...</td>\n",
       "    </tr>\n",
       "    <tr>\n",
       "      <th>57</th>\n",
       "      <td>2019-08-29</td>\n",
       "      <td>B</td>\n",
       "      <td>74576.7</td>\n",
       "    </tr>\n",
       "    <tr>\n",
       "      <th>58</th>\n",
       "      <td>2019-08-30</td>\n",
       "      <td>A</td>\n",
       "      <td>52363.7</td>\n",
       "    </tr>\n",
       "    <tr>\n",
       "      <th>59</th>\n",
       "      <td>2019-08-30</td>\n",
       "      <td>B</td>\n",
       "      <td>77863.5</td>\n",
       "    </tr>\n",
       "    <tr>\n",
       "      <th>60</th>\n",
       "      <td>2019-08-31</td>\n",
       "      <td>A</td>\n",
       "      <td>53212.0</td>\n",
       "    </tr>\n",
       "    <tr>\n",
       "      <th>61</th>\n",
       "      <td>2019-08-31</td>\n",
       "      <td>B</td>\n",
       "      <td>79651.2</td>\n",
       "    </tr>\n",
       "  </tbody>\n",
       "</table>\n",
       "<p>62 rows × 3 columns</p>\n",
       "</div>"
      ],
      "text/plain": [
       "         date group  revenue\n",
       "0  2019-08-01     A   2266.6\n",
       "1  2019-08-01     B    967.2\n",
       "2  2019-08-02     A   3734.9\n",
       "3  2019-08-02     B   3535.3\n",
       "4  2019-08-03     A   5550.1\n",
       "..        ...   ...      ...\n",
       "57 2019-08-29     B  74576.7\n",
       "58 2019-08-30     A  52363.7\n",
       "59 2019-08-30     B  77863.5\n",
       "60 2019-08-31     A  53212.0\n",
       "61 2019-08-31     B  79651.2\n",
       "\n",
       "[62 rows x 3 columns]"
      ]
     },
     "execution_count": 22,
     "metadata": {},
     "output_type": "execute_result"
    }
   ],
   "source": [
    "#calculating cumulative revenue for each group\n",
    "cum_revenue = orders_clean.groupby(['date', 'group']).agg({'revenue': 'sum'}).groupby(level=1).cumsum().reset_index()\n",
    "cum_revenue"
   ]
  },
  {
   "cell_type": "code",
   "execution_count": 23,
   "metadata": {},
   "outputs": [
    {
     "data": {
      "image/png": "[encoded data removed]",
      "text/plain": [
       "<Figure size 1200x600 with 1 Axes>"
      ]
     },
     "metadata": {},
     "output_type": "display_data"
    }
   ],
   "source": [
    "#plotting cumulative revenue by group\n",
    "plt.figure(figsize=(12, 6))\n",
    "for group in cum_revenue['group'].unique():\n",
    "    plt.plot(cum_revenue[cum_revenue['group'] == group]['date'], \n",
    "             cum_revenue[cum_revenue['group'] == group]['revenue'], label=f'Group {group}')\n",
    "    \n",
    "plt.title('Cumulative Revenue by Group')\n",
    "plt.xlabel('Date')\n",
    "plt.xticks(rotation=45)  \n",
    "plt.ylabel('Cumulative Revenue')\n",
    "plt.legend()\n",
    "plt.show()"
   ]
  },
  {
   "cell_type": "markdown",
   "metadata": {},
   "source": [
    "From August 1 to 17, 2019, the cumulative revenue for both Group A and Group B was rising steadily. However, after August 17, there is a sudden surge in Group B's cumulative revenue, indicating a significant boost due to an event or intervention. Further investigation is required to identify the cause of this surge and the specific changes made for Group B that led to this improvement."
   ]
  },
  {
   "cell_type": "markdown",
   "metadata": {},
   "source": [
    "#### Graph cumulative average order size by group. Make conclusions and conjectures."
   ]
  },
  {
   "cell_type": "code",
   "execution_count": 24,
   "metadata": {},
   "outputs": [
    {
     "data": {
      "text/html": [
       "<div>\n",
       "<style scoped>\n",
       "    .dataframe tbody tr th:only-of-type {\n",
       "        vertical-align: middle;\n",
       "    }\n",
       "\n",
       "    .dataframe tbody tr th {\n",
       "        vertical-align: top;\n",
       "    }\n",
       "\n",
       "    .dataframe thead th {\n",
       "        text-align: right;\n",
       "    }\n",
       "</style>\n",
       "<table border=\"1\" class=\"dataframe\">\n",
       "  <thead>\n",
       "    <tr style=\"text-align: right;\">\n",
       "      <th></th>\n",
       "      <th>date</th>\n",
       "      <th>group</th>\n",
       "      <th>revenue</th>\n",
       "      <th>orders</th>\n",
       "    </tr>\n",
       "  </thead>\n",
       "  <tbody>\n",
       "    <tr>\n",
       "      <th>0</th>\n",
       "      <td>2019-08-01</td>\n",
       "      <td>A</td>\n",
       "      <td>2266.6</td>\n",
       "      <td>23</td>\n",
       "    </tr>\n",
       "    <tr>\n",
       "      <th>1</th>\n",
       "      <td>2019-08-01</td>\n",
       "      <td>B</td>\n",
       "      <td>967.2</td>\n",
       "      <td>17</td>\n",
       "    </tr>\n",
       "    <tr>\n",
       "      <th>2</th>\n",
       "      <td>2019-08-02</td>\n",
       "      <td>A</td>\n",
       "      <td>3734.9</td>\n",
       "      <td>42</td>\n",
       "    </tr>\n",
       "    <tr>\n",
       "      <th>3</th>\n",
       "      <td>2019-08-02</td>\n",
       "      <td>B</td>\n",
       "      <td>3535.3</td>\n",
       "      <td>40</td>\n",
       "    </tr>\n",
       "    <tr>\n",
       "      <th>4</th>\n",
       "      <td>2019-08-03</td>\n",
       "      <td>A</td>\n",
       "      <td>5550.1</td>\n",
       "      <td>66</td>\n",
       "    </tr>\n",
       "    <tr>\n",
       "      <th>5</th>\n",
       "      <td>2019-08-03</td>\n",
       "      <td>B</td>\n",
       "      <td>4606.9</td>\n",
       "      <td>54</td>\n",
       "    </tr>\n",
       "    <tr>\n",
       "      <th>6</th>\n",
       "      <td>2019-08-04</td>\n",
       "      <td>A</td>\n",
       "      <td>6225.6</td>\n",
       "      <td>77</td>\n",
       "    </tr>\n",
       "    <tr>\n",
       "      <th>7</th>\n",
       "      <td>2019-08-04</td>\n",
       "      <td>B</td>\n",
       "      <td>6138.5</td>\n",
       "      <td>68</td>\n",
       "    </tr>\n",
       "    <tr>\n",
       "      <th>8</th>\n",
       "      <td>2019-08-05</td>\n",
       "      <td>A</td>\n",
       "      <td>7623.6</td>\n",
       "      <td>99</td>\n",
       "    </tr>\n",
       "    <tr>\n",
       "      <th>9</th>\n",
       "      <td>2019-08-05</td>\n",
       "      <td>B</td>\n",
       "      <td>7587.8</td>\n",
       "      <td>89</td>\n",
       "    </tr>\n",
       "  </tbody>\n",
       "</table>\n",
       "</div>"
      ],
      "text/plain": [
       "        date group  revenue  orders\n",
       "0 2019-08-01     A   2266.6      23\n",
       "1 2019-08-01     B    967.2      17\n",
       "2 2019-08-02     A   3734.9      42\n",
       "3 2019-08-02     B   3535.3      40\n",
       "4 2019-08-03     A   5550.1      66\n",
       "5 2019-08-03     B   4606.9      54\n",
       "6 2019-08-04     A   6225.6      77\n",
       "7 2019-08-04     B   6138.5      68\n",
       "8 2019-08-05     A   7623.6      99\n",
       "9 2019-08-05     B   7587.8      89"
      ]
     },
     "execution_count": 24,
     "metadata": {},
     "output_type": "execute_result"
    }
   ],
   "source": [
    "#calculating cumulative revenue and number of orders for each group\n",
    "cumulative_avg_order = orders_clean.groupby(['date', 'group']).agg({'revenue': 'sum', 'transactionId': 'count'}).rename(columns={'transactionId': 'orders'}).groupby(level=1).cumsum().reset_index()\n",
    "cumulative_avg_order.head(10)"
   ]
  },
  {
   "cell_type": "code",
   "execution_count": 25,
   "metadata": {},
   "outputs": [
    {
     "data": {
      "text/html": [
       "<div>\n",
       "<style scoped>\n",
       "    .dataframe tbody tr th:only-of-type {\n",
       "        vertical-align: middle;\n",
       "    }\n",
       "\n",
       "    .dataframe tbody tr th {\n",
       "        vertical-align: top;\n",
       "    }\n",
       "\n",
       "    .dataframe thead th {\n",
       "        text-align: right;\n",
       "    }\n",
       "</style>\n",
       "<table border=\"1\" class=\"dataframe\">\n",
       "  <thead>\n",
       "    <tr style=\"text-align: right;\">\n",
       "      <th></th>\n",
       "      <th>date</th>\n",
       "      <th>group</th>\n",
       "      <th>revenue</th>\n",
       "      <th>orders</th>\n",
       "      <th>cumulative_avg_order_size</th>\n",
       "    </tr>\n",
       "  </thead>\n",
       "  <tbody>\n",
       "    <tr>\n",
       "      <th>0</th>\n",
       "      <td>2019-08-01</td>\n",
       "      <td>A</td>\n",
       "      <td>2266.6</td>\n",
       "      <td>23</td>\n",
       "      <td>98.547826</td>\n",
       "    </tr>\n",
       "    <tr>\n",
       "      <th>1</th>\n",
       "      <td>2019-08-01</td>\n",
       "      <td>B</td>\n",
       "      <td>967.2</td>\n",
       "      <td>17</td>\n",
       "      <td>56.894118</td>\n",
       "    </tr>\n",
       "    <tr>\n",
       "      <th>2</th>\n",
       "      <td>2019-08-02</td>\n",
       "      <td>A</td>\n",
       "      <td>3734.9</td>\n",
       "      <td>42</td>\n",
       "      <td>88.926190</td>\n",
       "    </tr>\n",
       "    <tr>\n",
       "      <th>3</th>\n",
       "      <td>2019-08-02</td>\n",
       "      <td>B</td>\n",
       "      <td>3535.3</td>\n",
       "      <td>40</td>\n",
       "      <td>88.382500</td>\n",
       "    </tr>\n",
       "    <tr>\n",
       "      <th>4</th>\n",
       "      <td>2019-08-03</td>\n",
       "      <td>A</td>\n",
       "      <td>5550.1</td>\n",
       "      <td>66</td>\n",
       "      <td>84.092424</td>\n",
       "    </tr>\n",
       "  </tbody>\n",
       "</table>\n",
       "</div>"
      ],
      "text/plain": [
       "        date group  revenue  orders  cumulative_avg_order_size\n",
       "0 2019-08-01     A   2266.6      23                  98.547826\n",
       "1 2019-08-01     B    967.2      17                  56.894118\n",
       "2 2019-08-02     A   3734.9      42                  88.926190\n",
       "3 2019-08-02     B   3535.3      40                  88.382500\n",
       "4 2019-08-03     A   5550.1      66                  84.092424"
      ]
     },
     "execution_count": 25,
     "metadata": {},
     "output_type": "execute_result"
    }
   ],
   "source": [
    "#calculating cumulative average order size\n",
    "cumulative_avg_order['cumulative_avg_order_size'] = cumulative_avg_order['revenue'] / cumulative_avg_order['orders']\n",
    "cumulative_avg_order.head()"
   ]
  },
  {
   "cell_type": "code",
   "execution_count": 26,
   "metadata": {},
   "outputs": [
    {
     "data": {
      "image/png": "[encoded data removed]",
      "text/plain": [
       "<Figure size 1200x600 with 1 Axes>"
      ]
     },
     "metadata": {},
     "output_type": "display_data"
    }
   ],
   "source": [
    "#plotting cumulative average order size by group\n",
    "plt.figure(figsize=(12, 6))\n",
    "for group in cumulative_avg_order['group'].unique():\n",
    "    plt.plot(cumulative_avg_order[cumulative_avg_order['group'] == group]['date'], \n",
    "             cumulative_avg_order[cumulative_avg_order['group'] == group]['cumulative_avg_order_size'], label=f'Group {group}')\n",
    "\n",
    "plt.title('Cumulative Average Order Size by Group')\n",
    "plt.xlabel('Date')\n",
    "plt.ylabel('Cumulative Average Order Size')\n",
    "plt.legend()\n",
    "plt.xticks(rotation=45)\n",
    "plt.tight_layout()\n",
    "plt.show()"
   ]
  },
  {
   "cell_type": "markdown",
   "metadata": {},
   "source": [
    "Average purchase size becomes steady by the end of the test: it stabilizes for group A and keeps on falling for group B. The surge in group B after the 17th of August may have been due to the presence of large, expensive orders. Further investigation is required to identify the cause of this surge and the specific changes made for Group B that led to this improvement."
   ]
  },
  {
   "cell_type": "markdown",
   "metadata": {},
   "source": [
    "#### Graph the relative difference in cumulative average order size for group B compared with group A. Make conclusions and conjectures."
   ]
  },
  {
   "cell_type": "code",
   "execution_count": 27,
   "metadata": {},
   "outputs": [
    {
     "data": {
      "text/html": [
       "<div>\n",
       "<style scoped>\n",
       "    .dataframe tbody tr th:only-of-type {\n",
       "        vertical-align: middle;\n",
       "    }\n",
       "\n",
       "    .dataframe tbody tr th {\n",
       "        vertical-align: top;\n",
       "    }\n",
       "\n",
       "    .dataframe thead th {\n",
       "        text-align: right;\n",
       "    }\n",
       "</style>\n",
       "<table border=\"1\" class=\"dataframe\">\n",
       "  <thead>\n",
       "    <tr style=\"text-align: right;\">\n",
       "      <th></th>\n",
       "      <th>date</th>\n",
       "      <th>cumulative_avg_order_size_A</th>\n",
       "      <th>cumulative_avg_order_size_B</th>\n",
       "      <th>relative_difference</th>\n",
       "    </tr>\n",
       "  </thead>\n",
       "  <tbody>\n",
       "    <tr>\n",
       "      <th>0</th>\n",
       "      <td>2019-08-01</td>\n",
       "      <td>98.547826</td>\n",
       "      <td>56.894118</td>\n",
       "      <td>-0.422675</td>\n",
       "    </tr>\n",
       "    <tr>\n",
       "      <th>1</th>\n",
       "      <td>2019-08-02</td>\n",
       "      <td>88.926190</td>\n",
       "      <td>88.382500</td>\n",
       "      <td>-0.006114</td>\n",
       "    </tr>\n",
       "    <tr>\n",
       "      <th>2</th>\n",
       "      <td>2019-08-03</td>\n",
       "      <td>84.092424</td>\n",
       "      <td>85.312963</td>\n",
       "      <td>0.014514</td>\n",
       "    </tr>\n",
       "    <tr>\n",
       "      <th>3</th>\n",
       "      <td>2019-08-04</td>\n",
       "      <td>80.851948</td>\n",
       "      <td>90.272059</td>\n",
       "      <td>0.116511</td>\n",
       "    </tr>\n",
       "    <tr>\n",
       "      <th>4</th>\n",
       "      <td>2019-08-05</td>\n",
       "      <td>77.006061</td>\n",
       "      <td>85.256180</td>\n",
       "      <td>0.107136</td>\n",
       "    </tr>\n",
       "  </tbody>\n",
       "</table>\n",
       "</div>"
      ],
      "text/plain": [
       "        date  cumulative_avg_order_size_A  cumulative_avg_order_size_B  \\\n",
       "0 2019-08-01                    98.547826                    56.894118   \n",
       "1 2019-08-02                    88.926190                    88.382500   \n",
       "2 2019-08-03                    84.092424                    85.312963   \n",
       "3 2019-08-04                    80.851948                    90.272059   \n",
       "4 2019-08-05                    77.006061                    85.256180   \n",
       "\n",
       "   relative_difference  \n",
       "0            -0.422675  \n",
       "1            -0.006114  \n",
       "2             0.014514  \n",
       "3             0.116511  \n",
       "4             0.107136  "
      ]
     },
     "execution_count": 27,
     "metadata": {},
     "output_type": "execute_result"
    }
   ],
   "source": [
    "#separating the cumulative data into two DataFrames for easier comparison\n",
    "cumulative_avg_order_A = cumulative_avg_order[cumulative_avg_order['group'] == 'A'][['date', 'cumulative_avg_order_size']].rename(columns={'cumulative_avg_order_size': 'cumulative_avg_order_size_A'})\n",
    "cumulative_avg_order_B = cumulative_avg_order[cumulative_avg_order['group'] == 'B'][['date', 'cumulative_avg_order_size']].rename(columns={'cumulative_avg_order_size': 'cumulative_avg_order_size_B'})\n",
    "\n",
    "#merging the two DataFrames on the date column\n",
    "merged_data = pd.merge(cumulative_avg_order_A, cumulative_avg_order_B, on='date')\n",
    "\n",
    "#calculating the relative difference\n",
    "merged_data['relative_difference'] = (merged_data['cumulative_avg_order_size_B'] / merged_data['cumulative_avg_order_size_A']) - 1\n",
    "merged_data.head()"
   ]
  },
  {
   "cell_type": "code",
   "execution_count": 28,
   "metadata": {},
   "outputs": [
    {
     "data": {
      "image/png": "[encoded data removed]",
      "text/plain": [
       "<Figure size 1200x600 with 1 Axes>"
      ]
     },
     "metadata": {},
     "output_type": "display_data"
    }
   ],
   "source": [
    "#plotting the relative difference\n",
    "plt.figure(figsize=(12, 6))\n",
    "plt.plot(merged_data['date'], merged_data['relative_difference'], label='Relative Difference (B compared to A)')\n",
    "\n",
    "plt.title('Relative Difference in Cumulative Average Order Size (Group B vs Group A)')\n",
    "plt.xlabel('Date')\n",
    "plt.ylabel('Relative Difference')\n",
    "plt.xticks(rotation=45)\n",
    "plt.legend()\n",
    "\n",
    "#adding the X axis\n",
    "plt.axhline(y=0, color='black', linestyle='--')\n",
    "\n",
    "plt.show()"
   ]
  },
  {
   "cell_type": "markdown",
   "metadata": {},
   "source": [
    "The relative difference in cumulative average order size between Group B and Group A fluctuates over time. After August 17, there is a notable increase in the relative difference, suggesting that Group B experienced a surge in larger orders. However, this difference decreases towards the end of the test, indicating that the average order size in Group B fell relative to Group A. The initial surge may have been driven by a few large orders, and further data is required to establish a consistent trend."
   ]
  },
  {
   "cell_type": "markdown",
   "metadata": {},
   "source": [
    "#### Calculate each group's conversion rate as the ratio of orders to the number of visits for each day. Plot the daily conversion rates of the two groups and describe the difference. Draw conclusions and make conjectures.\n"
   ]
  },
  {
   "cell_type": "code",
   "execution_count": 29,
   "metadata": {},
   "outputs": [
    {
     "data": {
      "text/html": [
       "<div>\n",
       "<style scoped>\n",
       "    .dataframe tbody tr th:only-of-type {\n",
       "        vertical-align: middle;\n",
       "    }\n",
       "\n",
       "    .dataframe tbody tr th {\n",
       "        vertical-align: top;\n",
       "    }\n",
       "\n",
       "    .dataframe thead th {\n",
       "        text-align: right;\n",
       "    }\n",
       "</style>\n",
       "<table border=\"1\" class=\"dataframe\">\n",
       "  <thead>\n",
       "    <tr style=\"text-align: right;\">\n",
       "      <th></th>\n",
       "      <th>date</th>\n",
       "      <th>group</th>\n",
       "      <th>orders</th>\n",
       "    </tr>\n",
       "  </thead>\n",
       "  <tbody>\n",
       "    <tr>\n",
       "      <th>0</th>\n",
       "      <td>2019-08-01</td>\n",
       "      <td>A</td>\n",
       "      <td>23</td>\n",
       "    </tr>\n",
       "    <tr>\n",
       "      <th>1</th>\n",
       "      <td>2019-08-01</td>\n",
       "      <td>B</td>\n",
       "      <td>17</td>\n",
       "    </tr>\n",
       "    <tr>\n",
       "      <th>2</th>\n",
       "      <td>2019-08-02</td>\n",
       "      <td>A</td>\n",
       "      <td>19</td>\n",
       "    </tr>\n",
       "    <tr>\n",
       "      <th>3</th>\n",
       "      <td>2019-08-02</td>\n",
       "      <td>B</td>\n",
       "      <td>23</td>\n",
       "    </tr>\n",
       "    <tr>\n",
       "      <th>4</th>\n",
       "      <td>2019-08-03</td>\n",
       "      <td>A</td>\n",
       "      <td>24</td>\n",
       "    </tr>\n",
       "    <tr>\n",
       "      <th>...</th>\n",
       "      <td>...</td>\n",
       "      <td>...</td>\n",
       "      <td>...</td>\n",
       "    </tr>\n",
       "    <tr>\n",
       "      <th>57</th>\n",
       "      <td>2019-08-29</td>\n",
       "      <td>B</td>\n",
       "      <td>15</td>\n",
       "    </tr>\n",
       "    <tr>\n",
       "      <th>58</th>\n",
       "      <td>2019-08-30</td>\n",
       "      <td>A</td>\n",
       "      <td>9</td>\n",
       "    </tr>\n",
       "    <tr>\n",
       "      <th>59</th>\n",
       "      <td>2019-08-30</td>\n",
       "      <td>B</td>\n",
       "      <td>21</td>\n",
       "    </tr>\n",
       "    <tr>\n",
       "      <th>60</th>\n",
       "      <td>2019-08-31</td>\n",
       "      <td>A</td>\n",
       "      <td>8</td>\n",
       "    </tr>\n",
       "    <tr>\n",
       "      <th>61</th>\n",
       "      <td>2019-08-31</td>\n",
       "      <td>B</td>\n",
       "      <td>17</td>\n",
       "    </tr>\n",
       "  </tbody>\n",
       "</table>\n",
       "<p>62 rows × 3 columns</p>\n",
       "</div>"
      ],
      "text/plain": [
       "         date group  orders\n",
       "0  2019-08-01     A      23\n",
       "1  2019-08-01     B      17\n",
       "2  2019-08-02     A      19\n",
       "3  2019-08-02     B      23\n",
       "4  2019-08-03     A      24\n",
       "..        ...   ...     ...\n",
       "57 2019-08-29     B      15\n",
       "58 2019-08-30     A       9\n",
       "59 2019-08-30     B      21\n",
       "60 2019-08-31     A       8\n",
       "61 2019-08-31     B      17\n",
       "\n",
       "[62 rows x 3 columns]"
      ]
     },
     "execution_count": 29,
     "metadata": {},
     "output_type": "execute_result"
    }
   ],
   "source": [
    "#calculating number of orders per day for each group\n",
    "daily_orders = orders_clean.groupby(['date', 'group']).agg({'transactionId': 'count'}).rename(columns={'transactionId': 'orders'}).reset_index()\n",
    "daily_orders"
   ]
  },
  {
   "cell_type": "code",
   "execution_count": 30,
   "metadata": {},
   "outputs": [
    {
     "data": {
      "text/html": [
       "<div>\n",
       "<style scoped>\n",
       "    .dataframe tbody tr th:only-of-type {\n",
       "        vertical-align: middle;\n",
       "    }\n",
       "\n",
       "    .dataframe tbody tr th {\n",
       "        vertical-align: top;\n",
       "    }\n",
       "\n",
       "    .dataframe thead th {\n",
       "        text-align: right;\n",
       "    }\n",
       "</style>\n",
       "<table border=\"1\" class=\"dataframe\">\n",
       "  <thead>\n",
       "    <tr style=\"text-align: right;\">\n",
       "      <th></th>\n",
       "      <th>date</th>\n",
       "      <th>group</th>\n",
       "      <th>orders</th>\n",
       "      <th>visits</th>\n",
       "      <th>conversion_rate</th>\n",
       "    </tr>\n",
       "  </thead>\n",
       "  <tbody>\n",
       "    <tr>\n",
       "      <th>0</th>\n",
       "      <td>2019-08-01</td>\n",
       "      <td>A</td>\n",
       "      <td>23</td>\n",
       "      <td>719</td>\n",
       "      <td>0.031989</td>\n",
       "    </tr>\n",
       "    <tr>\n",
       "      <th>1</th>\n",
       "      <td>2019-08-01</td>\n",
       "      <td>B</td>\n",
       "      <td>17</td>\n",
       "      <td>713</td>\n",
       "      <td>0.023843</td>\n",
       "    </tr>\n",
       "    <tr>\n",
       "      <th>2</th>\n",
       "      <td>2019-08-02</td>\n",
       "      <td>A</td>\n",
       "      <td>19</td>\n",
       "      <td>619</td>\n",
       "      <td>0.030695</td>\n",
       "    </tr>\n",
       "    <tr>\n",
       "      <th>3</th>\n",
       "      <td>2019-08-02</td>\n",
       "      <td>B</td>\n",
       "      <td>23</td>\n",
       "      <td>581</td>\n",
       "      <td>0.039587</td>\n",
       "    </tr>\n",
       "    <tr>\n",
       "      <th>4</th>\n",
       "      <td>2019-08-03</td>\n",
       "      <td>A</td>\n",
       "      <td>24</td>\n",
       "      <td>507</td>\n",
       "      <td>0.047337</td>\n",
       "    </tr>\n",
       "    <tr>\n",
       "      <th>...</th>\n",
       "      <td>...</td>\n",
       "      <td>...</td>\n",
       "      <td>...</td>\n",
       "      <td>...</td>\n",
       "      <td>...</td>\n",
       "    </tr>\n",
       "    <tr>\n",
       "      <th>57</th>\n",
       "      <td>2019-08-29</td>\n",
       "      <td>B</td>\n",
       "      <td>15</td>\n",
       "      <td>531</td>\n",
       "      <td>0.028249</td>\n",
       "    </tr>\n",
       "    <tr>\n",
       "      <th>58</th>\n",
       "      <td>2019-08-30</td>\n",
       "      <td>A</td>\n",
       "      <td>9</td>\n",
       "      <td>490</td>\n",
       "      <td>0.018367</td>\n",
       "    </tr>\n",
       "    <tr>\n",
       "      <th>59</th>\n",
       "      <td>2019-08-30</td>\n",
       "      <td>B</td>\n",
       "      <td>21</td>\n",
       "      <td>490</td>\n",
       "      <td>0.042857</td>\n",
       "    </tr>\n",
       "    <tr>\n",
       "      <th>60</th>\n",
       "      <td>2019-08-31</td>\n",
       "      <td>A</td>\n",
       "      <td>8</td>\n",
       "      <td>699</td>\n",
       "      <td>0.011445</td>\n",
       "    </tr>\n",
       "    <tr>\n",
       "      <th>61</th>\n",
       "      <td>2019-08-31</td>\n",
       "      <td>B</td>\n",
       "      <td>17</td>\n",
       "      <td>718</td>\n",
       "      <td>0.023677</td>\n",
       "    </tr>\n",
       "  </tbody>\n",
       "</table>\n",
       "<p>62 rows × 5 columns</p>\n",
       "</div>"
      ],
      "text/plain": [
       "         date group  orders  visits  conversion_rate\n",
       "0  2019-08-01     A      23     719         0.031989\n",
       "1  2019-08-01     B      17     713         0.023843\n",
       "2  2019-08-02     A      19     619         0.030695\n",
       "3  2019-08-02     B      23     581         0.039587\n",
       "4  2019-08-03     A      24     507         0.047337\n",
       "..        ...   ...     ...     ...              ...\n",
       "57 2019-08-29     B      15     531         0.028249\n",
       "58 2019-08-30     A       9     490         0.018367\n",
       "59 2019-08-30     B      21     490         0.042857\n",
       "60 2019-08-31     A       8     699         0.011445\n",
       "61 2019-08-31     B      17     718         0.023677\n",
       "\n",
       "[62 rows x 5 columns]"
      ]
     },
     "execution_count": 30,
     "metadata": {},
     "output_type": "execute_result"
    }
   ],
   "source": [
    "#merging the daily orders data with the visits data\n",
    "daily_data = pd.merge(daily_orders, visits, on=['date', 'group'])\n",
    "#calculating the daily conversion rate\n",
    "daily_data['conversion_rate'] = daily_data['orders'] / daily_data['visits']\n",
    "daily_data"
   ]
  },
  {
   "cell_type": "code",
   "execution_count": 31,
   "metadata": {},
   "outputs": [],
   "source": [
    "#determining the minimum and maximum dates\n",
    "min_date = daily_data['date'].min()\n",
    "max_date = daily_data['date'].max()\n",
    "\n",
    "#determining the minimum and maximum conversion rates\n",
    "min_conversion_rate = daily_data['conversion_rate'].min()\n",
    "max_conversion_rate = daily_data['conversion_rate'].max()"
   ]
  },
  {
   "cell_type": "code",
   "execution_count": 32,
   "metadata": {},
   "outputs": [
    {
     "data": {
      "image/png": "[encoded data removed]",
      "text/plain": [
       "<Figure size 1200x600 with 1 Axes>"
      ]
     },
     "metadata": {},
     "output_type": "display_data"
    }
   ],
   "source": [
    "# Plot the daily conversion rates by group\n",
    "plt.figure(figsize=(12, 6))\n",
    "for group in daily_data['group'].unique():\n",
    "    plt.plot(daily_data[daily_data['group'] == group]['date'], \n",
    "             daily_data[daily_data['group'] == group]['conversion_rate'], label=f'Group {group}')\n",
    "\n",
    "plt.title('Daily Conversion Rate by Group')\n",
    "plt.xlabel('Date')\n",
    "plt.axis([min_date, max_date, 0, max_conversion_rate])\n",
    "plt.xticks(rotation=45)\n",
    "plt.ylabel('Conversion Rate')\n",
    "plt.legend()\n",
    "\n",
    "plt.show()"
   ]
  },
  {
   "cell_type": "markdown",
   "metadata": {},
   "source": [
    "The conversion rates for both groups show significant fluctuations throughout the testing period. Group A's conversion rate varies between 1% and 5%, whereas Group B's conversion rate ranges from 1% to 6%. These changes indicate considerable variability in how effectively each group converted visits into orders. Further analysis is required to determine the factors driving these fluctuations and to understand their impact on overall performance."
   ]
  },
  {
   "cell_type": "code",
   "execution_count": 33,
   "metadata": {},
   "outputs": [
    {
     "data": {
      "text/html": [
       "<div>\n",
       "<style scoped>\n",
       "    .dataframe tbody tr th:only-of-type {\n",
       "        vertical-align: middle;\n",
       "    }\n",
       "\n",
       "    .dataframe tbody tr th {\n",
       "        vertical-align: top;\n",
       "    }\n",
       "\n",
       "    .dataframe thead th {\n",
       "        text-align: right;\n",
       "    }\n",
       "</style>\n",
       "<table border=\"1\" class=\"dataframe\">\n",
       "  <thead>\n",
       "    <tr style=\"text-align: right;\">\n",
       "      <th></th>\n",
       "      <th>date</th>\n",
       "      <th>group</th>\n",
       "      <th>orders</th>\n",
       "      <th>visits</th>\n",
       "      <th>conversion_rate</th>\n",
       "      <th>cumulative_orders</th>\n",
       "      <th>cumulative_visits</th>\n",
       "      <th>cumulative_conversion_rate</th>\n",
       "    </tr>\n",
       "  </thead>\n",
       "  <tbody>\n",
       "    <tr>\n",
       "      <th>0</th>\n",
       "      <td>2019-08-01</td>\n",
       "      <td>A</td>\n",
       "      <td>23</td>\n",
       "      <td>719</td>\n",
       "      <td>0.031989</td>\n",
       "      <td>23</td>\n",
       "      <td>719</td>\n",
       "      <td>0.031989</td>\n",
       "    </tr>\n",
       "    <tr>\n",
       "      <th>1</th>\n",
       "      <td>2019-08-01</td>\n",
       "      <td>B</td>\n",
       "      <td>17</td>\n",
       "      <td>713</td>\n",
       "      <td>0.023843</td>\n",
       "      <td>17</td>\n",
       "      <td>713</td>\n",
       "      <td>0.023843</td>\n",
       "    </tr>\n",
       "    <tr>\n",
       "      <th>2</th>\n",
       "      <td>2019-08-02</td>\n",
       "      <td>A</td>\n",
       "      <td>19</td>\n",
       "      <td>619</td>\n",
       "      <td>0.030695</td>\n",
       "      <td>42</td>\n",
       "      <td>1338</td>\n",
       "      <td>0.031390</td>\n",
       "    </tr>\n",
       "    <tr>\n",
       "      <th>3</th>\n",
       "      <td>2019-08-02</td>\n",
       "      <td>B</td>\n",
       "      <td>23</td>\n",
       "      <td>581</td>\n",
       "      <td>0.039587</td>\n",
       "      <td>40</td>\n",
       "      <td>1294</td>\n",
       "      <td>0.030912</td>\n",
       "    </tr>\n",
       "    <tr>\n",
       "      <th>4</th>\n",
       "      <td>2019-08-03</td>\n",
       "      <td>A</td>\n",
       "      <td>24</td>\n",
       "      <td>507</td>\n",
       "      <td>0.047337</td>\n",
       "      <td>66</td>\n",
       "      <td>1845</td>\n",
       "      <td>0.035772</td>\n",
       "    </tr>\n",
       "    <tr>\n",
       "      <th>...</th>\n",
       "      <td>...</td>\n",
       "      <td>...</td>\n",
       "      <td>...</td>\n",
       "      <td>...</td>\n",
       "      <td>...</td>\n",
       "      <td>...</td>\n",
       "      <td>...</td>\n",
       "      <td>...</td>\n",
       "    </tr>\n",
       "    <tr>\n",
       "      <th>57</th>\n",
       "      <td>2019-08-29</td>\n",
       "      <td>B</td>\n",
       "      <td>15</td>\n",
       "      <td>531</td>\n",
       "      <td>0.028249</td>\n",
       "      <td>510</td>\n",
       "      <td>17708</td>\n",
       "      <td>0.028801</td>\n",
       "    </tr>\n",
       "    <tr>\n",
       "      <th>58</th>\n",
       "      <td>2019-08-30</td>\n",
       "      <td>A</td>\n",
       "      <td>9</td>\n",
       "      <td>490</td>\n",
       "      <td>0.018367</td>\n",
       "      <td>460</td>\n",
       "      <td>18037</td>\n",
       "      <td>0.025503</td>\n",
       "    </tr>\n",
       "    <tr>\n",
       "      <th>59</th>\n",
       "      <td>2019-08-30</td>\n",
       "      <td>B</td>\n",
       "      <td>21</td>\n",
       "      <td>490</td>\n",
       "      <td>0.042857</td>\n",
       "      <td>531</td>\n",
       "      <td>18198</td>\n",
       "      <td>0.029179</td>\n",
       "    </tr>\n",
       "    <tr>\n",
       "      <th>60</th>\n",
       "      <td>2019-08-31</td>\n",
       "      <td>A</td>\n",
       "      <td>8</td>\n",
       "      <td>699</td>\n",
       "      <td>0.011445</td>\n",
       "      <td>468</td>\n",
       "      <td>18736</td>\n",
       "      <td>0.024979</td>\n",
       "    </tr>\n",
       "    <tr>\n",
       "      <th>61</th>\n",
       "      <td>2019-08-31</td>\n",
       "      <td>B</td>\n",
       "      <td>17</td>\n",
       "      <td>718</td>\n",
       "      <td>0.023677</td>\n",
       "      <td>548</td>\n",
       "      <td>18916</td>\n",
       "      <td>0.028970</td>\n",
       "    </tr>\n",
       "  </tbody>\n",
       "</table>\n",
       "<p>62 rows × 8 columns</p>\n",
       "</div>"
      ],
      "text/plain": [
       "         date group  orders  visits  conversion_rate  cumulative_orders  \\\n",
       "0  2019-08-01     A      23     719         0.031989                 23   \n",
       "1  2019-08-01     B      17     713         0.023843                 17   \n",
       "2  2019-08-02     A      19     619         0.030695                 42   \n",
       "3  2019-08-02     B      23     581         0.039587                 40   \n",
       "4  2019-08-03     A      24     507         0.047337                 66   \n",
       "..        ...   ...     ...     ...              ...                ...   \n",
       "57 2019-08-29     B      15     531         0.028249                510   \n",
       "58 2019-08-30     A       9     490         0.018367                460   \n",
       "59 2019-08-30     B      21     490         0.042857                531   \n",
       "60 2019-08-31     A       8     699         0.011445                468   \n",
       "61 2019-08-31     B      17     718         0.023677                548   \n",
       "\n",
       "    cumulative_visits  cumulative_conversion_rate  \n",
       "0                 719                    0.031989  \n",
       "1                 713                    0.023843  \n",
       "2                1338                    0.031390  \n",
       "3                1294                    0.030912  \n",
       "4                1845                    0.035772  \n",
       "..                ...                         ...  \n",
       "57              17708                    0.028801  \n",
       "58              18037                    0.025503  \n",
       "59              18198                    0.029179  \n",
       "60              18736                    0.024979  \n",
       "61              18916                    0.028970  \n",
       "\n",
       "[62 rows x 8 columns]"
      ]
     },
     "execution_count": 33,
     "metadata": {},
     "output_type": "execute_result"
    }
   ],
   "source": [
    "# calculating the cumulative orders and visits for each group\n",
    "daily_data['cumulative_orders'] = daily_data.groupby('group')['orders'].cumsum()\n",
    "daily_data['cumulative_visits'] = daily_data.groupby('group')['visits'].cumsum()\n",
    "\n",
    "#calculating the cumulative conversion rate\n",
    "daily_data['cumulative_conversion_rate'] = daily_data['cumulative_orders'] / daily_data['cumulative_visits']\n",
    "daily_data"
   ]
  },
  {
   "cell_type": "code",
   "execution_count": 34,
   "metadata": {},
   "outputs": [
    {
     "data": {
      "image/png": "[encoded data removed]",
      "text/plain": [
       "<Figure size 1200x600 with 1 Axes>"
      ]
     },
     "metadata": {},
     "output_type": "display_data"
    }
   ],
   "source": [
    "#plotting the cumulative conversion rate by group\n",
    "plt.figure(figsize=(12, 6))\n",
    "for group in daily_data['group'].unique():\n",
    "    plt.plot(daily_data[daily_data['group'] == group]['date'], \n",
    "             daily_data[daily_data['group'] == group]['cumulative_conversion_rate'], label=f'Group {group}')\n",
    "\n",
    "plt.title('Cumulative Conversion Rate by Group')\n",
    "plt.xlabel('Date')\n",
    "plt.xticks(rotation=45)\n",
    "plt.ylabel('Cumulative Conversion Rate')\n",
    "plt.legend()\n",
    "plt.show()"
   ]
  },
  {
   "cell_type": "markdown",
   "metadata": {},
   "source": [
    "The second plot clearly shows that the cumulative conversion rate for Group B is consistently higher than for Group A, indicating greater success in converting visits to orders over the observed period. Both groups' rates stabilize after August 9th, suggesting the interventions or changes had settled by this date."
   ]
  },
  {
   "cell_type": "markdown",
   "metadata": {},
   "source": [
    "#### Plot a scatter chart of the number of orders per user. Make conclusions and conjectures."
   ]
  },
  {
   "cell_type": "code",
   "execution_count": 35,
   "metadata": {},
   "outputs": [],
   "source": [
    "#aggregating the number of orders per user\n",
    "orders_per_user = orders_clean.groupby('visitorId').agg({'transactionId': 'count'}).reset_index()\n",
    "orders_per_user.columns = ['visitorId', 'orders']"
   ]
  },
  {
   "cell_type": "code",
   "execution_count": 36,
   "metadata": {},
   "outputs": [
    {
     "data": {
      "text/html": [
       "<div>\n",
       "<style scoped>\n",
       "    .dataframe tbody tr th:only-of-type {\n",
       "        vertical-align: middle;\n",
       "    }\n",
       "\n",
       "    .dataframe tbody tr th {\n",
       "        vertical-align: top;\n",
       "    }\n",
       "\n",
       "    .dataframe thead th {\n",
       "        text-align: right;\n",
       "    }\n",
       "</style>\n",
       "<table border=\"1\" class=\"dataframe\">\n",
       "  <thead>\n",
       "    <tr style=\"text-align: right;\">\n",
       "      <th></th>\n",
       "      <th>visitorId</th>\n",
       "      <th>orders</th>\n",
       "    </tr>\n",
       "  </thead>\n",
       "  <tbody>\n",
       "    <tr>\n",
       "      <th>908</th>\n",
       "      <td>3967698036</td>\n",
       "      <td>3</td>\n",
       "    </tr>\n",
       "    <tr>\n",
       "      <th>55</th>\n",
       "      <td>249864742</td>\n",
       "      <td>3</td>\n",
       "    </tr>\n",
       "    <tr>\n",
       "      <th>478</th>\n",
       "      <td>2108163459</td>\n",
       "      <td>3</td>\n",
       "    </tr>\n",
       "    <tr>\n",
       "      <th>687</th>\n",
       "      <td>2988190573</td>\n",
       "      <td>3</td>\n",
       "    </tr>\n",
       "    <tr>\n",
       "      <th>890</th>\n",
       "      <td>3908431265</td>\n",
       "      <td>3</td>\n",
       "    </tr>\n",
       "    <tr>\n",
       "      <th>138</th>\n",
       "      <td>611059232</td>\n",
       "      <td>3</td>\n",
       "    </tr>\n",
       "    <tr>\n",
       "      <th>632</th>\n",
       "      <td>2742574263</td>\n",
       "      <td>3</td>\n",
       "    </tr>\n",
       "    <tr>\n",
       "      <th>157</th>\n",
       "      <td>678354126</td>\n",
       "      <td>2</td>\n",
       "    </tr>\n",
       "    <tr>\n",
       "      <th>323</th>\n",
       "      <td>1404560065</td>\n",
       "      <td>2</td>\n",
       "    </tr>\n",
       "    <tr>\n",
       "      <th>452</th>\n",
       "      <td>1985475298</td>\n",
       "      <td>2</td>\n",
       "    </tr>\n",
       "  </tbody>\n",
       "</table>\n",
       "</div>"
      ],
      "text/plain": [
       "      visitorId  orders\n",
       "908  3967698036       3\n",
       "55    249864742       3\n",
       "478  2108163459       3\n",
       "687  2988190573       3\n",
       "890  3908431265       3\n",
       "138   611059232       3\n",
       "632  2742574263       3\n",
       "157   678354126       2\n",
       "323  1404560065       2\n",
       "452  1985475298       2"
      ]
     },
     "execution_count": 36,
     "metadata": {},
     "output_type": "execute_result"
    }
   ],
   "source": [
    "#sorting the DataFrame by the number of orders in descending order to see the general picture\n",
    "orders_per_user.sort_values(by='orders', ascending=False).head(10)"
   ]
  },
  {
   "cell_type": "markdown",
   "metadata": {},
   "source": [
    "As we can see, there are only 7 visitors in the entire dataset who have made 3 orders. This behavior is significantly different from the majority of users, who typically place only one or two orders. Therefore, we can consider these users as outliers."
   ]
  },
  {
   "cell_type": "code",
   "execution_count": 37,
   "metadata": {},
   "outputs": [
    {
     "data": {
      "image/png": "[encoded data removed]",
      "text/plain": [
       "<Figure size 1000x600 with 1 Axes>"
      ]
     },
     "metadata": {},
     "output_type": "display_data"
    }
   ],
   "source": [
    "x_values = pd.Series(range(0,len(orders_per_user)))\n",
    "\n",
    "# plotting the scatter chart\n",
    "plt.figure(figsize=(10, 6))\n",
    "plt.scatter(x_values, orders_per_user['orders'], alpha=0.5, color='b')\n",
    "plt.title('Number of Orders per User')\n",
    "plt.xlabel('User Index')\n",
    "plt.ylabel('Number of Orders')\n",
    "plt.show()"
   ]
  },
  {
   "cell_type": "markdown",
   "metadata": {},
   "source": [
    "As we can see that the majority of customers placed only 1 order. Also, this scatterplot confirms our previous conclusion that there are no significant outliers, indicating a stable distribution without extreme values. The few users who placed 3 orders can be considered anomalies, as they deviate from the typical ordering behavior."
   ]
  },
  {
   "cell_type": "markdown",
   "metadata": {},
   "source": [
    "#### Calculate the 95th and 99th percentiles for the number of orders per user. Define the point at which a data point becomes an anomaly."
   ]
  },
  {
   "cell_type": "code",
   "execution_count": 38,
   "metadata": {},
   "outputs": [
    {
     "name": "stdout",
     "output_type": "stream",
     "text": [
      "95th percentile for the number of orders per user: 1.0\n",
      "99th percentile for the number of orders per user: 2.0\n",
      "Any data point with orders per user greater than 2.0 is considered an anomaly.\n"
     ]
    }
   ],
   "source": [
    "#calculating the 95th and 99th percentiles for the number of orders per user\n",
    "percentile_95th = np.percentile(orders_per_user['orders'], 95)\n",
    "percentile_99th = np.percentile(orders_per_user['orders'], 99)\n",
    "\n",
    "#displaying the results\n",
    "print(f\"95th percentile for the number of orders per user: {percentile_95th}\")\n",
    "print(f\"99th percentile for the number of orders per user: {percentile_99th}\")\n",
    "\n",
    "#defining the point at which a data point becomes an anomaly\n",
    "anomaly = percentile_99th\n",
    "print(f\"Any data point with orders per user greater than {anomaly} is considered an anomaly.\")"
   ]
  },
  {
   "cell_type": "markdown",
   "metadata": {},
   "source": [
    " Most users (up to 95%) place 1 or fewer orders. This indicates that single-order users dominate the dataset. Nearly all users (up to 99%) place 2 or fewer orders. Users placing more than 2 orders are quite rare and can be considered significant outliers. These users might represent highly engaged or potentially problematic accounts."
   ]
  },
  {
   "cell_type": "markdown",
   "metadata": {},
   "source": [
    "#### Plot a scatter chart of order prices. Make conclusions and conjectures."
   ]
  },
  {
   "cell_type": "code",
   "execution_count": 39,
   "metadata": {},
   "outputs": [
    {
     "data": {
      "image/png": "[encoded data removed]",
      "text/plain": [
       "<Figure size 1000x600 with 1 Axes>"
      ]
     },
     "metadata": {},
     "output_type": "display_data"
    }
   ],
   "source": [
    "# Generate the x_values\n",
    "x_values = pd.Series(range(len(orders_clean['revenue'])))\n",
    "\n",
    "# Create the scatter plot\n",
    "plt.figure(figsize=(10, 6))\n",
    "plt.scatter(x_values, orders_clean['revenue'], alpha=0.5, color='b')\n",
    "plt.title('Scatter Plot of Order Prices')\n",
    "plt.xlabel('Order Index')\n",
    "plt.ylabel('Order Price')\n",
    "\n",
    "plt.show()"
   ]
  },
  {
   "cell_type": "code",
   "execution_count": 40,
   "metadata": {},
   "outputs": [
    {
     "data": {
      "image/png": "[encoded data removed]",
      "text/plain": [
       "<Figure size 1000x600 with 1 Axes>"
      ]
     },
     "metadata": {},
     "output_type": "display_data"
    }
   ],
   "source": [
    "#creating a scatter plot to closely examine the rest of the dataframe after excluding the obvious outlier.\n",
    "\n",
    "plt.figure(figsize=(10, 6))\n",
    "plt.scatter(x_values, orders_clean['revenue'], alpha=0.5, color='b')\n",
    "plt.title('Scatter Plot of Order Prices')\n",
    "plt.xlabel('Order Index')\n",
    "plt.ylabel('Order Price')\n",
    "plt.ylim(0, 3000)  \n",
    "\n",
    "plt.show()"
   ]
  },
  {
   "cell_type": "markdown",
   "metadata": {},
   "source": [
    "As we can see, the majority of orders fall within the range of 0 to 500. There are only 2 orders exceeding 2500, which can be considered anomalies due to their deviation from the typical ordering behavior. Now we can also understand what order caused the surge in group B in the previous analyzed metrics. "
   ]
  },
  {
   "cell_type": "code",
   "execution_count": 41,
   "metadata": {},
   "outputs": [
    {
     "data": {
      "text/html": [
       "<div>\n",
       "<style scoped>\n",
       "    .dataframe tbody tr th:only-of-type {\n",
       "        vertical-align: middle;\n",
       "    }\n",
       "\n",
       "    .dataframe tbody tr th {\n",
       "        vertical-align: top;\n",
       "    }\n",
       "\n",
       "    .dataframe thead th {\n",
       "        text-align: right;\n",
       "    }\n",
       "</style>\n",
       "<table border=\"1\" class=\"dataframe\">\n",
       "  <thead>\n",
       "    <tr style=\"text-align: right;\">\n",
       "      <th></th>\n",
       "      <th>transactionId</th>\n",
       "      <th>visitorId</th>\n",
       "      <th>date</th>\n",
       "      <th>revenue</th>\n",
       "      <th>group</th>\n",
       "    </tr>\n",
       "  </thead>\n",
       "  <tbody>\n",
       "    <tr>\n",
       "      <th>365</th>\n",
       "      <td>590470918</td>\n",
       "      <td>1920142716</td>\n",
       "      <td>2019-08-19</td>\n",
       "      <td>19920.4</td>\n",
       "      <td>B</td>\n",
       "    </tr>\n",
       "  </tbody>\n",
       "</table>\n",
       "</div>"
      ],
      "text/plain": [
       "     transactionId   visitorId       date  revenue group\n",
       "365      590470918  1920142716 2019-08-19  19920.4     B"
      ]
     },
     "execution_count": 41,
     "metadata": {},
     "output_type": "execute_result"
    }
   ],
   "source": [
    "#defining the order that caused the surge\n",
    "high_revenue_orders = orders_clean[orders_clean['revenue'] > 15000]\n",
    "high_revenue_orders"
   ]
  },
  {
   "cell_type": "markdown",
   "metadata": {},
   "source": [
    "This confirms our previous assessments."
   ]
  },
  {
   "cell_type": "markdown",
   "metadata": {},
   "source": [
    "#### Calculate the 95th and 99th percentiles of order prices. Define the point at which a data point becomes an anomaly."
   ]
  },
  {
   "cell_type": "code",
   "execution_count": 42,
   "metadata": {},
   "outputs": [
    {
     "name": "stdout",
     "output_type": "stream",
     "text": [
      "95th percentile for the number of orders per user: 414.275\n",
      "99th percentile for the number of orders per user: 830.3\n",
      "Any data point with orders per user greater than 830.3 is considered an anomaly.\n"
     ]
    }
   ],
   "source": [
    "#calculating the 95th and 99th percentiles for the order prices\n",
    "percentile_95th = np.percentile(orders_clean['revenue'], 95)\n",
    "percentile_99th = np.percentile(orders_clean['revenue'], 99)\n",
    "\n",
    "#displaying the results\n",
    "print(f\"95th percentile for the number of orders per user: {percentile_95th}\")\n",
    "print(f\"99th percentile for the number of orders per user: {percentile_99th}\")\n",
    "\n",
    "#defining the point at which a data point becomes an anomaly\n",
    "anomaly = percentile_99th\n",
    "print(f\"Any data point with orders per user greater than {anomaly} is considered an anomaly.\")"
   ]
  },
  {
   "cell_type": "markdown",
   "metadata": {},
   "source": [
    "Based on the analysis, we determined that the 95th percentile for the number of orders per user is 414.275, while the 99th percentile is 830.3. This implies that 95% of users placed 414 orders or fewer, and 99% placed 830 orders or fewer.\n",
    "\n",
    "With an anomaly threshold set at the 99th percentile (830.3 orders per user), any user exceeding this threshold is considered an anomaly. This threshold helps identify users who deviate significantly from the typical ordering behavior observed in the dataset."
   ]
  },
  {
   "cell_type": "markdown",
   "metadata": {},
   "source": [
    "#### Find the statistical significance of the difference in conversion between the groups using the raw data. Make conclusions and conjectures."
   ]
  },
  {
   "cell_type": "markdown",
   "metadata": {},
   "source": [
    "We'll create the variables ordersByUsersA and ordersByUsersB to store the columns ['userId', 'orders']. For users with at least one order, we'll indicate the number of orders made. "
   ]
  },
  {
   "cell_type": "code",
   "execution_count": 43,
   "metadata": {},
   "outputs": [
    {
     "data": {
      "text/html": [
       "<div>\n",
       "<style scoped>\n",
       "    .dataframe tbody tr th:only-of-type {\n",
       "        vertical-align: middle;\n",
       "    }\n",
       "\n",
       "    .dataframe tbody tr th {\n",
       "        vertical-align: top;\n",
       "    }\n",
       "\n",
       "    .dataframe thead th {\n",
       "        text-align: right;\n",
       "    }\n",
       "</style>\n",
       "<table border=\"1\" class=\"dataframe\">\n",
       "  <thead>\n",
       "    <tr style=\"text-align: right;\">\n",
       "      <th></th>\n",
       "      <th>transactionId</th>\n",
       "      <th>visitorId</th>\n",
       "      <th>date</th>\n",
       "      <th>revenue</th>\n",
       "      <th>group</th>\n",
       "    </tr>\n",
       "  </thead>\n",
       "  <tbody>\n",
       "    <tr>\n",
       "      <th>0</th>\n",
       "      <td>3667963787</td>\n",
       "      <td>3312258926</td>\n",
       "      <td>2019-08-15</td>\n",
       "      <td>30.4</td>\n",
       "      <td>B</td>\n",
       "    </tr>\n",
       "    <tr>\n",
       "      <th>1</th>\n",
       "      <td>2804400009</td>\n",
       "      <td>3642806036</td>\n",
       "      <td>2019-08-15</td>\n",
       "      <td>15.2</td>\n",
       "      <td>B</td>\n",
       "    </tr>\n",
       "    <tr>\n",
       "      <th>2</th>\n",
       "      <td>3797467345</td>\n",
       "      <td>1196621759</td>\n",
       "      <td>2019-08-15</td>\n",
       "      <td>155.1</td>\n",
       "      <td>B</td>\n",
       "    </tr>\n",
       "    <tr>\n",
       "      <th>3</th>\n",
       "      <td>2282983706</td>\n",
       "      <td>2322279887</td>\n",
       "      <td>2019-08-15</td>\n",
       "      <td>40.5</td>\n",
       "      <td>B</td>\n",
       "    </tr>\n",
       "    <tr>\n",
       "      <th>4</th>\n",
       "      <td>182168103</td>\n",
       "      <td>935554773</td>\n",
       "      <td>2019-08-15</td>\n",
       "      <td>35.0</td>\n",
       "      <td>B</td>\n",
       "    </tr>\n",
       "  </tbody>\n",
       "</table>\n",
       "</div>"
      ],
      "text/plain": [
       "   transactionId   visitorId       date  revenue group\n",
       "0     3667963787  3312258926 2019-08-15     30.4     B\n",
       "1     2804400009  3642806036 2019-08-15     15.2     B\n",
       "2     3797467345  1196621759 2019-08-15    155.1     B\n",
       "3     2282983706  2322279887 2019-08-15     40.5     B\n",
       "4      182168103   935554773 2019-08-15     35.0     B"
      ]
     },
     "execution_count": 43,
     "metadata": {},
     "output_type": "execute_result"
    }
   ],
   "source": [
    "#obtaing the the first rows from the df\n",
    "orders_clean.head()"
   ]
  },
  {
   "cell_type": "code",
   "execution_count": 44,
   "metadata": {},
   "outputs": [
    {
     "data": {
      "text/html": [
       "<div>\n",
       "<style scoped>\n",
       "    .dataframe tbody tr th:only-of-type {\n",
       "        vertical-align: middle;\n",
       "    }\n",
       "\n",
       "    .dataframe tbody tr th {\n",
       "        vertical-align: top;\n",
       "    }\n",
       "\n",
       "    .dataframe thead th {\n",
       "        text-align: right;\n",
       "    }\n",
       "</style>\n",
       "<table border=\"1\" class=\"dataframe\">\n",
       "  <thead>\n",
       "    <tr style=\"text-align: right;\">\n",
       "      <th></th>\n",
       "      <th>date</th>\n",
       "      <th>group</th>\n",
       "      <th>visits</th>\n",
       "    </tr>\n",
       "  </thead>\n",
       "  <tbody>\n",
       "    <tr>\n",
       "      <th>0</th>\n",
       "      <td>2019-08-01</td>\n",
       "      <td>A</td>\n",
       "      <td>719</td>\n",
       "    </tr>\n",
       "    <tr>\n",
       "      <th>1</th>\n",
       "      <td>2019-08-02</td>\n",
       "      <td>A</td>\n",
       "      <td>619</td>\n",
       "    </tr>\n",
       "    <tr>\n",
       "      <th>2</th>\n",
       "      <td>2019-08-03</td>\n",
       "      <td>A</td>\n",
       "      <td>507</td>\n",
       "    </tr>\n",
       "    <tr>\n",
       "      <th>3</th>\n",
       "      <td>2019-08-04</td>\n",
       "      <td>A</td>\n",
       "      <td>717</td>\n",
       "    </tr>\n",
       "    <tr>\n",
       "      <th>4</th>\n",
       "      <td>2019-08-05</td>\n",
       "      <td>A</td>\n",
       "      <td>756</td>\n",
       "    </tr>\n",
       "  </tbody>\n",
       "</table>\n",
       "</div>"
      ],
      "text/plain": [
       "        date group  visits\n",
       "0 2019-08-01     A     719\n",
       "1 2019-08-02     A     619\n",
       "2 2019-08-03     A     507\n",
       "3 2019-08-04     A     717\n",
       "4 2019-08-05     A     756"
      ]
     },
     "execution_count": 44,
     "metadata": {},
     "output_type": "execute_result"
    }
   ],
   "source": [
    "#obtaing the the first rows from the df\n",
    "visits.head()"
   ]
  },
  {
   "cell_type": "code",
   "execution_count": 45,
   "metadata": {},
   "outputs": [],
   "source": [
    "#creating the variable ordersByUsersA to store unique number of orders for each user\n",
    "ordersByUsersA = orders_clean[orders_clean['group']=='A'].groupby('visitorId', as_index=False).agg({'transactionId' : pd.Series.nunique})\n",
    "ordersByUsersA.columns = ['visitorId', 'orders']"
   ]
  },
  {
   "cell_type": "code",
   "execution_count": 46,
   "metadata": {},
   "outputs": [],
   "source": [
    "##creating the variable ordersByUsersB to store unique number of orders for each user\n",
    "ordersByUsersB = orders_clean[orders_clean['group']=='B'].groupby('visitorId', as_index=False).agg({'transactionId' : pd.Series.nunique})\n",
    "ordersByUsersB.columns = ['visitorId', 'orders']"
   ]
  },
  {
   "cell_type": "markdown",
   "metadata": {},
   "source": [
    "Now we'll declare the variables sampleA and sampleB, with users from different groups and corresponding numbers of orders. Those who didn't order anything will have 0. This is necessary to prepare the samples for the Mann-Whitney test. "
   ]
  },
  {
   "cell_type": "code",
   "execution_count": 47,
   "metadata": {},
   "outputs": [],
   "source": [
    "sampleA = pd.concat([ordersByUsersA['orders'],pd.Series(0, index=np.arange(visits[visits['group']=='A']['visits'].sum() - len(ordersByUsersA['orders'])), name='orders')],axis=0)\n",
    "\n",
    "sampleB = pd.concat([ordersByUsersB['orders'],pd.Series(0, index=np.arange(visits[visits['group']=='B']['visits'].sum() - len(ordersByUsersB['orders'])), name='orders')],axis=0)"
   ]
  },
  {
   "cell_type": "markdown",
   "metadata": {},
   "source": [
    "We will use the Mann-Whitney test,it assesses whether there is a significant difference between the distributions of two independent samples. The p-value tells us if the difference in the distributions is statistically significant(p-value typically 0.05).\n",
    "\n",
    "Second line prints the relative difference in the mean order rates between sampleB and sampleA."
   ]
  },
  {
   "cell_type": "code",
   "execution_count": 48,
   "metadata": {},
   "outputs": [
    {
     "name": "stdout",
     "output_type": "stream",
     "text": [
      "0.011\n",
      "0.160\n"
     ]
    }
   ],
   "source": [
    "print(\"{0:.3f}\".format(stats.mannwhitneyu(sampleA, sampleB)[1]))\n",
    "\n",
    "print(\"{0:.3f}\".format(sampleB.mean()/sampleA.mean()-1))"
   ]
  },
  {
   "cell_type": "markdown",
   "metadata": {},
   "source": [
    "\n",
    "- The p-value from the Mann-Whitney U test (0.011) indicates a statistically significant difference in the order behavior between the two groups.\n",
    "\n",
    "- The relative difference (0.160) suggests that group B's conversion rate is 16% higher than group A's.\n",
    "\n",
    "- These results imply that the changes or interventions applied to group B led to a significant and meaningful increase in the number of orders per visit compared to group A.\n"
   ]
  },
  {
   "cell_type": "markdown",
   "metadata": {},
   "source": [
    "#### Find the statistical significance of the difference in average order size between the groups using the raw data. Make conclusions and conjectures."
   ]
  },
  {
   "cell_type": "markdown",
   "metadata": {},
   "source": [
    "To calculate the statistical significance of the difference in the segments' average order size, we'll pass the data on revenue to the mannwhitneyu() criterion. "
   ]
  },
  {
   "cell_type": "code",
   "execution_count": 49,
   "metadata": {},
   "outputs": [
    {
     "name": "stdout",
     "output_type": "stream",
     "text": [
      "0.862\n",
      "0.278\n"
     ]
    }
   ],
   "source": [
    "print('{0:.3f}'.format(stats.mannwhitneyu(orders_clean[orders_clean['group']=='A']['revenue'], orders_clean[orders_clean['group']=='B']['revenue'])[1]))\n",
    "print('{0:.3f}'.format(orders_clean[orders_clean['group']=='B']['revenue'].mean()/orders_clean[orders_clean['group']=='A']['revenue'].mean()-1))"
   ]
  },
  {
   "cell_type": "markdown",
   "metadata": {},
   "source": [
    "- This p-value suggests that there is no statistically significant difference in revenue distributions between groups A and B. With a value greater than 0.05, we fail to reject the null hypothesis.\n",
    "\n",
    "- The relative difference (0.278) suggests that group B's average order size is 27.8% higher than group A's.\n",
    "\n",
    "- In summary, while there is a noticeable difference in mean revenue between the two groups, the statistical test does not provide enough evidence to conclude that this difference is significant."
   ]
  },
  {
   "cell_type": "markdown",
   "metadata": {},
   "source": [
    "#### Find the statistical significance of the difference in conversion between the groups using the filtered data. Make conclusions and conjectures."
   ]
  },
  {
   "cell_type": "markdown",
   "metadata": {},
   "source": [
    "Let's define anomalous users as those who place more than 2 orders or have at least one order greater than 830.3 dollars . We'll remove the top 1 percent of users with the highest number of orders and the top 1 percent of users with the most expensive orders. We'll create data slices for users who placed more than 2 orders (users_with_many_orders) and users who places orders exceeding 830.3 dollars (users_with_expensive_orders). These slices will be combined into a table called 'abnormal_users'."
   ]
  },
  {
   "cell_type": "code",
   "execution_count": 50,
   "metadata": {},
   "outputs": [
    {
     "name": "stdout",
     "output_type": "stream",
     "text": [
      "33      249864742\n",
      "58      611059232\n",
      "211    2108163459\n",
      "347    2742574263\n",
      "310    2988190573\n",
      "409    3908431265\n",
      "416    3967698036\n",
      "Name: visitorId, dtype: int64\n",
      "(7,)\n"
     ]
    }
   ],
   "source": [
    "users_with_many_orders = pd.concat([ordersByUsersA[ordersByUsersA['orders'] > 2]['visitorId'], ordersByUsersB[ordersByUsersB['orders'] > 2]['visitorId']], axis = 0)\n",
    "users_with_expensive_orders = orders_clean[orders_clean['revenue'] > 20000]['visitorId']\n",
    "abnormalUsers = pd.concat([users_with_many_orders, users_with_expensive_orders], axis = 0).drop_duplicates().sort_values()\n",
    "print(abnormalUsers.head(10))\n",
    "print(abnormalUsers.shape)"
   ]
  },
  {
   "cell_type": "markdown",
   "metadata": {},
   "source": [
    "We have 7 anamalous visitors in total."
   ]
  },
  {
   "cell_type": "code",
   "execution_count": 51,
   "metadata": {},
   "outputs": [],
   "source": [
    "#preparing samples of the number of orders per user for each test group:\n",
    "\n",
    "sampleAFiltered = pd.concat([ordersByUsersA[np.logical_not(ordersByUsersA['visitorId'].isin(abnormalUsers))]['orders'],pd.Series(0, index=np.arange(visits[visits['group']=='A']['visits'].sum() - len(ordersByUsersA['orders'])),name='orders')],axis=0)\n",
    "\n",
    "sampleBFiltered = pd.concat([ordersByUsersB[np.logical_not(ordersByUsersB['visitorId'].isin(abnormalUsers))]['orders'],pd.Series(0, index=np.arange(visits[visits['group']=='B']['visits'].sum() - len(ordersByUsersB['orders'])),name='orders')],axis=0)"
   ]
  },
  {
   "cell_type": "code",
   "execution_count": 52,
   "metadata": {},
   "outputs": [
    {
     "name": "stdout",
     "output_type": "stream",
     "text": [
      "0.008\n",
      "0.185\n"
     ]
    }
   ],
   "source": [
    "#applying the statistical Mann-Whitney criterion to the resulting samples\n",
    "\n",
    "print(\"{0:.3f}\".format(stats.mannwhitneyu(sampleAFiltered, sampleBFiltered)[1]))\n",
    "print(\"{0:.3f}\".format(sampleBFiltered.mean()/sampleAFiltered.mean()-1))"
   ]
  },
  {
   "cell_type": "markdown",
   "metadata": {},
   "source": [
    "The anomalies or outliers identified and removed during the filtering process didn't significantly influence the overall pattern of conversion rates between the groups. The difference in conversion rates between the groups is statistically significant both with the raw data and the filtered data, with slightly stronger significance observed in the filtered data. "
   ]
  },
  {
   "cell_type": "markdown",
   "metadata": {},
   "source": [
    "#### Find the statistical significance of the difference in average order size between the groups using the filtered data. Make conclusions and conjectures."
   ]
  },
  {
   "cell_type": "code",
   "execution_count": 53,
   "metadata": {},
   "outputs": [
    {
     "name": "stdout",
     "output_type": "stream",
     "text": [
      "0.749\n",
      "0.279\n"
     ]
    }
   ],
   "source": [
    "#applying the statistical Mann-Whitney criterion to the filtered data to calculate the significant difference in order size between the groups\n",
    "print('{0:.3f}'.format(stats.mannwhitneyu(\n",
    "    orders_clean[np.logical_and(\n",
    "        orders_clean['group']=='A',\n",
    "        np.logical_not(orders_clean['visitorId'].isin(abnormalUsers)))]['revenue'],\n",
    "    orders_clean[np.logical_and(\n",
    "        orders_clean['group']=='B',\n",
    "        np.logical_not(orders_clean['visitorId'].isin(abnormalUsers)))]['revenue'])[1]))\n",
    "\n",
    "print('{0:.3f}'.format(\n",
    "    orders_clean[np.logical_and(orders_clean['group']=='B',np.logical_not(orders_clean['visitorId'].isin(abnormalUsers)))]['revenue'].mean()/\n",
    "    orders_clean[np.logical_and(\n",
    "        orders_clean['group']=='A',\n",
    "        np.logical_not(orders_clean['visitorId'].isin(abnormalUsers)))]['revenue'].mean() - 1))"
   ]
  },
  {
   "cell_type": "markdown",
   "metadata": {},
   "source": [
    "- The p-value is 0.749, indicating that there is still no statistically significant difference in average order size between group A and group B after filtering anomalies.\n",
    "- The relative difference remains at 27.9%.\n",
    "- These results suggest that even after removing anomalies, there is no significant difference in average order size between the two groups."
   ]
  },
  {
   "cell_type": "markdown",
   "metadata": {},
   "source": [
    "#### Make a decision based on the test results. The possible decisions are: 1. Stop the test, consider one of the groups the leader. 2. Stop the test, conclude that there is no difference between the groups. 3. Continue the test.\n"
   ]
  },
  {
   "cell_type": "markdown",
   "metadata": {},
   "source": [
    "**Order size analysis:**\n",
    "\n",
    "- There is no statistically significant difference in order size between Group A and Group B.\n",
    "- Even after filtering anomalies, the difference in average order size between the two groups remains insignificant.\n",
    "- This suggests that any observed differences in revenue between the groups are likely due to random variation rather than the impact of the experimental changes.\n",
    "\n",
    "**Conversion Analysis:**\n",
    "\n",
    "- Group B's conversion rate is significantly higher than Group A's, even after filtering anomalies.\n",
    "- This shows that the changes made to Group B have effectively increased the number of orders per visit compared to Group A.\n",
    "\n",
    "**Decision:**\n",
    "\n",
    "- Based on the findings, it is recommended to stop the test and conclude that there is no significant difference between the groups in terms of average order size. However, the test should continue to monitor and analyze the conversion rate, as there is a significant difference between the groups in this aspect.\n"
   ]
  },
  {
   "cell_type": "markdown",
   "metadata": {},
   "source": [
    "## Conclusion <a id='end'></a>"
   ]
  },
  {
   "cell_type": "markdown",
   "metadata": {},
   "source": [
    "Based on our analysis, here are our conclusions:\n",
    "\n",
    "**Hypotheses Prioritization:**\n",
    "\n",
    "- The ninth hypothesis initially appears to be the most promising based on its ICE score. However, after calculating the RICE score, its ranking drops to fifth place. This decrease is primarily due to its low 'Reach' parameter, which is rated at 1/10, indicating it won't impact a significant number of users.\n",
    "- Conversely, the fifth hypothesis consistently ranks last in both ICE and RICE scores, indicating it's not worth pursuing further.\n",
    "\n",
    "\n",
    "\n",
    "**A/B Test Results:**\n",
    "\n",
    "Order size analysis:\n",
    "\n",
    "- There is no statistically significant difference in order size between Group A and Group B.\n",
    "- Even after filtering anomalies, the difference in average order size between the two groups remains insignificant.\n",
    "- This suggests that any observed differences in revenue between the groups are likely due to random variation rather than the impact of the experimental changes.\n",
    "\n",
    "Conversion Analysis:\n",
    "\n",
    "- Group B's conversion rate is significantly higher than Group A's, even after filtering anomalies.\n",
    "- This shows that the changes made to Group B have effectively increased the number of orders per visit compared to Group A.\n",
    "\n",
    "**Decision:**\n",
    "\n",
    "Based on the findings, it is recommended to stop the test and conclude that there is no significant difference between the groups in terms of average order size. However, the test should continue to monitor and analyze the conversion rate, as there is a significant difference between the groups in this aspect.\n"
   ]
  }
 ],
 "metadata": {
  "ExecuteTimeLog": [
   {
    "duration": 316,
    "start_time": "2024-06-01T13:31:55.531Z"
   },
   {
    "duration": 524,
    "start_time": "2024-06-01T13:32:25.046Z"
   },
   {
    "duration": 3,
    "start_time": "2024-06-01T13:32:49.058Z"
   },
   {
    "duration": 458,
    "start_time": "2024-06-01T13:32:56.018Z"
   },
   {
    "duration": 28,
    "start_time": "2024-06-01T13:32:56.479Z"
   },
   {
    "duration": 14,
    "start_time": "2024-06-01T13:33:34.818Z"
   },
   {
    "duration": 8,
    "start_time": "2024-06-01T13:33:42.193Z"
   },
   {
    "duration": 17,
    "start_time": "2024-06-01T13:34:18.053Z"
   },
   {
    "duration": 13,
    "start_time": "2024-06-01T13:34:19.124Z"
   },
   {
    "duration": 463,
    "start_time": "2024-06-01T13:35:14.317Z"
   },
   {
    "duration": 18,
    "start_time": "2024-06-01T13:35:14.785Z"
   },
   {
    "duration": 31,
    "start_time": "2024-06-01T13:35:14.806Z"
   },
   {
    "duration": 13,
    "start_time": "2024-06-01T13:35:49.718Z"
   },
   {
    "duration": 13,
    "start_time": "2024-06-01T13:36:19.169Z"
   },
   {
    "duration": 13,
    "start_time": "2024-06-01T13:37:15.836Z"
   },
   {
    "duration": 15,
    "start_time": "2024-06-01T13:37:31.134Z"
   },
   {
    "duration": 13,
    "start_time": "2024-06-01T13:38:14.240Z"
   },
   {
    "duration": 450,
    "start_time": "2024-06-01T13:39:33.339Z"
   },
   {
    "duration": 18,
    "start_time": "2024-06-01T13:39:33.792Z"
   },
   {
    "duration": 29,
    "start_time": "2024-06-01T13:39:33.813Z"
   },
   {
    "duration": 16,
    "start_time": "2024-06-01T13:39:33.846Z"
   },
   {
    "duration": 14,
    "start_time": "2024-06-01T13:39:33.864Z"
   },
   {
    "duration": 56,
    "start_time": "2024-06-01T13:39:33.881Z"
   },
   {
    "duration": 11,
    "start_time": "2024-06-01T13:39:33.941Z"
   },
   {
    "duration": 16,
    "start_time": "2024-06-01T13:39:33.955Z"
   },
   {
    "duration": 15,
    "start_time": "2024-06-01T13:46:16.404Z"
   },
   {
    "duration": 18,
    "start_time": "2024-06-01T13:46:50.393Z"
   },
   {
    "duration": 11,
    "start_time": "2024-06-01T13:47:11.449Z"
   },
   {
    "duration": 445,
    "start_time": "2024-06-01T13:51:19.810Z"
   },
   {
    "duration": 21,
    "start_time": "2024-06-01T13:51:20.260Z"
   },
   {
    "duration": 17,
    "start_time": "2024-06-01T13:51:20.283Z"
   },
   {
    "duration": 37,
    "start_time": "2024-06-01T13:51:20.303Z"
   },
   {
    "duration": 13,
    "start_time": "2024-06-01T13:51:20.344Z"
   },
   {
    "duration": 15,
    "start_time": "2024-06-01T13:51:20.360Z"
   },
   {
    "duration": 11,
    "start_time": "2024-06-01T13:51:20.378Z"
   },
   {
    "duration": 13,
    "start_time": "2024-06-01T13:51:20.434Z"
   },
   {
    "duration": 12,
    "start_time": "2024-06-01T13:51:25.084Z"
   },
   {
    "duration": 17,
    "start_time": "2024-06-01T14:33:18.474Z"
   },
   {
    "duration": 5,
    "start_time": "2024-06-01T14:37:34.989Z"
   },
   {
    "duration": 15,
    "start_time": "2024-06-01T14:38:36.059Z"
   },
   {
    "duration": 8,
    "start_time": "2024-06-01T14:40:16.017Z"
   },
   {
    "duration": 9,
    "start_time": "2024-06-01T14:40:50.950Z"
   },
   {
    "duration": 4,
    "start_time": "2024-06-01T14:41:34.662Z"
   },
   {
    "duration": 4,
    "start_time": "2024-06-01T14:41:43.134Z"
   },
   {
    "duration": 20,
    "start_time": "2024-06-01T14:42:28.297Z"
   },
   {
    "duration": 25,
    "start_time": "2024-06-01T14:42:52.586Z"
   },
   {
    "duration": 19,
    "start_time": "2024-06-01T14:43:59.367Z"
   },
   {
    "duration": 479,
    "start_time": "2024-06-01T14:44:07.433Z"
   },
   {
    "duration": 29,
    "start_time": "2024-06-01T14:44:07.923Z"
   },
   {
    "duration": 25,
    "start_time": "2024-06-01T14:44:07.958Z"
   },
   {
    "duration": 21,
    "start_time": "2024-06-01T14:44:07.988Z"
   },
   {
    "duration": 27,
    "start_time": "2024-06-01T14:44:08.015Z"
   },
   {
    "duration": 16,
    "start_time": "2024-06-01T14:44:08.046Z"
   },
   {
    "duration": 12,
    "start_time": "2024-06-01T14:44:08.066Z"
   },
   {
    "duration": 51,
    "start_time": "2024-06-01T14:44:08.081Z"
   },
   {
    "duration": 18,
    "start_time": "2024-06-01T14:44:08.138Z"
   },
   {
    "duration": 12,
    "start_time": "2024-06-01T14:44:08.162Z"
   },
   {
    "duration": 5,
    "start_time": "2024-06-01T14:44:08.177Z"
   },
   {
    "duration": 58,
    "start_time": "2024-06-01T14:44:08.186Z"
   },
   {
    "duration": 27,
    "start_time": "2024-06-01T14:49:35.715Z"
   },
   {
    "duration": 19,
    "start_time": "2024-06-01T14:49:59.209Z"
   },
   {
    "duration": 27,
    "start_time": "2024-06-01T14:52:11.667Z"
   },
   {
    "duration": 498,
    "start_time": "2024-06-01T14:54:25.205Z"
   },
   {
    "duration": 32,
    "start_time": "2024-06-01T14:54:25.719Z"
   },
   {
    "duration": 23,
    "start_time": "2024-06-01T14:54:25.754Z"
   },
   {
    "duration": 16,
    "start_time": "2024-06-01T14:54:25.781Z"
   },
   {
    "duration": 14,
    "start_time": "2024-06-01T14:54:25.803Z"
   },
   {
    "duration": 25,
    "start_time": "2024-06-01T14:54:25.821Z"
   },
   {
    "duration": 12,
    "start_time": "2024-06-01T14:54:25.850Z"
   },
   {
    "duration": 19,
    "start_time": "2024-06-01T14:54:25.866Z"
   },
   {
    "duration": 18,
    "start_time": "2024-06-01T14:54:25.888Z"
   },
   {
    "duration": 18,
    "start_time": "2024-06-01T14:54:25.943Z"
   },
   {
    "duration": 8,
    "start_time": "2024-06-01T14:54:25.968Z"
   },
   {
    "duration": 33,
    "start_time": "2024-06-01T14:54:25.981Z"
   },
   {
    "duration": 474,
    "start_time": "2024-06-01T14:54:58.783Z"
   },
   {
    "duration": 45,
    "start_time": "2024-06-01T14:54:59.261Z"
   },
   {
    "duration": 19,
    "start_time": "2024-06-01T14:54:59.309Z"
   },
   {
    "duration": 18,
    "start_time": "2024-06-01T14:54:59.332Z"
   },
   {
    "duration": 14,
    "start_time": "2024-06-01T14:54:59.353Z"
   },
   {
    "duration": 15,
    "start_time": "2024-06-01T14:54:59.370Z"
   },
   {
    "duration": 11,
    "start_time": "2024-06-01T14:54:59.391Z"
   },
   {
    "duration": 38,
    "start_time": "2024-06-01T14:54:59.404Z"
   },
   {
    "duration": 16,
    "start_time": "2024-06-01T14:54:59.445Z"
   },
   {
    "duration": 14,
    "start_time": "2024-06-01T14:54:59.465Z"
   },
   {
    "duration": 5,
    "start_time": "2024-06-01T14:54:59.482Z"
   },
   {
    "duration": 51,
    "start_time": "2024-06-01T14:54:59.492Z"
   },
   {
    "duration": 6,
    "start_time": "2024-06-01T15:10:27.721Z"
   },
   {
    "duration": 139,
    "start_time": "2024-06-01T15:10:44.590Z"
   },
   {
    "duration": 460,
    "start_time": "2024-06-01T15:11:01.204Z"
   },
   {
    "duration": 20,
    "start_time": "2024-06-01T15:11:01.668Z"
   },
   {
    "duration": 18,
    "start_time": "2024-06-01T15:11:01.691Z"
   },
   {
    "duration": 38,
    "start_time": "2024-06-01T15:11:01.712Z"
   },
   {
    "duration": 16,
    "start_time": "2024-06-01T15:11:01.757Z"
   },
   {
    "duration": 17,
    "start_time": "2024-06-01T15:11:01.777Z"
   },
   {
    "duration": 50,
    "start_time": "2024-06-01T15:11:01.797Z"
   },
   {
    "duration": 19,
    "start_time": "2024-06-01T15:11:01.850Z"
   },
   {
    "duration": 18,
    "start_time": "2024-06-01T15:11:01.872Z"
   },
   {
    "duration": 56,
    "start_time": "2024-06-01T15:11:01.893Z"
   },
   {
    "duration": 12,
    "start_time": "2024-06-01T15:11:01.952Z"
   },
   {
    "duration": 14,
    "start_time": "2024-06-01T15:11:01.967Z"
   },
   {
    "duration": 66,
    "start_time": "2024-06-01T15:11:01.984Z"
   },
   {
    "duration": 15,
    "start_time": "2024-06-01T15:11:40.738Z"
   },
   {
    "duration": 8,
    "start_time": "2024-06-01T15:12:37.323Z"
   },
   {
    "duration": 475,
    "start_time": "2024-06-01T15:12:45.622Z"
   },
   {
    "duration": 18,
    "start_time": "2024-06-01T15:12:46.101Z"
   },
   {
    "duration": 25,
    "start_time": "2024-06-01T15:12:46.122Z"
   },
   {
    "duration": 16,
    "start_time": "2024-06-01T15:12:46.150Z"
   },
   {
    "duration": 13,
    "start_time": "2024-06-01T15:12:46.169Z"
   },
   {
    "duration": 55,
    "start_time": "2024-06-01T15:12:46.186Z"
   },
   {
    "duration": 11,
    "start_time": "2024-06-01T15:12:46.245Z"
   },
   {
    "duration": 13,
    "start_time": "2024-06-01T15:12:46.259Z"
   },
   {
    "duration": 8,
    "start_time": "2024-06-01T15:12:46.275Z"
   },
   {
    "duration": 56,
    "start_time": "2024-06-01T15:12:46.288Z"
   },
   {
    "duration": 10,
    "start_time": "2024-06-01T15:12:46.347Z"
   },
   {
    "duration": 6,
    "start_time": "2024-06-01T15:12:46.359Z"
   },
   {
    "duration": 20,
    "start_time": "2024-06-01T15:12:46.368Z"
   },
   {
    "duration": 8,
    "start_time": "2024-06-01T15:13:22.473Z"
   },
   {
    "duration": 428,
    "start_time": "2024-06-01T15:13:29.476Z"
   },
   {
    "duration": 26,
    "start_time": "2024-06-01T15:13:29.908Z"
   },
   {
    "duration": 19,
    "start_time": "2024-06-01T15:13:29.937Z"
   },
   {
    "duration": 16,
    "start_time": "2024-06-01T15:13:29.958Z"
   },
   {
    "duration": 14,
    "start_time": "2024-06-01T15:13:29.979Z"
   },
   {
    "duration": 51,
    "start_time": "2024-06-01T15:13:29.996Z"
   },
   {
    "duration": 11,
    "start_time": "2024-06-01T15:13:30.051Z"
   },
   {
    "duration": 15,
    "start_time": "2024-06-01T15:13:30.066Z"
   },
   {
    "duration": 54,
    "start_time": "2024-06-01T15:13:30.084Z"
   },
   {
    "duration": 15,
    "start_time": "2024-06-01T15:13:30.144Z"
   },
   {
    "duration": 12,
    "start_time": "2024-06-01T15:13:30.162Z"
   },
   {
    "duration": 5,
    "start_time": "2024-06-01T15:13:30.177Z"
   },
   {
    "duration": 64,
    "start_time": "2024-06-01T15:13:30.185Z"
   },
   {
    "duration": 310,
    "start_time": "2024-06-01T15:52:00.556Z"
   },
   {
    "duration": 445,
    "start_time": "2024-06-01T15:52:06.406Z"
   },
   {
    "duration": 31,
    "start_time": "2024-06-01T15:52:06.855Z"
   },
   {
    "duration": 18,
    "start_time": "2024-06-01T15:52:06.889Z"
   },
   {
    "duration": 28,
    "start_time": "2024-06-01T15:52:06.910Z"
   },
   {
    "duration": 15,
    "start_time": "2024-06-01T15:52:06.943Z"
   },
   {
    "duration": 17,
    "start_time": "2024-06-01T15:52:06.962Z"
   },
   {
    "duration": 51,
    "start_time": "2024-06-01T15:52:06.982Z"
   },
   {
    "duration": 14,
    "start_time": "2024-06-01T15:52:07.035Z"
   },
   {
    "duration": 8,
    "start_time": "2024-06-01T15:52:07.051Z"
   },
   {
    "duration": 16,
    "start_time": "2024-06-01T15:52:07.063Z"
   },
   {
    "duration": 54,
    "start_time": "2024-06-01T15:52:07.081Z"
   },
   {
    "duration": 7,
    "start_time": "2024-06-01T15:52:07.138Z"
   },
   {
    "duration": 26,
    "start_time": "2024-06-01T15:52:07.149Z"
   },
   {
    "duration": 11,
    "start_time": "2024-06-01T15:52:07.181Z"
   },
   {
    "duration": 7,
    "start_time": "2024-06-01T15:52:32.940Z"
   },
   {
    "duration": 427,
    "start_time": "2024-06-01T15:52:58.263Z"
   },
   {
    "duration": 17,
    "start_time": "2024-06-01T15:52:58.693Z"
   },
   {
    "duration": 28,
    "start_time": "2024-06-01T15:52:58.713Z"
   },
   {
    "duration": 15,
    "start_time": "2024-06-01T15:52:58.745Z"
   },
   {
    "duration": 14,
    "start_time": "2024-06-01T15:52:58.763Z"
   },
   {
    "duration": 53,
    "start_time": "2024-06-01T15:52:58.780Z"
   },
   {
    "duration": 12,
    "start_time": "2024-06-01T15:52:58.835Z"
   },
   {
    "duration": 21,
    "start_time": "2024-06-01T15:52:58.851Z"
   },
   {
    "duration": 9,
    "start_time": "2024-06-01T15:52:58.874Z"
   },
   {
    "duration": 405,
    "start_time": "2024-06-01T15:52:58.889Z"
   },
   {
    "duration": 0,
    "start_time": "2024-06-01T15:52:59.297Z"
   },
   {
    "duration": 0,
    "start_time": "2024-06-01T15:52:59.299Z"
   },
   {
    "duration": 0,
    "start_time": "2024-06-01T15:52:59.302Z"
   },
   {
    "duration": 0,
    "start_time": "2024-06-01T15:52:59.304Z"
   },
   {
    "duration": 0,
    "start_time": "2024-06-01T15:52:59.306Z"
   },
   {
    "duration": 448,
    "start_time": "2024-06-01T15:53:11.555Z"
   },
   {
    "duration": 19,
    "start_time": "2024-06-01T15:53:12.006Z"
   },
   {
    "duration": 21,
    "start_time": "2024-06-01T15:53:12.032Z"
   },
   {
    "duration": 16,
    "start_time": "2024-06-01T15:53:12.057Z"
   },
   {
    "duration": 13,
    "start_time": "2024-06-01T15:53:12.076Z"
   },
   {
    "duration": 51,
    "start_time": "2024-06-01T15:53:12.093Z"
   },
   {
    "duration": 12,
    "start_time": "2024-06-01T15:53:12.147Z"
   },
   {
    "duration": 13,
    "start_time": "2024-06-01T15:53:12.162Z"
   },
   {
    "duration": 7,
    "start_time": "2024-06-01T15:53:12.178Z"
   },
   {
    "duration": 51,
    "start_time": "2024-06-01T15:53:12.190Z"
   },
   {
    "duration": 8,
    "start_time": "2024-06-01T15:53:12.244Z"
   },
   {
    "duration": 16,
    "start_time": "2024-06-01T15:53:12.255Z"
   },
   {
    "duration": 10,
    "start_time": "2024-06-01T15:53:12.276Z"
   },
   {
    "duration": 46,
    "start_time": "2024-06-01T15:53:12.289Z"
   },
   {
    "duration": 19,
    "start_time": "2024-06-01T15:53:12.340Z"
   },
   {
    "duration": 11,
    "start_time": "2024-06-01T15:56:02.763Z"
   },
   {
    "duration": 10,
    "start_time": "2024-06-01T15:56:07.689Z"
   },
   {
    "duration": 18,
    "start_time": "2024-06-01T16:02:01.858Z"
   },
   {
    "duration": 18,
    "start_time": "2024-06-01T16:02:38.009Z"
   },
   {
    "duration": 1137,
    "start_time": "2024-06-01T16:06:07.412Z"
   },
   {
    "duration": 14,
    "start_time": "2024-06-01T16:06:37.585Z"
   },
   {
    "duration": 32,
    "start_time": "2024-06-01T16:06:52.493Z"
   },
   {
    "duration": 13,
    "start_time": "2024-06-01T16:06:56.637Z"
   },
   {
    "duration": 17,
    "start_time": "2024-06-01T16:10:09.959Z"
   },
   {
    "duration": 14,
    "start_time": "2024-06-01T16:10:26.855Z"
   },
   {
    "duration": 21,
    "start_time": "2024-06-01T16:21:40.690Z"
   },
   {
    "duration": 21,
    "start_time": "2024-06-01T16:23:23.114Z"
   },
   {
    "duration": 413,
    "start_time": "2024-06-01T16:40:02.488Z"
   },
   {
    "duration": 21,
    "start_time": "2024-06-01T16:40:02.905Z"
   },
   {
    "duration": 18,
    "start_time": "2024-06-01T16:40:02.929Z"
   },
   {
    "duration": 17,
    "start_time": "2024-06-01T16:40:02.950Z"
   },
   {
    "duration": 13,
    "start_time": "2024-06-01T16:40:02.971Z"
   },
   {
    "duration": 56,
    "start_time": "2024-06-01T16:40:02.987Z"
   },
   {
    "duration": 11,
    "start_time": "2024-06-01T16:40:03.046Z"
   },
   {
    "duration": 14,
    "start_time": "2024-06-01T16:40:03.060Z"
   },
   {
    "duration": 9,
    "start_time": "2024-06-01T16:40:03.076Z"
   },
   {
    "duration": 51,
    "start_time": "2024-06-01T16:40:03.088Z"
   },
   {
    "duration": 8,
    "start_time": "2024-06-01T16:40:03.142Z"
   },
   {
    "duration": 17,
    "start_time": "2024-06-01T16:40:03.153Z"
   },
   {
    "duration": 11,
    "start_time": "2024-06-01T16:40:03.172Z"
   },
   {
    "duration": 5,
    "start_time": "2024-06-01T16:40:03.234Z"
   },
   {
    "duration": 22,
    "start_time": "2024-06-01T16:40:03.242Z"
   },
   {
    "duration": 12,
    "start_time": "2024-06-01T16:40:03.267Z"
   },
   {
    "duration": 53,
    "start_time": "2024-06-01T16:40:03.282Z"
   },
   {
    "duration": 14,
    "start_time": "2024-06-01T16:40:03.340Z"
   },
   {
    "duration": 15,
    "start_time": "2024-06-01T16:40:03.361Z"
   },
   {
    "duration": 63,
    "start_time": "2024-06-01T16:40:03.379Z"
   },
   {
    "duration": 16,
    "start_time": "2024-06-01T16:42:36.416Z"
   },
   {
    "duration": 26,
    "start_time": "2024-06-01T16:53:30.510Z"
   },
   {
    "duration": 340,
    "start_time": "2024-06-01T16:57:02.908Z"
   },
   {
    "duration": 695,
    "start_time": "2024-06-01T16:58:14.228Z"
   },
   {
    "duration": 64,
    "start_time": "2024-06-01T16:58:14.932Z"
   },
   {
    "duration": 15,
    "start_time": "2024-06-01T16:58:14.999Z"
   },
   {
    "duration": 28,
    "start_time": "2024-06-01T16:58:15.017Z"
   },
   {
    "duration": 13,
    "start_time": "2024-06-01T16:58:15.050Z"
   },
   {
    "duration": 15,
    "start_time": "2024-06-01T16:58:15.066Z"
   },
   {
    "duration": 49,
    "start_time": "2024-06-01T16:58:15.084Z"
   },
   {
    "duration": 13,
    "start_time": "2024-06-01T16:58:15.136Z"
   },
   {
    "duration": 9,
    "start_time": "2024-06-01T16:58:15.152Z"
   },
   {
    "duration": 10,
    "start_time": "2024-06-01T16:58:15.164Z"
   },
   {
    "duration": 9,
    "start_time": "2024-06-01T16:58:15.177Z"
   },
   {
    "duration": 17,
    "start_time": "2024-06-01T16:58:15.233Z"
   },
   {
    "duration": 10,
    "start_time": "2024-06-01T16:58:15.253Z"
   },
   {
    "duration": 5,
    "start_time": "2024-06-01T16:58:15.268Z"
   },
   {
    "duration": 67,
    "start_time": "2024-06-01T16:58:15.276Z"
   },
   {
    "duration": 15,
    "start_time": "2024-06-01T16:58:15.346Z"
   },
   {
    "duration": 26,
    "start_time": "2024-06-01T16:58:15.365Z"
   },
   {
    "duration": 42,
    "start_time": "2024-06-01T16:58:15.396Z"
   },
   {
    "duration": 16,
    "start_time": "2024-06-01T16:58:15.441Z"
   },
   {
    "duration": 24,
    "start_time": "2024-06-01T16:58:15.461Z"
   },
   {
    "duration": 53,
    "start_time": "2024-06-01T16:58:15.488Z"
   },
   {
    "duration": 31,
    "start_time": "2024-06-01T16:58:15.544Z"
   },
   {
    "duration": 406,
    "start_time": "2024-06-01T16:58:15.580Z"
   },
   {
    "duration": 356,
    "start_time": "2024-06-01T16:58:57.359Z"
   },
   {
    "duration": 382,
    "start_time": "2024-06-01T17:01:09.179Z"
   },
   {
    "duration": 4726,
    "start_time": "2024-06-04T09:23:04.791Z"
   },
   {
    "duration": 32,
    "start_time": "2024-06-04T09:23:09.521Z"
   },
   {
    "duration": 19,
    "start_time": "2024-06-04T09:23:09.555Z"
   },
   {
    "duration": 30,
    "start_time": "2024-06-04T09:23:09.580Z"
   },
   {
    "duration": 19,
    "start_time": "2024-06-04T09:23:09.613Z"
   },
   {
    "duration": 18,
    "start_time": "2024-06-04T09:23:09.636Z"
   },
   {
    "duration": 51,
    "start_time": "2024-06-04T09:23:09.658Z"
   },
   {
    "duration": 17,
    "start_time": "2024-06-04T09:23:09.713Z"
   },
   {
    "duration": 9,
    "start_time": "2024-06-04T09:23:09.736Z"
   },
   {
    "duration": 51,
    "start_time": "2024-06-04T09:23:09.752Z"
   },
   {
    "duration": 9,
    "start_time": "2024-06-04T09:23:09.806Z"
   },
   {
    "duration": 19,
    "start_time": "2024-06-04T09:23:09.819Z"
   },
   {
    "duration": 19,
    "start_time": "2024-06-04T09:23:09.842Z"
   },
   {
    "duration": 39,
    "start_time": "2024-06-04T09:23:09.865Z"
   },
   {
    "duration": 20,
    "start_time": "2024-06-04T09:23:09.907Z"
   },
   {
    "duration": 12,
    "start_time": "2024-06-04T09:23:09.931Z"
   },
   {
    "duration": 71,
    "start_time": "2024-06-04T09:23:09.947Z"
   },
   {
    "duration": 15,
    "start_time": "2024-06-04T09:23:10.021Z"
   },
   {
    "duration": 14,
    "start_time": "2024-06-04T09:23:10.039Z"
   },
   {
    "duration": 56,
    "start_time": "2024-06-04T09:23:10.057Z"
   },
   {
    "duration": 21,
    "start_time": "2024-06-04T09:23:10.116Z"
   },
   {
    "duration": 66,
    "start_time": "2024-06-04T09:23:10.141Z"
   },
   {
    "duration": 419,
    "start_time": "2024-06-04T09:23:10.210Z"
   },
   {
    "duration": 4341,
    "start_time": "2024-06-04T10:54:55.657Z"
   },
   {
    "duration": 34,
    "start_time": "2024-06-04T10:55:00.002Z"
   },
   {
    "duration": 17,
    "start_time": "2024-06-04T10:55:00.039Z"
   },
   {
    "duration": 17,
    "start_time": "2024-06-04T10:55:00.059Z"
   },
   {
    "duration": 15,
    "start_time": "2024-06-04T10:55:00.082Z"
   },
   {
    "duration": 15,
    "start_time": "2024-06-04T10:55:00.134Z"
   },
   {
    "duration": 11,
    "start_time": "2024-06-04T10:55:00.152Z"
   },
   {
    "duration": 14,
    "start_time": "2024-06-04T10:55:00.167Z"
   },
   {
    "duration": 48,
    "start_time": "2024-06-04T10:55:00.185Z"
   },
   {
    "duration": 11,
    "start_time": "2024-06-04T10:55:00.237Z"
   },
   {
    "duration": 8,
    "start_time": "2024-06-04T10:55:00.253Z"
   },
   {
    "duration": 16,
    "start_time": "2024-06-04T10:55:00.263Z"
   },
   {
    "duration": 50,
    "start_time": "2024-06-04T10:55:00.285Z"
   },
   {
    "duration": 4,
    "start_time": "2024-06-04T10:55:00.343Z"
   },
   {
    "duration": 23,
    "start_time": "2024-06-04T10:55:00.351Z"
   },
   {
    "duration": 11,
    "start_time": "2024-06-04T10:55:00.377Z"
   },
   {
    "duration": 21,
    "start_time": "2024-06-04T10:55:00.433Z"
   },
   {
    "duration": 15,
    "start_time": "2024-06-04T10:55:00.458Z"
   },
   {
    "duration": 14,
    "start_time": "2024-06-04T10:55:00.477Z"
   },
   {
    "duration": 24,
    "start_time": "2024-06-04T10:55:00.534Z"
   },
   {
    "duration": 19,
    "start_time": "2024-06-04T10:55:00.561Z"
   },
   {
    "duration": 59,
    "start_time": "2024-06-04T10:55:00.584Z"
   },
   {
    "duration": 407,
    "start_time": "2024-06-04T10:55:00.650Z"
   },
   {
    "duration": 7,
    "start_time": "2024-06-04T10:55:01.060Z"
   },
   {
    "duration": 25,
    "start_time": "2024-06-04T11:09:10.179Z"
   },
   {
    "duration": 27,
    "start_time": "2024-06-04T11:10:12.358Z"
   },
   {
    "duration": 24,
    "start_time": "2024-06-04T11:10:18.456Z"
   },
   {
    "duration": 14,
    "start_time": "2024-06-04T11:11:51.670Z"
   },
   {
    "duration": 537,
    "start_time": "2024-06-04T11:13:02.335Z"
   },
   {
    "duration": 25,
    "start_time": "2024-06-04T11:32:17.052Z"
   },
   {
    "duration": 362,
    "start_time": "2024-06-04T11:32:48.598Z"
   },
   {
    "duration": 360,
    "start_time": "2024-06-04T11:48:52.683Z"
   },
   {
    "duration": 312,
    "start_time": "2024-06-04T11:48:56.231Z"
   },
   {
    "duration": 384,
    "start_time": "2024-06-04T11:49:28.778Z"
   },
   {
    "duration": 11,
    "start_time": "2024-06-04T12:02:33.098Z"
   },
   {
    "duration": 21,
    "start_time": "2024-06-04T12:02:41.017Z"
   },
   {
    "duration": 27,
    "start_time": "2024-06-04T12:03:41.597Z"
   },
   {
    "duration": 27,
    "start_time": "2024-06-04T12:04:27.437Z"
   },
   {
    "duration": 389,
    "start_time": "2024-06-04T12:05:25.945Z"
   },
   {
    "duration": 4,
    "start_time": "2024-06-04T12:10:42.874Z"
   },
   {
    "duration": 4,
    "start_time": "2024-06-04T12:13:26.304Z"
   },
   {
    "duration": 671,
    "start_time": "2024-06-04T12:13:32.965Z"
   },
   {
    "duration": 65,
    "start_time": "2024-06-04T12:13:33.639Z"
   },
   {
    "duration": 27,
    "start_time": "2024-06-04T12:13:33.707Z"
   },
   {
    "duration": 15,
    "start_time": "2024-06-04T12:13:33.739Z"
   },
   {
    "duration": 13,
    "start_time": "2024-06-04T12:13:33.757Z"
   },
   {
    "duration": 18,
    "start_time": "2024-06-04T12:13:33.773Z"
   },
   {
    "duration": 48,
    "start_time": "2024-06-04T12:13:33.793Z"
   },
   {
    "duration": 14,
    "start_time": "2024-06-04T12:13:33.844Z"
   },
   {
    "duration": 8,
    "start_time": "2024-06-04T12:13:33.861Z"
   },
   {
    "duration": 8,
    "start_time": "2024-06-04T12:13:33.876Z"
   },
   {
    "duration": 52,
    "start_time": "2024-06-04T12:13:33.887Z"
   },
   {
    "duration": 16,
    "start_time": "2024-06-04T12:13:33.941Z"
   },
   {
    "duration": 10,
    "start_time": "2024-06-04T12:13:33.959Z"
   },
   {
    "duration": 5,
    "start_time": "2024-06-04T12:13:33.972Z"
   },
   {
    "duration": 64,
    "start_time": "2024-06-04T12:13:33.980Z"
   },
   {
    "duration": 11,
    "start_time": "2024-06-04T12:13:34.047Z"
   },
   {
    "duration": 17,
    "start_time": "2024-06-04T12:13:34.061Z"
   },
   {
    "duration": 53,
    "start_time": "2024-06-04T12:13:34.081Z"
   },
   {
    "duration": 13,
    "start_time": "2024-06-04T12:13:34.136Z"
   },
   {
    "duration": 20,
    "start_time": "2024-06-04T12:13:34.152Z"
   },
   {
    "duration": 16,
    "start_time": "2024-06-04T12:13:34.176Z"
   },
   {
    "duration": 24,
    "start_time": "2024-06-04T12:13:34.232Z"
   },
   {
    "duration": 434,
    "start_time": "2024-06-04T12:13:34.259Z"
   },
   {
    "duration": 24,
    "start_time": "2024-06-04T12:13:34.696Z"
   },
   {
    "duration": 17,
    "start_time": "2024-06-04T12:13:34.723Z"
   },
   {
    "duration": 510,
    "start_time": "2024-06-04T12:13:34.743Z"
   },
   {
    "duration": 24,
    "start_time": "2024-06-04T12:13:35.257Z"
   },
   {
    "duration": 473,
    "start_time": "2024-06-04T12:13:35.288Z"
   },
   {
    "duration": 22,
    "start_time": "2024-06-04T12:13:35.764Z"
   },
   {
    "duration": 52,
    "start_time": "2024-06-04T12:13:35.789Z"
   },
   {
    "duration": 4,
    "start_time": "2024-06-04T12:13:35.845Z"
   },
   {
    "duration": 683,
    "start_time": "2024-06-04T12:13:35.852Z"
   },
   {
    "duration": 898,
    "start_time": "2024-06-04T12:14:02.123Z"
   },
   {
    "duration": 6,
    "start_time": "2024-06-04T12:16:15.846Z"
   },
   {
    "duration": 316,
    "start_time": "2024-06-04T12:16:35.491Z"
   },
   {
    "duration": 435,
    "start_time": "2024-06-04T12:17:03.092Z"
   },
   {
    "duration": 328,
    "start_time": "2024-06-04T12:17:12.943Z"
   },
   {
    "duration": 339,
    "start_time": "2024-06-04T12:17:37.266Z"
   },
   {
    "duration": 684,
    "start_time": "2024-06-04T12:25:49.096Z"
   },
   {
    "duration": 79,
    "start_time": "2024-06-04T12:25:49.784Z"
   },
   {
    "duration": 16,
    "start_time": "2024-06-04T12:25:49.866Z"
   },
   {
    "duration": 17,
    "start_time": "2024-06-04T12:25:49.885Z"
   },
   {
    "duration": 15,
    "start_time": "2024-06-04T12:25:49.932Z"
   },
   {
    "duration": 16,
    "start_time": "2024-06-04T12:25:49.953Z"
   },
   {
    "duration": 13,
    "start_time": "2024-06-04T12:25:49.973Z"
   },
   {
    "duration": 51,
    "start_time": "2024-06-04T12:25:49.989Z"
   },
   {
    "duration": 9,
    "start_time": "2024-06-04T12:25:50.044Z"
   },
   {
    "duration": 11,
    "start_time": "2024-06-04T12:25:50.056Z"
   },
   {
    "duration": 7,
    "start_time": "2024-06-04T12:25:50.071Z"
   },
   {
    "duration": 58,
    "start_time": "2024-06-04T12:25:50.082Z"
   },
   {
    "duration": 12,
    "start_time": "2024-06-04T12:25:50.143Z"
   },
   {
    "duration": 4,
    "start_time": "2024-06-04T12:25:50.161Z"
   },
   {
    "duration": 20,
    "start_time": "2024-06-04T12:25:50.168Z"
   },
   {
    "duration": 53,
    "start_time": "2024-06-04T12:25:50.191Z"
   },
   {
    "duration": 24,
    "start_time": "2024-06-04T12:25:50.246Z"
   },
   {
    "duration": 25,
    "start_time": "2024-06-04T12:25:50.276Z"
   },
   {
    "duration": 29,
    "start_time": "2024-06-04T12:25:50.311Z"
   },
   {
    "duration": 23,
    "start_time": "2024-06-04T12:25:50.343Z"
   },
   {
    "duration": 19,
    "start_time": "2024-06-04T12:25:50.369Z"
   },
   {
    "duration": 66,
    "start_time": "2024-06-04T12:25:50.391Z"
   },
   {
    "duration": 437,
    "start_time": "2024-06-04T12:25:50.460Z"
   },
   {
    "duration": 32,
    "start_time": "2024-06-04T12:25:50.901Z"
   },
   {
    "duration": 15,
    "start_time": "2024-06-04T12:25:50.936Z"
   },
   {
    "duration": 527,
    "start_time": "2024-06-04T12:25:50.955Z"
   },
   {
    "duration": 48,
    "start_time": "2024-06-04T12:25:51.488Z"
   },
   {
    "duration": 470,
    "start_time": "2024-06-04T12:25:51.540Z"
   },
   {
    "duration": 29,
    "start_time": "2024-06-04T12:25:52.013Z"
   },
   {
    "duration": 26,
    "start_time": "2024-06-04T12:25:52.048Z"
   },
   {
    "duration": 7,
    "start_time": "2024-06-04T12:25:52.078Z"
   },
   {
    "duration": 379,
    "start_time": "2024-06-04T12:25:52.092Z"
   },
   {
    "duration": 9,
    "start_time": "2024-06-04T12:28:14.263Z"
   },
   {
    "duration": 254,
    "start_time": "2024-06-04T12:28:33.483Z"
   },
   {
    "duration": 352,
    "start_time": "2024-06-04T12:35:44.903Z"
   },
   {
    "duration": 275,
    "start_time": "2024-06-04T12:35:54.884Z"
   },
   {
    "duration": 6,
    "start_time": "2024-06-04T12:38:25.085Z"
   },
   {
    "duration": 11,
    "start_time": "2024-06-04T12:38:31.809Z"
   },
   {
    "duration": 14,
    "start_time": "2024-06-04T12:40:46.726Z"
   },
   {
    "duration": 271,
    "start_time": "2024-06-04T12:50:06.518Z"
   },
   {
    "duration": 276,
    "start_time": "2024-06-04T12:50:21.141Z"
   },
   {
    "duration": 678,
    "start_time": "2024-06-04T12:51:45.841Z"
   },
   {
    "duration": 77,
    "start_time": "2024-06-04T12:51:46.523Z"
   },
   {
    "duration": 16,
    "start_time": "2024-06-04T12:51:46.603Z"
   },
   {
    "duration": 21,
    "start_time": "2024-06-04T12:51:46.622Z"
   },
   {
    "duration": 15,
    "start_time": "2024-06-04T12:51:46.648Z"
   },
   {
    "duration": 15,
    "start_time": "2024-06-04T12:51:46.666Z"
   },
   {
    "duration": 11,
    "start_time": "2024-06-04T12:51:46.684Z"
   },
   {
    "duration": 18,
    "start_time": "2024-06-04T12:51:46.734Z"
   },
   {
    "duration": 8,
    "start_time": "2024-06-04T12:51:46.756Z"
   },
   {
    "duration": 9,
    "start_time": "2024-06-04T12:51:46.767Z"
   },
   {
    "duration": 7,
    "start_time": "2024-06-04T12:51:46.778Z"
   },
   {
    "duration": 16,
    "start_time": "2024-06-04T12:51:46.833Z"
   },
   {
    "duration": 11,
    "start_time": "2024-06-04T12:51:46.852Z"
   },
   {
    "duration": 4,
    "start_time": "2024-06-04T12:51:46.870Z"
   },
   {
    "duration": 65,
    "start_time": "2024-06-04T12:51:46.877Z"
   },
   {
    "duration": 10,
    "start_time": "2024-06-04T12:51:46.945Z"
   },
   {
    "duration": 18,
    "start_time": "2024-06-04T12:51:46.958Z"
   },
   {
    "duration": 14,
    "start_time": "2024-06-04T12:51:46.978Z"
   },
   {
    "duration": 49,
    "start_time": "2024-06-04T12:51:46.995Z"
   },
   {
    "duration": 19,
    "start_time": "2024-06-04T12:51:47.047Z"
   },
   {
    "duration": 17,
    "start_time": "2024-06-04T12:51:47.069Z"
   },
   {
    "duration": 67,
    "start_time": "2024-06-04T12:51:47.088Z"
   },
   {
    "duration": 415,
    "start_time": "2024-06-04T12:51:47.158Z"
   },
   {
    "duration": 25,
    "start_time": "2024-06-04T12:51:47.576Z"
   },
   {
    "duration": 16,
    "start_time": "2024-06-04T12:51:47.604Z"
   },
   {
    "duration": 518,
    "start_time": "2024-06-04T12:51:47.632Z"
   },
   {
    "duration": 24,
    "start_time": "2024-06-04T12:51:48.154Z"
   },
   {
    "duration": 469,
    "start_time": "2024-06-04T12:51:48.180Z"
   },
   {
    "duration": 23,
    "start_time": "2024-06-04T12:51:48.652Z"
   },
   {
    "duration": 25,
    "start_time": "2024-06-04T12:51:48.678Z"
   },
   {
    "duration": 7,
    "start_time": "2024-06-04T12:51:48.732Z"
   },
   {
    "duration": 346,
    "start_time": "2024-06-04T12:51:48.745Z"
   },
   {
    "duration": 9,
    "start_time": "2024-06-04T12:51:49.093Z"
   },
   {
    "duration": 31,
    "start_time": "2024-06-04T12:51:49.107Z"
   },
   {
    "duration": 355,
    "start_time": "2024-06-04T12:51:49.141Z"
   },
   {
    "duration": 0,
    "start_time": "2024-06-04T12:51:49.499Z"
   },
   {
    "duration": 198,
    "start_time": "2024-06-04T12:52:12.158Z"
   },
   {
    "duration": 245,
    "start_time": "2024-06-04T12:53:39.465Z"
   },
   {
    "duration": 305,
    "start_time": "2024-06-04T12:54:02.169Z"
   },
   {
    "duration": 238,
    "start_time": "2024-06-04T12:54:09.669Z"
   },
   {
    "duration": 698,
    "start_time": "2024-06-04T12:54:57.935Z"
   },
   {
    "duration": 64,
    "start_time": "2024-06-04T12:54:58.638Z"
   },
   {
    "duration": 16,
    "start_time": "2024-06-04T12:54:58.705Z"
   },
   {
    "duration": 15,
    "start_time": "2024-06-04T12:54:58.735Z"
   },
   {
    "duration": 13,
    "start_time": "2024-06-04T12:54:58.753Z"
   },
   {
    "duration": 14,
    "start_time": "2024-06-04T12:54:58.769Z"
   },
   {
    "duration": 52,
    "start_time": "2024-06-04T12:54:58.786Z"
   },
   {
    "duration": 14,
    "start_time": "2024-06-04T12:54:58.841Z"
   },
   {
    "duration": 9,
    "start_time": "2024-06-04T12:54:58.858Z"
   },
   {
    "duration": 9,
    "start_time": "2024-06-04T12:54:58.872Z"
   },
   {
    "duration": 49,
    "start_time": "2024-06-04T12:54:58.884Z"
   },
   {
    "duration": 15,
    "start_time": "2024-06-04T12:54:58.936Z"
   },
   {
    "duration": 10,
    "start_time": "2024-06-04T12:54:58.954Z"
   },
   {
    "duration": 5,
    "start_time": "2024-06-04T12:54:58.967Z"
   },
   {
    "duration": 66,
    "start_time": "2024-06-04T12:54:58.974Z"
   },
   {
    "duration": 11,
    "start_time": "2024-06-04T12:54:59.043Z"
   },
   {
    "duration": 18,
    "start_time": "2024-06-04T12:54:59.057Z"
   },
   {
    "duration": 13,
    "start_time": "2024-06-04T12:54:59.078Z"
   },
   {
    "duration": 13,
    "start_time": "2024-06-04T12:54:59.133Z"
   },
   {
    "duration": 20,
    "start_time": "2024-06-04T12:54:59.149Z"
   },
   {
    "duration": 18,
    "start_time": "2024-06-04T12:54:59.172Z"
   },
   {
    "duration": 60,
    "start_time": "2024-06-04T12:54:59.193Z"
   },
   {
    "duration": 405,
    "start_time": "2024-06-04T12:54:59.256Z"
   },
   {
    "duration": 27,
    "start_time": "2024-06-04T12:54:59.665Z"
   },
   {
    "duration": 14,
    "start_time": "2024-06-04T12:54:59.695Z"
   },
   {
    "duration": 523,
    "start_time": "2024-06-04T12:54:59.712Z"
   },
   {
    "duration": 25,
    "start_time": "2024-06-04T12:55:00.238Z"
   },
   {
    "duration": 473,
    "start_time": "2024-06-04T12:55:00.271Z"
   },
   {
    "duration": 25,
    "start_time": "2024-06-04T12:55:00.747Z"
   },
   {
    "duration": 26,
    "start_time": "2024-06-04T12:55:00.777Z"
   },
   {
    "duration": 5,
    "start_time": "2024-06-04T12:55:00.835Z"
   },
   {
    "duration": 348,
    "start_time": "2024-06-04T12:55:00.843Z"
   },
   {
    "duration": 9,
    "start_time": "2024-06-04T12:55:01.194Z"
   },
   {
    "duration": 33,
    "start_time": "2024-06-04T12:55:01.207Z"
   },
   {
    "duration": 268,
    "start_time": "2024-06-04T12:55:01.243Z"
   },
   {
    "duration": 4226,
    "start_time": "2024-06-05T08:29:19.539Z"
   },
   {
    "duration": 29,
    "start_time": "2024-06-05T08:29:23.770Z"
   },
   {
    "duration": 22,
    "start_time": "2024-06-05T08:29:23.803Z"
   },
   {
    "duration": 21,
    "start_time": "2024-06-05T08:29:23.830Z"
   },
   {
    "duration": 45,
    "start_time": "2024-06-05T08:29:23.859Z"
   },
   {
    "duration": 17,
    "start_time": "2024-06-05T08:29:23.908Z"
   },
   {
    "duration": 14,
    "start_time": "2024-06-05T08:29:23.929Z"
   },
   {
    "duration": 56,
    "start_time": "2024-06-05T08:29:23.947Z"
   },
   {
    "duration": 10,
    "start_time": "2024-06-05T08:29:24.007Z"
   },
   {
    "duration": 11,
    "start_time": "2024-06-05T08:29:24.024Z"
   },
   {
    "duration": 9,
    "start_time": "2024-06-05T08:29:24.044Z"
   },
   {
    "duration": 61,
    "start_time": "2024-06-05T08:29:24.058Z"
   },
   {
    "duration": 12,
    "start_time": "2024-06-05T08:29:24.123Z"
   },
   {
    "duration": 5,
    "start_time": "2024-06-05T08:29:24.138Z"
   },
   {
    "duration": 62,
    "start_time": "2024-06-05T08:29:24.148Z"
   },
   {
    "duration": 14,
    "start_time": "2024-06-05T08:29:24.214Z"
   },
   {
    "duration": 23,
    "start_time": "2024-06-05T08:29:24.232Z"
   },
   {
    "duration": 49,
    "start_time": "2024-06-05T08:29:24.258Z"
   },
   {
    "duration": 16,
    "start_time": "2024-06-05T08:29:24.311Z"
   },
   {
    "duration": 26,
    "start_time": "2024-06-05T08:29:24.331Z"
   },
   {
    "duration": 58,
    "start_time": "2024-06-05T08:29:24.360Z"
   },
   {
    "duration": 26,
    "start_time": "2024-06-05T08:29:24.420Z"
   },
   {
    "duration": 515,
    "start_time": "2024-06-05T08:29:24.451Z"
   },
   {
    "duration": 32,
    "start_time": "2024-06-05T08:29:24.970Z"
   },
   {
    "duration": 20,
    "start_time": "2024-06-05T08:29:25.005Z"
   },
   {
    "duration": 538,
    "start_time": "2024-06-05T08:29:25.029Z"
   },
   {
    "duration": 33,
    "start_time": "2024-06-05T08:29:25.571Z"
   },
   {
    "duration": 483,
    "start_time": "2024-06-05T08:29:25.611Z"
   },
   {
    "duration": 37,
    "start_time": "2024-06-05T08:29:26.096Z"
   },
   {
    "duration": 28,
    "start_time": "2024-06-05T08:29:26.137Z"
   },
   {
    "duration": 36,
    "start_time": "2024-06-05T08:29:26.168Z"
   },
   {
    "duration": 414,
    "start_time": "2024-06-05T08:29:26.213Z"
   },
   {
    "duration": 11,
    "start_time": "2024-06-05T08:29:26.630Z"
   },
   {
    "duration": 15,
    "start_time": "2024-06-05T08:29:26.645Z"
   },
   {
    "duration": 361,
    "start_time": "2024-06-05T08:29:26.663Z"
   },
   {
    "duration": 7,
    "start_time": "2024-06-05T08:30:10.531Z"
   },
   {
    "duration": 7,
    "start_time": "2024-06-05T08:56:47.494Z"
   },
   {
    "duration": 310,
    "start_time": "2024-06-05T09:25:51.105Z"
   },
   {
    "duration": 5,
    "start_time": "2024-06-05T09:38:40.692Z"
   },
   {
    "duration": 12,
    "start_time": "2024-06-05T09:38:50.018Z"
   },
   {
    "duration": 12,
    "start_time": "2024-06-05T09:39:21.886Z"
   },
   {
    "duration": 8,
    "start_time": "2024-06-05T09:42:58.905Z"
   },
   {
    "duration": 246,
    "start_time": "2024-06-05T09:48:50.561Z"
   },
   {
    "duration": 693,
    "start_time": "2024-06-05T09:50:41.011Z"
   },
   {
    "duration": 63,
    "start_time": "2024-06-05T09:50:41.708Z"
   },
   {
    "duration": 28,
    "start_time": "2024-06-05T09:50:41.775Z"
   },
   {
    "duration": 14,
    "start_time": "2024-06-05T09:50:41.806Z"
   },
   {
    "duration": 13,
    "start_time": "2024-06-05T09:50:41.825Z"
   },
   {
    "duration": 17,
    "start_time": "2024-06-05T09:50:41.841Z"
   },
   {
    "duration": 14,
    "start_time": "2024-06-05T09:50:41.903Z"
   },
   {
    "duration": 15,
    "start_time": "2024-06-05T09:50:41.921Z"
   },
   {
    "duration": 9,
    "start_time": "2024-06-05T09:50:41.940Z"
   },
   {
    "duration": 50,
    "start_time": "2024-06-05T09:50:41.953Z"
   },
   {
    "duration": 9,
    "start_time": "2024-06-05T09:50:42.006Z"
   },
   {
    "duration": 16,
    "start_time": "2024-06-05T09:50:42.018Z"
   },
   {
    "duration": 10,
    "start_time": "2024-06-05T09:50:42.037Z"
   },
   {
    "duration": 50,
    "start_time": "2024-06-05T09:50:42.054Z"
   },
   {
    "duration": 20,
    "start_time": "2024-06-05T09:50:42.107Z"
   },
   {
    "duration": 13,
    "start_time": "2024-06-05T09:50:42.130Z"
   },
   {
    "duration": 58,
    "start_time": "2024-06-05T09:50:42.146Z"
   },
   {
    "duration": 13,
    "start_time": "2024-06-05T09:50:42.207Z"
   },
   {
    "duration": 13,
    "start_time": "2024-06-05T09:50:42.223Z"
   },
   {
    "duration": 20,
    "start_time": "2024-06-05T09:50:42.240Z"
   },
   {
    "duration": 18,
    "start_time": "2024-06-05T09:50:42.303Z"
   },
   {
    "duration": 25,
    "start_time": "2024-06-05T09:50:42.324Z"
   },
   {
    "duration": 430,
    "start_time": "2024-06-05T09:50:42.352Z"
   },
   {
    "duration": 27,
    "start_time": "2024-06-05T09:50:42.785Z"
   },
   {
    "duration": 15,
    "start_time": "2024-06-05T09:50:42.815Z"
   },
   {
    "duration": 507,
    "start_time": "2024-06-05T09:50:42.832Z"
   },
   {
    "duration": 26,
    "start_time": "2024-06-05T09:50:43.342Z"
   },
   {
    "duration": 462,
    "start_time": "2024-06-05T09:50:43.374Z"
   },
   {
    "duration": 23,
    "start_time": "2024-06-05T09:50:43.839Z"
   },
   {
    "duration": 48,
    "start_time": "2024-06-05T09:50:43.865Z"
   },
   {
    "duration": 5,
    "start_time": "2024-06-05T09:50:43.916Z"
   },
   {
    "duration": 365,
    "start_time": "2024-06-05T09:50:43.925Z"
   },
   {
    "duration": 13,
    "start_time": "2024-06-05T09:50:44.294Z"
   },
   {
    "duration": 12,
    "start_time": "2024-06-05T09:50:44.310Z"
   },
   {
    "duration": 279,
    "start_time": "2024-06-05T09:50:44.325Z"
   },
   {
    "duration": 7,
    "start_time": "2024-06-05T09:50:44.607Z"
   },
   {
    "duration": 279,
    "start_time": "2024-06-05T09:50:44.618Z"
   },
   {
    "duration": 256,
    "start_time": "2024-06-05T09:50:44.903Z"
   },
   {
    "duration": 17,
    "start_time": "2024-06-05T09:50:45.162Z"
   },
   {
    "duration": 23,
    "start_time": "2024-06-05T09:50:45.182Z"
   },
   {
    "duration": 712,
    "start_time": "2024-06-05T09:51:03.192Z"
   },
   {
    "duration": 63,
    "start_time": "2024-06-05T09:51:03.909Z"
   },
   {
    "duration": 30,
    "start_time": "2024-06-05T09:51:03.975Z"
   },
   {
    "duration": 14,
    "start_time": "2024-06-05T09:51:04.010Z"
   },
   {
    "duration": 14,
    "start_time": "2024-06-05T09:51:04.028Z"
   },
   {
    "duration": 16,
    "start_time": "2024-06-05T09:51:04.045Z"
   },
   {
    "duration": 10,
    "start_time": "2024-06-05T09:51:04.102Z"
   },
   {
    "duration": 14,
    "start_time": "2024-06-05T09:51:04.116Z"
   },
   {
    "duration": 8,
    "start_time": "2024-06-05T09:51:04.134Z"
   },
   {
    "duration": 53,
    "start_time": "2024-06-05T09:51:04.148Z"
   },
   {
    "duration": 8,
    "start_time": "2024-06-05T09:51:04.204Z"
   },
   {
    "duration": 16,
    "start_time": "2024-06-05T09:51:04.215Z"
   },
   {
    "duration": 10,
    "start_time": "2024-06-05T09:51:04.235Z"
   },
   {
    "duration": 5,
    "start_time": "2024-06-05T09:51:04.248Z"
   },
   {
    "duration": 22,
    "start_time": "2024-06-05T09:51:04.303Z"
   },
   {
    "duration": 13,
    "start_time": "2024-06-05T09:51:04.327Z"
   },
   {
    "duration": 18,
    "start_time": "2024-06-05T09:51:04.343Z"
   },
   {
    "duration": 49,
    "start_time": "2024-06-05T09:51:04.364Z"
   },
   {
    "duration": 13,
    "start_time": "2024-06-05T09:51:04.416Z"
   },
   {
    "duration": 22,
    "start_time": "2024-06-05T09:51:04.432Z"
   },
   {
    "duration": 57,
    "start_time": "2024-06-05T09:51:04.457Z"
   },
   {
    "duration": 26,
    "start_time": "2024-06-05T09:51:04.517Z"
   },
   {
    "duration": 416,
    "start_time": "2024-06-05T09:51:04.546Z"
   },
   {
    "duration": 26,
    "start_time": "2024-06-05T09:51:04.967Z"
   },
   {
    "duration": 17,
    "start_time": "2024-06-05T09:51:04.997Z"
   },
   {
    "duration": 511,
    "start_time": "2024-06-05T09:51:05.018Z"
   },
   {
    "duration": 25,
    "start_time": "2024-06-05T09:51:05.532Z"
   },
   {
    "duration": 487,
    "start_time": "2024-06-05T09:51:05.564Z"
   },
   {
    "duration": 28,
    "start_time": "2024-06-05T09:51:06.055Z"
   },
   {
    "duration": 32,
    "start_time": "2024-06-05T09:51:06.107Z"
   },
   {
    "duration": 6,
    "start_time": "2024-06-05T09:51:06.143Z"
   },
   {
    "duration": 375,
    "start_time": "2024-06-05T09:51:06.153Z"
   },
   {
    "duration": 9,
    "start_time": "2024-06-05T09:51:06.531Z"
   },
   {
    "duration": 13,
    "start_time": "2024-06-05T09:51:06.543Z"
   },
   {
    "duration": 290,
    "start_time": "2024-06-05T09:51:06.559Z"
   },
   {
    "duration": 7,
    "start_time": "2024-06-05T09:51:06.853Z"
   },
   {
    "duration": 284,
    "start_time": "2024-06-05T09:51:06.864Z"
   },
   {
    "duration": 267,
    "start_time": "2024-06-05T09:51:07.151Z"
   },
   {
    "duration": 13,
    "start_time": "2024-06-05T09:51:07.422Z"
   },
   {
    "duration": 8,
    "start_time": "2024-06-05T09:51:07.437Z"
   },
   {
    "duration": 5,
    "start_time": "2024-06-06T08:24:00.669Z"
   },
   {
    "duration": 4552,
    "start_time": "2024-06-06T08:24:20.657Z"
   },
   {
    "duration": 38,
    "start_time": "2024-06-06T08:24:25.214Z"
   },
   {
    "duration": 16,
    "start_time": "2024-06-06T08:24:25.255Z"
   },
   {
    "duration": 17,
    "start_time": "2024-06-06T08:24:25.275Z"
   },
   {
    "duration": 35,
    "start_time": "2024-06-06T08:24:25.298Z"
   },
   {
    "duration": 16,
    "start_time": "2024-06-06T08:24:25.336Z"
   },
   {
    "duration": 12,
    "start_time": "2024-06-06T08:24:25.356Z"
   },
   {
    "duration": 55,
    "start_time": "2024-06-06T08:24:25.373Z"
   },
   {
    "duration": 9,
    "start_time": "2024-06-06T08:24:25.431Z"
   },
   {
    "duration": 11,
    "start_time": "2024-06-06T08:24:25.444Z"
   },
   {
    "duration": 10,
    "start_time": "2024-06-06T08:24:25.459Z"
   },
   {
    "duration": 64,
    "start_time": "2024-06-06T08:24:25.472Z"
   },
   {
    "duration": 12,
    "start_time": "2024-06-06T08:24:25.539Z"
   },
   {
    "duration": 6,
    "start_time": "2024-06-06T08:24:25.560Z"
   },
   {
    "duration": 71,
    "start_time": "2024-06-06T08:24:25.569Z"
   },
   {
    "duration": 12,
    "start_time": "2024-06-06T08:24:25.643Z"
   },
   {
    "duration": 20,
    "start_time": "2024-06-06T08:24:25.660Z"
   },
   {
    "duration": 52,
    "start_time": "2024-06-06T08:24:25.684Z"
   },
   {
    "duration": 16,
    "start_time": "2024-06-06T08:24:25.740Z"
   },
   {
    "duration": 63,
    "start_time": "2024-06-06T08:24:25.760Z"
   },
   {
    "duration": 21,
    "start_time": "2024-06-06T08:24:25.826Z"
   },
   {
    "duration": 29,
    "start_time": "2024-06-06T08:24:25.851Z"
   },
   {
    "duration": 471,
    "start_time": "2024-06-06T08:24:25.884Z"
   },
   {
    "duration": 25,
    "start_time": "2024-06-06T08:24:26.358Z"
   },
   {
    "duration": 15,
    "start_time": "2024-06-06T08:24:26.387Z"
   },
   {
    "duration": 557,
    "start_time": "2024-06-06T08:24:26.406Z"
   },
   {
    "duration": 26,
    "start_time": "2024-06-06T08:24:26.966Z"
   },
   {
    "duration": 576,
    "start_time": "2024-06-06T08:24:26.995Z"
   },
   {
    "duration": 26,
    "start_time": "2024-06-06T08:24:27.574Z"
   },
   {
    "duration": 41,
    "start_time": "2024-06-06T08:24:27.603Z"
   },
   {
    "duration": 6,
    "start_time": "2024-06-06T08:24:27.648Z"
   },
   {
    "duration": 381,
    "start_time": "2024-06-06T08:24:27.657Z"
   },
   {
    "duration": 10,
    "start_time": "2024-06-06T08:24:28.042Z"
   },
   {
    "duration": 12,
    "start_time": "2024-06-06T08:24:28.055Z"
   },
   {
    "duration": 295,
    "start_time": "2024-06-06T08:24:28.072Z"
   },
   {
    "duration": 11,
    "start_time": "2024-06-06T08:24:28.371Z"
   },
   {
    "duration": 298,
    "start_time": "2024-06-06T08:24:28.387Z"
   },
   {
    "duration": 264,
    "start_time": "2024-06-06T08:24:28.688Z"
   },
   {
    "duration": 14,
    "start_time": "2024-06-06T08:24:28.955Z"
   },
   {
    "duration": 8,
    "start_time": "2024-06-06T08:24:28.972Z"
   },
   {
    "duration": 388,
    "start_time": "2024-06-06T08:24:28.988Z"
   },
   {
    "duration": 25,
    "start_time": "2024-06-06T08:24:34.270Z"
   },
   {
    "duration": 13,
    "start_time": "2024-06-06T08:25:08.042Z"
   },
   {
    "duration": 113,
    "start_time": "2024-06-06T08:32:44.682Z"
   },
   {
    "duration": 117,
    "start_time": "2024-06-06T08:33:06.534Z"
   },
   {
    "duration": 108,
    "start_time": "2024-06-06T08:33:30.349Z"
   },
   {
    "duration": 136,
    "start_time": "2024-06-06T08:33:32.830Z"
   },
   {
    "duration": 11,
    "start_time": "2024-06-06T08:41:34.781Z"
   },
   {
    "duration": 12,
    "start_time": "2024-06-06T08:42:22.452Z"
   },
   {
    "duration": 8,
    "start_time": "2024-06-06T08:45:39.043Z"
   },
   {
    "duration": 8,
    "start_time": "2024-06-06T08:47:21.460Z"
   },
   {
    "duration": 24,
    "start_time": "2024-06-06T08:49:42.813Z"
   },
   {
    "duration": 549,
    "start_time": "2024-06-06T08:50:33.206Z"
   },
   {
    "duration": 1200,
    "start_time": "2024-06-06T08:50:41.428Z"
   },
   {
    "duration": 24,
    "start_time": "2024-06-06T08:50:42.634Z"
   },
   {
    "duration": 16,
    "start_time": "2024-06-06T08:50:42.661Z"
   },
   {
    "duration": 43,
    "start_time": "2024-06-06T08:50:42.680Z"
   },
   {
    "duration": 12,
    "start_time": "2024-06-06T08:50:42.728Z"
   },
   {
    "duration": 15,
    "start_time": "2024-06-06T08:50:42.743Z"
   },
   {
    "duration": 11,
    "start_time": "2024-06-06T08:50:42.761Z"
   },
   {
    "duration": 54,
    "start_time": "2024-06-06T08:50:42.776Z"
   },
   {
    "duration": 8,
    "start_time": "2024-06-06T08:50:42.834Z"
   },
   {
    "duration": 10,
    "start_time": "2024-06-06T08:50:42.845Z"
   },
   {
    "duration": 8,
    "start_time": "2024-06-06T08:50:42.858Z"
   },
   {
    "duration": 66,
    "start_time": "2024-06-06T08:50:42.869Z"
   },
   {
    "duration": 10,
    "start_time": "2024-06-06T08:50:42.938Z"
   },
   {
    "duration": 5,
    "start_time": "2024-06-06T08:50:42.955Z"
   },
   {
    "duration": 19,
    "start_time": "2024-06-06T08:50:42.963Z"
   },
   {
    "duration": 11,
    "start_time": "2024-06-06T08:50:43.024Z"
   },
   {
    "duration": 18,
    "start_time": "2024-06-06T08:50:43.039Z"
   },
   {
    "duration": 14,
    "start_time": "2024-06-06T08:50:43.062Z"
   },
   {
    "duration": 53,
    "start_time": "2024-06-06T08:50:43.079Z"
   },
   {
    "duration": 22,
    "start_time": "2024-06-06T08:50:43.135Z"
   },
   {
    "duration": 18,
    "start_time": "2024-06-06T08:50:43.160Z"
   },
   {
    "duration": 61,
    "start_time": "2024-06-06T08:50:43.181Z"
   },
   {
    "duration": 410,
    "start_time": "2024-06-06T08:50:43.245Z"
   },
   {
    "duration": 26,
    "start_time": "2024-06-06T08:50:43.658Z"
   },
   {
    "duration": 17,
    "start_time": "2024-06-06T08:50:43.691Z"
   },
   {
    "duration": 530,
    "start_time": "2024-06-06T08:50:43.711Z"
   },
   {
    "duration": 26,
    "start_time": "2024-06-06T08:50:44.244Z"
   },
   {
    "duration": 484,
    "start_time": "2024-06-06T08:50:44.273Z"
   },
   {
    "duration": 28,
    "start_time": "2024-06-06T08:50:44.763Z"
   },
   {
    "duration": 46,
    "start_time": "2024-06-06T08:50:44.795Z"
   },
   {
    "duration": 5,
    "start_time": "2024-06-06T08:50:44.845Z"
   },
   {
    "duration": 373,
    "start_time": "2024-06-06T08:50:44.854Z"
   },
   {
    "duration": 9,
    "start_time": "2024-06-06T08:50:45.230Z"
   },
   {
    "duration": 12,
    "start_time": "2024-06-06T08:50:45.242Z"
   },
   {
    "duration": 346,
    "start_time": "2024-06-06T08:50:45.258Z"
   },
   {
    "duration": 17,
    "start_time": "2024-06-06T08:50:45.607Z"
   },
   {
    "duration": 274,
    "start_time": "2024-06-06T08:50:45.627Z"
   },
   {
    "duration": 259,
    "start_time": "2024-06-06T08:50:45.905Z"
   },
   {
    "duration": 12,
    "start_time": "2024-06-06T08:50:46.167Z"
   },
   {
    "duration": 8,
    "start_time": "2024-06-06T08:50:46.182Z"
   },
   {
    "duration": 14,
    "start_time": "2024-06-06T08:50:46.224Z"
   },
   {
    "duration": 11,
    "start_time": "2024-06-06T08:50:46.242Z"
   },
   {
    "duration": 138,
    "start_time": "2024-06-06T08:50:46.256Z"
   },
   {
    "duration": 135,
    "start_time": "2024-06-06T08:50:46.396Z"
   },
   {
    "duration": 13,
    "start_time": "2024-06-06T08:50:46.533Z"
   },
   {
    "duration": 32,
    "start_time": "2024-06-06T08:50:46.549Z"
   },
   {
    "duration": 17,
    "start_time": "2024-06-06T09:17:36.873Z"
   },
   {
    "duration": 4883,
    "start_time": "2024-06-07T11:08:36.051Z"
   },
   {
    "duration": 33,
    "start_time": "2024-06-07T11:08:40.939Z"
   },
   {
    "duration": 17,
    "start_time": "2024-06-07T11:08:40.974Z"
   },
   {
    "duration": 17,
    "start_time": "2024-06-07T11:08:40.994Z"
   },
   {
    "duration": 27,
    "start_time": "2024-06-07T11:08:41.015Z"
   },
   {
    "duration": 15,
    "start_time": "2024-06-07T11:08:41.046Z"
   },
   {
    "duration": 11,
    "start_time": "2024-06-07T11:08:41.064Z"
   },
   {
    "duration": 13,
    "start_time": "2024-06-07T11:08:41.078Z"
   },
   {
    "duration": 9,
    "start_time": "2024-06-07T11:08:41.134Z"
   },
   {
    "duration": 9,
    "start_time": "2024-06-07T11:08:41.146Z"
   },
   {
    "duration": 7,
    "start_time": "2024-06-07T11:08:41.157Z"
   },
   {
    "duration": 17,
    "start_time": "2024-06-07T11:08:41.167Z"
   },
   {
    "duration": 10,
    "start_time": "2024-06-07T11:08:41.234Z"
   },
   {
    "duration": 4,
    "start_time": "2024-06-07T11:08:41.250Z"
   },
   {
    "duration": 18,
    "start_time": "2024-06-07T11:08:41.258Z"
   },
   {
    "duration": 11,
    "start_time": "2024-06-07T11:08:41.279Z"
   },
   {
    "duration": 20,
    "start_time": "2024-06-07T11:08:41.334Z"
   },
   {
    "duration": 18,
    "start_time": "2024-06-07T11:08:41.357Z"
   },
   {
    "duration": 14,
    "start_time": "2024-06-07T11:08:41.378Z"
   },
   {
    "duration": 58,
    "start_time": "2024-06-07T11:08:41.394Z"
   },
   {
    "duration": 18,
    "start_time": "2024-06-07T11:08:41.455Z"
   },
   {
    "duration": 26,
    "start_time": "2024-06-07T11:08:41.476Z"
   },
   {
    "duration": 407,
    "start_time": "2024-06-07T11:08:41.534Z"
   },
   {
    "duration": 26,
    "start_time": "2024-06-07T11:08:41.944Z"
   },
   {
    "duration": 13,
    "start_time": "2024-06-07T11:08:41.974Z"
   },
   {
    "duration": 500,
    "start_time": "2024-06-07T11:08:41.990Z"
   },
   {
    "duration": 43,
    "start_time": "2024-06-07T11:08:42.494Z"
   },
   {
    "duration": 450,
    "start_time": "2024-06-07T11:08:42.541Z"
   },
   {
    "duration": 37,
    "start_time": "2024-06-07T11:08:42.997Z"
   },
   {
    "duration": 25,
    "start_time": "2024-06-07T11:08:43.037Z"
   },
   {
    "duration": 6,
    "start_time": "2024-06-07T11:08:43.064Z"
   },
   {
    "duration": 366,
    "start_time": "2024-06-07T11:08:43.073Z"
   },
   {
    "duration": 11,
    "start_time": "2024-06-07T11:08:43.442Z"
   },
   {
    "duration": 12,
    "start_time": "2024-06-07T11:08:43.456Z"
   },
   {
    "duration": 274,
    "start_time": "2024-06-07T11:08:43.471Z"
   },
   {
    "duration": 8,
    "start_time": "2024-06-07T11:08:43.748Z"
   },
   {
    "duration": 261,
    "start_time": "2024-06-07T11:08:43.760Z"
   },
   {
    "duration": 266,
    "start_time": "2024-06-07T11:08:44.032Z"
   },
   {
    "duration": 14,
    "start_time": "2024-06-07T11:08:44.301Z"
   },
   {
    "duration": 6,
    "start_time": "2024-06-07T11:08:44.332Z"
   },
   {
    "duration": 12,
    "start_time": "2024-06-07T11:08:44.346Z"
   },
   {
    "duration": 11,
    "start_time": "2024-06-07T11:08:44.361Z"
   },
   {
    "duration": 145,
    "start_time": "2024-06-07T11:08:44.375Z"
   },
   {
    "duration": 140,
    "start_time": "2024-06-07T11:08:44.522Z"
   },
   {
    "duration": 11,
    "start_time": "2024-06-07T11:08:44.665Z"
   },
   {
    "duration": 55,
    "start_time": "2024-06-07T11:08:44.679Z"
   },
   {
    "duration": 14,
    "start_time": "2024-06-07T11:08:44.737Z"
   },
   {
    "duration": 1149,
    "start_time": "2024-06-07T11:25:37.634Z"
   },
   {
    "duration": 22,
    "start_time": "2024-06-07T11:25:38.787Z"
   },
   {
    "duration": 28,
    "start_time": "2024-06-07T11:25:38.812Z"
   },
   {
    "duration": 16,
    "start_time": "2024-06-07T11:25:38.846Z"
   },
   {
    "duration": 15,
    "start_time": "2024-06-07T11:25:38.865Z"
   },
   {
    "duration": 51,
    "start_time": "2024-06-07T11:25:38.882Z"
   },
   {
    "duration": 11,
    "start_time": "2024-06-07T11:25:38.936Z"
   },
   {
    "duration": 14,
    "start_time": "2024-06-07T11:25:38.950Z"
   },
   {
    "duration": 7,
    "start_time": "2024-06-07T11:25:38.968Z"
   },
   {
    "duration": 8,
    "start_time": "2024-06-07T11:25:38.982Z"
   },
   {
    "duration": 8,
    "start_time": "2024-06-07T11:25:39.033Z"
   },
   {
    "duration": 15,
    "start_time": "2024-06-07T11:25:39.045Z"
   },
   {
    "duration": 10,
    "start_time": "2024-06-07T11:25:39.063Z"
   },
   {
    "duration": 5,
    "start_time": "2024-06-07T11:25:39.076Z"
   },
   {
    "duration": 19,
    "start_time": "2024-06-07T11:25:39.132Z"
   },
   {
    "duration": 11,
    "start_time": "2024-06-07T11:25:39.154Z"
   },
   {
    "duration": 16,
    "start_time": "2024-06-07T11:25:39.169Z"
   },
   {
    "duration": 49,
    "start_time": "2024-06-07T11:25:39.189Z"
   },
   {
    "duration": 13,
    "start_time": "2024-06-07T11:25:39.240Z"
   },
   {
    "duration": 21,
    "start_time": "2024-06-07T11:25:39.256Z"
   },
   {
    "duration": 58,
    "start_time": "2024-06-07T11:25:39.280Z"
   },
   {
    "duration": 27,
    "start_time": "2024-06-07T11:25:39.341Z"
   },
   {
    "duration": 410,
    "start_time": "2024-06-07T11:25:39.371Z"
   },
   {
    "duration": 27,
    "start_time": "2024-06-07T11:25:39.784Z"
   },
   {
    "duration": 20,
    "start_time": "2024-06-07T11:25:39.814Z"
   },
   {
    "duration": 515,
    "start_time": "2024-06-07T11:25:39.837Z"
   },
   {
    "duration": 24,
    "start_time": "2024-06-07T11:25:40.355Z"
   },
   {
    "duration": 473,
    "start_time": "2024-06-07T11:25:40.386Z"
   },
   {
    "duration": 22,
    "start_time": "2024-06-07T11:25:40.863Z"
   },
   {
    "duration": 49,
    "start_time": "2024-06-07T11:25:40.888Z"
   },
   {
    "duration": 8,
    "start_time": "2024-06-07T11:25:40.940Z"
   },
   {
    "duration": 363,
    "start_time": "2024-06-07T11:25:40.952Z"
   },
   {
    "duration": 18,
    "start_time": "2024-06-07T11:25:41.318Z"
   },
   {
    "duration": 15,
    "start_time": "2024-06-07T11:25:41.339Z"
   },
   {
    "duration": 342,
    "start_time": "2024-06-07T11:25:41.357Z"
   },
   {
    "duration": 8,
    "start_time": "2024-06-07T11:25:41.702Z"
   },
   {
    "duration": 279,
    "start_time": "2024-06-07T11:25:41.713Z"
   },
   {
    "duration": 272,
    "start_time": "2024-06-07T11:25:41.995Z"
   },
   {
    "duration": 13,
    "start_time": "2024-06-07T11:25:42.270Z"
   },
   {
    "duration": 9,
    "start_time": "2024-06-07T11:25:42.286Z"
   },
   {
    "duration": 43,
    "start_time": "2024-06-07T11:25:42.297Z"
   },
   {
    "duration": 10,
    "start_time": "2024-06-07T11:25:42.346Z"
   },
   {
    "duration": 138,
    "start_time": "2024-06-07T11:25:42.359Z"
   },
   {
    "duration": 129,
    "start_time": "2024-06-07T11:25:42.500Z"
   },
   {
    "duration": 11,
    "start_time": "2024-06-07T11:25:42.633Z"
   },
   {
    "duration": 32,
    "start_time": "2024-06-07T11:25:42.647Z"
   },
   {
    "duration": 14,
    "start_time": "2024-06-07T11:25:42.683Z"
   },
   {
    "duration": 1231,
    "start_time": "2024-06-07T11:35:44.781Z"
   },
   {
    "duration": 86,
    "start_time": "2024-06-07T11:36:59.573Z"
   },
   {
    "duration": 11,
    "start_time": "2024-06-07T11:37:14.876Z"
   },
   {
    "duration": 13,
    "start_time": "2024-06-07T11:39:05.298Z"
   },
   {
    "duration": 39,
    "start_time": "2024-06-07T11:41:01.418Z"
   },
   {
    "duration": 12,
    "start_time": "2024-06-07T11:41:17.772Z"
   },
   {
    "duration": 87,
    "start_time": "2024-06-07T11:41:28.818Z"
   },
   {
    "duration": 13,
    "start_time": "2024-06-07T11:41:47.859Z"
   },
   {
    "duration": 30,
    "start_time": "2024-06-07T11:42:49.622Z"
   },
   {
    "duration": 4,
    "start_time": "2024-06-07T11:50:57.144Z"
   },
   {
    "duration": 13,
    "start_time": "2024-06-07T11:51:48.853Z"
   },
   {
    "duration": 19,
    "start_time": "2024-06-07T11:53:39.260Z"
   },
   {
    "duration": 16,
    "start_time": "2024-06-07T11:54:27.412Z"
   },
   {
    "duration": 1182,
    "start_time": "2024-06-07T11:54:35.389Z"
   },
   {
    "duration": 24,
    "start_time": "2024-06-07T11:54:36.576Z"
   },
   {
    "duration": 17,
    "start_time": "2024-06-07T11:54:36.602Z"
   },
   {
    "duration": 14,
    "start_time": "2024-06-07T11:54:36.636Z"
   },
   {
    "duration": 12,
    "start_time": "2024-06-07T11:54:36.653Z"
   },
   {
    "duration": 14,
    "start_time": "2024-06-07T11:54:36.669Z"
   },
   {
    "duration": 49,
    "start_time": "2024-06-07T11:54:36.686Z"
   },
   {
    "duration": 14,
    "start_time": "2024-06-07T11:54:36.738Z"
   },
   {
    "duration": 8,
    "start_time": "2024-06-07T11:54:36.754Z"
   },
   {
    "duration": 9,
    "start_time": "2024-06-07T11:54:36.769Z"
   },
   {
    "duration": 52,
    "start_time": "2024-06-07T11:54:36.782Z"
   },
   {
    "duration": 14,
    "start_time": "2024-06-07T11:54:36.838Z"
   },
   {
    "duration": 11,
    "start_time": "2024-06-07T11:54:36.855Z"
   },
   {
    "duration": 5,
    "start_time": "2024-06-07T11:54:36.868Z"
   },
   {
    "duration": 67,
    "start_time": "2024-06-07T11:54:36.877Z"
   },
   {
    "duration": 11,
    "start_time": "2024-06-07T11:54:36.947Z"
   },
   {
    "duration": 19,
    "start_time": "2024-06-07T11:54:36.962Z"
   },
   {
    "duration": 48,
    "start_time": "2024-06-07T11:54:36.985Z"
   },
   {
    "duration": 13,
    "start_time": "2024-06-07T11:54:37.036Z"
   },
   {
    "duration": 19,
    "start_time": "2024-06-07T11:54:37.052Z"
   },
   {
    "duration": 18,
    "start_time": "2024-06-07T11:54:37.073Z"
   },
   {
    "duration": 69,
    "start_time": "2024-06-07T11:54:37.093Z"
   },
   {
    "duration": 420,
    "start_time": "2024-06-07T11:54:37.165Z"
   },
   {
    "duration": 24,
    "start_time": "2024-06-07T11:54:37.589Z"
   },
   {
    "duration": 16,
    "start_time": "2024-06-07T11:54:37.616Z"
   },
   {
    "duration": 524,
    "start_time": "2024-06-07T11:54:37.635Z"
   },
   {
    "duration": 25,
    "start_time": "2024-06-07T11:54:38.162Z"
   },
   {
    "duration": 466,
    "start_time": "2024-06-07T11:54:38.196Z"
   },
   {
    "duration": 22,
    "start_time": "2024-06-07T11:54:38.665Z"
   },
   {
    "duration": 46,
    "start_time": "2024-06-07T11:54:38.690Z"
   },
   {
    "duration": 5,
    "start_time": "2024-06-07T11:54:38.740Z"
   },
   {
    "duration": 355,
    "start_time": "2024-06-07T11:54:38.749Z"
   },
   {
    "duration": 10,
    "start_time": "2024-06-07T11:54:39.108Z"
   },
   {
    "duration": 24,
    "start_time": "2024-06-07T11:54:39.121Z"
   },
   {
    "duration": 335,
    "start_time": "2024-06-07T11:54:39.149Z"
   },
   {
    "duration": 7,
    "start_time": "2024-06-07T11:54:39.487Z"
   },
   {
    "duration": 265,
    "start_time": "2024-06-07T11:54:39.497Z"
   },
   {
    "duration": 256,
    "start_time": "2024-06-07T11:54:39.765Z"
   },
   {
    "duration": 17,
    "start_time": "2024-06-07T11:54:40.025Z"
   },
   {
    "duration": 7,
    "start_time": "2024-06-07T11:54:40.045Z"
   },
   {
    "duration": 12,
    "start_time": "2024-06-07T11:54:40.057Z"
   },
   {
    "duration": 9,
    "start_time": "2024-06-07T11:54:40.072Z"
   },
   {
    "duration": 175,
    "start_time": "2024-06-07T11:54:40.085Z"
   },
   {
    "duration": 136,
    "start_time": "2024-06-07T11:54:40.264Z"
   },
   {
    "duration": 16,
    "start_time": "2024-06-07T11:54:40.403Z"
   },
   {
    "duration": 36,
    "start_time": "2024-06-07T11:54:40.425Z"
   },
   {
    "duration": 14,
    "start_time": "2024-06-07T11:54:40.464Z"
   },
   {
    "duration": 12,
    "start_time": "2024-06-07T11:54:40.481Z"
   },
   {
    "duration": 45,
    "start_time": "2024-06-07T11:54:40.496Z"
   },
   {
    "duration": 33,
    "start_time": "2024-06-07T11:54:40.544Z"
   },
   {
    "duration": 19,
    "start_time": "2024-06-07T11:54:40.580Z"
   },
   {
    "duration": 19,
    "start_time": "2024-06-07T12:02:33.859Z"
   },
   {
    "duration": 18,
    "start_time": "2024-06-07T12:03:29.502Z"
   },
   {
    "duration": 1155,
    "start_time": "2024-06-07T12:14:17.827Z"
   },
   {
    "duration": 22,
    "start_time": "2024-06-07T12:14:18.986Z"
   },
   {
    "duration": 23,
    "start_time": "2024-06-07T12:14:19.012Z"
   },
   {
    "duration": 14,
    "start_time": "2024-06-07T12:14:19.038Z"
   },
   {
    "duration": 14,
    "start_time": "2024-06-07T12:14:19.057Z"
   },
   {
    "duration": 15,
    "start_time": "2024-06-07T12:14:19.074Z"
   },
   {
    "duration": 12,
    "start_time": "2024-06-07T12:14:19.132Z"
   },
   {
    "duration": 16,
    "start_time": "2024-06-07T12:14:19.147Z"
   },
   {
    "duration": 9,
    "start_time": "2024-06-07T12:14:19.167Z"
   },
   {
    "duration": 55,
    "start_time": "2024-06-07T12:14:19.179Z"
   },
   {
    "duration": 7,
    "start_time": "2024-06-07T12:14:19.237Z"
   },
   {
    "duration": 14,
    "start_time": "2024-06-07T12:14:19.248Z"
   },
   {
    "duration": 10,
    "start_time": "2024-06-07T12:14:19.265Z"
   },
   {
    "duration": 4,
    "start_time": "2024-06-07T12:14:19.283Z"
   },
   {
    "duration": 64,
    "start_time": "2024-06-07T12:14:19.289Z"
   },
   {
    "duration": 10,
    "start_time": "2024-06-07T12:14:19.356Z"
   },
   {
    "duration": 18,
    "start_time": "2024-06-07T12:14:19.369Z"
   },
   {
    "duration": 54,
    "start_time": "2024-06-07T12:14:19.390Z"
   },
   {
    "duration": 13,
    "start_time": "2024-06-07T12:14:19.447Z"
   },
   {
    "duration": 20,
    "start_time": "2024-06-07T12:14:19.465Z"
   },
   {
    "duration": 54,
    "start_time": "2024-06-07T12:14:19.488Z"
   },
   {
    "duration": 24,
    "start_time": "2024-06-07T12:14:19.546Z"
   },
   {
    "duration": 420,
    "start_time": "2024-06-07T12:14:19.573Z"
   },
   {
    "duration": 25,
    "start_time": "2024-06-07T12:14:19.997Z"
   },
   {
    "duration": 13,
    "start_time": "2024-06-07T12:14:20.025Z"
   },
   {
    "duration": 511,
    "start_time": "2024-06-07T12:14:20.041Z"
   },
   {
    "duration": 24,
    "start_time": "2024-06-07T12:14:20.556Z"
   },
   {
    "duration": 470,
    "start_time": "2024-06-07T12:14:20.583Z"
   },
   {
    "duration": 21,
    "start_time": "2024-06-07T12:14:21.056Z"
   },
   {
    "duration": 23,
    "start_time": "2024-06-07T12:14:21.080Z"
   },
   {
    "duration": 5,
    "start_time": "2024-06-07T12:14:21.134Z"
   },
   {
    "duration": 391,
    "start_time": "2024-06-07T12:14:21.142Z"
   },
   {
    "duration": 14,
    "start_time": "2024-06-07T12:14:21.536Z"
   },
   {
    "duration": 12,
    "start_time": "2024-06-07T12:14:21.553Z"
   },
   {
    "duration": 347,
    "start_time": "2024-06-07T12:14:21.568Z"
   },
   {
    "duration": 20,
    "start_time": "2024-06-07T12:14:21.918Z"
   },
   {
    "duration": 257,
    "start_time": "2024-06-07T12:14:21.941Z"
   },
   {
    "duration": 272,
    "start_time": "2024-06-07T12:14:22.201Z"
   },
   {
    "duration": 16,
    "start_time": "2024-06-07T12:14:22.481Z"
   },
   {
    "duration": 12,
    "start_time": "2024-06-07T12:14:22.500Z"
   },
   {
    "duration": 13,
    "start_time": "2024-06-07T12:14:22.542Z"
   },
   {
    "duration": 16,
    "start_time": "2024-06-07T12:14:22.558Z"
   },
   {
    "duration": 138,
    "start_time": "2024-06-07T12:14:22.578Z"
   },
   {
    "duration": 130,
    "start_time": "2024-06-07T12:14:22.718Z"
   },
   {
    "duration": 11,
    "start_time": "2024-06-07T12:14:22.851Z"
   },
   {
    "duration": 32,
    "start_time": "2024-06-07T12:14:22.865Z"
   },
   {
    "duration": 40,
    "start_time": "2024-06-07T12:14:22.900Z"
   },
   {
    "duration": 12,
    "start_time": "2024-06-07T12:14:22.943Z"
   },
   {
    "duration": 12,
    "start_time": "2024-06-07T12:14:22.958Z"
   },
   {
    "duration": 70,
    "start_time": "2024-06-07T12:14:22.973Z"
   },
   {
    "duration": 19,
    "start_time": "2024-06-07T12:14:23.046Z"
   },
   {
    "duration": 19,
    "start_time": "2024-06-07T12:29:05.292Z"
   },
   {
    "duration": 4853,
    "start_time": "2024-06-08T11:44:44.473Z"
   },
   {
    "duration": 30,
    "start_time": "2024-06-08T11:44:49.331Z"
   },
   {
    "duration": 16,
    "start_time": "2024-06-08T11:44:49.364Z"
   },
   {
    "duration": 14,
    "start_time": "2024-06-08T11:44:49.383Z"
   },
   {
    "duration": 14,
    "start_time": "2024-06-08T11:44:49.422Z"
   },
   {
    "duration": 15,
    "start_time": "2024-06-08T11:44:49.440Z"
   },
   {
    "duration": 11,
    "start_time": "2024-06-08T11:44:49.458Z"
   },
   {
    "duration": 56,
    "start_time": "2024-06-08T11:44:49.473Z"
   },
   {
    "duration": 8,
    "start_time": "2024-06-08T11:44:49.532Z"
   },
   {
    "duration": 12,
    "start_time": "2024-06-08T11:44:49.543Z"
   },
   {
    "duration": 11,
    "start_time": "2024-06-08T11:44:49.557Z"
   },
   {
    "duration": 60,
    "start_time": "2024-06-08T11:44:49.571Z"
   },
   {
    "duration": 11,
    "start_time": "2024-06-08T11:44:49.634Z"
   },
   {
    "duration": 10,
    "start_time": "2024-06-08T11:44:49.653Z"
   },
   {
    "duration": 58,
    "start_time": "2024-06-08T11:44:49.666Z"
   },
   {
    "duration": 13,
    "start_time": "2024-06-08T11:44:49.727Z"
   },
   {
    "duration": 20,
    "start_time": "2024-06-08T11:44:49.743Z"
   },
   {
    "duration": 13,
    "start_time": "2024-06-08T11:44:49.767Z"
   },
   {
    "duration": 21,
    "start_time": "2024-06-08T11:44:49.824Z"
   },
   {
    "duration": 22,
    "start_time": "2024-06-08T11:44:49.848Z"
   },
   {
    "duration": 54,
    "start_time": "2024-06-08T11:44:49.873Z"
   },
   {
    "duration": 29,
    "start_time": "2024-06-08T11:44:49.930Z"
   },
   {
    "duration": 454,
    "start_time": "2024-06-08T11:44:49.962Z"
   },
   {
    "duration": 30,
    "start_time": "2024-06-08T11:44:50.419Z"
   },
   {
    "duration": 16,
    "start_time": "2024-06-08T11:44:50.452Z"
   },
   {
    "duration": 563,
    "start_time": "2024-06-08T11:44:50.472Z"
   },
   {
    "duration": 27,
    "start_time": "2024-06-08T11:44:51.038Z"
   },
   {
    "duration": 494,
    "start_time": "2024-06-08T11:44:51.068Z"
   },
   {
    "duration": 23,
    "start_time": "2024-06-08T11:44:51.565Z"
   },
   {
    "duration": 45,
    "start_time": "2024-06-08T11:44:51.591Z"
   },
   {
    "duration": 5,
    "start_time": "2024-06-08T11:44:51.640Z"
   },
   {
    "duration": 360,
    "start_time": "2024-06-08T11:44:51.649Z"
   },
   {
    "duration": 18,
    "start_time": "2024-06-08T11:44:52.023Z"
   },
   {
    "duration": 11,
    "start_time": "2024-06-08T11:44:52.045Z"
   },
   {
    "duration": 272,
    "start_time": "2024-06-08T11:44:52.059Z"
   },
   {
    "duration": 9,
    "start_time": "2024-06-08T11:44:52.333Z"
   },
   {
    "duration": 272,
    "start_time": "2024-06-08T11:44:52.345Z"
   },
   {
    "duration": 323,
    "start_time": "2024-06-08T11:44:52.624Z"
   },
   {
    "duration": 14,
    "start_time": "2024-06-08T11:44:52.950Z"
   },
   {
    "duration": 8,
    "start_time": "2024-06-08T11:44:52.967Z"
   },
   {
    "duration": 44,
    "start_time": "2024-06-08T11:44:52.985Z"
   },
   {
    "duration": 12,
    "start_time": "2024-06-08T11:44:53.032Z"
   },
   {
    "duration": 139,
    "start_time": "2024-06-08T11:44:53.048Z"
   },
   {
    "duration": 160,
    "start_time": "2024-06-08T11:44:53.190Z"
   },
   {
    "duration": 15,
    "start_time": "2024-06-08T11:44:53.353Z"
   },
   {
    "duration": 55,
    "start_time": "2024-06-08T11:44:53.371Z"
   },
   {
    "duration": 14,
    "start_time": "2024-06-08T11:44:53.430Z"
   },
   {
    "duration": 12,
    "start_time": "2024-06-08T11:44:53.447Z"
   },
   {
    "duration": 13,
    "start_time": "2024-06-08T11:44:53.462Z"
   },
   {
    "duration": 66,
    "start_time": "2024-06-08T11:44:53.480Z"
   },
   {
    "duration": 22,
    "start_time": "2024-06-08T11:44:53.550Z"
   },
   {
    "duration": 328,
    "start_time": "2024-06-08T16:14:05.862Z"
   },
   {
    "duration": 5091,
    "start_time": "2024-06-08T16:14:12.349Z"
   },
   {
    "duration": 32,
    "start_time": "2024-06-08T16:14:17.445Z"
   },
   {
    "duration": 16,
    "start_time": "2024-06-08T16:14:17.480Z"
   },
   {
    "duration": 28,
    "start_time": "2024-06-08T16:14:17.500Z"
   },
   {
    "duration": 14,
    "start_time": "2024-06-08T16:14:17.533Z"
   },
   {
    "duration": 15,
    "start_time": "2024-06-08T16:14:17.551Z"
   },
   {
    "duration": 12,
    "start_time": "2024-06-08T16:14:17.569Z"
   },
   {
    "duration": 14,
    "start_time": "2024-06-08T16:14:17.624Z"
   },
   {
    "duration": 25,
    "start_time": "2024-06-08T16:14:17.641Z"
   },
   {
    "duration": 52,
    "start_time": "2024-06-08T16:14:17.672Z"
   },
   {
    "duration": 10,
    "start_time": "2024-06-08T16:14:17.728Z"
   },
   {
    "duration": 9,
    "start_time": "2024-06-08T16:14:17.742Z"
   },
   {
    "duration": 17,
    "start_time": "2024-06-08T16:14:17.755Z"
   },
   {
    "duration": 55,
    "start_time": "2024-06-08T16:14:17.776Z"
   },
   {
    "duration": 6,
    "start_time": "2024-06-08T16:14:17.834Z"
   },
   {
    "duration": 22,
    "start_time": "2024-06-08T16:14:17.843Z"
   },
   {
    "duration": 56,
    "start_time": "2024-06-08T16:14:17.874Z"
   },
   {
    "duration": 21,
    "start_time": "2024-06-08T16:14:17.934Z"
   },
   {
    "duration": 14,
    "start_time": "2024-06-08T16:14:17.959Z"
   },
   {
    "duration": 48,
    "start_time": "2024-06-08T16:14:17.977Z"
   },
   {
    "duration": 22,
    "start_time": "2024-06-08T16:14:18.028Z"
   },
   {
    "duration": 18,
    "start_time": "2024-06-08T16:14:18.053Z"
   },
   {
    "duration": 69,
    "start_time": "2024-06-08T16:14:18.075Z"
   },
   {
    "duration": 420,
    "start_time": "2024-06-08T16:14:18.147Z"
   },
   {
    "duration": 26,
    "start_time": "2024-06-08T16:14:18.570Z"
   },
   {
    "duration": 26,
    "start_time": "2024-06-08T16:14:18.599Z"
   },
   {
    "duration": 545,
    "start_time": "2024-06-08T16:14:18.629Z"
   },
   {
    "duration": 41,
    "start_time": "2024-06-08T16:14:19.184Z"
   },
   {
    "duration": 463,
    "start_time": "2024-06-08T16:14:19.228Z"
   },
   {
    "duration": 38,
    "start_time": "2024-06-08T16:14:19.695Z"
   },
   {
    "duration": 41,
    "start_time": "2024-06-08T16:14:19.738Z"
   },
   {
    "duration": 6,
    "start_time": "2024-06-08T16:14:19.782Z"
   },
   {
    "duration": 412,
    "start_time": "2024-06-08T16:14:19.791Z"
   },
   {
    "duration": 21,
    "start_time": "2024-06-08T16:14:20.207Z"
   },
   {
    "duration": 13,
    "start_time": "2024-06-08T16:14:20.231Z"
   },
   {
    "duration": 282,
    "start_time": "2024-06-08T16:14:20.248Z"
   },
   {
    "duration": 8,
    "start_time": "2024-06-08T16:14:20.533Z"
   },
   {
    "duration": 289,
    "start_time": "2024-06-08T16:14:20.545Z"
   },
   {
    "duration": 276,
    "start_time": "2024-06-08T16:14:20.838Z"
   },
   {
    "duration": 15,
    "start_time": "2024-06-08T16:14:21.123Z"
   },
   {
    "duration": 14,
    "start_time": "2024-06-08T16:14:21.141Z"
   },
   {
    "duration": 15,
    "start_time": "2024-06-08T16:14:21.163Z"
   },
   {
    "duration": 44,
    "start_time": "2024-06-08T16:14:21.182Z"
   },
   {
    "duration": 144,
    "start_time": "2024-06-08T16:14:21.231Z"
   },
   {
    "duration": 137,
    "start_time": "2024-06-08T16:14:21.378Z"
   },
   {
    "duration": 84,
    "start_time": "2024-06-08T16:14:21.522Z"
   },
   {
    "duration": 42,
    "start_time": "2024-06-08T16:14:21.609Z"
   },
   {
    "duration": 16,
    "start_time": "2024-06-08T16:14:21.655Z"
   },
   {
    "duration": 53,
    "start_time": "2024-06-08T16:14:21.675Z"
   },
   {
    "duration": 17,
    "start_time": "2024-06-08T16:14:21.731Z"
   },
   {
    "duration": 31,
    "start_time": "2024-06-08T16:14:21.755Z"
   },
   {
    "duration": 49,
    "start_time": "2024-06-08T16:14:21.790Z"
   },
   {
    "duration": 6,
    "start_time": "2024-06-08T16:24:51.752Z"
   },
   {
    "duration": 404,
    "start_time": "2024-06-08T16:25:00.406Z"
   },
   {
    "duration": 311,
    "start_time": "2024-06-09T19:10:23.538Z"
   },
   {
    "duration": 5256,
    "start_time": "2024-06-09T19:10:30.018Z"
   },
   {
    "duration": 35,
    "start_time": "2024-06-09T19:10:35.279Z"
   },
   {
    "duration": 18,
    "start_time": "2024-06-09T19:10:35.316Z"
   },
   {
    "duration": 22,
    "start_time": "2024-06-09T19:10:35.354Z"
   },
   {
    "duration": 15,
    "start_time": "2024-06-09T19:10:35.382Z"
   },
   {
    "duration": 16,
    "start_time": "2024-06-09T19:10:35.404Z"
   },
   {
    "duration": 11,
    "start_time": "2024-06-09T19:10:35.423Z"
   },
   {
    "duration": 17,
    "start_time": "2024-06-09T19:10:35.438Z"
   },
   {
    "duration": 71,
    "start_time": "2024-06-09T19:10:35.458Z"
   },
   {
    "duration": 8,
    "start_time": "2024-06-09T19:10:35.534Z"
   },
   {
    "duration": 9,
    "start_time": "2024-06-09T19:10:35.545Z"
   },
   {
    "duration": 48,
    "start_time": "2024-06-09T19:10:35.557Z"
   },
   {
    "duration": 18,
    "start_time": "2024-06-09T19:10:35.608Z"
   },
   {
    "duration": 12,
    "start_time": "2024-06-09T19:10:35.629Z"
   },
   {
    "duration": 6,
    "start_time": "2024-06-09T19:10:35.644Z"
   },
   {
    "duration": 67,
    "start_time": "2024-06-09T19:10:35.654Z"
   },
   {
    "duration": 13,
    "start_time": "2024-06-09T19:10:35.725Z"
   },
   {
    "duration": 18,
    "start_time": "2024-06-09T19:10:35.742Z"
   },
   {
    "duration": 49,
    "start_time": "2024-06-09T19:10:35.764Z"
   },
   {
    "duration": 16,
    "start_time": "2024-06-09T19:10:35.816Z"
   },
   {
    "duration": 23,
    "start_time": "2024-06-09T19:10:35.836Z"
   },
   {
    "duration": 59,
    "start_time": "2024-06-09T19:10:35.863Z"
   },
   {
    "duration": 46,
    "start_time": "2024-06-09T19:10:35.925Z"
   },
   {
    "duration": 437,
    "start_time": "2024-06-09T19:10:35.975Z"
   },
   {
    "duration": 26,
    "start_time": "2024-06-09T19:10:36.414Z"
   },
   {
    "duration": 16,
    "start_time": "2024-06-09T19:10:36.443Z"
   },
   {
    "duration": 562,
    "start_time": "2024-06-09T19:10:36.462Z"
   },
   {
    "duration": 30,
    "start_time": "2024-06-09T19:10:37.033Z"
   },
   {
    "duration": 528,
    "start_time": "2024-06-09T19:10:37.066Z"
   },
   {
    "duration": 27,
    "start_time": "2024-06-09T19:10:37.603Z"
   },
   {
    "duration": 25,
    "start_time": "2024-06-09T19:10:37.633Z"
   },
   {
    "duration": 42,
    "start_time": "2024-06-09T19:10:37.661Z"
   },
   {
    "duration": 458,
    "start_time": "2024-06-09T19:10:37.707Z"
   },
   {
    "duration": 10,
    "start_time": "2024-06-09T19:10:38.168Z"
   },
   {
    "duration": 23,
    "start_time": "2024-06-09T19:10:38.201Z"
   },
   {
    "duration": 273,
    "start_time": "2024-06-09T19:10:38.228Z"
   },
   {
    "duration": 7,
    "start_time": "2024-06-09T19:10:38.504Z"
   },
   {
    "duration": 281,
    "start_time": "2024-06-09T19:10:38.514Z"
   },
   {
    "duration": 256,
    "start_time": "2024-06-09T19:10:38.800Z"
   },
   {
    "duration": 13,
    "start_time": "2024-06-09T19:10:39.062Z"
   },
   {
    "duration": 28,
    "start_time": "2024-06-09T19:10:39.078Z"
   },
   {
    "duration": 13,
    "start_time": "2024-06-09T19:10:39.109Z"
   },
   {
    "duration": 11,
    "start_time": "2024-06-09T19:10:39.126Z"
   },
   {
    "duration": 162,
    "start_time": "2024-06-09T19:10:39.140Z"
   },
   {
    "duration": 141,
    "start_time": "2024-06-09T19:10:39.305Z"
   },
   {
    "duration": 11,
    "start_time": "2024-06-09T19:10:39.450Z"
   },
   {
    "duration": 63,
    "start_time": "2024-06-09T19:10:39.465Z"
   },
   {
    "duration": 21,
    "start_time": "2024-06-09T19:10:39.532Z"
   },
   {
    "duration": 18,
    "start_time": "2024-06-09T19:10:39.556Z"
   },
   {
    "duration": 26,
    "start_time": "2024-06-09T19:10:39.581Z"
   },
   {
    "duration": 36,
    "start_time": "2024-06-09T19:10:39.613Z"
   },
   {
    "duration": 23,
    "start_time": "2024-06-09T19:10:39.653Z"
   },
   {
    "duration": 6,
    "start_time": "2024-06-09T19:11:02.727Z"
   },
   {
    "duration": 17,
    "start_time": "2024-06-09T19:11:49.983Z"
   },
   {
    "duration": 1549,
    "start_time": "2024-06-09T19:12:17.430Z"
   },
   {
    "duration": 26,
    "start_time": "2024-06-09T19:12:18.985Z"
   },
   {
    "duration": 18,
    "start_time": "2024-06-09T19:12:19.015Z"
   },
   {
    "duration": 18,
    "start_time": "2024-06-09T19:12:19.041Z"
   },
   {
    "duration": 36,
    "start_time": "2024-06-09T19:12:19.067Z"
   },
   {
    "duration": 17,
    "start_time": "2024-06-09T19:12:19.107Z"
   },
   {
    "duration": 14,
    "start_time": "2024-06-09T19:12:19.127Z"
   },
   {
    "duration": 56,
    "start_time": "2024-06-09T19:12:19.145Z"
   },
   {
    "duration": 41,
    "start_time": "2024-06-09T19:12:19.206Z"
   },
   {
    "duration": 11,
    "start_time": "2024-06-09T19:12:19.254Z"
   },
   {
    "duration": 11,
    "start_time": "2024-06-09T19:12:19.269Z"
   },
   {
    "duration": 21,
    "start_time": "2024-06-09T19:12:19.285Z"
   },
   {
    "duration": 25,
    "start_time": "2024-06-09T19:12:19.309Z"
   },
   {
    "duration": 13,
    "start_time": "2024-06-09T19:12:19.338Z"
   },
   {
    "duration": 6,
    "start_time": "2024-06-09T19:12:19.357Z"
   },
   {
    "duration": 56,
    "start_time": "2024-06-09T19:12:19.368Z"
   },
   {
    "duration": 17,
    "start_time": "2024-06-09T19:12:19.429Z"
   },
   {
    "duration": 61,
    "start_time": "2024-06-09T19:12:19.450Z"
   },
   {
    "duration": 22,
    "start_time": "2024-06-09T19:12:19.515Z"
   },
   {
    "duration": 20,
    "start_time": "2024-06-09T19:12:19.541Z"
   },
   {
    "duration": 52,
    "start_time": "2024-06-09T19:12:19.566Z"
   },
   {
    "duration": 24,
    "start_time": "2024-06-09T19:12:19.622Z"
   },
   {
    "duration": 57,
    "start_time": "2024-06-09T19:12:19.650Z"
   },
   {
    "duration": 467,
    "start_time": "2024-06-09T19:12:19.711Z"
   },
   {
    "duration": 34,
    "start_time": "2024-06-09T19:12:20.182Z"
   },
   {
    "duration": 19,
    "start_time": "2024-06-09T19:12:20.220Z"
   },
   {
    "duration": 649,
    "start_time": "2024-06-09T19:12:20.243Z"
   },
   {
    "duration": 31,
    "start_time": "2024-06-09T19:12:20.905Z"
   },
   {
    "duration": 625,
    "start_time": "2024-06-09T19:12:20.940Z"
   },
   {
    "duration": 40,
    "start_time": "2024-06-09T19:12:21.569Z"
   },
   {
    "duration": 39,
    "start_time": "2024-06-09T19:12:21.612Z"
   },
   {
    "duration": 6,
    "start_time": "2024-06-09T19:12:21.655Z"
   },
   {
    "duration": 512,
    "start_time": "2024-06-09T19:12:21.666Z"
   },
   {
    "duration": 17,
    "start_time": "2024-06-09T19:12:22.185Z"
   },
   {
    "duration": 13,
    "start_time": "2024-06-09T19:12:22.206Z"
   },
   {
    "duration": 552,
    "start_time": "2024-06-09T19:12:22.222Z"
   },
   {
    "duration": 20,
    "start_time": "2024-06-09T19:12:22.782Z"
   },
   {
    "duration": 297,
    "start_time": "2024-06-09T19:12:22.805Z"
   },
   {
    "duration": 320,
    "start_time": "2024-06-09T19:12:23.105Z"
   },
   {
    "duration": 16,
    "start_time": "2024-06-09T19:12:23.430Z"
   },
   {
    "duration": 9,
    "start_time": "2024-06-09T19:12:23.450Z"
   },
   {
    "duration": 49,
    "start_time": "2024-06-09T19:12:23.464Z"
   },
   {
    "duration": 14,
    "start_time": "2024-06-09T19:12:23.517Z"
   },
   {
    "duration": 174,
    "start_time": "2024-06-09T19:12:23.535Z"
   },
   {
    "duration": 170,
    "start_time": "2024-06-09T19:12:23.713Z"
   },
   {
    "duration": 26,
    "start_time": "2024-06-09T19:12:23.886Z"
   },
   {
    "duration": 35,
    "start_time": "2024-06-09T19:12:23.916Z"
   },
   {
    "duration": 52,
    "start_time": "2024-06-09T19:12:23.955Z"
   },
   {
    "duration": 19,
    "start_time": "2024-06-09T19:12:24.011Z"
   },
   {
    "duration": 20,
    "start_time": "2024-06-09T19:12:24.034Z"
   },
   {
    "duration": 70,
    "start_time": "2024-06-09T19:12:24.058Z"
   },
   {
    "duration": 23,
    "start_time": "2024-06-09T19:12:24.131Z"
   },
   {
    "duration": 17,
    "start_time": "2024-06-09T19:14:56.272Z"
   },
   {
    "duration": 1154,
    "start_time": "2024-06-09T19:15:09.503Z"
   },
   {
    "duration": 19,
    "start_time": "2024-06-09T19:15:10.663Z"
   },
   {
    "duration": 25,
    "start_time": "2024-06-09T19:15:10.685Z"
   },
   {
    "duration": 15,
    "start_time": "2024-06-09T19:15:10.713Z"
   },
   {
    "duration": 13,
    "start_time": "2024-06-09T19:15:10.733Z"
   },
   {
    "duration": 53,
    "start_time": "2024-06-09T19:15:10.750Z"
   },
   {
    "duration": 10,
    "start_time": "2024-06-09T19:15:10.806Z"
   },
   {
    "duration": 15,
    "start_time": "2024-06-09T19:15:10.819Z"
   },
   {
    "duration": 66,
    "start_time": "2024-06-09T19:15:10.837Z"
   },
   {
    "duration": 7,
    "start_time": "2024-06-09T19:15:10.906Z"
   },
   {
    "duration": 11,
    "start_time": "2024-06-09T19:15:10.917Z"
   },
   {
    "duration": 7,
    "start_time": "2024-06-09T19:15:10.931Z"
   },
   {
    "duration": 61,
    "start_time": "2024-06-09T19:15:10.942Z"
   },
   {
    "duration": 10,
    "start_time": "2024-06-09T19:15:11.010Z"
   },
   {
    "duration": 5,
    "start_time": "2024-06-09T19:15:11.023Z"
   },
   {
    "duration": 20,
    "start_time": "2024-06-09T19:15:11.031Z"
   },
   {
    "duration": 52,
    "start_time": "2024-06-09T19:15:11.054Z"
   },
   {
    "duration": 18,
    "start_time": "2024-06-09T19:15:11.109Z"
   },
   {
    "duration": 13,
    "start_time": "2024-06-09T19:15:11.130Z"
   },
   {
    "duration": 55,
    "start_time": "2024-06-09T19:15:11.146Z"
   },
   {
    "duration": 23,
    "start_time": "2024-06-09T19:15:11.204Z"
   },
   {
    "duration": 19,
    "start_time": "2024-06-09T19:15:11.229Z"
   },
   {
    "duration": 57,
    "start_time": "2024-06-09T19:15:11.251Z"
   },
   {
    "duration": 399,
    "start_time": "2024-06-09T19:15:11.311Z"
   },
   {
    "duration": 26,
    "start_time": "2024-06-09T19:15:11.714Z"
   },
   {
    "duration": 15,
    "start_time": "2024-06-09T19:15:11.745Z"
   },
   {
    "duration": 477,
    "start_time": "2024-06-09T19:15:11.763Z"
   },
   {
    "duration": 25,
    "start_time": "2024-06-09T19:15:12.243Z"
   },
   {
    "duration": 494,
    "start_time": "2024-06-09T19:15:12.271Z"
   },
   {
    "duration": 33,
    "start_time": "2024-06-09T19:15:12.768Z"
   },
   {
    "duration": 24,
    "start_time": "2024-06-09T19:15:12.804Z"
   },
   {
    "duration": 5,
    "start_time": "2024-06-09T19:15:12.831Z"
   },
   {
    "duration": 366,
    "start_time": "2024-06-09T19:15:12.839Z"
   },
   {
    "duration": 9,
    "start_time": "2024-06-09T19:15:13.210Z"
   },
   {
    "duration": 14,
    "start_time": "2024-06-09T19:15:13.222Z"
   },
   {
    "duration": 340,
    "start_time": "2024-06-09T19:15:13.240Z"
   },
   {
    "duration": 19,
    "start_time": "2024-06-09T19:15:13.583Z"
   },
   {
    "duration": 283,
    "start_time": "2024-06-09T19:15:13.606Z"
   },
   {
    "duration": 257,
    "start_time": "2024-06-09T19:15:13.892Z"
   },
   {
    "duration": 13,
    "start_time": "2024-06-09T19:15:14.153Z"
   },
   {
    "duration": 27,
    "start_time": "2024-06-09T19:15:14.176Z"
   },
   {
    "duration": 12,
    "start_time": "2024-06-09T19:15:14.206Z"
   },
   {
    "duration": 10,
    "start_time": "2024-06-09T19:15:14.222Z"
   },
   {
    "duration": 134,
    "start_time": "2024-06-09T19:15:14.235Z"
   },
   {
    "duration": 139,
    "start_time": "2024-06-09T19:15:14.373Z"
   },
   {
    "duration": 11,
    "start_time": "2024-06-09T19:15:14.515Z"
   },
   {
    "duration": 32,
    "start_time": "2024-06-09T19:15:14.528Z"
   },
   {
    "duration": 45,
    "start_time": "2024-06-09T19:15:14.563Z"
   },
   {
    "duration": 13,
    "start_time": "2024-06-09T19:15:14.611Z"
   },
   {
    "duration": 13,
    "start_time": "2024-06-09T19:15:14.626Z"
   },
   {
    "duration": 64,
    "start_time": "2024-06-09T19:15:14.642Z"
   },
   {
    "duration": 18,
    "start_time": "2024-06-09T19:15:14.709Z"
   },
   {
    "duration": 23,
    "start_time": "2024-06-09T19:23:21.848Z"
   },
   {
    "duration": 35,
    "start_time": "2024-06-09T19:25:39.889Z"
   },
   {
    "duration": 383,
    "start_time": "2024-06-09T19:26:23.043Z"
   },
   {
    "duration": 1165,
    "start_time": "2024-06-09T19:36:20.888Z"
   },
   {
    "duration": 22,
    "start_time": "2024-06-09T19:36:22.057Z"
   },
   {
    "duration": 21,
    "start_time": "2024-06-09T19:36:22.082Z"
   },
   {
    "duration": 14,
    "start_time": "2024-06-09T19:36:22.106Z"
   },
   {
    "duration": 13,
    "start_time": "2024-06-09T19:36:22.125Z"
   },
   {
    "duration": 15,
    "start_time": "2024-06-09T19:36:22.141Z"
   },
   {
    "duration": 52,
    "start_time": "2024-06-09T19:36:22.158Z"
   },
   {
    "duration": 13,
    "start_time": "2024-06-09T19:36:22.213Z"
   },
   {
    "duration": 24,
    "start_time": "2024-06-09T19:36:22.230Z"
   },
   {
    "duration": 9,
    "start_time": "2024-06-09T19:36:22.301Z"
   },
   {
    "duration": 8,
    "start_time": "2024-06-09T19:36:22.313Z"
   },
   {
    "duration": 8,
    "start_time": "2024-06-09T19:36:22.324Z"
   },
   {
    "duration": 16,
    "start_time": "2024-06-09T19:36:22.335Z"
   },
   {
    "duration": 11,
    "start_time": "2024-06-09T19:36:22.401Z"
   },
   {
    "duration": 4,
    "start_time": "2024-06-09T19:36:22.415Z"
   },
   {
    "duration": 20,
    "start_time": "2024-06-09T19:36:22.423Z"
   },
   {
    "duration": 11,
    "start_time": "2024-06-09T19:36:22.446Z"
   },
   {
    "duration": 19,
    "start_time": "2024-06-09T19:36:22.502Z"
   },
   {
    "duration": 14,
    "start_time": "2024-06-09T19:36:22.524Z"
   },
   {
    "duration": 12,
    "start_time": "2024-06-09T19:36:22.541Z"
   },
   {
    "duration": 60,
    "start_time": "2024-06-09T19:36:22.556Z"
   },
   {
    "duration": 18,
    "start_time": "2024-06-09T19:36:22.619Z"
   },
   {
    "duration": 26,
    "start_time": "2024-06-09T19:36:22.640Z"
   },
   {
    "duration": 417,
    "start_time": "2024-06-09T19:36:22.701Z"
   },
   {
    "duration": 25,
    "start_time": "2024-06-09T19:36:23.121Z"
   },
   {
    "duration": 15,
    "start_time": "2024-06-09T19:36:23.148Z"
   },
   {
    "duration": 476,
    "start_time": "2024-06-09T19:36:23.166Z"
   },
   {
    "duration": 31,
    "start_time": "2024-06-09T19:36:23.644Z"
   },
   {
    "duration": 479,
    "start_time": "2024-06-09T19:36:23.679Z"
   },
   {
    "duration": 43,
    "start_time": "2024-06-09T19:36:24.161Z"
   },
   {
    "duration": 24,
    "start_time": "2024-06-09T19:36:24.207Z"
   },
   {
    "duration": 7,
    "start_time": "2024-06-09T19:36:24.233Z"
   },
   {
    "duration": 362,
    "start_time": "2024-06-09T19:36:24.243Z"
   },
   {
    "duration": 30,
    "start_time": "2024-06-09T19:36:24.608Z"
   },
   {
    "duration": 435,
    "start_time": "2024-06-09T19:36:24.641Z"
   },
   {
    "duration": 10,
    "start_time": "2024-06-09T19:36:25.080Z"
   },
   {
    "duration": 12,
    "start_time": "2024-06-09T19:36:25.102Z"
   },
   {
    "duration": 274,
    "start_time": "2024-06-09T19:36:25.117Z"
   },
   {
    "duration": 7,
    "start_time": "2024-06-09T19:36:25.401Z"
   },
   {
    "duration": 256,
    "start_time": "2024-06-09T19:36:25.413Z"
   },
   {
    "duration": 262,
    "start_time": "2024-06-09T19:36:25.678Z"
   },
   {
    "duration": 20,
    "start_time": "2024-06-09T19:36:25.943Z"
   },
   {
    "duration": 8,
    "start_time": "2024-06-09T19:36:25.966Z"
   },
   {
    "duration": 38,
    "start_time": "2024-06-09T19:36:25.978Z"
   },
   {
    "duration": 11,
    "start_time": "2024-06-09T19:36:26.020Z"
   },
   {
    "duration": 144,
    "start_time": "2024-06-09T19:36:26.035Z"
   },
   {
    "duration": 169,
    "start_time": "2024-06-09T19:36:26.184Z"
   },
   {
    "duration": 14,
    "start_time": "2024-06-09T19:36:26.356Z"
   },
   {
    "duration": 49,
    "start_time": "2024-06-09T19:36:26.375Z"
   },
   {
    "duration": 15,
    "start_time": "2024-06-09T19:36:26.427Z"
   },
   {
    "duration": 13,
    "start_time": "2024-06-09T19:36:26.445Z"
   },
   {
    "duration": 41,
    "start_time": "2024-06-09T19:36:26.461Z"
   },
   {
    "duration": 32,
    "start_time": "2024-06-09T19:36:26.507Z"
   },
   {
    "duration": 18,
    "start_time": "2024-06-09T19:36:26.542Z"
   },
   {
    "duration": 770,
    "start_time": "2024-08-29T20:42:52.069Z"
   },
   {
    "duration": 24,
    "start_time": "2024-08-29T20:42:52.841Z"
   },
   {
    "duration": 9,
    "start_time": "2024-08-29T20:42:52.866Z"
   },
   {
    "duration": 8,
    "start_time": "2024-08-29T20:42:52.878Z"
   },
   {
    "duration": 8,
    "start_time": "2024-08-29T20:42:52.888Z"
   },
   {
    "duration": 18,
    "start_time": "2024-08-29T20:42:52.897Z"
   },
   {
    "duration": 6,
    "start_time": "2024-08-29T20:42:52.916Z"
   },
   {
    "duration": 8,
    "start_time": "2024-08-29T20:42:52.924Z"
   },
   {
    "duration": 5,
    "start_time": "2024-08-29T20:42:52.934Z"
   },
   {
    "duration": 5,
    "start_time": "2024-08-29T20:42:52.943Z"
   },
   {
    "duration": 4,
    "start_time": "2024-08-29T20:42:52.950Z"
   },
   {
    "duration": 9,
    "start_time": "2024-08-29T20:42:52.956Z"
   },
   {
    "duration": 45,
    "start_time": "2024-08-29T20:42:52.966Z"
   },
   {
    "duration": 3,
    "start_time": "2024-08-29T20:42:53.013Z"
   },
   {
    "duration": 11,
    "start_time": "2024-08-29T20:42:53.017Z"
   },
   {
    "duration": 7,
    "start_time": "2024-08-29T20:42:53.029Z"
   },
   {
    "duration": 10,
    "start_time": "2024-08-29T20:42:53.037Z"
   },
   {
    "duration": 7,
    "start_time": "2024-08-29T20:42:53.049Z"
   },
   {
    "duration": 7,
    "start_time": "2024-08-29T20:42:53.058Z"
   },
   {
    "duration": 51,
    "start_time": "2024-08-29T20:42:53.066Z"
   },
   {
    "duration": 9,
    "start_time": "2024-08-29T20:42:53.119Z"
   },
   {
    "duration": 13,
    "start_time": "2024-08-29T20:42:53.130Z"
   },
   {
    "duration": 244,
    "start_time": "2024-08-29T20:42:53.144Z"
   },
   {
    "duration": 16,
    "start_time": "2024-08-29T20:42:53.390Z"
   },
   {
    "duration": 8,
    "start_time": "2024-08-29T20:42:53.408Z"
   },
   {
    "duration": 297,
    "start_time": "2024-08-29T20:42:53.417Z"
   },
   {
    "duration": 15,
    "start_time": "2024-08-29T20:42:53.715Z"
   },
   {
    "duration": 286,
    "start_time": "2024-08-29T20:42:53.734Z"
   },
   {
    "duration": 12,
    "start_time": "2024-08-29T20:42:54.022Z"
   },
   {
    "duration": 12,
    "start_time": "2024-08-29T20:42:54.036Z"
   },
   {
    "duration": 4,
    "start_time": "2024-08-29T20:42:54.050Z"
   },
   {
    "duration": 199,
    "start_time": "2024-08-29T20:42:54.055Z"
   },
   {
    "duration": 17,
    "start_time": "2024-08-29T20:42:54.256Z"
   },
   {
    "duration": 256,
    "start_time": "2024-08-29T20:42:54.275Z"
   },
   {
    "duration": 6,
    "start_time": "2024-08-29T20:42:54.533Z"
   },
   {
    "duration": 7,
    "start_time": "2024-08-29T20:42:54.540Z"
   },
   {
    "duration": 168,
    "start_time": "2024-08-29T20:42:54.549Z"
   },
   {
    "duration": 5,
    "start_time": "2024-08-29T20:42:54.724Z"
   },
   {
    "duration": 133,
    "start_time": "2024-08-29T20:42:54.731Z"
   },
   {
    "duration": 142,
    "start_time": "2024-08-29T20:42:54.866Z"
   },
   {
    "duration": 10,
    "start_time": "2024-08-29T20:42:55.012Z"
   },
   {
    "duration": 5,
    "start_time": "2024-08-29T20:42:55.023Z"
   },
   {
    "duration": 7,
    "start_time": "2024-08-29T20:42:55.030Z"
   },
   {
    "duration": 7,
    "start_time": "2024-08-29T20:42:55.038Z"
   },
   {
    "duration": 83,
    "start_time": "2024-08-29T20:42:55.047Z"
   },
   {
    "duration": 64,
    "start_time": "2024-08-29T20:42:55.132Z"
   },
   {
    "duration": 7,
    "start_time": "2024-08-29T20:42:55.211Z"
   },
   {
    "duration": 17,
    "start_time": "2024-08-29T20:42:55.220Z"
   },
   {
    "duration": 7,
    "start_time": "2024-08-29T20:42:55.239Z"
   },
   {
    "duration": 6,
    "start_time": "2024-08-29T20:42:55.248Z"
   },
   {
    "duration": 7,
    "start_time": "2024-08-29T20:42:55.256Z"
   },
   {
    "duration": 47,
    "start_time": "2024-08-29T20:42:55.265Z"
   },
   {
    "duration": 13,
    "start_time": "2024-08-29T20:42:55.313Z"
   }
  ],
  "kernelspec": {
   "display_name": "Python 3 (ipykernel)",
   "language": "python",
   "name": "python3"
  },
  "language_info": {
   "codemirror_mode": {
    "name": "ipython",
    "version": 3
   },
   "file_extension": ".py",
   "mimetype": "text/x-python",
   "name": "python",
   "nbconvert_exporter": "python",
   "pygments_lexer": "ipython3",
   "version": "3.9.19"
  },
  "toc": {
   "base_numbering": 1,
   "nav_menu": {},
   "number_sections": true,
   "sideBar": true,
   "skip_h1_title": true,
   "title_cell": "Table of Contents",
   "title_sidebar": "Contents",
   "toc_cell": false,
   "toc_position": {},
   "toc_section_display": true,
   "toc_window_display": false
  }
 },
 "nbformat": 4,
 "nbformat_minor": 2
}
