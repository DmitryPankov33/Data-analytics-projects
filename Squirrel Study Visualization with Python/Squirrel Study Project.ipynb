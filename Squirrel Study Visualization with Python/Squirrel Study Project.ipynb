{
 "cells": [
  {
   "cell_type": "markdown",
   "id": "74a8ef04-8045-4c4e-8d8e-b2fa66fb3ae0",
   "metadata": {},
   "source": [
    "# Contents <a id='back'></a>\n",
    "\n",
    "* [Introduction](#intro)\n",
    "* [Stage 1. Data overview](#data_review)\n",
    "* [Stage 2. Data preprocessing](#data_preprocessing)\n",
    "    * [2.1 Duplicates](#duplicates)\n",
    "    * [2.2 Missing values](#missing_values)\n",
    "* [Stage 3. Figure recreation](#recreation)\n",
    "* [Conclusion](#conclusion)"
   ]
  },
  {
   "cell_type": "markdown",
   "id": "1db4466a-8f2e-4ab9-98c5-016e4e3f4726",
   "metadata": {},
   "source": [
    "## Introduction <a id='introduction'></a>"
   ]
  },
  {
   "cell_type": "markdown",
   "id": "71b3897d-1127-4971-bf41-0fa1c98a76ad",
   "metadata": {},
   "source": [
    "In this project, we will recreate a figure representing the results of a study on 100 red squirrels, where different diets were administered after weaning, and their adult weights were recorded. Using seaborn we will closely replicate the original figure, ensuring that all elements such as title, axis labels, legend, and data presentation closely resemble the original. \n",
    "\n",
    "Through this project, we aim to demonstrate proficiency in data visualization techniques and showcase the capabilities of seaborn or plotly in creating informative and visually appealing figures. Let's embark on this journey to recreate the figure with precision and creativity.\n",
    "\n",
    "\n",
    "\n",
    "\n"
   ]
  },
  {
   "cell_type": "markdown",
   "id": "464cb163-610e-455b-a7b2-eb9a03cfda66",
   "metadata": {},
   "source": [
    "### Stages:"
   ]
  },
  {
   "cell_type": "markdown",
   "id": "c597e46f-efb0-421e-9af2-c95dc378aea2",
   "metadata": {},
   "source": [
    "The project is divided into 3 stages:\n",
    "\n",
    "1. Data overview\n",
    "2. Data Preprocessing\n",
    "3. Recreation of the figure"
   ]
  },
  {
   "cell_type": "markdown",
   "id": "3050251a-4615-4f3c-a728-1308f51cf847",
   "metadata": {},
   "source": [
    "## Stage 1. Data overview <a id='data_review'></a>"
   ]
  },
  {
   "cell_type": "code",
   "execution_count": 1,
   "id": "3e0dabec-9822-449a-a03d-d49e4b91497e",
   "metadata": {},
   "outputs": [],
   "source": [
    "# Importing pandas library \n",
    "import pandas as pd "
   ]
  },
  {
   "cell_type": "code",
   "execution_count": 2,
   "id": "b8cd805c-d90d-4bac-b102-e02e6f0f2297",
   "metadata": {},
   "outputs": [],
   "source": [
    "# Importing the seaborn library\n",
    "import seaborn as sns"
   ]
  },
  {
   "cell_type": "code",
   "execution_count": 3,
   "id": "e349d2ab-462f-4eb0-b4bc-31925a80b44b",
   "metadata": {},
   "outputs": [],
   "source": [
    "# Importing the pyplot library\n",
    "import matplotlib.pyplot as plt"
   ]
  },
  {
   "cell_type": "code",
   "execution_count": 4,
   "id": "97604064-e3c6-4516-9053-f232efafa135",
   "metadata": {},
   "outputs": [],
   "source": [
    "# Reading the file and storing it to df\n",
    "sq_diet = pd.read_csv('/datasets/squirrel_diet.csv')"
   ]
  },
  {
   "cell_type": "code",
   "execution_count": 5,
   "id": "12b12352-5b2d-4d35-acf3-b5dace421763",
   "metadata": {},
   "outputs": [
    {
     "data": {
      "text/html": [
       "<div>\n",
       "<style scoped>\n",
       "    .dataframe tbody tr th:only-of-type {\n",
       "        vertical-align: middle;\n",
       "    }\n",
       "\n",
       "    .dataframe tbody tr th {\n",
       "        vertical-align: top;\n",
       "    }\n",
       "\n",
       "    .dataframe thead th {\n",
       "        text-align: right;\n",
       "    }\n",
       "</style>\n",
       "<table border=\"1\" class=\"dataframe\">\n",
       "  <thead>\n",
       "    <tr style=\"text-align: right;\">\n",
       "      <th></th>\n",
       "      <th>sex</th>\n",
       "      <th>diet</th>\n",
       "      <th>weight</th>\n",
       "    </tr>\n",
       "  </thead>\n",
       "  <tbody>\n",
       "    <tr>\n",
       "      <th>0</th>\n",
       "      <td>0</td>\n",
       "      <td>3</td>\n",
       "      <td>1.042</td>\n",
       "    </tr>\n",
       "    <tr>\n",
       "      <th>1</th>\n",
       "      <td>1</td>\n",
       "      <td>3</td>\n",
       "      <td>1.196</td>\n",
       "    </tr>\n",
       "    <tr>\n",
       "      <th>2</th>\n",
       "      <td>1</td>\n",
       "      <td>2</td>\n",
       "      <td>1.401</td>\n",
       "    </tr>\n",
       "    <tr>\n",
       "      <th>3</th>\n",
       "      <td>1</td>\n",
       "      <td>1</td>\n",
       "      <td>1.015</td>\n",
       "    </tr>\n",
       "    <tr>\n",
       "      <th>4</th>\n",
       "      <td>0</td>\n",
       "      <td>2</td>\n",
       "      <td>1.141</td>\n",
       "    </tr>\n",
       "    <tr>\n",
       "      <th>5</th>\n",
       "      <td>1</td>\n",
       "      <td>2</td>\n",
       "      <td>1.113</td>\n",
       "    </tr>\n",
       "    <tr>\n",
       "      <th>6</th>\n",
       "      <td>1</td>\n",
       "      <td>3</td>\n",
       "      <td>1.213</td>\n",
       "    </tr>\n",
       "    <tr>\n",
       "      <th>7</th>\n",
       "      <td>0</td>\n",
       "      <td>3</td>\n",
       "      <td>1.132</td>\n",
       "    </tr>\n",
       "    <tr>\n",
       "      <th>8</th>\n",
       "      <td>0</td>\n",
       "      <td>1</td>\n",
       "      <td>1.034</td>\n",
       "    </tr>\n",
       "    <tr>\n",
       "      <th>9</th>\n",
       "      <td>0</td>\n",
       "      <td>1</td>\n",
       "      <td>1.045</td>\n",
       "    </tr>\n",
       "  </tbody>\n",
       "</table>\n",
       "</div>"
      ],
      "text/plain": [
       "   sex  diet  weight\n",
       "0    0     3   1.042\n",
       "1    1     3   1.196\n",
       "2    1     2   1.401\n",
       "3    1     1   1.015\n",
       "4    0     2   1.141\n",
       "5    1     2   1.113\n",
       "6    1     3   1.213\n",
       "7    0     3   1.132\n",
       "8    0     1   1.034\n",
       "9    0     1   1.045"
      ]
     },
     "execution_count": 5,
     "metadata": {},
     "output_type": "execute_result"
    }
   ],
   "source": [
    "# Obtaining the first 10 rows from the table\n",
    "sq_diet.head(10)"
   ]
  },
  {
   "cell_type": "code",
   "execution_count": 6,
   "id": "f3387594-0555-4d74-955f-27557e0862d1",
   "metadata": {},
   "outputs": [
    {
     "name": "stdout",
     "output_type": "stream",
     "text": [
      "<class 'pandas.core.frame.DataFrame'>\n",
      "RangeIndex: 100 entries, 0 to 99\n",
      "Data columns (total 3 columns):\n",
      " #   Column  Non-Null Count  Dtype  \n",
      "---  ------  --------------  -----  \n",
      " 0   sex     100 non-null    int64  \n",
      " 1   diet    100 non-null    int64  \n",
      " 2   weight  100 non-null    float64\n",
      "dtypes: float64(1), int64(2)\n",
      "memory usage: 2.5 KB\n"
     ]
    }
   ],
   "source": [
    "# Obtaining general information about the data\n",
    "sq_diet.info()"
   ]
  },
  {
   "cell_type": "markdown",
   "id": "ce658040-d0da-4417-ae77-1022619e45a4",
   "metadata": {},
   "source": [
    "#### Conclusion\n",
    "\n",
    "During the Data Exploration stage, we opened the dat file, examined the contents of each table, and noted the formatting. No issues have been noted."
   ]
  },
  {
   "cell_type": "markdown",
   "id": "88ebc646-81b2-4891-a8e8-a8b8a3c77f9a",
   "metadata": {},
   "source": [
    "## Stage 2. Data preprocessing <a id='data_preprocessing'></a>"
   ]
  },
  {
   "cell_type": "markdown",
   "id": "1f0980f0-1740-44f4-805b-7cf5604e6290",
   "metadata": {},
   "source": [
    "### Missing values <a id='missing_values'></a>"
   ]
  },
  {
   "cell_type": "code",
   "execution_count": 7,
   "id": "6abea6ee-35c7-4a7f-b8b8-879657643df1",
   "metadata": {},
   "outputs": [
    {
     "data": {
      "text/plain": [
       "sex       0\n",
       "diet      0\n",
       "weight    0\n",
       "dtype: int64"
      ]
     },
     "execution_count": 7,
     "metadata": {},
     "output_type": "execute_result"
    }
   ],
   "source": [
    "# Checking for missing values\n",
    "sq_diet.isna().sum()"
   ]
  },
  {
   "cell_type": "markdown",
   "id": "524467b3-7a21-4d5f-a152-6f61bb72618f",
   "metadata": {},
   "source": [
    "### Duplicates <a id='duplicates'></a>"
   ]
  },
  {
   "cell_type": "code",
   "execution_count": 8,
   "id": "3f1804c3-5bf8-4647-82c0-53b3e16c72c4",
   "metadata": {},
   "outputs": [
    {
     "data": {
      "text/plain": [
       "0"
      ]
     },
     "execution_count": 8,
     "metadata": {},
     "output_type": "execute_result"
    }
   ],
   "source": [
    "# Checking for duplicate rows\n",
    "sq_diet.duplicated().sum()"
   ]
  },
  {
   "cell_type": "markdown",
   "id": "0771b204-3bf2-43a2-95c7-8944ac4f762d",
   "metadata": {},
   "source": [
    "#### Conclusion\n",
    "\n",
    "During the Data Preprocessing stage, we conducted an examination of the dataset and found it to be in good condition. There were no missing values or duplicates. As a result, we proceeded with confidence to the recreation phase, knowing that our dataset was well-prepared and ready for visualization."
   ]
  },
  {
   "cell_type": "markdown",
   "id": "1f004155-9a00-48c3-9b69-174a67bcb58e",
   "metadata": {},
   "source": [
    "## Stage 3. Figure recreation <a id='figure_recreation'></a>"
   ]
  },
  {
   "cell_type": "code",
   "execution_count": 9,
   "id": "1d023668-7a82-4bfd-b683-dd4f73d24d71",
   "metadata": {},
   "outputs": [
    {
     "data": {
      "image/png": "[encoded data removed]",
      "text/plain": [
       "<Figure size 432x288 with 1 Axes>"
      ]
     },
     "metadata": {
      "needs_background": "light"
     },
     "output_type": "display_data"
    }
   ],
   "source": [
    "# Defining sex labels\n",
    "sex = {0: 'Female', 1: 'Male'}\n",
    "\n",
    "# Mapping diet labels\n",
    "diet_mapping = {'1': 'A', '2': 'B', '3': 'C'}\n",
    "sq_diet['diet'] = sq_diet['diet'].astype(str).replace(diet_mapping)\n",
    "\n",
    "# Creating the strip plot with specified order\n",
    "sns.stripplot(data=sq_diet, x='diet', y='weight', hue='sex', palette={0: 'magenta', 1: 'green'}, order=['A', 'B', 'C'])\n",
    "\n",
    "# Setting title and labels\n",
    "plt.title('Red Squirrel Diet Study')\n",
    "plt.xlabel('Diet Label')\n",
    "plt.ylabel('Adult Weight / lbs')\n",
    "\n",
    "handles, labels = plt.gca().get_legend_handles_labels()\n",
    "plt.legend(handles, [sex[int(label)] for label in labels], title='sex')\n",
    "\n",
    "# Showing the plot\n",
    "plt.show()"
   ]
  },
  {
   "cell_type": "markdown",
   "id": "7bcf1529-8205-44a3-b4b8-0c92395c826e",
   "metadata": {},
   "source": [
    "In reviewing the plot, we observe that squirrels on diet B exhibit higher weights compared to those on diets A and C. Squirrels on diet A appear to have similar weight ranges, while diets B and C show more variability. Additionally, there doesn't seem to be a notable distinction between the weights of male and female squirrels across the different diets."
   ]
  },
  {
   "cell_type": "markdown",
   "id": "dcc1e194-a3c0-4ab4-8537-ba9bffe08ccf",
   "metadata": {},
   "source": [
    "## Conclusion <a id='conclusion'></a>"
   ]
  },
  {
   "cell_type": "markdown",
   "id": "11250fde-e5cc-4d95-8c77-22ced276c309",
   "metadata": {},
   "source": [
    "In conclusion, this project successfully recreated a figure depicting the results of a study on red squirrel diets using seaborn and pyplot. Through  data preprocessing and visualization, we gained valuable insights into the relationship between different diets administered to squirrels after weaning and their adult weights. The recreated figure effectively illustrates that squirrels on diet B tend to have higher weights compared to diets A and C, while diets A and C show more consistent weight ranges. Additionally, the analysis revealed no significant difference in weights between male and female squirrels across the various diets. This project underscores the importance of data visualization in conveying insights from complex datasets and demonstrates the versatility of seaborn or plotly in creating informative and visually appealing visualizations."
   ]
  }
 ],
 "metadata": {
  "kernelspec": {
   "display_name": "Python 3 (ipykernel)",
   "language": "python",
   "name": "python3"
  },
  "language_info": {
   "codemirror_mode": {
    "name": "ipython",
    "version": 3
   },
   "file_extension": ".py",
   "mimetype": "text/x-python",
   "name": "python",
   "nbconvert_exporter": "python",
   "pygments_lexer": "ipython3",
   "version": "3.9.19"
  },
  "toc": {
   "base_numbering": 1,
   "nav_menu": {},
   "number_sections": true,
   "sideBar": true,
   "skip_h1_title": true,
   "title_cell": "Table of Contents",
   "title_sidebar": "Contents",
   "toc_cell": false,
   "toc_position": {},
   "toc_section_display": true,
   "toc_window_display": false
  }
 },
 "nbformat": 4,
 "nbformat_minor": 5
}
