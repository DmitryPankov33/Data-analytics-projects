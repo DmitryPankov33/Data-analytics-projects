{
 "cells": [
  {
   "cell_type": "markdown",
   "metadata": {
    "id": "E0vqbgi9ay0H"
   },
   "source": [
    "# TripleTen.Music"
   ]
  },
  {
   "cell_type": "markdown",
   "metadata": {
    "id": "fhq_eyov_Zcs"
   },
   "source": [
    "# Contents <a id='back'></a>\n",
    "\n",
    "* [Introduction](#intro)\n",
    "* [Stage 1. Data overview](#data_review)\n",
    "    * [Conclusions](#data_review_conclusions)\n",
    "* [Stage 2. Data preprocessing](#data_preprocessing)\n",
    "    * [2.1 Header style](#header_style)\n",
    "    * [2.2 Missing values](#missing_values)\n",
    "    * [2.3 Duplicates](#duplicates)\n",
    "    * [2.4 Conclusions](#data_preprocessing_conclusions)\n",
    "* [Stage 3. Testing the hypotheses](#hypotheses)\n",
    "    * [3.1 Hypothesis 1: user activity in the two cities](#activity)\n",
    "    * [3.2 Hypothesis 2: music preferences on Monday and Friday](#week)\n",
    "    * [3.3 Hypothesis 3: genre preferences in Springfield and Shelbyville](#genre)\n",
    "* [Findings](#end)"
   ]
  },
  {
   "cell_type": "markdown",
   "metadata": {
    "id": "VUC88oWjTJw2"
   },
   "source": [
    "## Introduction <a id='intro'></a>\n",
    "In this project, you'll compare the music preferences of the cities of Springfield and Shelbyville. You'll study real TripleTen.Music data to test the hypotheses below and compare user behavior for these two cities.\n",
    "\n",
    "### Goal: \n",
    "Test three hypotheses:\n",
    "1. User activity differs depending on the day of the week and from city to city. \n",
    "2. On Monday mornings, Springfield and Shelbyville residents listen to different genres. This is also true for Friday evenings. \n",
    "3. Springfield and Shelbyville listeners have different preferences. In Springfield, they prefer pop, while Shelbyville has more rap fans.\n",
    "\n",
    "### Stages \n",
    "Data on user behavior is stored in the file `/datasets/music_project_en.csv`. There is no information about the quality of the data, so you will need to explore it before testing the hypotheses. \n",
    "\n",
    "First, you'll evaluate the quality of the data and see whether its issues are significant. Then, during data preprocessing, you will try to account for the most critical problems.\n",
    " \n",
    "Your project will consist of three stages:\n",
    " 1. Data overview\n",
    " 2. Data preprocessing\n",
    " 3. Testing the hypotheses\n",
    " \n",
    "[Back to Contents](#back)"
   ]
  },
  {
   "cell_type": "markdown",
   "metadata": {
    "id": "Ml1hmfXC_Zcs"
   },
   "source": [
    "## Stage 1. Data overview <a id='data_review'></a>\n",
    "\n",
    "Open the data on TripleTen.Music and explore it."
   ]
  },
  {
   "cell_type": "code",
   "execution_count": 1,
   "metadata": {
    "id": "AXN7PHPN_Zcs"
   },
   "outputs": [],
   "source": [
    "import pandas as pd # importing pandas\n"
   ]
  },
  {
   "cell_type": "code",
   "execution_count": 2,
   "metadata": {
    "id": "fFVu7vqh_Zct"
   },
   "outputs": [],
   "source": [
    "df = pd.read_csv('/datasets/music_project_en.csv') # reading the file and storing it to df"
   ]
  },
  {
   "cell_type": "code",
   "execution_count": 3,
   "metadata": {
    "id": "oWTVX3gW_Zct"
   },
   "outputs": [
    {
     "name": "stdout",
     "output_type": "stream",
     "text": [
      "     userID                        Track            artist   genre  \\\n",
      "0  FFB692EC            Kamigata To Boots  The Mass Missile    rock   \n",
      "1  55204538  Delayed Because of Accident  Andreas Rönnberg    rock   \n",
      "2    20EC38            Funiculì funiculà       Mario Lanza     pop   \n",
      "3  A3DD03C9        Dragons in the Sunset        Fire + Ice    folk   \n",
      "4  E2DC1FAE                  Soul People        Space Echo   dance   \n",
      "5  842029A1                       Chains          Obladaet  rusrap   \n",
      "6  4CB90AA5                         True      Roman Messer   dance   \n",
      "7  F03E1C1F             Feeling This Way   Polina Griffith   dance   \n",
      "8  8FA1D3BE                     L’estate       Julia Dalia  ruspop   \n",
      "9  E772D5C0                    Pessimist               NaN   dance   \n",
      "\n",
      "        City        time        Day  \n",
      "0  Shelbyville  20:28:33  Wednesday  \n",
      "1  Springfield  14:07:09     Friday  \n",
      "2  Shelbyville  20:58:07  Wednesday  \n",
      "3  Shelbyville  08:37:09     Monday  \n",
      "4  Springfield  08:34:34     Monday  \n",
      "5  Shelbyville  13:09:41     Friday  \n",
      "6  Springfield  13:00:07  Wednesday  \n",
      "7  Springfield  20:47:49  Wednesday  \n",
      "8  Springfield  09:17:40     Friday  \n",
      "9  Shelbyville  21:20:49  Wednesday  \n"
     ]
    }
   ],
   "source": [
    "print(df.head(10)) # obtaining the first 10 rows from the df table"
   ]
  },
  {
   "cell_type": "code",
   "execution_count": 4,
   "metadata": {
    "id": "DSf2kIb-_Zct"
   },
   "outputs": [
    {
     "name": "stdout",
     "output_type": "stream",
     "text": [
      "<class 'pandas.core.frame.DataFrame'>\n",
      "RangeIndex: 65079 entries, 0 to 65078\n",
      "Data columns (total 7 columns):\n",
      " #   Column    Non-Null Count  Dtype \n",
      "---  ------    --------------  ----- \n",
      " 0     userID  65079 non-null  object\n",
      " 1   Track     63736 non-null  object\n",
      " 2   artist    57512 non-null  object\n",
      " 3   genre     63881 non-null  object\n",
      " 4     City    65079 non-null  object\n",
      " 5   time      65079 non-null  object\n",
      " 6   Day       65079 non-null  object\n",
      "dtypes: object(7)\n",
      "memory usage: 3.5+ MB\n",
      "None\n"
     ]
    }
   ],
   "source": [
    "print(df.info())# obtaining general information about the data in df"
   ]
  },
  {
   "cell_type": "markdown",
   "metadata": {
    "id": "TaQ2Iwbr_Zct"
   },
   "source": [
    "The table contains seven columns. They all store the same data type: `object`.\n",
    "\n",
    "According to the documentation:\n",
    "- `'userID'` — user identifier\n",
    "- `'Track'` — track title\n",
    "- `'artist'` — artist's name\n",
    "- `'genre'`\n",
    "- `'City'` — user's city\n",
    "- `'time'` — the exact time the track was played\n",
    "- `'Day'` — day of the week\n",
    "\n",
    "We can see three issues with style in the column names:\n",
    "1. Some names are uppercase, some are lowercase.\n",
    "2. There are spaces in some names.\n",
    "3. Not using the 'snake_case' method naming columns. \n",
    "\n",
    "\n",
    "\n",
    "The number of column values is different. This means the data contains missing values.\n"
   ]
  },
  {
   "cell_type": "markdown",
   "metadata": {
    "id": "MCB6-dXG_Zct"
   },
   "source": [
    "### Conclusions <a id='data_review_conclusions'></a> \n",
    "\n",
    "Each row in the table stores data on a track that was played. Some columns describe the track itself: its title, artist and genre. The rest convey information about the user: the city they come from, the time they played the track. \n",
    "\n",
    "It's clear that the data is sufficient to test the hypotheses. However, there are missing values.\n",
    "\n",
    "To move forward, we need to preprocess the data."
   ]
  },
  {
   "cell_type": "markdown",
   "metadata": {
    "id": "3eL__vcwViOi"
   },
   "source": [
    "[Back to Contents](#back)"
   ]
  },
  {
   "cell_type": "markdown",
   "metadata": {
    "id": "SjYF6Ub9_Zct"
   },
   "source": [
    "## Stage 2. Data preprocessing <a id='data_preprocessing'></a>"
   ]
  },
  {
   "cell_type": "markdown",
   "metadata": {
    "id": "dIaKXr29_Zct"
   },
   "source": [
    "### Header style <a id='header_style'></a>"
   ]
  },
  {
   "cell_type": "code",
   "execution_count": 5,
   "metadata": {
    "id": "oKOTdF_Q_Zct"
   },
   "outputs": [
    {
     "name": "stdout",
     "output_type": "stream",
     "text": [
      "Index(['  userID', 'Track', 'artist', 'genre', '  City  ', 'time', 'Day'], dtype='object')\n"
     ]
    }
   ],
   "source": [
    "print(df.columns)# the list of column names in the df table"
   ]
  },
  {
   "cell_type": "markdown",
   "metadata": {
    "id": "zj5534cv_Zct"
   },
   "source": [
    "Change column names according to the rules of good style:\n",
    "* If the name has several words, use snake_case\n",
    "* All characters must be lowercase\n",
    "* Delete spaces"
   ]
  },
  {
   "cell_type": "code",
   "execution_count": 6,
   "metadata": {
    "id": "ISlFqs5y_Zct"
   },
   "outputs": [],
   "source": [
    "df = df.rename(\n",
    "    columns={\n",
    "        '  userID' : 'user_id' , \n",
    "        'Track' : 'track', \n",
    "        '  City  ' : 'city',\n",
    "        'Day' : 'day',\n",
    "    }\n",
    ")\n",
    "# renaming columns"
   ]
  },
  {
   "cell_type": "code",
   "execution_count": 7,
   "metadata": {
    "id": "d4NOAmTW_Zct"
   },
   "outputs": [
    {
     "name": "stdout",
     "output_type": "stream",
     "text": [
      "Index(['user_id', 'track', 'artist', 'genre', 'city', 'time', 'day'], dtype='object')\n"
     ]
    }
   ],
   "source": [
    "print(df.columns)\n",
    "\n",
    "# checking result: the list of column names"
   ]
  },
  {
   "cell_type": "markdown",
   "metadata": {
    "id": "xYJk6ksJVpOl"
   },
   "source": [
    "[Back to Contents](#back)"
   ]
  },
  {
   "cell_type": "markdown",
   "metadata": {
    "id": "5ISfbcfY_Zct"
   },
   "source": [
    "### Missing values <a id='missing_values'></a>\n",
    "First, find the number of missing values in the table. To do so, use two `pandas` methods:"
   ]
  },
  {
   "cell_type": "code",
   "execution_count": 8,
   "metadata": {
    "id": "RskX29qr_Zct"
   },
   "outputs": [
    {
     "name": "stdout",
     "output_type": "stream",
     "text": [
      "user_id       0\n",
      "track      1343\n",
      "artist     7567\n",
      "genre      1198\n",
      "city          0\n",
      "time          0\n",
      "day           0\n",
      "dtype: int64\n"
     ]
    }
   ],
   "source": [
    "print(df.isna().sum())"
   ]
  },
  {
   "cell_type": "code",
   "execution_count": 9,
   "metadata": {},
   "outputs": [
    {
     "data": {
      "text/plain": [
       "user_id       0\n",
       "track      1343\n",
       "artist     7567\n",
       "genre      1198\n",
       "city          0\n",
       "time          0\n",
       "day           0\n",
       "dtype: int64"
      ]
     },
     "execution_count": 9,
     "metadata": {},
     "output_type": "execute_result"
    }
   ],
   "source": [
    "df.isnull().sum()"
   ]
  },
  {
   "cell_type": "markdown",
   "metadata": {
    "id": "qubhgnlO_Zct"
   },
   "source": [
    "Not all missing values affect the research. For instance, the missing values in `track` and `artist` are not critical. You can simply replace them with clear markers.\n",
    "\n",
    "But missing values in `'genre'` can affect the comparison of music preferences in Springfield and Shelbyville. In real life, it would be useful to learn the reasons why the data is missing and try to make up for them. But we do not have that opportunity in this project. So you will have to:\n",
    "* Fill in these missing values with markers\n",
    "* Evaluate how much the missing values may affect your computations"
   ]
  },
  {
   "cell_type": "markdown",
   "metadata": {
    "id": "fSv2laPA_Zct"
   },
   "source": [
    "Replace the missing values in `'track'`, `'artist'`, and `'genre'` with the string `'unknown'`. To do this, create the `columns_to_replace` list, loop over it with `for`, and replace the missing values in each of the columns:"
   ]
  },
  {
   "cell_type": "code",
   "execution_count": 10,
   "metadata": {
    "id": "KplB5qWs_Zct"
   },
   "outputs": [
    {
     "data": {
      "text/html": [
       "<div>\n",
       "<style scoped>\n",
       "    .dataframe tbody tr th:only-of-type {\n",
       "        vertical-align: middle;\n",
       "    }\n",
       "\n",
       "    .dataframe tbody tr th {\n",
       "        vertical-align: top;\n",
       "    }\n",
       "\n",
       "    .dataframe thead th {\n",
       "        text-align: right;\n",
       "    }\n",
       "</style>\n",
       "<table border=\"1\" class=\"dataframe\">\n",
       "  <thead>\n",
       "    <tr style=\"text-align: right;\">\n",
       "      <th></th>\n",
       "      <th>user_id</th>\n",
       "      <th>track</th>\n",
       "      <th>artist</th>\n",
       "      <th>genre</th>\n",
       "      <th>city</th>\n",
       "      <th>time</th>\n",
       "      <th>day</th>\n",
       "    </tr>\n",
       "  </thead>\n",
       "  <tbody>\n",
       "    <tr>\n",
       "      <th>0</th>\n",
       "      <td>FFB692EC</td>\n",
       "      <td>Kamigata To Boots</td>\n",
       "      <td>The Mass Missile</td>\n",
       "      <td>rock</td>\n",
       "      <td>Shelbyville</td>\n",
       "      <td>20:28:33</td>\n",
       "      <td>Wednesday</td>\n",
       "    </tr>\n",
       "    <tr>\n",
       "      <th>1</th>\n",
       "      <td>55204538</td>\n",
       "      <td>Delayed Because of Accident</td>\n",
       "      <td>Andreas Rönnberg</td>\n",
       "      <td>rock</td>\n",
       "      <td>Springfield</td>\n",
       "      <td>14:07:09</td>\n",
       "      <td>Friday</td>\n",
       "    </tr>\n",
       "    <tr>\n",
       "      <th>2</th>\n",
       "      <td>20EC38</td>\n",
       "      <td>Funiculì funiculà</td>\n",
       "      <td>Mario Lanza</td>\n",
       "      <td>pop</td>\n",
       "      <td>Shelbyville</td>\n",
       "      <td>20:58:07</td>\n",
       "      <td>Wednesday</td>\n",
       "    </tr>\n",
       "    <tr>\n",
       "      <th>3</th>\n",
       "      <td>A3DD03C9</td>\n",
       "      <td>Dragons in the Sunset</td>\n",
       "      <td>Fire + Ice</td>\n",
       "      <td>folk</td>\n",
       "      <td>Shelbyville</td>\n",
       "      <td>08:37:09</td>\n",
       "      <td>Monday</td>\n",
       "    </tr>\n",
       "    <tr>\n",
       "      <th>4</th>\n",
       "      <td>E2DC1FAE</td>\n",
       "      <td>Soul People</td>\n",
       "      <td>Space Echo</td>\n",
       "      <td>dance</td>\n",
       "      <td>Springfield</td>\n",
       "      <td>08:34:34</td>\n",
       "      <td>Monday</td>\n",
       "    </tr>\n",
       "    <tr>\n",
       "      <th>5</th>\n",
       "      <td>842029A1</td>\n",
       "      <td>Chains</td>\n",
       "      <td>Obladaet</td>\n",
       "      <td>rusrap</td>\n",
       "      <td>Shelbyville</td>\n",
       "      <td>13:09:41</td>\n",
       "      <td>Friday</td>\n",
       "    </tr>\n",
       "    <tr>\n",
       "      <th>6</th>\n",
       "      <td>4CB90AA5</td>\n",
       "      <td>True</td>\n",
       "      <td>Roman Messer</td>\n",
       "      <td>dance</td>\n",
       "      <td>Springfield</td>\n",
       "      <td>13:00:07</td>\n",
       "      <td>Wednesday</td>\n",
       "    </tr>\n",
       "    <tr>\n",
       "      <th>7</th>\n",
       "      <td>F03E1C1F</td>\n",
       "      <td>Feeling This Way</td>\n",
       "      <td>Polina Griffith</td>\n",
       "      <td>dance</td>\n",
       "      <td>Springfield</td>\n",
       "      <td>20:47:49</td>\n",
       "      <td>Wednesday</td>\n",
       "    </tr>\n",
       "    <tr>\n",
       "      <th>8</th>\n",
       "      <td>8FA1D3BE</td>\n",
       "      <td>L’estate</td>\n",
       "      <td>Julia Dalia</td>\n",
       "      <td>ruspop</td>\n",
       "      <td>Springfield</td>\n",
       "      <td>09:17:40</td>\n",
       "      <td>Friday</td>\n",
       "    </tr>\n",
       "    <tr>\n",
       "      <th>9</th>\n",
       "      <td>E772D5C0</td>\n",
       "      <td>Pessimist</td>\n",
       "      <td>unknown</td>\n",
       "      <td>dance</td>\n",
       "      <td>Shelbyville</td>\n",
       "      <td>21:20:49</td>\n",
       "      <td>Wednesday</td>\n",
       "    </tr>\n",
       "    <tr>\n",
       "      <th>10</th>\n",
       "      <td>BC5A3A29</td>\n",
       "      <td>Gool la Mita</td>\n",
       "      <td>Shireen Abdul Wahab</td>\n",
       "      <td>world</td>\n",
       "      <td>Springfield</td>\n",
       "      <td>14:08:42</td>\n",
       "      <td>Monday</td>\n",
       "    </tr>\n",
       "    <tr>\n",
       "      <th>11</th>\n",
       "      <td>8B5192C0</td>\n",
       "      <td>Is There Anybody Out There? (Panoramic Paralys...</td>\n",
       "      <td>Pink Floyd Floydhead</td>\n",
       "      <td>electronic</td>\n",
       "      <td>Springfield</td>\n",
       "      <td>13:47:49</td>\n",
       "      <td>Monday</td>\n",
       "    </tr>\n",
       "    <tr>\n",
       "      <th>12</th>\n",
       "      <td>FF3FD2BD</td>\n",
       "      <td>Truth</td>\n",
       "      <td>Bamboo</td>\n",
       "      <td>pop</td>\n",
       "      <td>Springfield</td>\n",
       "      <td>09:19:49</td>\n",
       "      <td>Monday</td>\n",
       "    </tr>\n",
       "    <tr>\n",
       "      <th>13</th>\n",
       "      <td>CC782B0F</td>\n",
       "      <td>After School Special</td>\n",
       "      <td>Detroit Grand Pubahs</td>\n",
       "      <td>dance</td>\n",
       "      <td>Springfield</td>\n",
       "      <td>20:04:12</td>\n",
       "      <td>Friday</td>\n",
       "    </tr>\n",
       "    <tr>\n",
       "      <th>14</th>\n",
       "      <td>94EB25C2</td>\n",
       "      <td>Make Love Whenever You Can</td>\n",
       "      <td>Arabesque</td>\n",
       "      <td>pop</td>\n",
       "      <td>Shelbyville</td>\n",
       "      <td>13:22:08</td>\n",
       "      <td>Wednesday</td>\n",
       "    </tr>\n",
       "    <tr>\n",
       "      <th>15</th>\n",
       "      <td>E3C5756F</td>\n",
       "      <td>unknown</td>\n",
       "      <td>unknown</td>\n",
       "      <td>unknown</td>\n",
       "      <td>Springfield</td>\n",
       "      <td>09:24:51</td>\n",
       "      <td>Monday</td>\n",
       "    </tr>\n",
       "    <tr>\n",
       "      <th>16</th>\n",
       "      <td>81D05C7D</td>\n",
       "      <td>SLAVES OF FEAR</td>\n",
       "      <td>HEALTH</td>\n",
       "      <td>alternative</td>\n",
       "      <td>Shelbyville</td>\n",
       "      <td>20:54:48</td>\n",
       "      <td>Monday</td>\n",
       "    </tr>\n",
       "    <tr>\n",
       "      <th>17</th>\n",
       "      <td>39DE290E</td>\n",
       "      <td>Hallo Hallo</td>\n",
       "      <td>Die Klima Hawaiians</td>\n",
       "      <td>folk</td>\n",
       "      <td>Shelbyville</td>\n",
       "      <td>14:36:47</td>\n",
       "      <td>Monday</td>\n",
       "    </tr>\n",
       "    <tr>\n",
       "      <th>18</th>\n",
       "      <td>58AE138A</td>\n",
       "      <td>Pat-a-Cake</td>\n",
       "      <td>Mother Goose Club</td>\n",
       "      <td>children</td>\n",
       "      <td>Shelbyville</td>\n",
       "      <td>20:04:56</td>\n",
       "      <td>Monday</td>\n",
       "    </tr>\n",
       "    <tr>\n",
       "      <th>19</th>\n",
       "      <td>772F5B59</td>\n",
       "      <td>Sweetback</td>\n",
       "      <td>The Fabulous Three</td>\n",
       "      <td>rnb</td>\n",
       "      <td>Springfield</td>\n",
       "      <td>13:56:42</td>\n",
       "      <td>Wednesday</td>\n",
       "    </tr>\n",
       "    <tr>\n",
       "      <th>20</th>\n",
       "      <td>201CF2A8</td>\n",
       "      <td>Ya'll In Trouble</td>\n",
       "      <td>Lil Tee Chill Tank Young Buck Brother Mohammed...</td>\n",
       "      <td>hip</td>\n",
       "      <td>Springfield</td>\n",
       "      <td>08:46:03</td>\n",
       "      <td>Monday</td>\n",
       "    </tr>\n",
       "    <tr>\n",
       "      <th>21</th>\n",
       "      <td>44B8E869</td>\n",
       "      <td>Nanovirus</td>\n",
       "      <td>Exotype</td>\n",
       "      <td>rock</td>\n",
       "      <td>Springfield</td>\n",
       "      <td>21:36:40</td>\n",
       "      <td>Monday</td>\n",
       "    </tr>\n",
       "    <tr>\n",
       "      <th>22</th>\n",
       "      <td>B8E29C9C</td>\n",
       "      <td>The Drunken Scotsman</td>\n",
       "      <td>Ménage à Moi</td>\n",
       "      <td>folk</td>\n",
       "      <td>Shelbyville</td>\n",
       "      <td>20:20:49</td>\n",
       "      <td>Wednesday</td>\n",
       "    </tr>\n",
       "    <tr>\n",
       "      <th>23</th>\n",
       "      <td>A729591B</td>\n",
       "      <td>Gavotte</td>\n",
       "      <td>Hachidai Nakamura</td>\n",
       "      <td>jazz</td>\n",
       "      <td>Springfield</td>\n",
       "      <td>13:56:00</td>\n",
       "      <td>Monday</td>\n",
       "    </tr>\n",
       "    <tr>\n",
       "      <th>24</th>\n",
       "      <td>8BA8855</td>\n",
       "      <td>A Universal Weakness</td>\n",
       "      <td>Lowercase Noises</td>\n",
       "      <td>postrock</td>\n",
       "      <td>Shelbyville</td>\n",
       "      <td>21:17:25</td>\n",
       "      <td>Wednesday</td>\n",
       "    </tr>\n",
       "    <tr>\n",
       "      <th>25</th>\n",
       "      <td>A4504035</td>\n",
       "      <td>Cradle in Bethlehem</td>\n",
       "      <td>Nat King Cole</td>\n",
       "      <td>jazz</td>\n",
       "      <td>Shelbyville</td>\n",
       "      <td>09:23:01</td>\n",
       "      <td>Wednesday</td>\n",
       "    </tr>\n",
       "    <tr>\n",
       "      <th>26</th>\n",
       "      <td>982219FD</td>\n",
       "      <td>We Not Speak Americano</td>\n",
       "      <td>Genio Band</td>\n",
       "      <td>pop</td>\n",
       "      <td>Shelbyville</td>\n",
       "      <td>20:03:03</td>\n",
       "      <td>Monday</td>\n",
       "    </tr>\n",
       "    <tr>\n",
       "      <th>27</th>\n",
       "      <td>9CC6AA46</td>\n",
       "      <td>Mucho Corazón</td>\n",
       "      <td>Buena Vista Social Club</td>\n",
       "      <td>latin</td>\n",
       "      <td>Springfield</td>\n",
       "      <td>14:06:22</td>\n",
       "      <td>Monday</td>\n",
       "    </tr>\n",
       "    <tr>\n",
       "      <th>28</th>\n",
       "      <td>D8D698A9</td>\n",
       "      <td>Romantici</td>\n",
       "      <td>Viola Valentino</td>\n",
       "      <td>pop</td>\n",
       "      <td>Springfield</td>\n",
       "      <td>08:23:21</td>\n",
       "      <td>Wednesday</td>\n",
       "    </tr>\n",
       "    <tr>\n",
       "      <th>29</th>\n",
       "      <td>5661F63E</td>\n",
       "      <td>Purcell: Dido and Aeneas / Act 3 - \"See the fl...</td>\n",
       "      <td>Teresa Shaw</td>\n",
       "      <td>classical</td>\n",
       "      <td>Shelbyville</td>\n",
       "      <td>08:33:58</td>\n",
       "      <td>Wednesday</td>\n",
       "    </tr>\n",
       "    <tr>\n",
       "      <th>30</th>\n",
       "      <td>EBA5A8B2</td>\n",
       "      <td>Päivän Nousu Nostajani</td>\n",
       "      <td>Värttinä</td>\n",
       "      <td>world</td>\n",
       "      <td>Shelbyville</td>\n",
       "      <td>08:00:31</td>\n",
       "      <td>Friday</td>\n",
       "    </tr>\n",
       "    <tr>\n",
       "      <th>31</th>\n",
       "      <td>F6A44469</td>\n",
       "      <td>Veritas Universalis</td>\n",
       "      <td>Devathorn</td>\n",
       "      <td>metal</td>\n",
       "      <td>Shelbyville</td>\n",
       "      <td>20:19:42</td>\n",
       "      <td>Friday</td>\n",
       "    </tr>\n",
       "    <tr>\n",
       "      <th>32</th>\n",
       "      <td>84AFC19A</td>\n",
       "      <td>Carry On</td>\n",
       "      <td>Young Rising Sons</td>\n",
       "      <td>alternative</td>\n",
       "      <td>Shelbyville</td>\n",
       "      <td>20:24:51</td>\n",
       "      <td>Monday</td>\n",
       "    </tr>\n",
       "    <tr>\n",
       "      <th>33</th>\n",
       "      <td>809CAFB1</td>\n",
       "      <td>Break Me Down</td>\n",
       "      <td>Steve Angello</td>\n",
       "      <td>dance</td>\n",
       "      <td>Springfield</td>\n",
       "      <td>14:42:31</td>\n",
       "      <td>Monday</td>\n",
       "    </tr>\n",
       "    <tr>\n",
       "      <th>34</th>\n",
       "      <td>B416A40F</td>\n",
       "      <td>Maybe</td>\n",
       "      <td>Maria Michelle</td>\n",
       "      <td>ruspop</td>\n",
       "      <td>Springfield</td>\n",
       "      <td>14:49:21</td>\n",
       "      <td>Friday</td>\n",
       "    </tr>\n",
       "    <tr>\n",
       "      <th>35</th>\n",
       "      <td>A8AE9169</td>\n",
       "      <td>unknown</td>\n",
       "      <td>unknown</td>\n",
       "      <td>unknown</td>\n",
       "      <td>Springfield</td>\n",
       "      <td>08:56:10</td>\n",
       "      <td>Monday</td>\n",
       "    </tr>\n",
       "    <tr>\n",
       "      <th>36</th>\n",
       "      <td>FCDF1C8E</td>\n",
       "      <td>Nasebanaru</td>\n",
       "      <td>Zen</td>\n",
       "      <td>reggae</td>\n",
       "      <td>Springfield</td>\n",
       "      <td>20:19:36</td>\n",
       "      <td>Wednesday</td>\n",
       "    </tr>\n",
       "    <tr>\n",
       "      <th>37</th>\n",
       "      <td>C800FA98</td>\n",
       "      <td>Body Talk</td>\n",
       "      <td>Ratt</td>\n",
       "      <td>rock</td>\n",
       "      <td>Springfield</td>\n",
       "      <td>08:45:16</td>\n",
       "      <td>Monday</td>\n",
       "    </tr>\n",
       "    <tr>\n",
       "      <th>38</th>\n",
       "      <td>14FBD1E5</td>\n",
       "      <td>Solteras</td>\n",
       "      <td>Beauty Brain</td>\n",
       "      <td>dance</td>\n",
       "      <td>Shelbyville</td>\n",
       "      <td>20:33:11</td>\n",
       "      <td>Friday</td>\n",
       "    </tr>\n",
       "    <tr>\n",
       "      <th>39</th>\n",
       "      <td>2CF53316</td>\n",
       "      <td>Chicago New York</td>\n",
       "      <td>The Aislers Set</td>\n",
       "      <td>alternative</td>\n",
       "      <td>Shelbyville</td>\n",
       "      <td>20:29:00</td>\n",
       "      <td>Wednesday</td>\n",
       "    </tr>\n",
       "    <tr>\n",
       "      <th>40</th>\n",
       "      <td>77979A66</td>\n",
       "      <td>Sci-Fi</td>\n",
       "      <td>unknown</td>\n",
       "      <td>rusrap</td>\n",
       "      <td>Shelbyville</td>\n",
       "      <td>08:45:43</td>\n",
       "      <td>Monday</td>\n",
       "    </tr>\n",
       "    <tr>\n",
       "      <th>41</th>\n",
       "      <td>9202C4F4</td>\n",
       "      <td>Good Morning Sunshine</td>\n",
       "      <td>Brick</td>\n",
       "      <td>rnb</td>\n",
       "      <td>Shelbyville</td>\n",
       "      <td>21:54:19</td>\n",
       "      <td>Monday</td>\n",
       "    </tr>\n",
       "    <tr>\n",
       "      <th>42</th>\n",
       "      <td>F9AD83A7</td>\n",
       "      <td>Fancy</td>\n",
       "      <td>Grey Killer</td>\n",
       "      <td>triphop</td>\n",
       "      <td>Springfield</td>\n",
       "      <td>14:53:39</td>\n",
       "      <td>Friday</td>\n",
       "    </tr>\n",
       "    <tr>\n",
       "      <th>43</th>\n",
       "      <td>9A22399C</td>\n",
       "      <td>Sweet October</td>\n",
       "      <td>Ministers of Music</td>\n",
       "      <td>dance</td>\n",
       "      <td>Springfield</td>\n",
       "      <td>20:32:33</td>\n",
       "      <td>Friday</td>\n",
       "    </tr>\n",
       "    <tr>\n",
       "      <th>44</th>\n",
       "      <td>CD0BE030</td>\n",
       "      <td>Falling for Me</td>\n",
       "      <td>Benson Taylor</td>\n",
       "      <td>pop</td>\n",
       "      <td>Springfield</td>\n",
       "      <td>09:21:00</td>\n",
       "      <td>Friday</td>\n",
       "    </tr>\n",
       "    <tr>\n",
       "      <th>45</th>\n",
       "      <td>E6072F55</td>\n",
       "      <td>SOS</td>\n",
       "      <td>Peter Cetera</td>\n",
       "      <td>pop</td>\n",
       "      <td>Springfield</td>\n",
       "      <td>20:10:04</td>\n",
       "      <td>Wednesday</td>\n",
       "    </tr>\n",
       "    <tr>\n",
       "      <th>46</th>\n",
       "      <td>825997A5</td>\n",
       "      <td>Glorious Feeling</td>\n",
       "      <td>Joelistics</td>\n",
       "      <td>hip</td>\n",
       "      <td>Springfield</td>\n",
       "      <td>21:46:34</td>\n",
       "      <td>Friday</td>\n",
       "    </tr>\n",
       "    <tr>\n",
       "      <th>47</th>\n",
       "      <td>A1749681</td>\n",
       "      <td>Downfall</td>\n",
       "      <td>The Voss</td>\n",
       "      <td>dance</td>\n",
       "      <td>Shelbyville</td>\n",
       "      <td>20:07:58</td>\n",
       "      <td>Monday</td>\n",
       "    </tr>\n",
       "    <tr>\n",
       "      <th>48</th>\n",
       "      <td>8D0DCE83</td>\n",
       "      <td>Little Bitty Pretty One</td>\n",
       "      <td>Thurston Harris</td>\n",
       "      <td>blues</td>\n",
       "      <td>Springfield</td>\n",
       "      <td>09:41:14</td>\n",
       "      <td>Friday</td>\n",
       "    </tr>\n",
       "    <tr>\n",
       "      <th>49</th>\n",
       "      <td>2A35001B</td>\n",
       "      <td>Can You Feel the Love Tonight</td>\n",
       "      <td>Disney Peaceful Piano</td>\n",
       "      <td>instrumental</td>\n",
       "      <td>Shelbyville</td>\n",
       "      <td>21:51:37</td>\n",
       "      <td>Friday</td>\n",
       "    </tr>\n",
       "  </tbody>\n",
       "</table>\n",
       "</div>"
      ],
      "text/plain": [
       "     user_id                                              track  \\\n",
       "0   FFB692EC                                  Kamigata To Boots   \n",
       "1   55204538                        Delayed Because of Accident   \n",
       "2     20EC38                                  Funiculì funiculà   \n",
       "3   A3DD03C9                              Dragons in the Sunset   \n",
       "4   E2DC1FAE                                        Soul People   \n",
       "5   842029A1                                             Chains   \n",
       "6   4CB90AA5                                               True   \n",
       "7   F03E1C1F                                   Feeling This Way   \n",
       "8   8FA1D3BE                                           L’estate   \n",
       "9   E772D5C0                                          Pessimist   \n",
       "10  BC5A3A29                                       Gool la Mita   \n",
       "11  8B5192C0  Is There Anybody Out There? (Panoramic Paralys...   \n",
       "12  FF3FD2BD                                              Truth   \n",
       "13  CC782B0F                               After School Special   \n",
       "14  94EB25C2                         Make Love Whenever You Can   \n",
       "15  E3C5756F                                            unknown   \n",
       "16  81D05C7D                                     SLAVES OF FEAR   \n",
       "17  39DE290E                                        Hallo Hallo   \n",
       "18  58AE138A                                         Pat-a-Cake   \n",
       "19  772F5B59                                          Sweetback   \n",
       "20  201CF2A8                                   Ya'll In Trouble   \n",
       "21  44B8E869                                          Nanovirus   \n",
       "22  B8E29C9C                               The Drunken Scotsman   \n",
       "23  A729591B                                            Gavotte   \n",
       "24   8BA8855                               A Universal Weakness   \n",
       "25  A4504035                                Cradle in Bethlehem   \n",
       "26  982219FD                             We Not Speak Americano   \n",
       "27  9CC6AA46                                      Mucho Corazón   \n",
       "28  D8D698A9                                          Romantici   \n",
       "29  5661F63E  Purcell: Dido and Aeneas / Act 3 - \"See the fl...   \n",
       "30  EBA5A8B2                             Päivän Nousu Nostajani   \n",
       "31  F6A44469                                Veritas Universalis   \n",
       "32  84AFC19A                                           Carry On   \n",
       "33  809CAFB1                                      Break Me Down   \n",
       "34  B416A40F                                              Maybe   \n",
       "35  A8AE9169                                            unknown   \n",
       "36  FCDF1C8E                                         Nasebanaru   \n",
       "37  C800FA98                                          Body Talk   \n",
       "38  14FBD1E5                                           Solteras   \n",
       "39  2CF53316                                   Chicago New York   \n",
       "40  77979A66                                             Sci-Fi   \n",
       "41  9202C4F4                              Good Morning Sunshine   \n",
       "42  F9AD83A7                                              Fancy   \n",
       "43  9A22399C                                      Sweet October   \n",
       "44  CD0BE030                                     Falling for Me   \n",
       "45  E6072F55                                                SOS   \n",
       "46  825997A5                                   Glorious Feeling   \n",
       "47  A1749681                                           Downfall   \n",
       "48  8D0DCE83                            Little Bitty Pretty One   \n",
       "49  2A35001B                      Can You Feel the Love Tonight   \n",
       "\n",
       "                                               artist         genre  \\\n",
       "0                                    The Mass Missile          rock   \n",
       "1                                    Andreas Rönnberg          rock   \n",
       "2                                         Mario Lanza           pop   \n",
       "3                                          Fire + Ice          folk   \n",
       "4                                          Space Echo         dance   \n",
       "5                                            Obladaet        rusrap   \n",
       "6                                        Roman Messer         dance   \n",
       "7                                     Polina Griffith         dance   \n",
       "8                                         Julia Dalia        ruspop   \n",
       "9                                             unknown         dance   \n",
       "10                                Shireen Abdul Wahab         world   \n",
       "11                               Pink Floyd Floydhead    electronic   \n",
       "12                                             Bamboo           pop   \n",
       "13                               Detroit Grand Pubahs         dance   \n",
       "14                                          Arabesque           pop   \n",
       "15                                            unknown       unknown   \n",
       "16                                             HEALTH   alternative   \n",
       "17                                Die Klima Hawaiians          folk   \n",
       "18                                  Mother Goose Club      children   \n",
       "19                                 The Fabulous Three           rnb   \n",
       "20  Lil Tee Chill Tank Young Buck Brother Mohammed...           hip   \n",
       "21                                            Exotype          rock   \n",
       "22                                       Ménage à Moi          folk   \n",
       "23                                  Hachidai Nakamura          jazz   \n",
       "24                                   Lowercase Noises      postrock   \n",
       "25                                      Nat King Cole          jazz   \n",
       "26                                         Genio Band           pop   \n",
       "27                            Buena Vista Social Club         latin   \n",
       "28                                    Viola Valentino           pop   \n",
       "29                                        Teresa Shaw     classical   \n",
       "30                                          Värttinä         world   \n",
       "31                                          Devathorn         metal   \n",
       "32                                  Young Rising Sons   alternative   \n",
       "33                                      Steve Angello         dance   \n",
       "34                                     Maria Michelle        ruspop   \n",
       "35                                            unknown       unknown   \n",
       "36                                                Zen        reggae   \n",
       "37                                               Ratt          rock   \n",
       "38                                       Beauty Brain         dance   \n",
       "39                                    The Aislers Set   alternative   \n",
       "40                                            unknown        rusrap   \n",
       "41                                              Brick           rnb   \n",
       "42                                        Grey Killer       triphop   \n",
       "43                                 Ministers of Music         dance   \n",
       "44                                      Benson Taylor           pop   \n",
       "45                                       Peter Cetera           pop   \n",
       "46                                         Joelistics           hip   \n",
       "47                                           The Voss         dance   \n",
       "48                                    Thurston Harris         blues   \n",
       "49                              Disney Peaceful Piano  instrumental   \n",
       "\n",
       "           city      time        day  \n",
       "0   Shelbyville  20:28:33  Wednesday  \n",
       "1   Springfield  14:07:09     Friday  \n",
       "2   Shelbyville  20:58:07  Wednesday  \n",
       "3   Shelbyville  08:37:09     Monday  \n",
       "4   Springfield  08:34:34     Monday  \n",
       "5   Shelbyville  13:09:41     Friday  \n",
       "6   Springfield  13:00:07  Wednesday  \n",
       "7   Springfield  20:47:49  Wednesday  \n",
       "8   Springfield  09:17:40     Friday  \n",
       "9   Shelbyville  21:20:49  Wednesday  \n",
       "10  Springfield  14:08:42     Monday  \n",
       "11  Springfield  13:47:49     Monday  \n",
       "12  Springfield  09:19:49     Monday  \n",
       "13  Springfield  20:04:12     Friday  \n",
       "14  Shelbyville  13:22:08  Wednesday  \n",
       "15  Springfield  09:24:51     Monday  \n",
       "16  Shelbyville  20:54:48     Monday  \n",
       "17  Shelbyville  14:36:47     Monday  \n",
       "18  Shelbyville  20:04:56     Monday  \n",
       "19  Springfield  13:56:42  Wednesday  \n",
       "20  Springfield  08:46:03     Monday  \n",
       "21  Springfield  21:36:40     Monday  \n",
       "22  Shelbyville  20:20:49  Wednesday  \n",
       "23  Springfield  13:56:00     Monday  \n",
       "24  Shelbyville  21:17:25  Wednesday  \n",
       "25  Shelbyville  09:23:01  Wednesday  \n",
       "26  Shelbyville  20:03:03     Monday  \n",
       "27  Springfield  14:06:22     Monday  \n",
       "28  Springfield  08:23:21  Wednesday  \n",
       "29  Shelbyville  08:33:58  Wednesday  \n",
       "30  Shelbyville  08:00:31     Friday  \n",
       "31  Shelbyville  20:19:42     Friday  \n",
       "32  Shelbyville  20:24:51     Monday  \n",
       "33  Springfield  14:42:31     Monday  \n",
       "34  Springfield  14:49:21     Friday  \n",
       "35  Springfield  08:56:10     Monday  \n",
       "36  Springfield  20:19:36  Wednesday  \n",
       "37  Springfield  08:45:16     Monday  \n",
       "38  Shelbyville  20:33:11     Friday  \n",
       "39  Shelbyville  20:29:00  Wednesday  \n",
       "40  Shelbyville  08:45:43     Monday  \n",
       "41  Shelbyville  21:54:19     Monday  \n",
       "42  Springfield  14:53:39     Friday  \n",
       "43  Springfield  20:32:33     Friday  \n",
       "44  Springfield  09:21:00     Friday  \n",
       "45  Springfield  20:10:04  Wednesday  \n",
       "46  Springfield  21:46:34     Friday  \n",
       "47  Shelbyville  20:07:58     Monday  \n",
       "48  Springfield  09:41:14     Friday  \n",
       "49  Shelbyville  21:51:37     Friday  "
      ]
     },
     "execution_count": 10,
     "metadata": {},
     "output_type": "execute_result"
    }
   ],
   "source": [
    "columns_to_replace = ['track', 'artist', 'genre']\n",
    "for column in columns_to_replace:\n",
    "    df[column].fillna('unknown',inplace=True)\n",
    "df.head(50)        # looping over column names and replacing missing values with 'unknown'"
   ]
  },
  {
   "cell_type": "markdown",
   "metadata": {
    "id": "Ilsm-MZo_Zct"
   },
   "source": [
    "Make sure the table contains no more missing values. Count the missing values again."
   ]
  },
  {
   "cell_type": "code",
   "execution_count": 11,
   "metadata": {
    "id": "Tq4nYRX4_Zct"
   },
   "outputs": [
    {
     "name": "stdout",
     "output_type": "stream",
     "text": [
      "user_id    0\n",
      "track      0\n",
      "artist     0\n",
      "genre      0\n",
      "city       0\n",
      "time       0\n",
      "day        0\n",
      "dtype: int64\n"
     ]
    }
   ],
   "source": [
    "print(df.isna().sum())# counting missing values"
   ]
  },
  {
   "cell_type": "markdown",
   "metadata": {
    "id": "74ZIBmq9VrsK"
   },
   "source": [
    "[Back to Contents](#back)"
   ]
  },
  {
   "cell_type": "markdown",
   "metadata": {
    "id": "BWKRtBJ3_Zct"
   },
   "source": [
    "### Duplicates <a id='duplicates'></a>"
   ]
  },
  {
   "cell_type": "code",
   "execution_count": 12,
   "metadata": {
    "id": "36eES_S0_Zct"
   },
   "outputs": [
    {
     "name": "stdout",
     "output_type": "stream",
     "text": [
      "3826\n"
     ]
    }
   ],
   "source": [
    "print(df.duplicated().sum())# counting clear duplicates"
   ]
  },
  {
   "cell_type": "markdown",
   "metadata": {
    "id": "Ot25h6XR_Zct"
   },
   "source": [
    "Call the `pandas` method for getting rid of obvious duplicates:"
   ]
  },
  {
   "cell_type": "code",
   "execution_count": 13,
   "metadata": {
    "id": "exFHq6tt_Zct"
   },
   "outputs": [],
   "source": [
    "df = df.drop_duplicates()# removing obvious duplicates"
   ]
  },
  {
   "cell_type": "markdown",
   "metadata": {
    "id": "Im2YwBEG_Zct"
   },
   "source": [
    "Count obvious duplicates once more to make sure you have removed all of them:"
   ]
  },
  {
   "cell_type": "code",
   "execution_count": 14,
   "metadata": {
    "id": "-8PuNWQ0_Zct"
   },
   "outputs": [
    {
     "name": "stdout",
     "output_type": "stream",
     "text": [
      "0\n"
     ]
    }
   ],
   "source": [
    "print(df.duplicated().sum())# checking for duplicates"
   ]
  },
  {
   "cell_type": "markdown",
   "metadata": {
    "id": "QlFBsxAr_Zct"
   },
   "source": [
    "Now get rid of implicit duplicates in the `genre` column. For example, the name of a genre can be written in different ways. Such errors will also affect the result."
   ]
  },
  {
   "cell_type": "code",
   "execution_count": 15,
   "metadata": {
    "id": "JIUcqzZN_Zct"
   },
   "outputs": [
    {
     "name": "stdout",
     "output_type": "stream",
     "text": [
      "['acid', 'acoustic', 'action', 'adult', 'africa', 'afrikaans', 'alternative', 'ambient', 'americana', 'animated', 'anime', 'arabesk', 'arabic', 'arena', 'argentinetango', 'art', 'audiobook', 'avantgarde', 'axé', 'baile', 'balkan', 'beats', 'bigroom', 'black', 'bluegrass', 'blues', 'bollywood', 'bossa', 'brazilian', 'breakbeat', 'breaks', 'broadway', 'cantautori', 'cantopop', 'canzone', 'caribbean', 'caucasian', 'celtic', 'chamber', 'children', 'chill', 'chinese', 'choral', 'christian', 'christmas', 'classical', 'classicmetal', 'club', 'colombian', 'comedy', 'conjazz', 'contemporary', 'country', 'cuban', 'dance', 'dancehall', 'dancepop', 'dark', 'death', 'deep', 'deutschrock', 'deutschspr', 'dirty', 'disco', 'dnb', 'documentary', 'downbeat', 'downtempo', 'drum', 'dub', 'dubstep', 'eastern', 'easy', 'electronic', 'electropop', 'emo', 'entehno', 'epicmetal', 'estrada', 'ethnic', 'eurofolk', 'european', 'experimental', 'extrememetal', 'fado', 'film', 'fitness', 'flamenco', 'folk', 'folklore', 'folkmetal', 'folkrock', 'folktronica', 'forró', 'frankreich', 'französisch', 'french', 'funk', 'future', 'gangsta', 'garage', 'german', 'ghazal', 'gitarre', 'glitch', 'gospel', 'gothic', 'grime', 'grunge', 'gypsy', 'handsup', \"hard'n'heavy\", 'hardcore', 'hardstyle', 'hardtechno', 'hip', 'hip-hop', 'hiphop', 'historisch', 'holiday', 'hop', 'horror', 'house', 'idm', 'independent', 'indian', 'indie', 'indipop', 'industrial', 'inspirational', 'instrumental', 'international', 'irish', 'jam', 'japanese', 'jazz', 'jewish', 'jpop', 'jungle', 'k-pop', 'karadeniz', 'karaoke', 'kayokyoku', 'korean', 'laiko', 'latin', 'latino', 'leftfield', 'local', 'lounge', 'loungeelectronic', 'lovers', 'malaysian', 'mandopop', 'marschmusik', 'meditative', 'mediterranean', 'melodic', 'metal', 'metalcore', 'mexican', 'middle', 'minimal', 'miscellaneous', 'modern', 'mood', 'mpb', 'muslim', 'native', 'neoklassik', 'neue', 'new', 'newage', 'newwave', 'nu', 'nujazz', 'numetal', 'oceania', 'old', 'opera', 'orchestral', 'other', 'piano', 'pop', 'popelectronic', 'popeurodance', 'post', 'posthardcore', 'postrock', 'power', 'progmetal', 'progressive', 'psychedelic', 'punjabi', 'punk', 'quebecois', 'ragga', 'ram', 'rancheras', 'rap', 'rave', 'reggae', 'reggaeton', 'regional', 'relax', 'religious', 'retro', 'rhythm', 'rnb', 'rnr', 'rock', 'rockabilly', 'romance', 'roots', 'ruspop', 'rusrap', 'rusrock', 'salsa', 'samba', 'schlager', 'self', 'sertanejo', 'shoegazing', 'showtunes', 'singer', 'ska', 'slow', 'smooth', 'soul', 'soulful', 'sound', 'soundtrack', 'southern', 'specialty', 'speech', 'spiritual', 'sport', 'stonerrock', 'surf', 'swing', 'synthpop', 'sängerportrait', 'tango', 'tanzorchester', 'taraftar', 'tech', 'techno', 'thrash', 'top', 'traditional', 'tradjazz', 'trance', 'tribal', 'trip', 'triphop', 'tropical', 'türk', 'türkçe', 'unknown', 'urban', 'uzbek', 'variété', 'vi', 'videogame', 'vocal', 'western', 'world', 'worldbeat', 'ïîï']\n"
     ]
    }
   ],
   "source": [
    "sorted_unique_genres = sorted(df['genre'].unique())\n",
    "print(sorted_unique_genres) # viewing unique genre names"
   ]
  },
  {
   "cell_type": "markdown",
   "metadata": {
    "id": "qej-Qmuo_Zct"
   },
   "source": [
    "Look through the list to find implicit duplicates of the genre `hiphop`. These could be names written incorrectly or alternative names of the same genre.\n",
    "\n",
    "You will see the following implicit duplicates:\n",
    "* `hip`\n",
    "* `hop`\n",
    "* `hip-hop`\n",
    "\n",
    "To get rid of them, declare the function `replace_wrong_genres()` with two parameters: \n",
    "* `wrong_genres=` — the list of duplicates\n",
    "* `correct_genre=` — the string with the correct value\n",
    "\n",
    "The function should correct the names in the `'genre'` column from the `df` table, i.e. replace each value from the `wrong_genres` list with the value in `correct_genre`."
   ]
  },
  {
   "cell_type": "code",
   "execution_count": 16,
   "metadata": {
    "id": "ErNDkmns_Zct"
   },
   "outputs": [],
   "source": [
    "def replace_wrong_genres(wrong_genres,correct_genre):\n",
    "    for wrong_genre in wrong_genres:\n",
    "        df['genre'] = df['genre'].replace(wrong_genre,correct_genre)\n",
    "    return df  #function for replacing implicit duplicates"
   ]
  },
  {
   "cell_type": "markdown",
   "metadata": {
    "id": "aDoBJxbA_Zct"
   },
   "source": [
    "Call `replace_wrong_genres()` and pass it arguments so that it clears implicit duplcates (`hip`, `hop`, and `hip-hop`) and replaces them with `hiphop`:"
   ]
  },
  {
   "cell_type": "code",
   "execution_count": 17,
   "metadata": {
    "id": "YN5i2hpmSo09"
   },
   "outputs": [
    {
     "name": "stdout",
     "output_type": "stream",
     "text": [
      "        user_id                              track            artist  \\\n",
      "0      FFB692EC                  Kamigata To Boots  The Mass Missile   \n",
      "1      55204538        Delayed Because of Accident  Andreas Rönnberg   \n",
      "2        20EC38                  Funiculì funiculà       Mario Lanza   \n",
      "3      A3DD03C9              Dragons in the Sunset        Fire + Ice   \n",
      "4      E2DC1FAE                        Soul People        Space Echo   \n",
      "...         ...                                ...               ...   \n",
      "65074  729CBB09                            My Name            McLean   \n",
      "65075  D08D4A55  Maybe One Day (feat. Black Spade)       Blu & Exile   \n",
      "65076  C5E3A0D5                          Jalopiina           unknown   \n",
      "65077  321D0506                      Freight Train     Chas McDevitt   \n",
      "65078  3A64EF84          Tell Me Sweet Little Lies      Monica Lopez   \n",
      "\n",
      "            genre         city      time        day  \n",
      "0            rock  Shelbyville  20:28:33  Wednesday  \n",
      "1            rock  Springfield  14:07:09     Friday  \n",
      "2             pop  Shelbyville  20:58:07  Wednesday  \n",
      "3            folk  Shelbyville  08:37:09     Monday  \n",
      "4           dance  Springfield  08:34:34     Monday  \n",
      "...           ...          ...       ...        ...  \n",
      "65074         rnb  Springfield  13:32:28  Wednesday  \n",
      "65075      hiphop  Shelbyville  10:00:00     Monday  \n",
      "65076  industrial  Springfield  20:09:26     Friday  \n",
      "65077        rock  Springfield  21:43:59     Friday  \n",
      "65078     country  Springfield  21:59:46     Friday  \n",
      "\n",
      "[61253 rows x 7 columns]\n"
     ]
    }
   ],
   "source": [
    "duplicates = ['hip','hop','hip-hop']  \n",
    "name = 'hiphop'\n",
    "\n",
    "replace_wrong_genres(duplicates,name)\n",
    "print(df)\n",
    "#removing implicit duplicates"
   ]
  },
  {
   "cell_type": "markdown",
   "metadata": {
    "id": "zQKF16_RG15m"
   },
   "source": [
    "Make sure the duplicate names were removed. Print the list of unique values from the `'genre'` column:"
   ]
  },
  {
   "cell_type": "code",
   "execution_count": 18,
   "metadata": {
    "id": "wvixALnFG15m"
   },
   "outputs": [
    {
     "name": "stdout",
     "output_type": "stream",
     "text": [
      "['acid', 'acoustic', 'action', 'adult', 'africa', 'afrikaans', 'alternative', 'ambient', 'americana', 'animated', 'anime', 'arabesk', 'arabic', 'arena', 'argentinetango', 'art', 'audiobook', 'avantgarde', 'axé', 'baile', 'balkan', 'beats', 'bigroom', 'black', 'bluegrass', 'blues', 'bollywood', 'bossa', 'brazilian', 'breakbeat', 'breaks', 'broadway', 'cantautori', 'cantopop', 'canzone', 'caribbean', 'caucasian', 'celtic', 'chamber', 'children', 'chill', 'chinese', 'choral', 'christian', 'christmas', 'classical', 'classicmetal', 'club', 'colombian', 'comedy', 'conjazz', 'contemporary', 'country', 'cuban', 'dance', 'dancehall', 'dancepop', 'dark', 'death', 'deep', 'deutschrock', 'deutschspr', 'dirty', 'disco', 'dnb', 'documentary', 'downbeat', 'downtempo', 'drum', 'dub', 'dubstep', 'eastern', 'easy', 'electronic', 'electropop', 'emo', 'entehno', 'epicmetal', 'estrada', 'ethnic', 'eurofolk', 'european', 'experimental', 'extrememetal', 'fado', 'film', 'fitness', 'flamenco', 'folk', 'folklore', 'folkmetal', 'folkrock', 'folktronica', 'forró', 'frankreich', 'französisch', 'french', 'funk', 'future', 'gangsta', 'garage', 'german', 'ghazal', 'gitarre', 'glitch', 'gospel', 'gothic', 'grime', 'grunge', 'gypsy', 'handsup', \"hard'n'heavy\", 'hardcore', 'hardstyle', 'hardtechno', 'hiphop', 'historisch', 'holiday', 'horror', 'house', 'idm', 'independent', 'indian', 'indie', 'indipop', 'industrial', 'inspirational', 'instrumental', 'international', 'irish', 'jam', 'japanese', 'jazz', 'jewish', 'jpop', 'jungle', 'k-pop', 'karadeniz', 'karaoke', 'kayokyoku', 'korean', 'laiko', 'latin', 'latino', 'leftfield', 'local', 'lounge', 'loungeelectronic', 'lovers', 'malaysian', 'mandopop', 'marschmusik', 'meditative', 'mediterranean', 'melodic', 'metal', 'metalcore', 'mexican', 'middle', 'minimal', 'miscellaneous', 'modern', 'mood', 'mpb', 'muslim', 'native', 'neoklassik', 'neue', 'new', 'newage', 'newwave', 'nu', 'nujazz', 'numetal', 'oceania', 'old', 'opera', 'orchestral', 'other', 'piano', 'pop', 'popelectronic', 'popeurodance', 'post', 'posthardcore', 'postrock', 'power', 'progmetal', 'progressive', 'psychedelic', 'punjabi', 'punk', 'quebecois', 'ragga', 'ram', 'rancheras', 'rap', 'rave', 'reggae', 'reggaeton', 'regional', 'relax', 'religious', 'retro', 'rhythm', 'rnb', 'rnr', 'rock', 'rockabilly', 'romance', 'roots', 'ruspop', 'rusrap', 'rusrock', 'salsa', 'samba', 'schlager', 'self', 'sertanejo', 'shoegazing', 'showtunes', 'singer', 'ska', 'slow', 'smooth', 'soul', 'soulful', 'sound', 'soundtrack', 'southern', 'specialty', 'speech', 'spiritual', 'sport', 'stonerrock', 'surf', 'swing', 'synthpop', 'sängerportrait', 'tango', 'tanzorchester', 'taraftar', 'tech', 'techno', 'thrash', 'top', 'traditional', 'tradjazz', 'trance', 'tribal', 'trip', 'triphop', 'tropical', 'türk', 'türkçe', 'unknown', 'urban', 'uzbek', 'variété', 'vi', 'videogame', 'vocal', 'western', 'world', 'worldbeat', 'ïîï']\n"
     ]
    }
   ],
   "source": [
    "sorted_unique_genres = sorted(df['genre'].unique())\n",
    "print(sorted_unique_genres) # checking for implicit duplicates"
   ]
  },
  {
   "cell_type": "markdown",
   "metadata": {
    "id": "ALgNbvF3VtPA"
   },
   "source": [
    "[Back to Contents](#back)"
   ]
  },
  {
   "cell_type": "markdown",
   "metadata": {
    "id": "jz6a9-7HQUDd"
   },
   "source": [
    "### Conclusions <a id='data_preprocessing_conclusions'></a>\n",
    "We detected three issues with the data:\n",
    "\n",
    "- Incorrect header styles\n",
    "- Missing values\n",
    "- Obvious and implicit duplicates\n",
    "\n",
    "The headers have been cleaned up to make processing the table simpler.\n",
    "\n",
    "All missing values have been replaced with `'unknown'`. But we still have to see whether the missing values in `'genre'` will affect our calculations.\n",
    "\n",
    "The absence of duplicates will make the results more precise and easier to understand.\n",
    "\n",
    "Now we can move on to testing hypotheses. "
   ]
  },
  {
   "cell_type": "markdown",
   "metadata": {
    "id": "eK1es74rVujj"
   },
   "source": [
    "[Back to Contents](#back)"
   ]
  },
  {
   "cell_type": "markdown",
   "metadata": {
    "id": "WttZHXH0SqKk"
   },
   "source": [
    "## Stage 3. Testing hypotheses <a id='hypotheses'></a>"
   ]
  },
  {
   "cell_type": "markdown",
   "metadata": {
    "id": "Im936VVi_Zcu"
   },
   "source": [
    "### Hypothesis 1: comparing user behavior in two cities <a id='activity'></a>"
   ]
  },
  {
   "cell_type": "markdown",
   "metadata": {
    "id": "nwt_MuaL_Zcu"
   },
   "source": [
    "According to the first hypothesis, users from Springfield and Shelbyville listen to music differently. Test this using the data on three days of the week: Monday, Wednesday, and Friday.\n",
    "\n",
    "* Divide the users into groups by city.\n",
    "* Compare how many tracks each group played on Monday, Wednesday, and Friday.\n"
   ]
  },
  {
   "cell_type": "markdown",
   "metadata": {
    "id": "8Dw_YMmT_Zcu"
   },
   "source": [
    "For the sake of practice, perform each computation separately. \n",
    "\n",
    "Evaluate user activity in each city. Group the data by city and find the number of songs played in each group.\n",
    "\n"
   ]
  },
  {
   "cell_type": "code",
   "execution_count": 19,
   "metadata": {
    "id": "0_Qs96oh_Zcu"
   },
   "outputs": [
    {
     "data": {
      "text/plain": [
       "city\n",
       "Shelbyville    18512\n",
       "Springfield    42741\n",
       "Name: track, dtype: int64"
      ]
     },
     "execution_count": 19,
     "metadata": {},
     "output_type": "execute_result"
    }
   ],
   "source": [
    "df.groupby(['city'])['track'].count()# Counting up the tracks played in each city"
   ]
  },
  {
   "cell_type": "markdown",
   "metadata": {
    "id": "dzli3w8o_Zcu"
   },
   "source": [
    "Springfield has more tracks played than Shelbyville. But that does not imply that citizens of Springfield listen to music more often. This city is simply bigger, and there are more users.\n",
    "\n",
    "Now group the data by day of the week and find the number of tracks played on Monday, Wednesday, and Friday.\n"
   ]
  },
  {
   "cell_type": "code",
   "execution_count": 20,
   "metadata": {
    "id": "uZMKjiJz_Zcu"
   },
   "outputs": [
    {
     "data": {
      "text/plain": [
       "day\n",
       "Friday       21840\n",
       "Monday       21354\n",
       "Wednesday    18059\n",
       "Name: track, dtype: int64"
      ]
     },
     "execution_count": 20,
     "metadata": {},
     "output_type": "execute_result"
    }
   ],
   "source": [
    "df.groupby(['day'])['track'].count() # Calculating tracks played on each of the three days"
   ]
  },
  {
   "cell_type": "markdown",
   "metadata": {
    "id": "cC2tNrlL_Zcu"
   },
   "source": [
    "Wednesday is the quietest day overall. But if we consider the two cities separately, we might come to a different conclusion."
   ]
  },
  {
   "cell_type": "markdown",
   "metadata": {
    "id": "POzs8bGa_Zcu"
   },
   "source": [
    "You have seen how grouping by city or day works. Now write a function that will group by both.\n",
    "\n",
    "Create the `number_tracks()` function to calculate the number of songs played for a given day and city. It will require two parameters:\n",
    "* day of the week\n",
    "* name of the city\n",
    "\n",
    "In the function, use a variable to store the rows from the original table, where:\n",
    "  * `'day'` column value is equal to the `day` parameter\n",
    "  * `'city'` column value is equal to the `city` parameter\n",
    "\n",
    "Apply consecutive filtering with logical indexing.\n",
    "\n",
    "Then calculate the `'user_id'` column values in the resulting table. Store the result to a new variable. Return this variable from the function."
   ]
  },
  {
   "cell_type": "code",
   "execution_count": 21,
   "metadata": {
    "id": "Nz3GdQB1_Zcu"
   },
   "outputs": [],
   "source": [
    "def number_tracks(day,city):\n",
    "    track_list = df[(df['day']== day) & (df['city']== city)]\n",
    "    track_list_count = track_list['user_id'].count()\n",
    "    return(track_list_count)\n",
    "    \n",
    "# <creating the function number_tracks()>\n",
    "# We'll declare a function with two parameters: day=, city=.\n",
    "# Let the track_list variable store the df rows where\n",
    "# the value in the 'day' column is equal to the day= parameter and, at the same time, \n",
    "# the value in the 'city' column is equal to the city= parameter (apply consecutive filtering \n",
    "# with logical indexing).\n",
    "# Let the track_list_count variable store the number of 'user_id' column values in track_list\n",
    "# (found with the count() method).\n",
    "# Let the function return a number: the value of track_list_count.\n",
    "\n",
    "# The function counts tracked played for a certain city and day.\n",
    "# It first retrieves the rows with the intended day from the table,\n",
    "# then filters out the rows with the intended city from the result,\n",
    "# then finds the number of 'user_id' values in the filtered table,\n",
    "# then returns that number.\n",
    "# To see what it returns, wrap the function call in print()."
   ]
  },
  {
   "cell_type": "markdown",
   "metadata": {
    "id": "ytf7xFrFJQ2r"
   },
   "source": [
    "Call `number_tracks()` six times, changing the parameter values, so that you retrieve the data on both cities for each of the three days."
   ]
  },
  {
   "cell_type": "code",
   "execution_count": 22,
   "metadata": {
    "id": "rJcRATNQ_Zcu"
   },
   "outputs": [
    {
     "name": "stdout",
     "output_type": "stream",
     "text": [
      "15740\n"
     ]
    }
   ],
   "source": [
    "print(number_tracks('Monday','Springfield'))# the number of songs played in Springfield on Monday"
   ]
  },
  {
   "cell_type": "code",
   "execution_count": 23,
   "metadata": {
    "id": "hq_ncZ5T_Zcu"
   },
   "outputs": [
    {
     "name": "stdout",
     "output_type": "stream",
     "text": [
      "5614\n"
     ]
    }
   ],
   "source": [
    "print(number_tracks('Monday','Shelbyville'))# the number of songs played in Shelbyville on Monday"
   ]
  },
  {
   "cell_type": "code",
   "execution_count": 24,
   "metadata": {
    "id": "_NTy2VPU_Zcu"
   },
   "outputs": [
    {
     "name": "stdout",
     "output_type": "stream",
     "text": [
      "11056\n"
     ]
    }
   ],
   "source": [
    "print(number_tracks('Wednesday','Springfield'))# the number of songs played in Springfield on Wednesday"
   ]
  },
  {
   "cell_type": "code",
   "execution_count": 25,
   "metadata": {
    "id": "j2y3TAwo_Zcu"
   },
   "outputs": [
    {
     "name": "stdout",
     "output_type": "stream",
     "text": [
      "7003\n"
     ]
    }
   ],
   "source": [
    "print(number_tracks('Wednesday','Shelbyville'))# the number of songs played in Shelbyville on Wednesday"
   ]
  },
  {
   "cell_type": "code",
   "execution_count": 26,
   "metadata": {
    "id": "vYDw5u_K_Zcu"
   },
   "outputs": [
    {
     "name": "stdout",
     "output_type": "stream",
     "text": [
      "15945\n"
     ]
    }
   ],
   "source": [
    "print(number_tracks('Friday','Springfield'))# the number of songs played in Springfield on Friday"
   ]
  },
  {
   "cell_type": "code",
   "execution_count": 27,
   "metadata": {
    "id": "8_yzFtW3_Zcu"
   },
   "outputs": [
    {
     "name": "stdout",
     "output_type": "stream",
     "text": [
      "5895\n"
     ]
    }
   ],
   "source": [
    "print(number_tracks('Friday','Shelbyville'))# the number of songs played in Shelbyville on Friday"
   ]
  },
  {
   "cell_type": "markdown",
   "metadata": {
    "id": "7QXffbO-_Zcu"
   },
   "source": [
    "Use `pd.DataFrame` to create a table, where\n",
    "* Column names are: `['city', 'monday', 'wednesday', 'friday']`\n",
    "* The data is the results you got from `number_tracks()`"
   ]
  },
  {
   "cell_type": "code",
   "execution_count": 28,
   "metadata": {
    "id": "APAcLpOr_Zcu"
   },
   "outputs": [
    {
     "data": {
      "text/html": [
       "<div>\n",
       "<style scoped>\n",
       "    .dataframe tbody tr th:only-of-type {\n",
       "        vertical-align: middle;\n",
       "    }\n",
       "\n",
       "    .dataframe tbody tr th {\n",
       "        vertical-align: top;\n",
       "    }\n",
       "\n",
       "    .dataframe thead th {\n",
       "        text-align: right;\n",
       "    }\n",
       "</style>\n",
       "<table border=\"1\" class=\"dataframe\">\n",
       "  <thead>\n",
       "    <tr style=\"text-align: right;\">\n",
       "      <th></th>\n",
       "      <th>city</th>\n",
       "      <th>monday</th>\n",
       "      <th>wednesday</th>\n",
       "      <th>friday</th>\n",
       "    </tr>\n",
       "  </thead>\n",
       "  <tbody>\n",
       "    <tr>\n",
       "      <th>0</th>\n",
       "      <td>Springfield</td>\n",
       "      <td>15740</td>\n",
       "      <td>11056</td>\n",
       "      <td>15945</td>\n",
       "    </tr>\n",
       "    <tr>\n",
       "      <th>1</th>\n",
       "      <td>Shelbyville</td>\n",
       "      <td>5614</td>\n",
       "      <td>7003</td>\n",
       "      <td>5895</td>\n",
       "    </tr>\n",
       "  </tbody>\n",
       "</table>\n",
       "</div>"
      ],
      "text/plain": [
       "          city  monday  wednesday  friday\n",
       "0  Springfield   15740      11056   15945\n",
       "1  Shelbyville    5614       7003    5895"
      ]
     },
     "execution_count": 28,
     "metadata": {},
     "output_type": "execute_result"
    }
   ],
   "source": [
    "data = {'city': ['Springfield','Shelbyville'],\n",
    "        'monday':[15740,5614],\n",
    "        'wednesday':[11056,7003],\n",
    "        'friday':[15945,5895]}\n",
    "        \n",
    "city_table=pd.DataFrame(data)\n",
    "\n",
    "city_table\n",
    "        # table with results"
   ]
  },
  {
   "cell_type": "markdown",
   "metadata": {
    "id": "-EgPIHYu_Zcu"
   },
   "source": [
    "**Conclusions**\n",
    "\n",
    "The data reveals differences in user behavior:\n",
    "\n",
    "- In Springfield, the number of songs played peaks on Mondays and Fridays, while on Wednesday there is a decrease in activity.\n",
    "- In Shelbyville, on the contrary, users listen to music more on Wednesday. User activity on Monday and Friday is smaller.\n",
    "\n",
    "So the first hypothesis seems to be correct."
   ]
  },
  {
   "cell_type": "markdown",
   "metadata": {
    "id": "p7nFQajCVw5B"
   },
   "source": [
    "[Back to Contents](#back)"
   ]
  },
  {
   "cell_type": "markdown",
   "metadata": {
    "id": "atZAxtq4_Zcu"
   },
   "source": [
    "### Hypothesis 2: music at the beginning and end of the week <a id='week'></a>"
   ]
  },
  {
   "cell_type": "markdown",
   "metadata": {
    "id": "eXrQqXFH_Zcu"
   },
   "source": [
    "According to the second hypothesis, on Monday morning and Friday night, citizens of Springfield listen to genres that differ from ones users from Shelbyville enjoy."
   ]
  },
  {
   "cell_type": "markdown",
   "metadata": {
    "id": "S8UcW6Hw_Zcu"
   },
   "source": [
    "Get tables (make sure that the name of your combined table matches the DataFrame given in the two code blocks below):\n",
    "* For Springfield — `spr_general`\n",
    "* For Shelbyville — `shel_general`"
   ]
  },
  {
   "cell_type": "code",
   "execution_count": 29,
   "metadata": {
    "id": "qeaFfM_P_Zcu",
    "pycharm": {
     "is_executing": true
    }
   },
   "outputs": [
    {
     "data": {
      "text/html": [
       "<div>\n",
       "<style scoped>\n",
       "    .dataframe tbody tr th:only-of-type {\n",
       "        vertical-align: middle;\n",
       "    }\n",
       "\n",
       "    .dataframe tbody tr th {\n",
       "        vertical-align: top;\n",
       "    }\n",
       "\n",
       "    .dataframe thead th {\n",
       "        text-align: right;\n",
       "    }\n",
       "</style>\n",
       "<table border=\"1\" class=\"dataframe\">\n",
       "  <thead>\n",
       "    <tr style=\"text-align: right;\">\n",
       "      <th></th>\n",
       "      <th>user_id</th>\n",
       "      <th>track</th>\n",
       "      <th>artist</th>\n",
       "      <th>genre</th>\n",
       "      <th>city</th>\n",
       "      <th>time</th>\n",
       "      <th>day</th>\n",
       "    </tr>\n",
       "  </thead>\n",
       "  <tbody>\n",
       "    <tr>\n",
       "      <th>1</th>\n",
       "      <td>55204538</td>\n",
       "      <td>Delayed Because of Accident</td>\n",
       "      <td>Andreas Rönnberg</td>\n",
       "      <td>rock</td>\n",
       "      <td>Springfield</td>\n",
       "      <td>14:07:09</td>\n",
       "      <td>Friday</td>\n",
       "    </tr>\n",
       "    <tr>\n",
       "      <th>4</th>\n",
       "      <td>E2DC1FAE</td>\n",
       "      <td>Soul People</td>\n",
       "      <td>Space Echo</td>\n",
       "      <td>dance</td>\n",
       "      <td>Springfield</td>\n",
       "      <td>08:34:34</td>\n",
       "      <td>Monday</td>\n",
       "    </tr>\n",
       "    <tr>\n",
       "      <th>6</th>\n",
       "      <td>4CB90AA5</td>\n",
       "      <td>True</td>\n",
       "      <td>Roman Messer</td>\n",
       "      <td>dance</td>\n",
       "      <td>Springfield</td>\n",
       "      <td>13:00:07</td>\n",
       "      <td>Wednesday</td>\n",
       "    </tr>\n",
       "    <tr>\n",
       "      <th>7</th>\n",
       "      <td>F03E1C1F</td>\n",
       "      <td>Feeling This Way</td>\n",
       "      <td>Polina Griffith</td>\n",
       "      <td>dance</td>\n",
       "      <td>Springfield</td>\n",
       "      <td>20:47:49</td>\n",
       "      <td>Wednesday</td>\n",
       "    </tr>\n",
       "    <tr>\n",
       "      <th>8</th>\n",
       "      <td>8FA1D3BE</td>\n",
       "      <td>L’estate</td>\n",
       "      <td>Julia Dalia</td>\n",
       "      <td>ruspop</td>\n",
       "      <td>Springfield</td>\n",
       "      <td>09:17:40</td>\n",
       "      <td>Friday</td>\n",
       "    </tr>\n",
       "    <tr>\n",
       "      <th>...</th>\n",
       "      <td>...</td>\n",
       "      <td>...</td>\n",
       "      <td>...</td>\n",
       "      <td>...</td>\n",
       "      <td>...</td>\n",
       "      <td>...</td>\n",
       "      <td>...</td>\n",
       "    </tr>\n",
       "    <tr>\n",
       "      <th>65073</th>\n",
       "      <td>83A474E7</td>\n",
       "      <td>I Worship Only What You Bleed</td>\n",
       "      <td>The Black Dahlia Murder</td>\n",
       "      <td>extrememetal</td>\n",
       "      <td>Springfield</td>\n",
       "      <td>21:07:12</td>\n",
       "      <td>Monday</td>\n",
       "    </tr>\n",
       "    <tr>\n",
       "      <th>65074</th>\n",
       "      <td>729CBB09</td>\n",
       "      <td>My Name</td>\n",
       "      <td>McLean</td>\n",
       "      <td>rnb</td>\n",
       "      <td>Springfield</td>\n",
       "      <td>13:32:28</td>\n",
       "      <td>Wednesday</td>\n",
       "    </tr>\n",
       "    <tr>\n",
       "      <th>65076</th>\n",
       "      <td>C5E3A0D5</td>\n",
       "      <td>Jalopiina</td>\n",
       "      <td>unknown</td>\n",
       "      <td>industrial</td>\n",
       "      <td>Springfield</td>\n",
       "      <td>20:09:26</td>\n",
       "      <td>Friday</td>\n",
       "    </tr>\n",
       "    <tr>\n",
       "      <th>65077</th>\n",
       "      <td>321D0506</td>\n",
       "      <td>Freight Train</td>\n",
       "      <td>Chas McDevitt</td>\n",
       "      <td>rock</td>\n",
       "      <td>Springfield</td>\n",
       "      <td>21:43:59</td>\n",
       "      <td>Friday</td>\n",
       "    </tr>\n",
       "    <tr>\n",
       "      <th>65078</th>\n",
       "      <td>3A64EF84</td>\n",
       "      <td>Tell Me Sweet Little Lies</td>\n",
       "      <td>Monica Lopez</td>\n",
       "      <td>country</td>\n",
       "      <td>Springfield</td>\n",
       "      <td>21:59:46</td>\n",
       "      <td>Friday</td>\n",
       "    </tr>\n",
       "  </tbody>\n",
       "</table>\n",
       "<p>42741 rows × 7 columns</p>\n",
       "</div>"
      ],
      "text/plain": [
       "        user_id                          track                   artist  \\\n",
       "1      55204538    Delayed Because of Accident         Andreas Rönnberg   \n",
       "4      E2DC1FAE                    Soul People               Space Echo   \n",
       "6      4CB90AA5                           True             Roman Messer   \n",
       "7      F03E1C1F               Feeling This Way          Polina Griffith   \n",
       "8      8FA1D3BE                       L’estate              Julia Dalia   \n",
       "...         ...                            ...                      ...   \n",
       "65073  83A474E7  I Worship Only What You Bleed  The Black Dahlia Murder   \n",
       "65074  729CBB09                        My Name                   McLean   \n",
       "65076  C5E3A0D5                      Jalopiina                  unknown   \n",
       "65077  321D0506                  Freight Train            Chas McDevitt   \n",
       "65078  3A64EF84      Tell Me Sweet Little Lies             Monica Lopez   \n",
       "\n",
       "              genre         city      time        day  \n",
       "1              rock  Springfield  14:07:09     Friday  \n",
       "4             dance  Springfield  08:34:34     Monday  \n",
       "6             dance  Springfield  13:00:07  Wednesday  \n",
       "7             dance  Springfield  20:47:49  Wednesday  \n",
       "8            ruspop  Springfield  09:17:40     Friday  \n",
       "...             ...          ...       ...        ...  \n",
       "65073  extrememetal  Springfield  21:07:12     Monday  \n",
       "65074           rnb  Springfield  13:32:28  Wednesday  \n",
       "65076    industrial  Springfield  20:09:26     Friday  \n",
       "65077          rock  Springfield  21:43:59     Friday  \n",
       "65078       country  Springfield  21:59:46     Friday  \n",
       "\n",
       "[42741 rows x 7 columns]"
      ]
     },
     "execution_count": 29,
     "metadata": {},
     "output_type": "execute_result"
    }
   ],
   "source": [
    "spr_general=df[df['city']=='Springfield']\n",
    "\n",
    "spr_general\n",
    "# create the spr_general table from the df rows, \n",
    "# where the value in the 'city' column is 'Springfield'"
   ]
  },
  {
   "cell_type": "code",
   "execution_count": 30,
   "metadata": {
    "id": "ORaVRKto_Zcu"
   },
   "outputs": [
    {
     "data": {
      "text/html": [
       "<div>\n",
       "<style scoped>\n",
       "    .dataframe tbody tr th:only-of-type {\n",
       "        vertical-align: middle;\n",
       "    }\n",
       "\n",
       "    .dataframe tbody tr th {\n",
       "        vertical-align: top;\n",
       "    }\n",
       "\n",
       "    .dataframe thead th {\n",
       "        text-align: right;\n",
       "    }\n",
       "</style>\n",
       "<table border=\"1\" class=\"dataframe\">\n",
       "  <thead>\n",
       "    <tr style=\"text-align: right;\">\n",
       "      <th></th>\n",
       "      <th>user_id</th>\n",
       "      <th>track</th>\n",
       "      <th>artist</th>\n",
       "      <th>genre</th>\n",
       "      <th>city</th>\n",
       "      <th>time</th>\n",
       "      <th>day</th>\n",
       "    </tr>\n",
       "  </thead>\n",
       "  <tbody>\n",
       "    <tr>\n",
       "      <th>0</th>\n",
       "      <td>FFB692EC</td>\n",
       "      <td>Kamigata To Boots</td>\n",
       "      <td>The Mass Missile</td>\n",
       "      <td>rock</td>\n",
       "      <td>Shelbyville</td>\n",
       "      <td>20:28:33</td>\n",
       "      <td>Wednesday</td>\n",
       "    </tr>\n",
       "    <tr>\n",
       "      <th>2</th>\n",
       "      <td>20EC38</td>\n",
       "      <td>Funiculì funiculà</td>\n",
       "      <td>Mario Lanza</td>\n",
       "      <td>pop</td>\n",
       "      <td>Shelbyville</td>\n",
       "      <td>20:58:07</td>\n",
       "      <td>Wednesday</td>\n",
       "    </tr>\n",
       "    <tr>\n",
       "      <th>3</th>\n",
       "      <td>A3DD03C9</td>\n",
       "      <td>Dragons in the Sunset</td>\n",
       "      <td>Fire + Ice</td>\n",
       "      <td>folk</td>\n",
       "      <td>Shelbyville</td>\n",
       "      <td>08:37:09</td>\n",
       "      <td>Monday</td>\n",
       "    </tr>\n",
       "    <tr>\n",
       "      <th>5</th>\n",
       "      <td>842029A1</td>\n",
       "      <td>Chains</td>\n",
       "      <td>Obladaet</td>\n",
       "      <td>rusrap</td>\n",
       "      <td>Shelbyville</td>\n",
       "      <td>13:09:41</td>\n",
       "      <td>Friday</td>\n",
       "    </tr>\n",
       "    <tr>\n",
       "      <th>9</th>\n",
       "      <td>E772D5C0</td>\n",
       "      <td>Pessimist</td>\n",
       "      <td>unknown</td>\n",
       "      <td>dance</td>\n",
       "      <td>Shelbyville</td>\n",
       "      <td>21:20:49</td>\n",
       "      <td>Wednesday</td>\n",
       "    </tr>\n",
       "    <tr>\n",
       "      <th>...</th>\n",
       "      <td>...</td>\n",
       "      <td>...</td>\n",
       "      <td>...</td>\n",
       "      <td>...</td>\n",
       "      <td>...</td>\n",
       "      <td>...</td>\n",
       "      <td>...</td>\n",
       "    </tr>\n",
       "    <tr>\n",
       "      <th>65063</th>\n",
       "      <td>D94F810B</td>\n",
       "      <td>Theme from the Walking Dead</td>\n",
       "      <td>Proyecto Halloween</td>\n",
       "      <td>film</td>\n",
       "      <td>Shelbyville</td>\n",
       "      <td>21:14:40</td>\n",
       "      <td>Monday</td>\n",
       "    </tr>\n",
       "    <tr>\n",
       "      <th>65064</th>\n",
       "      <td>BC8EC5CF</td>\n",
       "      <td>Red Lips: Gta (Rover Rework)</td>\n",
       "      <td>Rover</td>\n",
       "      <td>electronic</td>\n",
       "      <td>Shelbyville</td>\n",
       "      <td>21:06:50</td>\n",
       "      <td>Monday</td>\n",
       "    </tr>\n",
       "    <tr>\n",
       "      <th>65065</th>\n",
       "      <td>29E04611</td>\n",
       "      <td>Bre Petrunko</td>\n",
       "      <td>Perunika Trio</td>\n",
       "      <td>world</td>\n",
       "      <td>Shelbyville</td>\n",
       "      <td>13:56:00</td>\n",
       "      <td>Monday</td>\n",
       "    </tr>\n",
       "    <tr>\n",
       "      <th>65066</th>\n",
       "      <td>1B91C621</td>\n",
       "      <td>(Hello) Cloud Mountain</td>\n",
       "      <td>sleepmakeswaves</td>\n",
       "      <td>postrock</td>\n",
       "      <td>Shelbyville</td>\n",
       "      <td>09:22:13</td>\n",
       "      <td>Monday</td>\n",
       "    </tr>\n",
       "    <tr>\n",
       "      <th>65075</th>\n",
       "      <td>D08D4A55</td>\n",
       "      <td>Maybe One Day (feat. Black Spade)</td>\n",
       "      <td>Blu &amp; Exile</td>\n",
       "      <td>hiphop</td>\n",
       "      <td>Shelbyville</td>\n",
       "      <td>10:00:00</td>\n",
       "      <td>Monday</td>\n",
       "    </tr>\n",
       "  </tbody>\n",
       "</table>\n",
       "<p>18512 rows × 7 columns</p>\n",
       "</div>"
      ],
      "text/plain": [
       "        user_id                              track              artist  \\\n",
       "0      FFB692EC                  Kamigata To Boots    The Mass Missile   \n",
       "2        20EC38                  Funiculì funiculà         Mario Lanza   \n",
       "3      A3DD03C9              Dragons in the Sunset          Fire + Ice   \n",
       "5      842029A1                             Chains            Obladaet   \n",
       "9      E772D5C0                          Pessimist             unknown   \n",
       "...         ...                                ...                 ...   \n",
       "65063  D94F810B        Theme from the Walking Dead  Proyecto Halloween   \n",
       "65064  BC8EC5CF       Red Lips: Gta (Rover Rework)               Rover   \n",
       "65065  29E04611                       Bre Petrunko       Perunika Trio   \n",
       "65066  1B91C621             (Hello) Cloud Mountain     sleepmakeswaves   \n",
       "65075  D08D4A55  Maybe One Day (feat. Black Spade)         Blu & Exile   \n",
       "\n",
       "            genre         city      time        day  \n",
       "0            rock  Shelbyville  20:28:33  Wednesday  \n",
       "2             pop  Shelbyville  20:58:07  Wednesday  \n",
       "3            folk  Shelbyville  08:37:09     Monday  \n",
       "5          rusrap  Shelbyville  13:09:41     Friday  \n",
       "9           dance  Shelbyville  21:20:49  Wednesday  \n",
       "...           ...          ...       ...        ...  \n",
       "65063        film  Shelbyville  21:14:40     Monday  \n",
       "65064  electronic  Shelbyville  21:06:50     Monday  \n",
       "65065       world  Shelbyville  13:56:00     Monday  \n",
       "65066    postrock  Shelbyville  09:22:13     Monday  \n",
       "65075      hiphop  Shelbyville  10:00:00     Monday  \n",
       "\n",
       "[18512 rows x 7 columns]"
      ]
     },
     "execution_count": 30,
     "metadata": {},
     "output_type": "execute_result"
    }
   ],
   "source": [
    "shel_general=df[df['city']=='Shelbyville']\n",
    "\n",
    "shel_general# create the shel_general from the df rows,\n",
    "# where the value in the 'city' column is 'Shelbyville'"
   ]
  },
  {
   "cell_type": "markdown",
   "metadata": {
    "id": "MEJV-CX2_Zcu"
   },
   "source": [
    "Write the `genre_weekday()` function with four parameters:\n",
    "* A table for data (`df`)\n",
    "* The day of the week (`day`)\n",
    "* The first timestamp, in 'hh:mm' format (`time1`)\n",
    "* The last timestamp, in 'hh:mm' format (`time2`)\n",
    "\n",
    "The function should return info on the 15 most popular genres on a given day within the period between the two timestamps."
   ]
  },
  {
   "cell_type": "code",
   "execution_count": 31,
   "metadata": {
    "id": "laJT9BYl_Zcu"
   },
   "outputs": [],
   "source": [
    "# 1) Let the genre_df variable store the rows that meet several conditions:\n",
    "#    - the value in the 'day' column is equal to the value of the day= argument\n",
    "#    - the value in the 'time' column is greater than the value of the time1= argument\n",
    "#    - the value in the 'time' column is smaller than the value of the time2= argument\n",
    "#    Use consecutive filtering with logical indexing.\n",
    "\n",
    "# 2) Group genre_df by the 'genre' column, take one of its columns, \n",
    "#    and use the count() method to find the number of entries for each of \n",
    "#    the represented genres; store the resulting Series to the\n",
    "#    genre_df_count variable\n",
    "\n",
    "# 3) Sort genre_df_count in descending order of frequency and store the result\n",
    "#    to the genre_df_sorted variable\n",
    "\n",
    "# 4) Return a Series object with the first 15 genre_df_sorted value - the 15 most\n",
    "#    popular genres (on a given day, within a certain timeframe)\n",
    "\n",
    "def genre_weekday(df,day,time1,time2):\n",
    "# Write your function here\n",
    "\n",
    "    # consecutive filtering\n",
    "    # Create the variable genre_df which will store only those df rows where the day is equal to day=\n",
    "    genre_df = df[(df['day']==day)] # write your code here\n",
    "\n",
    "    # filter again so that genre_df will store only those rows where the time is smaller than time2=\n",
    "    genre_df = genre_df[(genre_df['time']<time2)]# write your code here\n",
    "\n",
    "    # filter once more so that genre_df will store only rows where the time is greater than time1=\n",
    "    genre_df = genre_df[(genre_df['time']>time1)]# write your code here\n",
    "\n",
    "    # group the filtered DataFrame by the column with the names of genres, take the genre column, and find the number of rows for each genre with the count() method\n",
    "    genre_df_count = genre_df.groupby('genre').size()# write your code here\n",
    "\n",
    "    # sort the result in descending order (so that the most popular genres come first in the Series object)\n",
    "    genre_df_sorted = genre_df_count.sort_values(ascending=False) # write your code here\n",
    "\n",
    "    # we will return the Series object storing the 15 most popular genres on a given day in a given timeframe\n",
    "    return genre_df_sorted[:15]"
   ]
  },
  {
   "cell_type": "markdown",
   "metadata": {
    "id": "la2s2_PF_Zcu"
   },
   "source": [
    "Compare the results of the `genre_weekday()` function for Springfield and Shelbyville on Monday morning (from 7AM to 11AM) and on Friday evening (from 17:00 to 23:00):"
   ]
  },
  {
   "cell_type": "code",
   "execution_count": 32,
   "metadata": {
    "id": "yz7itPUQ_Zcu"
   },
   "outputs": [
    {
     "data": {
      "text/plain": [
       "genre\n",
       "pop            781\n",
       "dance          549\n",
       "electronic     480\n",
       "rock           474\n",
       "hiphop         286\n",
       "ruspop         186\n",
       "world          181\n",
       "rusrap         175\n",
       "alternative    164\n",
       "unknown        161\n",
       "classical      157\n",
       "metal          120\n",
       "jazz           100\n",
       "folk            97\n",
       "soundtrack      95\n",
       "dtype: int64"
      ]
     },
     "execution_count": 32,
     "metadata": {},
     "output_type": "execute_result"
    }
   ],
   "source": [
    "genre_weekday(spr_general,'Monday','07:00','11:00')# calling the function for Monday morning in Springfield (use spr_general instead of the df table)\n"
   ]
  },
  {
   "cell_type": "code",
   "execution_count": 33,
   "metadata": {
    "id": "kwUcHPdy_Zcu"
   },
   "outputs": [
    {
     "data": {
      "text/plain": [
       "genre\n",
       "pop            218\n",
       "dance          182\n",
       "rock           162\n",
       "electronic     147\n",
       "hiphop          80\n",
       "ruspop          64\n",
       "alternative     58\n",
       "rusrap          55\n",
       "jazz            44\n",
       "classical       40\n",
       "world           36\n",
       "rap             32\n",
       "soundtrack      31\n",
       "rnb             27\n",
       "metal           27\n",
       "dtype: int64"
      ]
     },
     "execution_count": 33,
     "metadata": {},
     "output_type": "execute_result"
    }
   ],
   "source": [
    "genre_weekday(shel_general,'Monday','07:00','11:00')# calling the function for Monday morning in Shelbyville (use shel_general instead of the df table)\n"
   ]
  },
  {
   "cell_type": "code",
   "execution_count": 34,
   "metadata": {
    "id": "EzXVRE1o_Zcu"
   },
   "outputs": [
    {
     "data": {
      "text/plain": [
       "genre\n",
       "pop            713\n",
       "rock           517\n",
       "dance          495\n",
       "electronic     482\n",
       "hiphop         273\n",
       "world          208\n",
       "ruspop         170\n",
       "classical      163\n",
       "alternative    163\n",
       "rusrap         142\n",
       "jazz           111\n",
       "unknown        110\n",
       "soundtrack     105\n",
       "rnb             90\n",
       "metal           88\n",
       "dtype: int64"
      ]
     },
     "execution_count": 34,
     "metadata": {},
     "output_type": "execute_result"
    }
   ],
   "source": [
    "genre_weekday(spr_general,'Friday','17:00','23:00')# calling the function for Friday evening in Springfield\n"
   ]
  },
  {
   "cell_type": "code",
   "execution_count": 35,
   "metadata": {
    "id": "JZaEKu5v_Zcu"
   },
   "outputs": [
    {
     "data": {
      "text/plain": [
       "genre\n",
       "pop            256\n",
       "rock           216\n",
       "electronic     216\n",
       "dance          210\n",
       "hiphop          97\n",
       "alternative     63\n",
       "jazz            61\n",
       "classical       60\n",
       "rusrap          59\n",
       "world           54\n",
       "unknown         47\n",
       "ruspop          47\n",
       "soundtrack      40\n",
       "metal           39\n",
       "rap             36\n",
       "dtype: int64"
      ]
     },
     "execution_count": 35,
     "metadata": {},
     "output_type": "execute_result"
    }
   ],
   "source": [
    "genre_weekday(shel_general,'Friday','17:00','23:00')# calling the function for Friday evening in Shelbyville\n"
   ]
  },
  {
   "cell_type": "markdown",
   "metadata": {
    "id": "wrCe4MNX_Zcu"
   },
   "source": [
    "**Conclusion**\n",
    "\n",
    "Having compared the top 15 genres on Monday morning, we can draw the following conclusions:\n",
    "\n",
    "1. Users from Springfield and Shelbyville listen to similar music. The top five genres are the same, only rock and electronic have switched places.\n",
    "\n",
    "2. In Springfield, the number of missing values turned out to be so big that the value `'unknown'` came in 10th. This means that missing values make up a considerable portion of the data, which may be a basis for questioning the reliability of our conclusions.\n",
    "\n",
    "For Friday evening, the situation is similar. Individual genres vary somewhat, but on the whole, the top 15 is similar for the two cities.\n",
    "\n",
    "Thus, the second hypothesis has been partially proven true:\n",
    "* Users listen to similar music at the beginning and end of the week.\n",
    "* There is no major difference between Springfield and Shelbyville. In both cities, pop is the most popular genre.\n",
    "\n",
    "However, the number of missing values makes this result questionable. In Springfield, there are so many that they affect our top 15. Were we not missing these values, things might look different."
   ]
  },
  {
   "cell_type": "markdown",
   "metadata": {
    "id": "jLmXgdanVyhP"
   },
   "source": [
    "[Back to Contents](#back)"
   ]
  },
  {
   "cell_type": "markdown",
   "metadata": {
    "id": "JolODAqr_Zcu"
   },
   "source": [
    "### Hypothesis 3: genre preferences in Springfield and Shelbyville <a id='genre'></a>\n",
    "\n",
    "Hypothesis: Shelbyville loves rap music. Springfield's citizens are more into pop."
   ]
  },
  {
   "cell_type": "markdown",
   "metadata": {
    "id": "DlegSvaT_Zcu"
   },
   "source": [
    "Group the `spr_general` table by genre and find the number of songs played for each genre with the `count()` method. Then sort the result in descending order and store it to `spr_genres`."
   ]
  },
  {
   "cell_type": "code",
   "execution_count": 36,
   "metadata": {
    "id": "r19lIPke_Zcu"
   },
   "outputs": [
    {
     "data": {
      "text/plain": [
       "genre\n",
       "pop            5892\n",
       "dance          4435\n",
       "rock           3965\n",
       "electronic     3786\n",
       "hiphop         2096\n",
       "               ... \n",
       "metalcore         1\n",
       "marschmusik       1\n",
       "malaysian         1\n",
       "lovers            1\n",
       "ïîï               1\n",
       "Length: 250, dtype: int64"
      ]
     },
     "execution_count": 36,
     "metadata": {},
     "output_type": "execute_result"
    }
   ],
   "source": [
    "spr_genres=spr_general.groupby('genre').size().sort_values(ascending=False)\n",
    "spr_genres# on one line: group the spr_general table by the 'genre' column, \n",
    "# count the 'genre' values with count() in the grouping, \n",
    "# sort the resulting Series in descending order, and store it to spr_genres"
   ]
  },
  {
   "cell_type": "markdown",
   "metadata": {
    "id": "6kMuomxTiIr8"
   },
   "source": [
    "Print the first 10 rows from `spr_genres`:"
   ]
  },
  {
   "cell_type": "code",
   "execution_count": 37,
   "metadata": {
    "id": "WhCSooF8_Zcv"
   },
   "outputs": [
    {
     "data": {
      "text/plain": [
       "genre\n",
       "pop            5892\n",
       "dance          4435\n",
       "rock           3965\n",
       "electronic     3786\n",
       "hiphop         2096\n",
       "classical      1616\n",
       "world          1432\n",
       "alternative    1379\n",
       "ruspop         1372\n",
       "rusrap         1161\n",
       "dtype: int64"
      ]
     },
     "execution_count": 37,
     "metadata": {},
     "output_type": "execute_result"
    }
   ],
   "source": [
    "spr_genres.head(10)# printing the first 10 rows of spr_genres"
   ]
  },
  {
   "cell_type": "markdown",
   "metadata": {
    "id": "cnPG2vnN_Zcv"
   },
   "source": [
    "Now do the same with the data on Shelbyville.\n",
    "\n",
    "Group the `shel_general` table by genre and find the number of songs played for each genre. Then sort the result in descending order and store it to the `shel_genres` table:\n"
   ]
  },
  {
   "cell_type": "code",
   "execution_count": 38,
   "metadata": {
    "id": "gluLIpE7_Zcv"
   },
   "outputs": [
    {
     "data": {
      "text/plain": [
       "genre\n",
       "pop           2431\n",
       "dance         1932\n",
       "rock          1879\n",
       "electronic    1736\n",
       "hiphop         960\n",
       "              ... \n",
       "mandopop         1\n",
       "leftfield        1\n",
       "laiko            1\n",
       "jungle           1\n",
       "worldbeat        1\n",
       "Length: 202, dtype: int64"
      ]
     },
     "execution_count": 38,
     "metadata": {},
     "output_type": "execute_result"
    }
   ],
   "source": [
    "shel_genres=shel_general.groupby('genre').size().sort_values(ascending=False)\n",
    "shel_genres# on one line: group the shel_general table by the 'genre' column, \n",
    "# count the 'genre' values in the grouping with count(), \n",
    "# sort the resulting Series in descending order and store it to shel_genres"
   ]
  },
  {
   "cell_type": "markdown",
   "metadata": {
    "id": "5Doha_ODgyQ8"
   },
   "source": [
    "Print the first 10 rows of `shel_genres`:"
   ]
  },
  {
   "cell_type": "code",
   "execution_count": 39,
   "metadata": {
    "id": "uaGJHjVU_Zcv"
   },
   "outputs": [
    {
     "data": {
      "text/plain": [
       "genre\n",
       "pop            2431\n",
       "dance          1932\n",
       "rock           1879\n",
       "electronic     1736\n",
       "hiphop          960\n",
       "alternative     649\n",
       "classical       646\n",
       "rusrap          564\n",
       "ruspop          538\n",
       "world           515\n",
       "dtype: int64"
      ]
     },
     "execution_count": 39,
     "metadata": {},
     "output_type": "execute_result"
    }
   ],
   "source": [
    "shel_genres.head(10)# printing the first 10 rows from shel_genres"
   ]
  },
  {
   "cell_type": "markdown",
   "metadata": {
    "id": "RY51YJYu_Zcv"
   },
   "source": [
    "**Conclusion**"
   ]
  },
  {
   "cell_type": "markdown",
   "metadata": {
    "id": "nVhnJEm__Zcv"
   },
   "source": [
    "The hypothesis has been partially proven true:\n",
    "* Pop music is the most popular genre in Springfield, as expected.\n",
    "* However, pop music turned out to be equally popular in Springfield and Shelbyville, and rap wasn't in the top 5 for either city.\n"
   ]
  },
  {
   "cell_type": "markdown",
   "metadata": {
    "id": "Byr0RfpPVz14"
   },
   "source": [
    "[Back to Contents](#back)"
   ]
  },
  {
   "cell_type": "markdown",
   "metadata": {
    "id": "ykKQ0N65_Zcv"
   },
   "source": [
    "# Findings <a id='end'></a>"
   ]
  },
  {
   "cell_type": "markdown",
   "metadata": {
    "id": "tjUwbHb3_Zcv"
   },
   "source": [
    "We have tested the following three hypotheses:\n",
    "\n",
    "1. User activity differs depending on the day of the week and from city to city. \n",
    "2. On Monday mornings, Springfield and Shelbyville residents listen to different genres. This is also true for Friday evenings. \n",
    "3. Springfield and Shelbyville listeners have different preferences. In Springfield, they prefer pop, while Shelbyville has more rap fans.\n",
    "\n",
    "After analyzing the data, we concluded:\n",
    "\n",
    "1. User activity in Springfield and Shelbyville depends on the day of the week, though the cities vary in different ways. \n",
    "\n",
    "The first hypothesis is fully accepted.\n",
    "\n",
    "2. Musical preferences do not vary significantly over the course of the week in both Springfield and Shelbyville. We can see small differences in order on Mondays, but:\n",
    "* In Springfield and Shelbyville, people listen to pop music most.\n",
    "\n",
    "So we can't accept this hypothesis. We must also keep in mind that the result could have been different if not for the missing values.\n",
    "\n",
    "3. It turns out that the musical preferences of users from Springfield and Shelbyville are quite similar.\n",
    "\n",
    "The third hypothesis is rejected. If there is any difference in preferences, it cannot be seen from this data."
   ]
  },
  {
   "cell_type": "markdown",
   "metadata": {
    "id": "Ju4AHDSgV1FE"
   },
   "source": [
    "[Back to Contents](#back)"
   ]
  }
 ],
 "metadata": {
  "ExecuteTimeLog": [
   {
    "duration": 335,
    "start_time": "2024-08-27T19:43:14.105Z"
   },
   {
    "duration": 138,
    "start_time": "2024-08-27T19:43:14.444Z"
   },
   {
    "duration": 6,
    "start_time": "2024-08-27T19:43:14.583Z"
   },
   {
    "duration": 33,
    "start_time": "2024-08-27T19:43:14.591Z"
   },
   {
    "duration": 3,
    "start_time": "2024-08-27T19:43:14.626Z"
   },
   {
    "duration": 10,
    "start_time": "2024-08-27T19:43:14.630Z"
   },
   {
    "duration": 3,
    "start_time": "2024-08-27T19:43:14.645Z"
   },
   {
    "duration": 49,
    "start_time": "2024-08-27T19:43:14.649Z"
   },
   {
    "duration": 27,
    "start_time": "2024-08-27T19:43:14.700Z"
   },
   {
    "duration": 27,
    "start_time": "2024-08-27T19:43:14.730Z"
   },
   {
    "duration": 40,
    "start_time": "2024-08-27T19:43:14.759Z"
   },
   {
    "duration": 59,
    "start_time": "2024-08-27T19:43:14.802Z"
   },
   {
    "duration": 55,
    "start_time": "2024-08-27T19:43:14.863Z"
   },
   {
    "duration": 59,
    "start_time": "2024-08-27T19:43:14.922Z"
   },
   {
    "duration": 6,
    "start_time": "2024-08-27T19:43:14.983Z"
   },
   {
    "duration": 4,
    "start_time": "2024-08-27T19:43:14.997Z"
   },
   {
    "duration": 15,
    "start_time": "2024-08-27T19:43:15.002Z"
   },
   {
    "duration": 8,
    "start_time": "2024-08-27T19:43:15.019Z"
   },
   {
    "duration": 14,
    "start_time": "2024-08-27T19:43:15.029Z"
   },
   {
    "duration": 13,
    "start_time": "2024-08-27T19:43:15.049Z"
   },
   {
    "duration": 3,
    "start_time": "2024-08-27T19:43:15.063Z"
   },
   {
    "duration": 48,
    "start_time": "2024-08-27T19:43:15.068Z"
   },
   {
    "duration": 17,
    "start_time": "2024-08-27T19:43:15.118Z"
   },
   {
    "duration": 13,
    "start_time": "2024-08-27T19:43:15.139Z"
   },
   {
    "duration": 11,
    "start_time": "2024-08-27T19:43:15.154Z"
   },
   {
    "duration": 11,
    "start_time": "2024-08-27T19:43:15.167Z"
   },
   {
    "duration": 34,
    "start_time": "2024-08-27T19:43:15.179Z"
   },
   {
    "duration": 9,
    "start_time": "2024-08-27T19:43:15.218Z"
   },
   {
    "duration": 17,
    "start_time": "2024-08-27T19:43:15.230Z"
   },
   {
    "duration": 15,
    "start_time": "2024-08-27T19:43:15.249Z"
   },
   {
    "duration": 4,
    "start_time": "2024-08-27T19:43:15.265Z"
   },
   {
    "duration": 22,
    "start_time": "2024-08-27T19:43:15.296Z"
   },
   {
    "duration": 14,
    "start_time": "2024-08-27T19:43:15.321Z"
   },
   {
    "duration": 16,
    "start_time": "2024-08-27T19:43:15.338Z"
   },
   {
    "duration": 9,
    "start_time": "2024-08-27T19:43:15.356Z"
   },
   {
    "duration": 7,
    "start_time": "2024-08-27T19:43:15.367Z"
   },
   {
    "duration": 6,
    "start_time": "2024-08-27T19:43:15.398Z"
   },
   {
    "duration": 13,
    "start_time": "2024-08-27T19:43:15.407Z"
   },
   {
    "duration": 5,
    "start_time": "2024-08-27T19:43:15.422Z"
   }
  ],
  "colab": {
   "collapsed_sections": [
    "E0vqbgi9ay0H",
    "VUC88oWjTJw2",
    "atZAxtq4_Zcu"
   ],
   "name": "EmptyFinalProject.ipynb\"",
   "provenance": []
  },
  "kernelspec": {
   "display_name": "Python 3 (ipykernel)",
   "language": "python",
   "name": "python3"
  },
  "language_info": {
   "codemirror_mode": {
    "name": "ipython",
    "version": 3
   },
   "file_extension": ".py",
   "mimetype": "text/x-python",
   "name": "python",
   "nbconvert_exporter": "python",
   "pygments_lexer": "ipython3",
   "version": "3.9.19"
  },
  "toc": {
   "base_numbering": 1,
   "nav_menu": {},
   "number_sections": true,
   "sideBar": true,
   "skip_h1_title": true,
   "title_cell": "Table of Contents",
   "title_sidebar": "Contents",
   "toc_cell": false,
   "toc_position": {},
   "toc_section_display": true,
   "toc_window_display": false
  }
 },
 "nbformat": 4,
 "nbformat_minor": 4
}
