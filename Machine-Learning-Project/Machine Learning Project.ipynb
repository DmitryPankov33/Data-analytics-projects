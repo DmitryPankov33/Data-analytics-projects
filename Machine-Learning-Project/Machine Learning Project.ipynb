{
 "cells": [
  {
   "cell_type": "markdown",
   "metadata": {},
   "source": [
    "# Contents <a id='back'></a>\n",
    "\n",
    "* [Introduction](#intro)\n",
    "* [Stage 1. Data overview](#data_review)\n",
    "* [Stage 2. Model evaluation](#model_evaluation)\n",
    "* [Conclusion](#end)"
   ]
  },
  {
   "cell_type": "markdown",
   "metadata": {},
   "source": [
    "## Introduction <a id='intro'></a>\n",
    "In this project, we will develop and evaluate a machine learning model to recommend either Megaline's Smart or Ultra plans based on subscriber behavior data. We will explore different models, fine-tune their parameters, and validate their performance using a combination of training, validation, and test datasets.\n",
    "\n",
    "### Goal: \n",
    "Our goal is to develop a highly accurate model that recommends either the Smart or Ultra plan based on individual subscriber behavior. The minimum accuracy threshold for this project is set at 75%, evaluated using a dedicated test dataset.\n",
    "\n",
    "### Stages\n",
    "Data on user behavior is stored in the file `/datasets/users_behavior.csv`\n",
    "\n",
    "Our project will consist of the following stages:\n",
    "1. Data Overview.\n",
    "2. Model evaluation.\n",
    "3. Conclusions."
   ]
  },
  {
   "cell_type": "markdown",
   "metadata": {},
   "source": [
    "## Stage 1. Data overview <a id='data_review'></a>"
   ]
  },
  {
   "cell_type": "code",
   "execution_count": 1,
   "metadata": {},
   "outputs": [],
   "source": [
    "#importing necessary libraries\n",
    "\n",
    "import pandas as pd\n",
    "from sklearn.model_selection import train_test_split\n",
    "from sklearn.tree import DecisionTreeClassifier\n",
    "from sklearn.metrics import accuracy_score\n",
    "from sklearn.ensemble import RandomForestClassifier\n",
    "from sklearn.linear_model import LogisticRegression"
   ]
  },
  {
   "cell_type": "code",
   "execution_count": 2,
   "metadata": {},
   "outputs": [],
   "source": [
    "#reading the files and storing it in df\n",
    "users = pd.read_csv('/datasets/users_behavior.csv')"
   ]
  },
  {
   "cell_type": "code",
   "execution_count": 3,
   "metadata": {},
   "outputs": [
    {
     "data": {
      "text/html": [
       "<div>\n",
       "<style scoped>\n",
       "    .dataframe tbody tr th:only-of-type {\n",
       "        vertical-align: middle;\n",
       "    }\n",
       "\n",
       "    .dataframe tbody tr th {\n",
       "        vertical-align: top;\n",
       "    }\n",
       "\n",
       "    .dataframe thead th {\n",
       "        text-align: right;\n",
       "    }\n",
       "</style>\n",
       "<table border=\"1\" class=\"dataframe\">\n",
       "  <thead>\n",
       "    <tr style=\"text-align: right;\">\n",
       "      <th></th>\n",
       "      <th>calls</th>\n",
       "      <th>minutes</th>\n",
       "      <th>messages</th>\n",
       "      <th>mb_used</th>\n",
       "      <th>is_ultra</th>\n",
       "    </tr>\n",
       "  </thead>\n",
       "  <tbody>\n",
       "    <tr>\n",
       "      <th>0</th>\n",
       "      <td>40.0</td>\n",
       "      <td>311.90</td>\n",
       "      <td>83.0</td>\n",
       "      <td>19915.42</td>\n",
       "      <td>0</td>\n",
       "    </tr>\n",
       "    <tr>\n",
       "      <th>1</th>\n",
       "      <td>85.0</td>\n",
       "      <td>516.75</td>\n",
       "      <td>56.0</td>\n",
       "      <td>22696.96</td>\n",
       "      <td>0</td>\n",
       "    </tr>\n",
       "    <tr>\n",
       "      <th>2</th>\n",
       "      <td>77.0</td>\n",
       "      <td>467.66</td>\n",
       "      <td>86.0</td>\n",
       "      <td>21060.45</td>\n",
       "      <td>0</td>\n",
       "    </tr>\n",
       "    <tr>\n",
       "      <th>3</th>\n",
       "      <td>106.0</td>\n",
       "      <td>745.53</td>\n",
       "      <td>81.0</td>\n",
       "      <td>8437.39</td>\n",
       "      <td>1</td>\n",
       "    </tr>\n",
       "    <tr>\n",
       "      <th>4</th>\n",
       "      <td>66.0</td>\n",
       "      <td>418.74</td>\n",
       "      <td>1.0</td>\n",
       "      <td>14502.75</td>\n",
       "      <td>0</td>\n",
       "    </tr>\n",
       "    <tr>\n",
       "      <th>...</th>\n",
       "      <td>...</td>\n",
       "      <td>...</td>\n",
       "      <td>...</td>\n",
       "      <td>...</td>\n",
       "      <td>...</td>\n",
       "    </tr>\n",
       "    <tr>\n",
       "      <th>3209</th>\n",
       "      <td>122.0</td>\n",
       "      <td>910.98</td>\n",
       "      <td>20.0</td>\n",
       "      <td>35124.90</td>\n",
       "      <td>1</td>\n",
       "    </tr>\n",
       "    <tr>\n",
       "      <th>3210</th>\n",
       "      <td>25.0</td>\n",
       "      <td>190.36</td>\n",
       "      <td>0.0</td>\n",
       "      <td>3275.61</td>\n",
       "      <td>0</td>\n",
       "    </tr>\n",
       "    <tr>\n",
       "      <th>3211</th>\n",
       "      <td>97.0</td>\n",
       "      <td>634.44</td>\n",
       "      <td>70.0</td>\n",
       "      <td>13974.06</td>\n",
       "      <td>0</td>\n",
       "    </tr>\n",
       "    <tr>\n",
       "      <th>3212</th>\n",
       "      <td>64.0</td>\n",
       "      <td>462.32</td>\n",
       "      <td>90.0</td>\n",
       "      <td>31239.78</td>\n",
       "      <td>0</td>\n",
       "    </tr>\n",
       "    <tr>\n",
       "      <th>3213</th>\n",
       "      <td>80.0</td>\n",
       "      <td>566.09</td>\n",
       "      <td>6.0</td>\n",
       "      <td>29480.52</td>\n",
       "      <td>1</td>\n",
       "    </tr>\n",
       "  </tbody>\n",
       "</table>\n",
       "<p>3214 rows × 5 columns</p>\n",
       "</div>"
      ],
      "text/plain": [
       "      calls  minutes  messages   mb_used  is_ultra\n",
       "0      40.0   311.90      83.0  19915.42         0\n",
       "1      85.0   516.75      56.0  22696.96         0\n",
       "2      77.0   467.66      86.0  21060.45         0\n",
       "3     106.0   745.53      81.0   8437.39         1\n",
       "4      66.0   418.74       1.0  14502.75         0\n",
       "...     ...      ...       ...       ...       ...\n",
       "3209  122.0   910.98      20.0  35124.90         1\n",
       "3210   25.0   190.36       0.0   3275.61         0\n",
       "3211   97.0   634.44      70.0  13974.06         0\n",
       "3212   64.0   462.32      90.0  31239.78         0\n",
       "3213   80.0   566.09       6.0  29480.52         1\n",
       "\n",
       "[3214 rows x 5 columns]"
      ]
     },
     "execution_count": 3,
     "metadata": {},
     "output_type": "execute_result"
    }
   ],
   "source": [
    "#obtaining the first rows from the table\n",
    "users"
   ]
  },
  {
   "cell_type": "code",
   "execution_count": 4,
   "metadata": {},
   "outputs": [
    {
     "name": "stdout",
     "output_type": "stream",
     "text": [
      "<class 'pandas.core.frame.DataFrame'>\n",
      "RangeIndex: 3214 entries, 0 to 3213\n",
      "Data columns (total 5 columns):\n",
      " #   Column    Non-Null Count  Dtype  \n",
      "---  ------    --------------  -----  \n",
      " 0   calls     3214 non-null   float64\n",
      " 1   minutes   3214 non-null   float64\n",
      " 2   messages  3214 non-null   float64\n",
      " 3   mb_used   3214 non-null   float64\n",
      " 4   is_ultra  3214 non-null   int64  \n",
      "dtypes: float64(4), int64(1)\n",
      "memory usage: 125.7 KB\n"
     ]
    }
   ],
   "source": [
    "#obtaining general information about the data\n",
    "users.info()"
   ]
  },
  {
   "cell_type": "markdown",
   "metadata": {},
   "source": [
    "#### Conclusion\n",
    "\n",
    "During the Data Exploration stage, we opened the data file, examined the content of the table, and noted any nonstandard formatting. In our project  its noted that our data is already preprocessed, so we can skip that stage and we could proceed with further analysis."
   ]
  },
  {
   "cell_type": "markdown",
   "metadata": {},
   "source": [
    "## Stage 2. Model Evaluation<a id='model_evaluation'></a>"
   ]
  },
  {
   "cell_type": "markdown",
   "metadata": {},
   "source": [
    "### Split the source data into a training set, a validation set, and a test set.\n"
   ]
  },
  {
   "cell_type": "markdown",
   "metadata": {},
   "source": [
    "We will split the data into three sets in the following proportions: 60% for the training set, 20% for the validation set, and 20% for the test set."
   ]
  },
  {
   "cell_type": "code",
   "execution_count": 5,
   "metadata": {},
   "outputs": [],
   "source": [
    "#splitting data into training,validation and test set\n",
    "users_train,users_valid = train_test_split(users, test_size = 0.4, random_state=12345)\n",
    "users_valid_set,users_test_set = train_test_split(users_valid,test_size=0.5,random_state=12345)"
   ]
  },
  {
   "cell_type": "code",
   "execution_count": 6,
   "metadata": {},
   "outputs": [
    {
     "name": "stdout",
     "output_type": "stream",
     "text": [
      "(3214, 5)\n",
      "(1928, 5)\n",
      "(643, 5)\n",
      "(643, 5)\n"
     ]
    }
   ],
   "source": [
    "#displaying the shapes of the overall dataset,the training, validation, and test sets\n",
    "print(users.shape)\n",
    "print(users_train.shape)\n",
    "print(users_valid_set.shape)\n",
    "print(users_test_set.shape)"
   ]
  },
  {
   "cell_type": "markdown",
   "metadata": {},
   "source": [
    "**Splitting data into Features/Target and Train/Validate/Test**"
   ]
  },
  {
   "cell_type": "code",
   "execution_count": 7,
   "metadata": {},
   "outputs": [],
   "source": [
    "#splitting the training set into features and target variable\n",
    "features_train = users.drop('is_ultra',axis=1)\n",
    "target_train = users['is_ultra']\n",
    "#splitting the validation set into features and target variable\n",
    "features_valid_set = users_valid_set.drop('is_ultra',axis=1)\n",
    "target_valid_set = users_valid_set['is_ultra']\n",
    "#splitting the test set into features and target variable\n",
    "features_test_set = users_test_set.drop('is_ultra',axis=1)\n",
    "target_test_set = users_test_set['is_ultra']"
   ]
  },
  {
   "cell_type": "markdown",
   "metadata": {},
   "source": [
    "### Investigate the quality of different models by changing hyperparameters. Briefly describe the findings of the study."
   ]
  },
  {
   "cell_type": "markdown",
   "metadata": {},
   "source": [
    "**Desicion tree**"
   ]
  },
  {
   "cell_type": "code",
   "execution_count": 8,
   "metadata": {},
   "outputs": [],
   "source": [
    "#initializing the Decision Tree Classifier with a specific random state for reproducibility\n",
    "dtc_model = DecisionTreeClassifier(random_state = 12345)\n",
    "#training the Decision Tree model on the training data\n",
    "dtc_model = dtc_model.fit(features_train,target_train)"
   ]
  },
  {
   "cell_type": "code",
   "execution_count": 9,
   "metadata": {},
   "outputs": [
    {
     "data": {
      "text/plain": [
       "28"
      ]
     },
     "execution_count": 9,
     "metadata": {},
     "output_type": "execute_result"
    }
   ],
   "source": [
    "#accessing the maximum depth of the trained Decision Tree model\n",
    "dtc_model.tree_.max_depth"
   ]
  },
  {
   "cell_type": "code",
   "execution_count": 10,
   "metadata": {},
   "outputs": [
    {
     "name": "stdout",
     "output_type": "stream",
     "text": [
      "Final depth= 1 with accuracy: 0.7558320373250389\n",
      "Final depth= 2 with accuracy: 0.7869362363919129\n",
      "Final depth= 3 with accuracy: 0.7884914463452566\n",
      "Final depth= 4 with accuracy: 0.7978227060653188\n",
      "Final depth= 5 with accuracy: 0.8055987558320373\n",
      "Final depth= 6 with accuracy: 0.8040435458786936\n"
     ]
    }
   ],
   "source": [
    "#iterating over different depths, training the model, evaluating accuracy on validation set, and finding the best depth\n",
    "final_depth = 0\n",
    "final_score = 0\n",
    "for depth in range (1,7):\n",
    "    dtc_model = DecisionTreeClassifier(random_state = 12345,max_depth=depth)\n",
    "    dtc_model.fit(features_train,target_train)\n",
    "    valid_pred = dtc_model.predict(features_valid_set)\n",
    "    accuracy = dtc_model.score(features_valid_set,target_valid_set)\n",
    "    print(\"Final depth=\",depth,\"with accuracy:\",accuracy)"
   ]
  },
  {
   "cell_type": "markdown",
   "metadata": {},
   "source": [
    "Final depth 5 has the highest accuracy 0.8055987558320373"
   ]
  },
  {
   "cell_type": "code",
   "execution_count": 11,
   "metadata": {},
   "outputs": [
    {
     "data": {
      "text/plain": [
       "DecisionTreeClassifier(max_depth=5, random_state=12345)"
      ]
     },
     "execution_count": 11,
     "metadata": {},
     "output_type": "execute_result"
    }
   ],
   "source": [
    "#changing max_depth to get best model\n",
    "dtc_final_model = DecisionTreeClassifier(random_state=12345, max_depth=5)\n",
    "dtc_final_model.fit(features_train, target_train)"
   ]
  },
  {
   "cell_type": "markdown",
   "metadata": {},
   "source": [
    "**Random forest classifier**"
   ]
  },
  {
   "cell_type": "code",
   "execution_count": 12,
   "metadata": {},
   "outputs": [
    {
     "name": "stdout",
     "output_type": "stream",
     "text": [
      "1 0.9097978227060654\n",
      "2 0.9175738724727839\n",
      "3 0.9502332814930016\n",
      "4 0.9533437013996889\n",
      "5 0.973561430793157\n",
      "6 0.973561430793157\n",
      "7 0.9751166407465007\n",
      "8 0.9751166407465007\n",
      "9 0.9844479004665629\n",
      "10 0.9844479004665629\n",
      "11 0.9844479004665629\n",
      "12 0.9844479004665629\n",
      "13 0.9844479004665629\n",
      "14 0.9844479004665629\n",
      "15 0.9875583203732504\n",
      "16 0.9875583203732504\n",
      "17 0.9891135303265941\n",
      "18 0.9891135303265941\n",
      "19 0.9906687402799378\n",
      "20 0.9906687402799378\n",
      "21 0.9906687402799378\n",
      "22 0.9906687402799378\n",
      "23 0.9906687402799378\n",
      "24 0.9906687402799378\n",
      "25 0.9906687402799378\n",
      "26 0.9906687402799378\n",
      "27 0.995334370139969\n",
      "28 0.995334370139969\n",
      "29 0.995334370139969\n",
      "30 0.995334370139969\n",
      "31 0.9968895800933126\n",
      "32 0.9968895800933126\n",
      "33 0.9968895800933126\n",
      "34 0.9968895800933126\n",
      "35 0.9968895800933126\n",
      "36 0.9968895800933126\n",
      "37 0.9968895800933126\n",
      "38 0.9968895800933126\n",
      "39 0.9984447900466563\n",
      "40 0.9984447900466563\n",
      "41 0.9984447900466563\n",
      "42 0.9984447900466563\n",
      "43 0.9984447900466563\n",
      "44 0.9984447900466563\n",
      "45 1.0\n",
      "46 1.0\n",
      "47 1.0\n",
      "48 1.0\n",
      "49 1.0\n",
      "50 1.0\n"
     ]
    }
   ],
   "source": [
    "#iterating over different number of estimators, training the model, evaluating accuracy on validation set, and finding the  best number of estimators\n",
    "best_score = 0\n",
    "best_est = 0\n",
    "for est in range(1, 51): \n",
    "    rfc_model = RandomForestClassifier(random_state=54321, n_estimators=est) \n",
    "    rfc_model.fit(features_train,target_train) \n",
    "    score = rfc_model.score(features_valid_set,target_valid_set) \n",
    "    if score > best_score:\n",
    "        best_score = score\n",
    "        best_est = est\n",
    "    print(est,best_score)"
   ]
  },
  {
   "cell_type": "markdown",
   "metadata": {},
   "source": [
    "We will select 19 as the optimal number of estimators for our model with the accuracy score 0.9906687402799378. This choice strikes the best balance between achieving high accuracy and minimizing computational resources. With 19 estimators, we achieve near-maximum accuracy while ensuring efficient use of memory and processing power."
   ]
  },
  {
   "cell_type": "code",
   "execution_count": 13,
   "metadata": {},
   "outputs": [
    {
     "data": {
      "text/plain": [
       "RandomForestClassifier(n_estimators=19, random_state=54321)"
      ]
     },
     "execution_count": 13,
     "metadata": {},
     "output_type": "execute_result"
    }
   ],
   "source": [
    "#changing n_estimators to get best model\n",
    "rfc_final_model = RandomForestClassifier(random_state=54321, n_estimators=19)\n",
    "rfc_final_model.fit(features_train, target_train)"
   ]
  },
  {
   "cell_type": "markdown",
   "metadata": {},
   "source": [
    "**Logistics regression**"
   ]
  },
  {
   "cell_type": "markdown",
   "metadata": {},
   "source": [
    "We'll be using the \"liblinear\" and \"newton-cg\" solver because they are the most general ones, working well enough for small datasets with a lot of features."
   ]
  },
  {
   "cell_type": "code",
   "execution_count": 14,
   "metadata": {},
   "outputs": [
    {
     "name": "stdout",
     "output_type": "stream",
     "text": [
      "Accuracy of the logistic regression model on the training set: 0.7426882389545737\n",
      "Accuracy of the logistic regression model on the validation set: 0.7573872472783826\n"
     ]
    }
   ],
   "source": [
    "lr_model =  LogisticRegression(random_state=54321,solver='liblinear')# initializing logistic regression constructor with parameters random_state=54321 and solver='liblinear'\n",
    "lr_model.fit(features_train,target_train)  # training model on training set\n",
    "score_train = lr_model.score(features_train,target_train)  \n",
    "score_valid = lr_model.score(features_valid_set,target_valid_set) # calculating accuracy score on validation set  \n",
    "\n",
    "print(\"Accuracy of the logistic regression model on the training set:\",score_train)\n",
    "print(\"Accuracy of the logistic regression model on the validation set:\",score_valid)"
   ]
  },
  {
   "cell_type": "code",
   "execution_count": 15,
   "metadata": {},
   "outputs": [
    {
     "name": "stdout",
     "output_type": "stream",
     "text": [
      "Accuracy of the logistic regression model on the training set: 0.7479775980087119\n",
      "Accuracy of the logistic regression model on the validation set: 0.7573872472783826\n"
     ]
    }
   ],
   "source": [
    "lr_model =  LogisticRegression(random_state=54321,solver='newton-cg')# initializing logistic regression constructor with parameters random_state=54321 and solver='liblinear'\n",
    "lr_model.fit(features_train,target_train)  # training model on training set\n",
    "score_train = lr_model.score(features_train,target_train)  \n",
    "score_valid = lr_model.score(features_valid_set,target_valid_set) # calculating accuracy score on validation set  \n",
    "\n",
    "print(\"Accuracy of the logistic regression model on the training set:\",score_train)\n",
    "print(\"Accuracy of the logistic regression model on the validation set:\",score_valid)"
   ]
  },
  {
   "cell_type": "markdown",
   "metadata": {},
   "source": [
    "'newton-cg' demonstrates higher accuracy on the training set while the validation set values remain the same for both solvers. In both cases, the accuracy on the validation set is higher than on the training set, indicating a lack of overfitting and showcasing how logistic regression is more resistant to it."
   ]
  },
  {
   "cell_type": "markdown",
   "metadata": {},
   "source": [
    "### Check the quality of the model using the test set."
   ]
  },
  {
   "cell_type": "markdown",
   "metadata": {},
   "source": [
    "**Desicion tree**"
   ]
  },
  {
   "cell_type": "code",
   "execution_count": 16,
   "metadata": {},
   "outputs": [
    {
     "name": "stdout",
     "output_type": "stream",
     "text": [
      "Desicion tree testing score: 0.8211508553654744\n"
     ]
    }
   ],
   "source": [
    "#making predictions on the test set with the final Decision Tree model and evaluating its accuracy\n",
    "dtc_predictions_test = dtc_final_model.predict(features_test_set)\n",
    "dtc_accuracy_test = accuracy_score(target_test_set,dtc_predictions_test)\n",
    "print(\"Desicion tree testing score:\",dtc_accuracy_test)"
   ]
  },
  {
   "cell_type": "markdown",
   "metadata": {},
   "source": [
    "**Random forest classifier**"
   ]
  },
  {
   "cell_type": "code",
   "execution_count": 17,
   "metadata": {},
   "outputs": [
    {
     "name": "stdout",
     "output_type": "stream",
     "text": [
      "Random forest testing score: 0.9937791601866252\n"
     ]
    }
   ],
   "source": [
    "#making predictions on the test set with the final Random Forest model and evaluating its accuracy\n",
    "rfc_predictions_test = rfc_final_model.predict(features_test_set)\n",
    "rfc_accuracy_test = accuracy_score(target_test_set,rfc_predictions_test)\n",
    "print(\"Random forest testing score:\",rfc_accuracy_test)"
   ]
  },
  {
   "cell_type": "markdown",
   "metadata": {},
   "source": [
    "**Logistics regression**"
   ]
  },
  {
   "cell_type": "code",
   "execution_count": 18,
   "metadata": {},
   "outputs": [
    {
     "name": "stdout",
     "output_type": "stream",
     "text": [
      "Logistics regression testing score: 0.7402799377916018\n"
     ]
    }
   ],
   "source": [
    "#making predictions on the test set with the Logistic Regression model and evaluate its accuracy\n",
    "lr_predictions_test = lr_model.predict(features_test_set)\n",
    "lr_accuracy_test = accuracy_score(target_test_set,lr_predictions_test)\n",
    "print(\"Logistics regression testing score:\",lr_accuracy_test)"
   ]
  },
  {
   "cell_type": "markdown",
   "metadata": {},
   "source": [
    "## Conclusion<a id='conclusion'></a>\n",
    "\n",
    "In this project, both the Decision Tree Classifier (DTC) and Random Forest Classifier (RFC) show higher accuracy on the test set compared to the training set (0.821 vs. 0.805 for DTC and 0.993 vs. 0.990 for RFC, respectively). This suggests that our models generalize well to new, unseen data. The higher test accuracy indicates that the models are not overfitting, and they have successfully captured the underlying patterns in the data. The logistics regression model shows a lower accuracy score on the test set compared to the training and validation sets (0.740 vs. 0.747 on training and 0.757 on validation). This indicates that the model may have slightly overfitted the training and validation data, capturing patterns that do not generalize well to new, unseen data. Moreover, the logistic regression model shows an accuracy lower than the threshold of 0.75 set for this project, indicating that it does not meet the required performance criteria.\n",
    "\n",
    "After evaluating our 3  models, including Decision Tree Classifier, Random Forest Classifier and Logistic Regression, we conclude that the Random Forest Classifier is the best choice for our project with the highest accuracy of 0.993. Given these points, the Random Forest Classifier is the most suitable model for predicting which Megaline plan (Smart or Ultra) subscribers should switch to based on their behavior data. This model will provide the best balance of accuracy, efficiency, and reliability for our classification task."
   ]
  }
 ],
 "metadata": {
  "ExecuteTimeLog": [
   {
    "duration": 488,
    "start_time": "2024-06-15T14:19:23.429Z"
   },
   {
    "duration": 21,
    "start_time": "2024-06-15T14:21:00.858Z"
   },
   {
    "duration": 23,
    "start_time": "2024-06-15T14:21:16.237Z"
   },
   {
    "duration": 17,
    "start_time": "2024-06-15T14:21:47.864Z"
   },
   {
    "duration": 3,
    "start_time": "2024-06-15T14:22:30.261Z"
   },
   {
    "duration": 427,
    "start_time": "2024-06-15T14:22:35.775Z"
   },
   {
    "duration": 14,
    "start_time": "2024-06-15T14:22:36.207Z"
   },
   {
    "duration": 24,
    "start_time": "2024-06-15T14:22:36.232Z"
   },
   {
    "duration": 16,
    "start_time": "2024-06-15T14:22:36.259Z"
   },
   {
    "duration": 5,
    "start_time": "2024-06-15T14:33:22.085Z"
   },
   {
    "duration": 7,
    "start_time": "2024-06-15T14:36:42.835Z"
   },
   {
    "duration": 755,
    "start_time": "2024-06-15T14:36:54.212Z"
   },
   {
    "duration": 7,
    "start_time": "2024-06-15T14:38:36.793Z"
   },
   {
    "duration": 7,
    "start_time": "2024-06-15T14:39:00.692Z"
   },
   {
    "duration": 6,
    "start_time": "2024-06-15T14:39:16.562Z"
   },
   {
    "duration": 9,
    "start_time": "2024-06-15T14:41:45.561Z"
   },
   {
    "duration": 6,
    "start_time": "2024-06-15T14:42:17.809Z"
   },
   {
    "duration": 5,
    "start_time": "2024-06-15T14:43:11.936Z"
   },
   {
    "duration": 5,
    "start_time": "2024-06-15T14:43:44.068Z"
   },
   {
    "duration": 8,
    "start_time": "2024-06-15T14:52:30.227Z"
   },
   {
    "duration": 8,
    "start_time": "2024-06-15T14:53:35.098Z"
   },
   {
    "duration": 437,
    "start_time": "2024-06-15T15:17:26.231Z"
   },
   {
    "duration": 1193,
    "start_time": "2024-06-15T15:17:36.437Z"
   },
   {
    "duration": 13,
    "start_time": "2024-06-15T15:17:37.634Z"
   },
   {
    "duration": 24,
    "start_time": "2024-06-15T15:17:37.650Z"
   },
   {
    "duration": 16,
    "start_time": "2024-06-15T15:17:37.677Z"
   },
   {
    "duration": 40,
    "start_time": "2024-06-15T15:17:37.698Z"
   },
   {
    "duration": 5,
    "start_time": "2024-06-15T15:17:37.741Z"
   },
   {
    "duration": 8,
    "start_time": "2024-06-15T15:17:37.749Z"
   },
   {
    "duration": 31,
    "start_time": "2024-06-15T15:17:37.760Z"
   },
   {
    "duration": 28,
    "start_time": "2024-06-15T15:18:01.626Z"
   },
   {
    "duration": 6,
    "start_time": "2024-06-15T15:18:08.345Z"
   },
   {
    "duration": 6,
    "start_time": "2024-06-15T15:22:34.892Z"
   },
   {
    "duration": 58,
    "start_time": "2024-06-15T15:42:20.215Z"
   },
   {
    "duration": 72,
    "start_time": "2024-06-15T15:42:40.349Z"
   },
   {
    "duration": 1234,
    "start_time": "2024-06-15T15:51:08.302Z"
   },
   {
    "duration": 14,
    "start_time": "2024-06-15T15:51:09.540Z"
   },
   {
    "duration": 24,
    "start_time": "2024-06-15T15:51:09.557Z"
   },
   {
    "duration": 17,
    "start_time": "2024-06-15T15:51:09.583Z"
   },
   {
    "duration": 9,
    "start_time": "2024-06-15T15:51:09.635Z"
   },
   {
    "duration": 6,
    "start_time": "2024-06-15T15:51:09.647Z"
   },
   {
    "duration": 8,
    "start_time": "2024-06-15T15:51:09.656Z"
   },
   {
    "duration": 66,
    "start_time": "2024-06-15T15:51:09.667Z"
   },
   {
    "duration": 6,
    "start_time": "2024-06-15T15:51:09.735Z"
   },
   {
    "duration": 102,
    "start_time": "2024-06-15T15:51:09.744Z"
   },
   {
    "duration": 936,
    "start_time": "2024-06-19T06:44:36.706Z"
   },
   {
    "duration": 1167,
    "start_time": "2024-06-19T06:44:55.000Z"
   },
   {
    "duration": 24,
    "start_time": "2024-06-19T06:44:56.171Z"
   },
   {
    "duration": 31,
    "start_time": "2024-06-19T06:44:56.199Z"
   },
   {
    "duration": 19,
    "start_time": "2024-06-19T06:44:56.234Z"
   },
   {
    "duration": 13,
    "start_time": "2024-06-19T06:44:56.257Z"
   },
   {
    "duration": 5,
    "start_time": "2024-06-19T06:44:56.274Z"
   },
   {
    "duration": 47,
    "start_time": "2024-06-19T06:44:56.283Z"
   },
   {
    "duration": 27,
    "start_time": "2024-06-19T06:44:56.334Z"
   },
   {
    "duration": 5,
    "start_time": "2024-06-19T06:44:56.364Z"
   },
   {
    "duration": 109,
    "start_time": "2024-06-19T06:44:56.375Z"
   },
   {
    "duration": 14,
    "start_time": "2024-06-19T06:45:56.646Z"
   },
   {
    "duration": 1179,
    "start_time": "2024-06-19T06:46:02.894Z"
   },
   {
    "duration": 12,
    "start_time": "2024-06-19T06:46:04.076Z"
   },
   {
    "duration": 41,
    "start_time": "2024-06-19T06:46:04.091Z"
   },
   {
    "duration": 16,
    "start_time": "2024-06-19T06:46:04.135Z"
   },
   {
    "duration": 8,
    "start_time": "2024-06-19T06:46:04.154Z"
   },
   {
    "duration": 5,
    "start_time": "2024-06-19T06:46:04.165Z"
   },
   {
    "duration": 8,
    "start_time": "2024-06-19T06:46:04.174Z"
   },
   {
    "duration": 75,
    "start_time": "2024-06-19T06:46:04.184Z"
   },
   {
    "duration": 6,
    "start_time": "2024-06-19T06:46:04.262Z"
   },
   {
    "duration": 119,
    "start_time": "2024-06-19T06:46:04.273Z"
   },
   {
    "duration": 524,
    "start_time": "2024-06-19T06:52:01.319Z"
   },
   {
    "duration": 10287,
    "start_time": "2024-06-19T06:52:21.667Z"
   },
   {
    "duration": 10463,
    "start_time": "2024-06-19T07:00:28.672Z"
   },
   {
    "duration": 449,
    "start_time": "2024-06-19T07:05:52.923Z"
   },
   {
    "duration": 48,
    "start_time": "2024-06-19T07:06:18.678Z"
   },
   {
    "duration": 45,
    "start_time": "2024-06-19T07:07:56.261Z"
   },
   {
    "duration": 1197,
    "start_time": "2024-06-19T07:09:00.018Z"
   },
   {
    "duration": 17,
    "start_time": "2024-06-19T07:09:01.218Z"
   },
   {
    "duration": 25,
    "start_time": "2024-06-19T07:09:01.237Z"
   },
   {
    "duration": 15,
    "start_time": "2024-06-19T07:09:01.266Z"
   },
   {
    "duration": 9,
    "start_time": "2024-06-19T07:09:01.284Z"
   },
   {
    "duration": 38,
    "start_time": "2024-06-19T07:09:01.295Z"
   },
   {
    "duration": 8,
    "start_time": "2024-06-19T07:09:01.336Z"
   },
   {
    "duration": 27,
    "start_time": "2024-06-19T07:09:01.348Z"
   },
   {
    "duration": 6,
    "start_time": "2024-06-19T07:09:01.378Z"
   },
   {
    "duration": 115,
    "start_time": "2024-06-19T07:09:01.389Z"
   },
   {
    "duration": 10562,
    "start_time": "2024-06-19T07:09:01.506Z"
   },
   {
    "duration": 454,
    "start_time": "2024-06-19T07:09:12.072Z"
   },
   {
    "duration": 10512,
    "start_time": "2024-06-19T07:11:51.211Z"
   },
   {
    "duration": 4263,
    "start_time": "2024-06-19T07:12:24.567Z"
   },
   {
    "duration": 1522,
    "start_time": "2024-06-19T07:12:32.508Z"
   },
   {
    "duration": 12,
    "start_time": "2024-06-19T07:12:34.034Z"
   },
   {
    "duration": 23,
    "start_time": "2024-06-19T07:12:34.049Z"
   },
   {
    "duration": 15,
    "start_time": "2024-06-19T07:12:34.077Z"
   },
   {
    "duration": 42,
    "start_time": "2024-06-19T07:12:34.094Z"
   },
   {
    "duration": 5,
    "start_time": "2024-06-19T07:12:34.138Z"
   },
   {
    "duration": 8,
    "start_time": "2024-06-19T07:12:34.147Z"
   },
   {
    "duration": 27,
    "start_time": "2024-06-19T07:12:34.158Z"
   },
   {
    "duration": 46,
    "start_time": "2024-06-19T07:12:34.188Z"
   },
   {
    "duration": 97,
    "start_time": "2024-06-19T07:12:34.240Z"
   },
   {
    "duration": 10472,
    "start_time": "2024-06-19T07:12:34.339Z"
   },
   {
    "duration": 10898,
    "start_time": "2024-06-19T07:12:44.815Z"
   },
   {
    "duration": 11839,
    "start_time": "2024-06-19T07:17:08.274Z"
   },
   {
    "duration": 513,
    "start_time": "2024-06-19T07:20:14.711Z"
   },
   {
    "duration": 510,
    "start_time": "2024-06-19T07:21:06.801Z"
   },
   {
    "duration": 496,
    "start_time": "2024-06-19T07:21:45.104Z"
   },
   {
    "duration": 10413,
    "start_time": "2024-06-19T07:22:33.226Z"
   },
   {
    "duration": 503,
    "start_time": "2024-06-19T07:26:49.257Z"
   },
   {
    "duration": 82,
    "start_time": "2024-06-19T07:27:34.335Z"
   },
   {
    "duration": 1228,
    "start_time": "2024-06-19T07:39:05.246Z"
   },
   {
    "duration": 12,
    "start_time": "2024-06-19T07:39:06.477Z"
   },
   {
    "duration": 41,
    "start_time": "2024-06-19T07:39:06.492Z"
   },
   {
    "duration": 14,
    "start_time": "2024-06-19T07:39:06.536Z"
   },
   {
    "duration": 9,
    "start_time": "2024-06-19T07:39:06.556Z"
   },
   {
    "duration": 5,
    "start_time": "2024-06-19T07:39:06.568Z"
   },
   {
    "duration": 8,
    "start_time": "2024-06-19T07:39:06.576Z"
   },
   {
    "duration": 28,
    "start_time": "2024-06-19T07:39:06.630Z"
   },
   {
    "duration": 8,
    "start_time": "2024-06-19T07:39:06.662Z"
   },
   {
    "duration": 103,
    "start_time": "2024-06-19T07:39:06.674Z"
   },
   {
    "duration": 539,
    "start_time": "2024-06-19T07:39:06.780Z"
   },
   {
    "duration": 518,
    "start_time": "2024-06-19T07:39:07.322Z"
   },
   {
    "duration": 26,
    "start_time": "2024-06-19T07:44:50.837Z"
   },
   {
    "duration": 9,
    "start_time": "2024-06-19T07:55:24.012Z"
   },
   {
    "duration": 7,
    "start_time": "2024-06-19T07:59:03.008Z"
   },
   {
    "duration": 11,
    "start_time": "2024-06-19T08:00:59.536Z"
   },
   {
    "duration": 7,
    "start_time": "2024-06-19T08:02:51.111Z"
   },
   {
    "duration": 1237,
    "start_time": "2024-06-19T08:15:01.710Z"
   },
   {
    "duration": 12,
    "start_time": "2024-06-19T08:15:02.951Z"
   },
   {
    "duration": 23,
    "start_time": "2024-06-19T08:15:02.967Z"
   },
   {
    "duration": 43,
    "start_time": "2024-06-19T08:15:02.994Z"
   },
   {
    "duration": 7,
    "start_time": "2024-06-19T08:15:03.041Z"
   },
   {
    "duration": 10,
    "start_time": "2024-06-19T08:15:03.052Z"
   },
   {
    "duration": 9,
    "start_time": "2024-06-19T08:15:03.065Z"
   },
   {
    "duration": 64,
    "start_time": "2024-06-19T08:15:03.077Z"
   },
   {
    "duration": 6,
    "start_time": "2024-06-19T08:15:03.144Z"
   },
   {
    "duration": 92,
    "start_time": "2024-06-19T08:15:03.155Z"
   },
   {
    "duration": 536,
    "start_time": "2024-06-19T08:15:03.250Z"
   },
   {
    "duration": 514,
    "start_time": "2024-06-19T08:15:03.789Z"
   },
   {
    "duration": 41,
    "start_time": "2024-06-19T08:15:04.306Z"
   },
   {
    "duration": 81,
    "start_time": "2024-06-19T08:15:04.352Z"
   },
   {
    "duration": 11,
    "start_time": "2024-06-19T08:15:04.439Z"
   },
   {
    "duration": 82,
    "start_time": "2024-06-19T08:15:04.454Z"
   },
   {
    "duration": 8,
    "start_time": "2024-06-19T08:16:29.048Z"
   },
   {
    "duration": 1201,
    "start_time": "2024-06-19T09:29:43.943Z"
   },
   {
    "duration": 20,
    "start_time": "2024-06-19T09:29:45.148Z"
   },
   {
    "duration": 24,
    "start_time": "2024-06-19T09:29:45.171Z"
   },
   {
    "duration": 33,
    "start_time": "2024-06-19T09:29:45.198Z"
   },
   {
    "duration": 8,
    "start_time": "2024-06-19T09:29:45.236Z"
   },
   {
    "duration": 5,
    "start_time": "2024-06-19T09:29:45.246Z"
   },
   {
    "duration": 9,
    "start_time": "2024-06-19T09:29:45.255Z"
   },
   {
    "duration": 69,
    "start_time": "2024-06-19T09:29:45.267Z"
   },
   {
    "duration": 6,
    "start_time": "2024-06-19T09:29:45.340Z"
   },
   {
    "duration": 101,
    "start_time": "2024-06-19T09:29:45.350Z"
   },
   {
    "duration": 541,
    "start_time": "2024-06-19T09:29:45.453Z"
   },
   {
    "duration": 526,
    "start_time": "2024-06-19T09:29:45.997Z"
   },
   {
    "duration": 29,
    "start_time": "2024-06-19T09:29:46.525Z"
   },
   {
    "duration": 74,
    "start_time": "2024-06-19T09:29:46.559Z"
   },
   {
    "duration": 12,
    "start_time": "2024-06-19T09:29:46.636Z"
   },
   {
    "duration": 82,
    "start_time": "2024-06-19T09:29:46.651Z"
   },
   {
    "duration": 503,
    "start_time": "2024-06-19T09:41:54.076Z"
   },
   {
    "duration": 4,
    "start_time": "2024-06-19T09:42:52.024Z"
   },
   {
    "duration": 3,
    "start_time": "2024-06-19T09:43:57.848Z"
   },
   {
    "duration": 556,
    "start_time": "2024-06-19T09:45:03.715Z"
   },
   {
    "duration": 1326,
    "start_time": "2024-06-19T09:45:24.181Z"
   },
   {
    "duration": 22,
    "start_time": "2024-06-19T09:45:25.511Z"
   },
   {
    "duration": 31,
    "start_time": "2024-06-19T09:45:25.536Z"
   },
   {
    "duration": 17,
    "start_time": "2024-06-19T09:45:25.572Z"
   },
   {
    "duration": 39,
    "start_time": "2024-06-19T09:45:25.592Z"
   },
   {
    "duration": 5,
    "start_time": "2024-06-19T09:45:25.634Z"
   },
   {
    "duration": 8,
    "start_time": "2024-06-19T09:45:25.643Z"
   },
   {
    "duration": 29,
    "start_time": "2024-06-19T09:45:25.655Z"
   },
   {
    "duration": 41,
    "start_time": "2024-06-19T09:45:25.690Z"
   },
   {
    "duration": 94,
    "start_time": "2024-06-19T09:45:25.737Z"
   },
   {
    "duration": 5,
    "start_time": "2024-06-19T09:45:25.834Z"
   },
   {
    "duration": 578,
    "start_time": "2024-06-19T09:45:25.843Z"
   },
   {
    "duration": 529,
    "start_time": "2024-06-19T09:45:26.423Z"
   },
   {
    "duration": 4,
    "start_time": "2024-06-19T09:45:26.955Z"
   },
   {
    "duration": 68,
    "start_time": "2024-06-19T09:45:26.963Z"
   },
   {
    "duration": 654,
    "start_time": "2024-06-19T09:45:27.034Z"
   },
   {
    "duration": 0,
    "start_time": "2024-06-19T09:45:27.691Z"
   },
   {
    "duration": 0,
    "start_time": "2024-06-19T09:45:27.694Z"
   },
   {
    "duration": 17,
    "start_time": "2024-06-19T09:48:15.965Z"
   },
   {
    "duration": 1144,
    "start_time": "2024-06-19T09:48:56.268Z"
   },
   {
    "duration": 18,
    "start_time": "2024-06-19T09:48:57.416Z"
   },
   {
    "duration": 24,
    "start_time": "2024-06-19T09:48:57.436Z"
   },
   {
    "duration": 17,
    "start_time": "2024-06-19T09:48:57.463Z"
   },
   {
    "duration": 45,
    "start_time": "2024-06-19T09:48:57.486Z"
   },
   {
    "duration": 6,
    "start_time": "2024-06-19T09:48:57.533Z"
   },
   {
    "duration": 8,
    "start_time": "2024-06-19T09:48:57.542Z"
   },
   {
    "duration": 27,
    "start_time": "2024-06-19T09:48:57.553Z"
   },
   {
    "duration": 6,
    "start_time": "2024-06-19T09:48:57.583Z"
   },
   {
    "duration": 73,
    "start_time": "2024-06-19T09:48:57.631Z"
   },
   {
    "duration": 37,
    "start_time": "2024-06-19T09:48:57.707Z"
   },
   {
    "duration": 537,
    "start_time": "2024-06-19T09:48:57.748Z"
   },
   {
    "duration": 514,
    "start_time": "2024-06-19T09:48:58.289Z"
   },
   {
    "duration": 88,
    "start_time": "2024-06-19T09:48:58.812Z"
   },
   {
    "duration": 46,
    "start_time": "2024-06-19T09:48:58.903Z"
   },
   {
    "duration": 8,
    "start_time": "2024-06-19T09:48:58.951Z"
   },
   {
    "duration": 77,
    "start_time": "2024-06-19T09:48:58.962Z"
   },
   {
    "duration": 8,
    "start_time": "2024-06-19T09:48:59.042Z"
   },
   {
    "duration": 10,
    "start_time": "2024-06-19T09:49:41.294Z"
   },
   {
    "duration": 9,
    "start_time": "2024-06-19T09:49:57.805Z"
   },
   {
    "duration": 1153,
    "start_time": "2024-06-19T10:05:15.377Z"
   },
   {
    "duration": 13,
    "start_time": "2024-06-19T10:05:16.534Z"
   },
   {
    "duration": 24,
    "start_time": "2024-06-19T10:05:16.550Z"
   },
   {
    "duration": 15,
    "start_time": "2024-06-19T10:05:16.577Z"
   },
   {
    "duration": 39,
    "start_time": "2024-06-19T10:05:16.597Z"
   },
   {
    "duration": 4,
    "start_time": "2024-06-19T10:05:16.639Z"
   },
   {
    "duration": 9,
    "start_time": "2024-06-19T10:05:16.645Z"
   },
   {
    "duration": 29,
    "start_time": "2024-06-19T10:05:16.657Z"
   },
   {
    "duration": 43,
    "start_time": "2024-06-19T10:05:16.689Z"
   },
   {
    "duration": 75,
    "start_time": "2024-06-19T10:05:16.736Z"
   },
   {
    "duration": 18,
    "start_time": "2024-06-19T10:05:16.832Z"
   },
   {
    "duration": 553,
    "start_time": "2024-06-19T10:05:16.853Z"
   },
   {
    "duration": 513,
    "start_time": "2024-06-19T10:05:17.409Z"
   },
   {
    "duration": 100,
    "start_time": "2024-06-19T10:05:17.933Z"
   },
   {
    "duration": 25,
    "start_time": "2024-06-19T10:05:18.038Z"
   },
   {
    "duration": 65,
    "start_time": "2024-06-19T10:05:18.065Z"
   },
   {
    "duration": 11,
    "start_time": "2024-06-19T10:05:18.133Z"
   },
   {
    "duration": 8,
    "start_time": "2024-06-19T10:05:18.146Z"
   },
   {
    "duration": 344,
    "start_time": "2024-06-20T08:03:42.095Z"
   },
   {
    "duration": 1273,
    "start_time": "2024-06-20T08:03:48.631Z"
   },
   {
    "duration": 21,
    "start_time": "2024-06-20T08:03:49.908Z"
   },
   {
    "duration": 27,
    "start_time": "2024-06-20T08:03:49.933Z"
   },
   {
    "duration": 17,
    "start_time": "2024-06-20T08:03:49.965Z"
   },
   {
    "duration": 42,
    "start_time": "2024-06-20T08:03:49.986Z"
   },
   {
    "duration": 7,
    "start_time": "2024-06-20T08:03:50.031Z"
   },
   {
    "duration": 9,
    "start_time": "2024-06-20T08:03:50.041Z"
   },
   {
    "duration": 28,
    "start_time": "2024-06-20T08:03:50.056Z"
   },
   {
    "duration": 38,
    "start_time": "2024-06-20T08:03:50.087Z"
   },
   {
    "duration": 103,
    "start_time": "2024-06-20T08:03:50.129Z"
   },
   {
    "duration": 19,
    "start_time": "2024-06-20T08:03:50.235Z"
   },
   {
    "duration": 11222,
    "start_time": "2024-06-20T08:03:50.258Z"
   },
   {
    "duration": 519,
    "start_time": "2024-06-20T08:04:01.483Z"
   },
   {
    "duration": 93,
    "start_time": "2024-06-20T08:04:02.005Z"
   },
   {
    "duration": 37,
    "start_time": "2024-06-20T08:04:02.101Z"
   },
   {
    "duration": 12,
    "start_time": "2024-06-20T08:04:02.142Z"
   },
   {
    "duration": 76,
    "start_time": "2024-06-20T08:04:02.156Z"
   },
   {
    "duration": 12,
    "start_time": "2024-06-20T08:04:02.236Z"
   },
   {
    "duration": 167,
    "start_time": "2024-06-20T08:16:49.496Z"
   },
   {
    "duration": 1194,
    "start_time": "2024-06-20T08:17:13.079Z"
   },
   {
    "duration": 14,
    "start_time": "2024-06-20T08:17:14.276Z"
   },
   {
    "duration": 40,
    "start_time": "2024-06-20T08:17:14.293Z"
   },
   {
    "duration": 16,
    "start_time": "2024-06-20T08:17:14.338Z"
   },
   {
    "duration": 10,
    "start_time": "2024-06-20T08:17:14.357Z"
   },
   {
    "duration": 7,
    "start_time": "2024-06-20T08:17:14.369Z"
   },
   {
    "duration": 47,
    "start_time": "2024-06-20T08:17:14.379Z"
   },
   {
    "duration": 27,
    "start_time": "2024-06-20T08:17:14.429Z"
   },
   {
    "duration": 6,
    "start_time": "2024-06-20T08:17:14.459Z"
   },
   {
    "duration": 119,
    "start_time": "2024-06-20T08:17:14.470Z"
   },
   {
    "duration": 34,
    "start_time": "2024-06-20T08:17:14.592Z"
   },
   {
    "duration": 11226,
    "start_time": "2024-06-20T08:17:14.629Z"
   },
   {
    "duration": 173,
    "start_time": "2024-06-20T08:17:25.858Z"
   },
   {
    "duration": 25,
    "start_time": "2024-06-20T08:17:26.034Z"
   },
   {
    "duration": 63,
    "start_time": "2024-06-20T08:17:26.062Z"
   },
   {
    "duration": 13,
    "start_time": "2024-06-20T08:17:26.128Z"
   },
   {
    "duration": 82,
    "start_time": "2024-06-20T08:17:26.144Z"
   },
   {
    "duration": 649,
    "start_time": "2024-06-20T08:24:13.992Z"
   },
   {
    "duration": 1265,
    "start_time": "2024-06-20T08:25:03.205Z"
   },
   {
    "duration": 12,
    "start_time": "2024-06-20T08:25:04.474Z"
   },
   {
    "duration": 35,
    "start_time": "2024-06-20T08:25:04.489Z"
   },
   {
    "duration": 14,
    "start_time": "2024-06-20T08:25:04.528Z"
   },
   {
    "duration": 11,
    "start_time": "2024-06-20T08:25:04.546Z"
   },
   {
    "duration": 6,
    "start_time": "2024-06-20T08:25:04.560Z"
   },
   {
    "duration": 53,
    "start_time": "2024-06-20T08:25:04.569Z"
   },
   {
    "duration": 28,
    "start_time": "2024-06-20T08:25:04.624Z"
   },
   {
    "duration": 5,
    "start_time": "2024-06-20T08:25:04.655Z"
   },
   {
    "duration": 104,
    "start_time": "2024-06-20T08:25:04.663Z"
   },
   {
    "duration": 19,
    "start_time": "2024-06-20T08:25:04.770Z"
   },
   {
    "duration": 10977,
    "start_time": "2024-06-20T08:25:04.791Z"
   },
   {
    "duration": 180,
    "start_time": "2024-06-20T08:25:15.772Z"
   },
   {
    "duration": 64,
    "start_time": "2024-06-20T08:25:15.959Z"
   },
   {
    "duration": 916,
    "start_time": "2024-06-20T08:25:16.026Z"
   },
   {
    "duration": 79,
    "start_time": "2024-06-20T08:25:16.945Z"
   },
   {
    "duration": 13,
    "start_time": "2024-06-20T08:25:17.027Z"
   },
   {
    "duration": 7,
    "start_time": "2024-06-20T08:25:17.122Z"
   },
   {
    "duration": 141,
    "start_time": "2024-06-20T08:26:18.003Z"
   },
   {
    "duration": 160,
    "start_time": "2024-06-20T08:26:29.870Z"
   },
   {
    "duration": 25,
    "start_time": "2024-06-20T08:26:43.751Z"
   },
   {
    "duration": 583,
    "start_time": "2024-06-20T08:26:52.920Z"
   },
   {
    "duration": 70,
    "start_time": "2024-06-20T08:26:57.076Z"
   },
   {
    "duration": 77,
    "start_time": "2024-06-20T08:27:07.074Z"
   },
   {
    "duration": 1335,
    "start_time": "2024-06-20T08:27:26.615Z"
   },
   {
    "duration": 1186,
    "start_time": "2024-06-20T08:54:21.128Z"
   },
   {
    "duration": 14,
    "start_time": "2024-06-20T08:54:22.318Z"
   },
   {
    "duration": 26,
    "start_time": "2024-06-20T08:54:22.335Z"
   },
   {
    "duration": 14,
    "start_time": "2024-06-20T08:54:22.366Z"
   },
   {
    "duration": 41,
    "start_time": "2024-06-20T08:54:22.385Z"
   },
   {
    "duration": 5,
    "start_time": "2024-06-20T08:54:22.429Z"
   },
   {
    "duration": 8,
    "start_time": "2024-06-20T08:54:22.437Z"
   },
   {
    "duration": 28,
    "start_time": "2024-06-20T08:54:22.448Z"
   },
   {
    "duration": 45,
    "start_time": "2024-06-20T08:54:22.480Z"
   },
   {
    "duration": 73,
    "start_time": "2024-06-20T08:54:22.528Z"
   },
   {
    "duration": 17,
    "start_time": "2024-06-20T08:54:22.623Z"
   },
   {
    "duration": 1227,
    "start_time": "2024-06-22T17:32:12.539Z"
   },
   {
    "duration": 22,
    "start_time": "2024-06-22T17:32:13.770Z"
   },
   {
    "duration": 24,
    "start_time": "2024-06-22T17:32:13.795Z"
   },
   {
    "duration": 15,
    "start_time": "2024-06-22T17:32:13.825Z"
   },
   {
    "duration": 8,
    "start_time": "2024-06-22T17:32:13.843Z"
   },
   {
    "duration": 5,
    "start_time": "2024-06-22T17:32:13.853Z"
   },
   {
    "duration": 50,
    "start_time": "2024-06-22T17:32:13.861Z"
   },
   {
    "duration": 29,
    "start_time": "2024-06-22T17:32:13.914Z"
   },
   {
    "duration": 6,
    "start_time": "2024-06-22T17:32:13.945Z"
   },
   {
    "duration": 107,
    "start_time": "2024-06-22T17:32:13.959Z"
   },
   {
    "duration": 18,
    "start_time": "2024-06-22T17:32:14.068Z"
   },
   {
    "duration": 10934,
    "start_time": "2024-06-22T17:32:14.106Z"
   },
   {
    "duration": 174,
    "start_time": "2024-06-22T17:32:25.043Z"
   },
   {
    "duration": 27,
    "start_time": "2024-06-22T17:32:25.219Z"
   },
   {
    "duration": 870,
    "start_time": "2024-06-22T17:32:25.250Z"
   },
   {
    "duration": 10,
    "start_time": "2024-06-22T17:32:26.122Z"
   },
   {
    "duration": 16,
    "start_time": "2024-06-22T17:32:26.212Z"
   },
   {
    "duration": 9,
    "start_time": "2024-06-22T17:32:26.306Z"
   },
   {
    "duration": 1236,
    "start_time": "2024-06-22T18:33:22.365Z"
   },
   {
    "duration": 1350,
    "start_time": "2024-06-22T18:33:30.755Z"
   },
   {
    "duration": 29,
    "start_time": "2024-06-22T18:33:32.108Z"
   },
   {
    "duration": 30,
    "start_time": "2024-06-22T18:33:32.141Z"
   },
   {
    "duration": 14,
    "start_time": "2024-06-22T18:33:32.174Z"
   },
   {
    "duration": 41,
    "start_time": "2024-06-22T18:33:32.194Z"
   },
   {
    "duration": 6,
    "start_time": "2024-06-22T18:33:32.238Z"
   },
   {
    "duration": 10,
    "start_time": "2024-06-22T18:33:32.247Z"
   },
   {
    "duration": 30,
    "start_time": "2024-06-22T18:33:32.260Z"
   },
   {
    "duration": 39,
    "start_time": "2024-06-22T18:33:32.293Z"
   },
   {
    "duration": 98,
    "start_time": "2024-06-22T18:33:32.341Z"
   },
   {
    "duration": 18,
    "start_time": "2024-06-22T18:33:32.443Z"
   },
   {
    "duration": 11015,
    "start_time": "2024-06-22T18:33:32.464Z"
   },
   {
    "duration": 179,
    "start_time": "2024-06-22T18:33:43.484Z"
   },
   {
    "duration": 59,
    "start_time": "2024-06-22T18:33:43.670Z"
   },
   {
    "duration": 801,
    "start_time": "2024-06-22T18:33:43.734Z"
   },
   {
    "duration": 14,
    "start_time": "2024-06-22T18:33:44.538Z"
   },
   {
    "duration": 86,
    "start_time": "2024-06-22T18:33:44.556Z"
   },
   {
    "duration": 8,
    "start_time": "2024-06-22T18:33:44.647Z"
   },
   {
    "duration": 70,
    "start_time": "2024-06-22T18:38:00.959Z"
   },
   {
    "duration": 11034,
    "start_time": "2024-06-22T18:40:29.636Z"
   },
   {
    "duration": 1177,
    "start_time": "2024-06-22T18:43:58.750Z"
   },
   {
    "duration": 13,
    "start_time": "2024-06-22T18:43:59.930Z"
   },
   {
    "duration": 23,
    "start_time": "2024-06-22T18:43:59.946Z"
   },
   {
    "duration": 15,
    "start_time": "2024-06-22T18:43:59.973Z"
   },
   {
    "duration": 40,
    "start_time": "2024-06-22T18:43:59.991Z"
   },
   {
    "duration": 5,
    "start_time": "2024-06-22T18:44:00.034Z"
   },
   {
    "duration": 8,
    "start_time": "2024-06-22T18:44:00.043Z"
   },
   {
    "duration": 28,
    "start_time": "2024-06-22T18:44:00.054Z"
   },
   {
    "duration": 45,
    "start_time": "2024-06-22T18:44:00.085Z"
   },
   {
    "duration": 74,
    "start_time": "2024-06-22T18:44:00.135Z"
   },
   {
    "duration": 16,
    "start_time": "2024-06-22T18:44:00.232Z"
   },
   {
    "duration": 10918,
    "start_time": "2024-06-22T18:44:00.251Z"
   },
   {
    "duration": 172,
    "start_time": "2024-06-22T18:44:11.172Z"
   },
   {
    "duration": 29,
    "start_time": "2024-06-22T18:44:11.346Z"
   },
   {
    "duration": 875,
    "start_time": "2024-06-22T18:44:11.377Z"
   },
   {
    "duration": 84,
    "start_time": "2024-06-22T18:44:12.255Z"
   },
   {
    "duration": 89,
    "start_time": "2024-06-22T18:44:12.346Z"
   },
   {
    "duration": 8,
    "start_time": "2024-06-22T18:44:12.439Z"
   },
   {
    "duration": 1219,
    "start_time": "2024-06-22T18:47:43.636Z"
   },
   {
    "duration": 12,
    "start_time": "2024-06-22T18:47:44.859Z"
   },
   {
    "duration": 24,
    "start_time": "2024-06-22T18:47:44.874Z"
   },
   {
    "duration": 43,
    "start_time": "2024-06-22T18:47:44.903Z"
   },
   {
    "duration": 13,
    "start_time": "2024-06-22T18:47:44.950Z"
   },
   {
    "duration": 5,
    "start_time": "2024-06-22T18:47:44.967Z"
   },
   {
    "duration": 9,
    "start_time": "2024-06-22T18:47:44.977Z"
   },
   {
    "duration": 28,
    "start_time": "2024-06-22T18:47:45.031Z"
   },
   {
    "duration": 7,
    "start_time": "2024-06-22T18:47:45.062Z"
   },
   {
    "duration": 97,
    "start_time": "2024-06-22T18:47:45.074Z"
   },
   {
    "duration": 18,
    "start_time": "2024-06-22T18:47:45.173Z"
   },
   {
    "duration": 10937,
    "start_time": "2024-06-22T18:47:45.193Z"
   },
   {
    "duration": 172,
    "start_time": "2024-06-22T18:47:56.134Z"
   },
   {
    "duration": 36,
    "start_time": "2024-06-22T18:47:56.308Z"
   },
   {
    "duration": 788,
    "start_time": "2024-06-22T18:47:56.347Z"
   },
   {
    "duration": 87,
    "start_time": "2024-06-22T18:47:57.143Z"
   },
   {
    "duration": 14,
    "start_time": "2024-06-22T18:47:57.239Z"
   },
   {
    "duration": 80,
    "start_time": "2024-06-22T18:47:57.256Z"
   },
   {
    "duration": 1209,
    "start_time": "2024-06-22T19:13:39.350Z"
   },
   {
    "duration": 14,
    "start_time": "2024-06-22T19:13:40.562Z"
   },
   {
    "duration": 23,
    "start_time": "2024-06-22T19:13:40.579Z"
   },
   {
    "duration": 37,
    "start_time": "2024-06-22T19:13:40.605Z"
   },
   {
    "duration": 9,
    "start_time": "2024-06-22T19:13:40.646Z"
   },
   {
    "duration": 5,
    "start_time": "2024-06-22T19:13:40.658Z"
   },
   {
    "duration": 11,
    "start_time": "2024-06-22T19:13:40.666Z"
   },
   {
    "duration": 71,
    "start_time": "2024-06-22T19:13:40.680Z"
   },
   {
    "duration": 5,
    "start_time": "2024-06-22T19:13:40.754Z"
   },
   {
    "duration": 92,
    "start_time": "2024-06-22T19:13:40.763Z"
   },
   {
    "duration": 18,
    "start_time": "2024-06-22T19:13:40.857Z"
   },
   {
    "duration": 10987,
    "start_time": "2024-06-22T19:13:40.878Z"
   },
   {
    "duration": 187,
    "start_time": "2024-06-22T19:13:51.869Z"
   },
   {
    "duration": 66,
    "start_time": "2024-06-22T19:13:52.063Z"
   },
   {
    "duration": 820,
    "start_time": "2024-06-22T19:13:52.133Z"
   },
   {
    "duration": 89,
    "start_time": "2024-06-22T19:13:52.956Z"
   },
   {
    "duration": 83,
    "start_time": "2024-06-22T19:13:53.054Z"
   },
   {
    "duration": 9,
    "start_time": "2024-06-22T19:13:53.140Z"
   },
   {
    "duration": 1554,
    "start_time": "2024-06-22T22:12:17.268Z"
   },
   {
    "duration": 22,
    "start_time": "2024-06-22T22:12:18.826Z"
   },
   {
    "duration": 25,
    "start_time": "2024-06-22T22:12:18.851Z"
   },
   {
    "duration": 16,
    "start_time": "2024-06-22T22:12:18.879Z"
   },
   {
    "duration": 35,
    "start_time": "2024-06-22T22:12:18.900Z"
   },
   {
    "duration": 5,
    "start_time": "2024-06-22T22:12:18.938Z"
   },
   {
    "duration": 10,
    "start_time": "2024-06-22T22:12:18.946Z"
   },
   {
    "duration": 27,
    "start_time": "2024-06-22T22:12:18.960Z"
   },
   {
    "duration": 41,
    "start_time": "2024-06-22T22:12:18.991Z"
   },
   {
    "duration": 78,
    "start_time": "2024-06-22T22:12:19.035Z"
   },
   {
    "duration": 18,
    "start_time": "2024-06-22T22:12:19.132Z"
   },
   {
    "duration": 11348,
    "start_time": "2024-06-22T22:12:19.153Z"
   },
   {
    "duration": 180,
    "start_time": "2024-06-22T22:12:30.505Z"
   },
   {
    "duration": 57,
    "start_time": "2024-06-22T22:12:30.691Z"
   },
   {
    "duration": 1183,
    "start_time": "2024-06-22T22:12:30.752Z"
   },
   {
    "duration": 8,
    "start_time": "2024-06-22T22:12:31.938Z"
   },
   {
    "duration": 90,
    "start_time": "2024-06-22T22:12:31.948Z"
   },
   {
    "duration": 9,
    "start_time": "2024-06-22T22:12:32.043Z"
   },
   {
    "duration": 800,
    "start_time": "2024-08-29T20:55:40.324Z"
   },
   {
    "duration": 15,
    "start_time": "2024-08-29T20:55:41.126Z"
   },
   {
    "duration": 12,
    "start_time": "2024-08-29T20:55:41.143Z"
   },
   {
    "duration": 9,
    "start_time": "2024-08-29T20:55:41.157Z"
   },
   {
    "duration": 6,
    "start_time": "2024-08-29T20:55:41.168Z"
   },
   {
    "duration": 3,
    "start_time": "2024-08-29T20:55:41.175Z"
   },
   {
    "duration": 5,
    "start_time": "2024-08-29T20:55:41.180Z"
   },
   {
    "duration": 40,
    "start_time": "2024-08-29T20:55:41.187Z"
   },
   {
    "duration": 3,
    "start_time": "2024-08-29T20:55:41.229Z"
   },
   {
    "duration": 42,
    "start_time": "2024-08-29T20:55:41.234Z"
   },
   {
    "duration": 10,
    "start_time": "2024-08-29T20:55:41.278Z"
   },
   {
    "duration": 6515,
    "start_time": "2024-08-29T20:55:41.289Z"
   },
   {
    "duration": 100,
    "start_time": "2024-08-29T20:55:47.812Z"
   },
   {
    "duration": 19,
    "start_time": "2024-08-29T20:55:47.915Z"
   },
   {
    "duration": 488,
    "start_time": "2024-08-29T20:55:47.936Z"
   },
   {
    "duration": 7,
    "start_time": "2024-08-29T20:55:48.426Z"
   },
   {
    "duration": 9,
    "start_time": "2024-08-29T20:55:48.515Z"
   },
   {
    "duration": 5,
    "start_time": "2024-08-29T20:55:48.525Z"
   }
  ],
  "kernelspec": {
   "display_name": "Python 3 (ipykernel)",
   "language": "python",
   "name": "python3"
  },
  "language_info": {
   "codemirror_mode": {
    "name": "ipython",
    "version": 3
   },
   "file_extension": ".py",
   "mimetype": "text/x-python",
   "name": "python",
   "nbconvert_exporter": "python",
   "pygments_lexer": "ipython3",
   "version": "3.9.19"
  },
  "toc": {
   "base_numbering": 1,
   "nav_menu": {},
   "number_sections": true,
   "sideBar": true,
   "skip_h1_title": true,
   "title_cell": "Table of Contents",
   "title_sidebar": "Contents",
   "toc_cell": false,
   "toc_position": {},
   "toc_section_display": true,
   "toc_window_display": false
  }
 },
 "nbformat": 4,
 "nbformat_minor": 2
}
